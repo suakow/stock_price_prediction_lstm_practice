{
  "nbformat": 4,
  "nbformat_minor": 0,
  "metadata": {
    "colab": {
      "name": "stock_price_lstm_gru_rnn.ipynb",
      "provenance": [],
      "collapsed_sections": [],
      "toc_visible": true,
      "mount_file_id": "1GiGAMCV5AEJRszKDadkj-98irQztqcs_",
      "authorship_tag": "ABX9TyNXEXUIABLpRL8hI1jqSO6J",
      "include_colab_link": true
    },
    "kernelspec": {
      "name": "python3",
      "display_name": "Python 3"
    },
    "accelerator": "GPU"
  },
  "cells": [
    {
      "cell_type": "markdown",
      "metadata": {
        "id": "view-in-github",
        "colab_type": "text"
      },
      "source": [
        "<a href=\"https://colab.research.google.com/github/suakow/stock_price_prediction_lstm_practice/blob/master/stock_price_lstm_gru_rnn.ipynb\" target=\"_parent\"><img src=\"https://colab.research.google.com/assets/colab-badge.svg\" alt=\"Open In Colab\"/></a>"
      ]
    },
    {
      "cell_type": "markdown",
      "metadata": {
        "id": "JCPMqoFPkQM-",
        "colab_type": "text"
      },
      "source": [
        "# Import Data"
      ]
    },
    {
      "cell_type": "code",
      "metadata": {
        "id": "j-6ymkLthzh7",
        "colab_type": "code",
        "outputId": "5162aa42-beb6-42ec-d9f7-96f573bb3bd0",
        "colab": {
          "base_uri": "https://localhost:8080/",
          "height": 190
        }
      },
      "source": [
        "! pip install ipython-autotime\n",
        "\n",
        "%load_ext autotime"
      ],
      "execution_count": 1,
      "outputs": [
        {
          "output_type": "stream",
          "text": [
            "Collecting ipython-autotime\n",
            "  Downloading https://files.pythonhosted.org/packages/e6/f9/0626bbdb322e3a078d968e87e3b01341e7890544de891d0cb613641220e6/ipython-autotime-0.1.tar.bz2\n",
            "Building wheels for collected packages: ipython-autotime\n",
            "  Building wheel for ipython-autotime (setup.py) ... \u001b[?25l\u001b[?25hdone\n",
            "  Created wheel for ipython-autotime: filename=ipython_autotime-0.1-cp36-none-any.whl size=1832 sha256=150a354c0443843a5f8e9aa8bf1d80b3f6b0273b8b1699de0acaff735f231875\n",
            "  Stored in directory: /root/.cache/pip/wheels/d2/df/81/2db1e54bc91002cec40334629bc39cfa86dff540b304ebcd6e\n",
            "Successfully built ipython-autotime\n",
            "Installing collected packages: ipython-autotime\n",
            "Successfully installed ipython-autotime-0.1\n"
          ],
          "name": "stdout"
        }
      ]
    },
    {
      "cell_type": "code",
      "metadata": {
        "id": "UBZHskmMillx",
        "colab_type": "code",
        "outputId": "c0ef82f6-b79b-4423-d253-231ef22a51be",
        "colab": {
          "base_uri": "https://localhost:8080/",
          "height": 34
        }
      },
      "source": [
        "import pandas as pd\n",
        "\n",
        "bgr_df = pd.read_csv('https://raw.githubusercontent.com/suakow/stock_price_prediction_lstm_practice/master/bgr.us.txt')"
      ],
      "execution_count": 2,
      "outputs": [
        {
          "output_type": "stream",
          "text": [
            "time: 347 ms\n"
          ],
          "name": "stdout"
        }
      ]
    },
    {
      "cell_type": "code",
      "metadata": {
        "id": "kwKfLFASi9vW",
        "colab_type": "code",
        "outputId": "e7f2cf6d-2b83-484c-d046-c5c8c610205c",
        "colab": {
          "base_uri": "https://localhost:8080/",
          "height": 221
        }
      },
      "source": [
        "bgr_df.head()"
      ],
      "execution_count": 3,
      "outputs": [
        {
          "output_type": "execute_result",
          "data": {
            "text/html": [
              "<div>\n",
              "<style scoped>\n",
              "    .dataframe tbody tr th:only-of-type {\n",
              "        vertical-align: middle;\n",
              "    }\n",
              "\n",
              "    .dataframe tbody tr th {\n",
              "        vertical-align: top;\n",
              "    }\n",
              "\n",
              "    .dataframe thead th {\n",
              "        text-align: right;\n",
              "    }\n",
              "</style>\n",
              "<table border=\"1\" class=\"dataframe\">\n",
              "  <thead>\n",
              "    <tr style=\"text-align: right;\">\n",
              "      <th></th>\n",
              "      <th>Date</th>\n",
              "      <th>Open</th>\n",
              "      <th>High</th>\n",
              "      <th>Low</th>\n",
              "      <th>Close</th>\n",
              "      <th>Volume</th>\n",
              "      <th>OpenInt</th>\n",
              "    </tr>\n",
              "  </thead>\n",
              "  <tbody>\n",
              "    <tr>\n",
              "      <th>0</th>\n",
              "      <td>2005-02-25</td>\n",
              "      <td>12.130</td>\n",
              "      <td>12.233</td>\n",
              "      <td>11.991</td>\n",
              "      <td>12.115</td>\n",
              "      <td>287699</td>\n",
              "      <td>0</td>\n",
              "    </tr>\n",
              "    <tr>\n",
              "      <th>1</th>\n",
              "      <td>2005-02-28</td>\n",
              "      <td>12.147</td>\n",
              "      <td>12.208</td>\n",
              "      <td>12.109</td>\n",
              "      <td>12.158</td>\n",
              "      <td>196150</td>\n",
              "      <td>0</td>\n",
              "    </tr>\n",
              "    <tr>\n",
              "      <th>2</th>\n",
              "      <td>2005-03-01</td>\n",
              "      <td>12.158</td>\n",
              "      <td>12.183</td>\n",
              "      <td>12.081</td>\n",
              "      <td>12.141</td>\n",
              "      <td>155314</td>\n",
              "      <td>0</td>\n",
              "    </tr>\n",
              "    <tr>\n",
              "      <th>3</th>\n",
              "      <td>2005-03-02</td>\n",
              "      <td>12.176</td>\n",
              "      <td>12.233</td>\n",
              "      <td>12.135</td>\n",
              "      <td>12.170</td>\n",
              "      <td>124179</td>\n",
              "      <td>0</td>\n",
              "    </tr>\n",
              "    <tr>\n",
              "      <th>4</th>\n",
              "      <td>2005-03-03</td>\n",
              "      <td>12.141</td>\n",
              "      <td>12.277</td>\n",
              "      <td>12.120</td>\n",
              "      <td>12.246</td>\n",
              "      <td>225421</td>\n",
              "      <td>0</td>\n",
              "    </tr>\n",
              "  </tbody>\n",
              "</table>\n",
              "</div>"
            ],
            "text/plain": [
              "         Date    Open    High     Low   Close  Volume  OpenInt\n",
              "0  2005-02-25  12.130  12.233  11.991  12.115  287699        0\n",
              "1  2005-02-28  12.147  12.208  12.109  12.158  196150        0\n",
              "2  2005-03-01  12.158  12.183  12.081  12.141  155314        0\n",
              "3  2005-03-02  12.176  12.233  12.135  12.170  124179        0\n",
              "4  2005-03-03  12.141  12.277  12.120  12.246  225421        0"
            ]
          },
          "metadata": {
            "tags": []
          },
          "execution_count": 3
        },
        {
          "output_type": "stream",
          "text": [
            "time: 25.1 ms\n"
          ],
          "name": "stdout"
        }
      ]
    },
    {
      "cell_type": "code",
      "metadata": {
        "id": "O3rP0RnJjBT0",
        "colab_type": "code",
        "outputId": "dec64ce3-a8d2-4001-910b-3a6eaa79c87c",
        "colab": {
          "base_uri": "https://localhost:8080/",
          "height": 34
        }
      },
      "source": [
        "bgr_df.shape"
      ],
      "execution_count": 4,
      "outputs": [
        {
          "output_type": "execute_result",
          "data": {
            "text/plain": [
              "(3201, 7)"
            ]
          },
          "metadata": {
            "tags": []
          },
          "execution_count": 4
        },
        {
          "output_type": "stream",
          "text": [
            "time: 5.99 ms\n"
          ],
          "name": "stdout"
        }
      ]
    },
    {
      "cell_type": "code",
      "metadata": {
        "id": "YghbOOhfjJpW",
        "colab_type": "code",
        "outputId": "a52995d8-bb64-45df-fe99-549683efbb18",
        "colab": {
          "base_uri": "https://localhost:8080/",
          "height": 34
        }
      },
      "source": [
        "bgr_df['Date'] = pd.to_datetime(bgr_df['Date'])\n",
        "bgr_df.set_index('Date', inplace=True)"
      ],
      "execution_count": 5,
      "outputs": [
        {
          "output_type": "stream",
          "text": [
            "time: 6.21 ms\n"
          ],
          "name": "stdout"
        }
      ]
    },
    {
      "cell_type": "code",
      "metadata": {
        "id": "Fv30FSb0j2um",
        "colab_type": "code",
        "outputId": "ff70cf8f-03a5-4128-c3bb-fdf3ec290e60",
        "colab": {
          "base_uri": "https://localhost:8080/",
          "height": 252
        }
      },
      "source": [
        "bgr_df.head()"
      ],
      "execution_count": 6,
      "outputs": [
        {
          "output_type": "execute_result",
          "data": {
            "text/html": [
              "<div>\n",
              "<style scoped>\n",
              "    .dataframe tbody tr th:only-of-type {\n",
              "        vertical-align: middle;\n",
              "    }\n",
              "\n",
              "    .dataframe tbody tr th {\n",
              "        vertical-align: top;\n",
              "    }\n",
              "\n",
              "    .dataframe thead th {\n",
              "        text-align: right;\n",
              "    }\n",
              "</style>\n",
              "<table border=\"1\" class=\"dataframe\">\n",
              "  <thead>\n",
              "    <tr style=\"text-align: right;\">\n",
              "      <th></th>\n",
              "      <th>Open</th>\n",
              "      <th>High</th>\n",
              "      <th>Low</th>\n",
              "      <th>Close</th>\n",
              "      <th>Volume</th>\n",
              "      <th>OpenInt</th>\n",
              "    </tr>\n",
              "    <tr>\n",
              "      <th>Date</th>\n",
              "      <th></th>\n",
              "      <th></th>\n",
              "      <th></th>\n",
              "      <th></th>\n",
              "      <th></th>\n",
              "      <th></th>\n",
              "    </tr>\n",
              "  </thead>\n",
              "  <tbody>\n",
              "    <tr>\n",
              "      <th>2005-02-25</th>\n",
              "      <td>12.130</td>\n",
              "      <td>12.233</td>\n",
              "      <td>11.991</td>\n",
              "      <td>12.115</td>\n",
              "      <td>287699</td>\n",
              "      <td>0</td>\n",
              "    </tr>\n",
              "    <tr>\n",
              "      <th>2005-02-28</th>\n",
              "      <td>12.147</td>\n",
              "      <td>12.208</td>\n",
              "      <td>12.109</td>\n",
              "      <td>12.158</td>\n",
              "      <td>196150</td>\n",
              "      <td>0</td>\n",
              "    </tr>\n",
              "    <tr>\n",
              "      <th>2005-03-01</th>\n",
              "      <td>12.158</td>\n",
              "      <td>12.183</td>\n",
              "      <td>12.081</td>\n",
              "      <td>12.141</td>\n",
              "      <td>155314</td>\n",
              "      <td>0</td>\n",
              "    </tr>\n",
              "    <tr>\n",
              "      <th>2005-03-02</th>\n",
              "      <td>12.176</td>\n",
              "      <td>12.233</td>\n",
              "      <td>12.135</td>\n",
              "      <td>12.170</td>\n",
              "      <td>124179</td>\n",
              "      <td>0</td>\n",
              "    </tr>\n",
              "    <tr>\n",
              "      <th>2005-03-03</th>\n",
              "      <td>12.141</td>\n",
              "      <td>12.277</td>\n",
              "      <td>12.120</td>\n",
              "      <td>12.246</td>\n",
              "      <td>225421</td>\n",
              "      <td>0</td>\n",
              "    </tr>\n",
              "  </tbody>\n",
              "</table>\n",
              "</div>"
            ],
            "text/plain": [
              "              Open    High     Low   Close  Volume  OpenInt\n",
              "Date                                                       \n",
              "2005-02-25  12.130  12.233  11.991  12.115  287699        0\n",
              "2005-02-28  12.147  12.208  12.109  12.158  196150        0\n",
              "2005-03-01  12.158  12.183  12.081  12.141  155314        0\n",
              "2005-03-02  12.176  12.233  12.135  12.170  124179        0\n",
              "2005-03-03  12.141  12.277  12.120  12.246  225421        0"
            ]
          },
          "metadata": {
            "tags": []
          },
          "execution_count": 6
        },
        {
          "output_type": "stream",
          "text": [
            "time: 15.8 ms\n"
          ],
          "name": "stdout"
        }
      ]
    },
    {
      "cell_type": "code",
      "metadata": {
        "id": "Ybic4n6pj5Zc",
        "colab_type": "code",
        "outputId": "41a89dc1-ec8c-41c2-ed4e-d30af357d11f",
        "colab": {
          "base_uri": "https://localhost:8080/",
          "height": 454
        }
      },
      "source": [
        "%config InlineBackend.figure_format = 'svg'\n",
        "\n",
        "import seaborn as sns\n",
        "sns.set(rc={'figure.figsize':(8, 4)})\n",
        "\n",
        "bgr_df['Close'].plot()"
      ],
      "execution_count": 7,
      "outputs": [
        {
          "output_type": "stream",
          "text": [
            "/usr/local/lib/python3.6/dist-packages/statsmodels/tools/_testing.py:19: FutureWarning: pandas.util.testing is deprecated. Use the functions in the public API at pandas.testing instead.\n",
            "  import pandas.util.testing as tm\n"
          ],
          "name": "stderr"
        },
        {
          "output_type": "execute_result",
          "data": {
            "text/plain": [
              "<matplotlib.axes._subplots.AxesSubplot at 0x7f83ca98ba90>"
            ]
          },
          "metadata": {
            "tags": []
          },
          "execution_count": 7
        },
        {
          "output_type": "display_data",
          "data": {
            "text/plain": [
              "<Figure size 576x288 with 1 Axes>"
            ],
            "image/svg+xml": "<?xml version=\"1.0\" encoding=\"utf-8\" standalone=\"no\"?>\n<!DOCTYPE svg PUBLIC \"-//W3C//DTD SVG 1.1//EN\"\n  \"http://www.w3.org/Graphics/SVG/1.1/DTD/svg11.dtd\">\n<!-- Created with matplotlib (https://matplotlib.org/) -->\n<svg height=\"258.570902pt\" version=\"1.1\" viewBox=\"0 0 484.2975 258.570902\" width=\"484.2975pt\" xmlns=\"http://www.w3.org/2000/svg\" xmlns:xlink=\"http://www.w3.org/1999/xlink\">\n <defs>\n  <style type=\"text/css\">\n*{stroke-linecap:butt;stroke-linejoin:round;}\n  </style>\n </defs>\n <g id=\"figure_1\">\n  <g id=\"patch_1\">\n   <path d=\"M 0 258.570902 \nL 484.2975 258.570902 \nL 484.2975 0 \nL 0 0 \nz\n\" style=\"fill:#ffffff;\"/>\n  </g>\n  <g id=\"axes_1\">\n   <g id=\"patch_2\">\n    <path d=\"M 30.6975 203.04 \nL 477.0975 203.04 \nL 477.0975 7.2 \nL 30.6975 7.2 \nz\n\" style=\"fill:#eaeaf2;\"/>\n   </g>\n   <g id=\"matplotlib.axis_1\">\n    <g id=\"xtick_1\">\n     <g id=\"line2d_1\">\n      <path clip-path=\"url(#p39e7cdd0cb)\" d=\"M 78.09542 203.04 \nL 78.09542 7.2 \n\" style=\"fill:none;stroke:#ffffff;stroke-linecap:round;\"/>\n     </g>\n     <g id=\"text_1\">\n      <!-- 2006 -->\n      <defs>\n       <path d=\"M 19.1875 8.296875 \nL 53.609375 8.296875 \nL 53.609375 0 \nL 7.328125 0 \nL 7.328125 8.296875 \nQ 12.9375 14.109375 22.625 23.890625 \nQ 32.328125 33.6875 34.8125 36.53125 \nQ 39.546875 41.84375 41.421875 45.53125 \nQ 43.3125 49.21875 43.3125 52.78125 \nQ 43.3125 58.59375 39.234375 62.25 \nQ 35.15625 65.921875 28.609375 65.921875 \nQ 23.96875 65.921875 18.8125 64.3125 \nQ 13.671875 62.703125 7.8125 59.421875 \nL 7.8125 69.390625 \nQ 13.765625 71.78125 18.9375 73 \nQ 24.125 74.21875 28.421875 74.21875 \nQ 39.75 74.21875 46.484375 68.546875 \nQ 53.21875 62.890625 53.21875 53.421875 \nQ 53.21875 48.921875 51.53125 44.890625 \nQ 49.859375 40.875 45.40625 35.40625 \nQ 44.1875 33.984375 37.640625 27.21875 \nQ 31.109375 20.453125 19.1875 8.296875 \nz\n\" id=\"DejaVuSans-50\"/>\n       <path d=\"M 31.78125 66.40625 \nQ 24.171875 66.40625 20.328125 58.90625 \nQ 16.5 51.421875 16.5 36.375 \nQ 16.5 21.390625 20.328125 13.890625 \nQ 24.171875 6.390625 31.78125 6.390625 \nQ 39.453125 6.390625 43.28125 13.890625 \nQ 47.125 21.390625 47.125 36.375 \nQ 47.125 51.421875 43.28125 58.90625 \nQ 39.453125 66.40625 31.78125 66.40625 \nz\nM 31.78125 74.21875 \nQ 44.046875 74.21875 50.515625 64.515625 \nQ 56.984375 54.828125 56.984375 36.375 \nQ 56.984375 17.96875 50.515625 8.265625 \nQ 44.046875 -1.421875 31.78125 -1.421875 \nQ 19.53125 -1.421875 13.0625 8.265625 \nQ 6.59375 17.96875 6.59375 36.375 \nQ 6.59375 54.828125 13.0625 64.515625 \nQ 19.53125 74.21875 31.78125 74.21875 \nz\n\" id=\"DejaVuSans-48\"/>\n       <path d=\"M 33.015625 40.375 \nQ 26.375 40.375 22.484375 35.828125 \nQ 18.609375 31.296875 18.609375 23.390625 \nQ 18.609375 15.53125 22.484375 10.953125 \nQ 26.375 6.390625 33.015625 6.390625 \nQ 39.65625 6.390625 43.53125 10.953125 \nQ 47.40625 15.53125 47.40625 23.390625 \nQ 47.40625 31.296875 43.53125 35.828125 \nQ 39.65625 40.375 33.015625 40.375 \nz\nM 52.59375 71.296875 \nL 52.59375 62.3125 \nQ 48.875 64.0625 45.09375 64.984375 \nQ 41.3125 65.921875 37.59375 65.921875 \nQ 27.828125 65.921875 22.671875 59.328125 \nQ 17.53125 52.734375 16.796875 39.40625 \nQ 19.671875 43.65625 24.015625 45.921875 \nQ 28.375 48.1875 33.59375 48.1875 \nQ 44.578125 48.1875 50.953125 41.515625 \nQ 57.328125 34.859375 57.328125 23.390625 \nQ 57.328125 12.15625 50.6875 5.359375 \nQ 44.046875 -1.421875 33.015625 -1.421875 \nQ 20.359375 -1.421875 13.671875 8.265625 \nQ 6.984375 17.96875 6.984375 36.375 \nQ 6.984375 53.65625 15.1875 63.9375 \nQ 23.390625 74.21875 37.203125 74.21875 \nQ 40.921875 74.21875 44.703125 73.484375 \nQ 48.484375 72.75 52.59375 71.296875 \nz\n\" id=\"DejaVuSans-54\"/>\n      </defs>\n      <g style=\"fill:#262626;\" transform=\"translate(52.70721 233.775984)rotate(-30)scale(0.11 -0.11)\">\n       <use xlink:href=\"#DejaVuSans-50\"/>\n       <use x=\"63.623047\" xlink:href=\"#DejaVuSans-48\"/>\n       <use x=\"127.246094\" xlink:href=\"#DejaVuSans-48\"/>\n       <use x=\"190.869141\" xlink:href=\"#DejaVuSans-54\"/>\n      </g>\n     </g>\n    </g>\n    <g id=\"xtick_2\">\n     <g id=\"line2d_2\">\n      <path clip-path=\"url(#p39e7cdd0cb)\" d=\"M 141.928058 203.04 \nL 141.928058 7.2 \n\" style=\"fill:none;stroke:#ffffff;stroke-linecap:round;\"/>\n     </g>\n     <g id=\"text_2\">\n      <!-- 2008 -->\n      <defs>\n       <path d=\"M 31.78125 34.625 \nQ 24.75 34.625 20.71875 30.859375 \nQ 16.703125 27.09375 16.703125 20.515625 \nQ 16.703125 13.921875 20.71875 10.15625 \nQ 24.75 6.390625 31.78125 6.390625 \nQ 38.8125 6.390625 42.859375 10.171875 \nQ 46.921875 13.96875 46.921875 20.515625 \nQ 46.921875 27.09375 42.890625 30.859375 \nQ 38.875 34.625 31.78125 34.625 \nz\nM 21.921875 38.8125 \nQ 15.578125 40.375 12.03125 44.71875 \nQ 8.5 49.078125 8.5 55.328125 \nQ 8.5 64.0625 14.71875 69.140625 \nQ 20.953125 74.21875 31.78125 74.21875 \nQ 42.671875 74.21875 48.875 69.140625 \nQ 55.078125 64.0625 55.078125 55.328125 \nQ 55.078125 49.078125 51.53125 44.71875 \nQ 48 40.375 41.703125 38.8125 \nQ 48.828125 37.15625 52.796875 32.3125 \nQ 56.78125 27.484375 56.78125 20.515625 \nQ 56.78125 9.90625 50.3125 4.234375 \nQ 43.84375 -1.421875 31.78125 -1.421875 \nQ 19.734375 -1.421875 13.25 4.234375 \nQ 6.78125 9.90625 6.78125 20.515625 \nQ 6.78125 27.484375 10.78125 32.3125 \nQ 14.796875 37.15625 21.921875 38.8125 \nz\nM 18.3125 54.390625 \nQ 18.3125 48.734375 21.84375 45.5625 \nQ 25.390625 42.390625 31.78125 42.390625 \nQ 38.140625 42.390625 41.71875 45.5625 \nQ 45.3125 48.734375 45.3125 54.390625 \nQ 45.3125 60.0625 41.71875 63.234375 \nQ 38.140625 66.40625 31.78125 66.40625 \nQ 25.390625 66.40625 21.84375 63.234375 \nQ 18.3125 60.0625 18.3125 54.390625 \nz\n\" id=\"DejaVuSans-56\"/>\n      </defs>\n      <g style=\"fill:#262626;\" transform=\"translate(116.539848 233.775984)rotate(-30)scale(0.11 -0.11)\">\n       <use xlink:href=\"#DejaVuSans-50\"/>\n       <use x=\"63.623047\" xlink:href=\"#DejaVuSans-48\"/>\n       <use x=\"127.246094\" xlink:href=\"#DejaVuSans-48\"/>\n       <use x=\"190.869141\" xlink:href=\"#DejaVuSans-56\"/>\n      </g>\n     </g>\n    </g>\n    <g id=\"xtick_3\">\n     <g id=\"line2d_3\">\n      <path clip-path=\"url(#p39e7cdd0cb)\" d=\"M 205.848138 203.04 \nL 205.848138 7.2 \n\" style=\"fill:none;stroke:#ffffff;stroke-linecap:round;\"/>\n     </g>\n     <g id=\"text_3\">\n      <!-- 2010 -->\n      <defs>\n       <path d=\"M 12.40625 8.296875 \nL 28.515625 8.296875 \nL 28.515625 63.921875 \nL 10.984375 60.40625 \nL 10.984375 69.390625 \nL 28.421875 72.90625 \nL 38.28125 72.90625 \nL 38.28125 8.296875 \nL 54.390625 8.296875 \nL 54.390625 0 \nL 12.40625 0 \nz\n\" id=\"DejaVuSans-49\"/>\n      </defs>\n      <g style=\"fill:#262626;\" transform=\"translate(180.459928 233.775984)rotate(-30)scale(0.11 -0.11)\">\n       <use xlink:href=\"#DejaVuSans-50\"/>\n       <use x=\"63.623047\" xlink:href=\"#DejaVuSans-48\"/>\n       <use x=\"127.246094\" xlink:href=\"#DejaVuSans-49\"/>\n       <use x=\"190.869141\" xlink:href=\"#DejaVuSans-48\"/>\n      </g>\n     </g>\n    </g>\n    <g id=\"xtick_4\">\n     <g id=\"line2d_4\">\n      <path clip-path=\"url(#p39e7cdd0cb)\" d=\"M 269.680776 203.04 \nL 269.680776 7.2 \n\" style=\"fill:none;stroke:#ffffff;stroke-linecap:round;\"/>\n     </g>\n     <g id=\"text_4\">\n      <!-- 2012 -->\n      <g style=\"fill:#262626;\" transform=\"translate(244.292566 233.775984)rotate(-30)scale(0.11 -0.11)\">\n       <use xlink:href=\"#DejaVuSans-50\"/>\n       <use x=\"63.623047\" xlink:href=\"#DejaVuSans-48\"/>\n       <use x=\"127.246094\" xlink:href=\"#DejaVuSans-49\"/>\n       <use x=\"190.869141\" xlink:href=\"#DejaVuSans-50\"/>\n      </g>\n     </g>\n    </g>\n    <g id=\"xtick_5\">\n     <g id=\"line2d_5\">\n      <path clip-path=\"url(#p39e7cdd0cb)\" d=\"M 333.600855 203.04 \nL 333.600855 7.2 \n\" style=\"fill:none;stroke:#ffffff;stroke-linecap:round;\"/>\n     </g>\n     <g id=\"text_5\">\n      <!-- 2014 -->\n      <defs>\n       <path d=\"M 37.796875 64.3125 \nL 12.890625 25.390625 \nL 37.796875 25.390625 \nz\nM 35.203125 72.90625 \nL 47.609375 72.90625 \nL 47.609375 25.390625 \nL 58.015625 25.390625 \nL 58.015625 17.1875 \nL 47.609375 17.1875 \nL 47.609375 0 \nL 37.796875 0 \nL 37.796875 17.1875 \nL 4.890625 17.1875 \nL 4.890625 26.703125 \nz\n\" id=\"DejaVuSans-52\"/>\n      </defs>\n      <g style=\"fill:#262626;\" transform=\"translate(308.212646 233.775984)rotate(-30)scale(0.11 -0.11)\">\n       <use xlink:href=\"#DejaVuSans-50\"/>\n       <use x=\"63.623047\" xlink:href=\"#DejaVuSans-48\"/>\n       <use x=\"127.246094\" xlink:href=\"#DejaVuSans-49\"/>\n       <use x=\"190.869141\" xlink:href=\"#DejaVuSans-52\"/>\n      </g>\n     </g>\n    </g>\n    <g id=\"xtick_6\">\n     <g id=\"line2d_6\">\n      <path clip-path=\"url(#p39e7cdd0cb)\" d=\"M 397.433493 203.04 \nL 397.433493 7.2 \n\" style=\"fill:none;stroke:#ffffff;stroke-linecap:round;\"/>\n     </g>\n     <g id=\"text_6\">\n      <!-- 2016 -->\n      <g style=\"fill:#262626;\" transform=\"translate(372.045284 233.775984)rotate(-30)scale(0.11 -0.11)\">\n       <use xlink:href=\"#DejaVuSans-50\"/>\n       <use x=\"63.623047\" xlink:href=\"#DejaVuSans-48\"/>\n       <use x=\"127.246094\" xlink:href=\"#DejaVuSans-49\"/>\n       <use x=\"190.869141\" xlink:href=\"#DejaVuSans-54\"/>\n      </g>\n     </g>\n    </g>\n    <g id=\"xtick_7\">\n     <g id=\"line2d_7\">\n      <path clip-path=\"url(#p39e7cdd0cb)\" d=\"M 461.353573 203.04 \nL 461.353573 7.2 \n\" style=\"fill:none;stroke:#ffffff;stroke-linecap:round;\"/>\n     </g>\n     <g id=\"text_7\">\n      <!-- 2018 -->\n      <g style=\"fill:#262626;\" transform=\"translate(435.965364 233.775984)rotate(-30)scale(0.11 -0.11)\">\n       <use xlink:href=\"#DejaVuSans-50\"/>\n       <use x=\"63.623047\" xlink:href=\"#DejaVuSans-48\"/>\n       <use x=\"127.246094\" xlink:href=\"#DejaVuSans-49\"/>\n       <use x=\"190.869141\" xlink:href=\"#DejaVuSans-56\"/>\n      </g>\n     </g>\n    </g>\n    <g id=\"text_8\">\n     <!-- Date -->\n     <defs>\n      <path d=\"M 19.671875 64.796875 \nL 19.671875 8.109375 \nL 31.59375 8.109375 \nQ 46.6875 8.109375 53.6875 14.9375 \nQ 60.6875 21.78125 60.6875 36.53125 \nQ 60.6875 51.171875 53.6875 57.984375 \nQ 46.6875 64.796875 31.59375 64.796875 \nz\nM 9.8125 72.90625 \nL 30.078125 72.90625 \nQ 51.265625 72.90625 61.171875 64.09375 \nQ 71.09375 55.28125 71.09375 36.53125 \nQ 71.09375 17.671875 61.125 8.828125 \nQ 51.171875 0 30.078125 0 \nL 9.8125 0 \nz\n\" id=\"DejaVuSans-68\"/>\n      <path d=\"M 34.28125 27.484375 \nQ 23.390625 27.484375 19.1875 25 \nQ 14.984375 22.515625 14.984375 16.5 \nQ 14.984375 11.71875 18.140625 8.90625 \nQ 21.296875 6.109375 26.703125 6.109375 \nQ 34.1875 6.109375 38.703125 11.40625 \nQ 43.21875 16.703125 43.21875 25.484375 \nL 43.21875 27.484375 \nz\nM 52.203125 31.203125 \nL 52.203125 0 \nL 43.21875 0 \nL 43.21875 8.296875 \nQ 40.140625 3.328125 35.546875 0.953125 \nQ 30.953125 -1.421875 24.3125 -1.421875 \nQ 15.921875 -1.421875 10.953125 3.296875 \nQ 6 8.015625 6 15.921875 \nQ 6 25.140625 12.171875 29.828125 \nQ 18.359375 34.515625 30.609375 34.515625 \nL 43.21875 34.515625 \nL 43.21875 35.40625 \nQ 43.21875 41.609375 39.140625 45 \nQ 35.0625 48.390625 27.6875 48.390625 \nQ 23 48.390625 18.546875 47.265625 \nQ 14.109375 46.140625 10.015625 43.890625 \nL 10.015625 52.203125 \nQ 14.9375 54.109375 19.578125 55.046875 \nQ 24.21875 56 28.609375 56 \nQ 40.484375 56 46.34375 49.84375 \nQ 52.203125 43.703125 52.203125 31.203125 \nz\n\" id=\"DejaVuSans-97\"/>\n      <path d=\"M 18.3125 70.21875 \nL 18.3125 54.6875 \nL 36.8125 54.6875 \nL 36.8125 47.703125 \nL 18.3125 47.703125 \nL 18.3125 18.015625 \nQ 18.3125 11.328125 20.140625 9.421875 \nQ 21.96875 7.515625 27.59375 7.515625 \nL 36.8125 7.515625 \nL 36.8125 0 \nL 27.59375 0 \nQ 17.1875 0 13.234375 3.875 \nQ 9.28125 7.765625 9.28125 18.015625 \nL 9.28125 47.703125 \nL 2.6875 47.703125 \nL 2.6875 54.6875 \nL 9.28125 54.6875 \nL 9.28125 70.21875 \nz\n\" id=\"DejaVuSans-116\"/>\n      <path d=\"M 56.203125 29.59375 \nL 56.203125 25.203125 \nL 14.890625 25.203125 \nQ 15.484375 15.921875 20.484375 11.0625 \nQ 25.484375 6.203125 34.421875 6.203125 \nQ 39.59375 6.203125 44.453125 7.46875 \nQ 49.3125 8.734375 54.109375 11.28125 \nL 54.109375 2.78125 \nQ 49.265625 0.734375 44.1875 -0.34375 \nQ 39.109375 -1.421875 33.890625 -1.421875 \nQ 20.796875 -1.421875 13.15625 6.1875 \nQ 5.515625 13.8125 5.515625 26.8125 \nQ 5.515625 40.234375 12.765625 48.109375 \nQ 20.015625 56 32.328125 56 \nQ 43.359375 56 49.78125 48.890625 \nQ 56.203125 41.796875 56.203125 29.59375 \nz\nM 47.21875 32.234375 \nQ 47.125 39.59375 43.09375 43.984375 \nQ 39.0625 48.390625 32.421875 48.390625 \nQ 24.90625 48.390625 20.390625 44.140625 \nQ 15.875 39.890625 15.1875 32.171875 \nz\n\" id=\"DejaVuSans-101\"/>\n     </defs>\n     <g style=\"fill:#262626;\" transform=\"translate(239.556562 248.875277)scale(0.12 -0.12)\">\n      <use xlink:href=\"#DejaVuSans-68\"/>\n      <use x=\"77.001953\" xlink:href=\"#DejaVuSans-97\"/>\n      <use x=\"138.28125\" xlink:href=\"#DejaVuSans-116\"/>\n      <use x=\"177.490234\" xlink:href=\"#DejaVuSans-101\"/>\n     </g>\n    </g>\n   </g>\n   <g id=\"matplotlib.axis_2\">\n    <g id=\"ytick_1\">\n     <g id=\"line2d_8\">\n      <path clip-path=\"url(#p39e7cdd0cb)\" d=\"M 30.6975 193.677832 \nL 477.0975 193.677832 \n\" style=\"fill:none;stroke:#ffffff;stroke-linecap:round;\"/>\n     </g>\n     <g id=\"text_9\">\n      <!-- 6 -->\n      <g style=\"fill:#262626;\" transform=\"translate(14.19875 197.856973)scale(0.11 -0.11)\">\n       <use xlink:href=\"#DejaVuSans-54\"/>\n      </g>\n     </g>\n    </g>\n    <g id=\"ytick_2\">\n     <g id=\"line2d_9\">\n      <path clip-path=\"url(#p39e7cdd0cb)\" d=\"M 30.6975 168.383905 \nL 477.0975 168.383905 \n\" style=\"fill:none;stroke:#ffffff;stroke-linecap:round;\"/>\n     </g>\n     <g id=\"text_10\">\n      <!-- 8 -->\n      <g style=\"fill:#262626;\" transform=\"translate(14.19875 172.563046)scale(0.11 -0.11)\">\n       <use xlink:href=\"#DejaVuSans-56\"/>\n      </g>\n     </g>\n    </g>\n    <g id=\"ytick_3\">\n     <g id=\"line2d_10\">\n      <path clip-path=\"url(#p39e7cdd0cb)\" d=\"M 30.6975 143.089978 \nL 477.0975 143.089978 \n\" style=\"fill:none;stroke:#ffffff;stroke-linecap:round;\"/>\n     </g>\n     <g id=\"text_11\">\n      <!-- 10 -->\n      <g style=\"fill:#262626;\" transform=\"translate(7.2 147.269119)scale(0.11 -0.11)\">\n       <use xlink:href=\"#DejaVuSans-49\"/>\n       <use x=\"63.623047\" xlink:href=\"#DejaVuSans-48\"/>\n      </g>\n     </g>\n    </g>\n    <g id=\"ytick_4\">\n     <g id=\"line2d_11\">\n      <path clip-path=\"url(#p39e7cdd0cb)\" d=\"M 30.6975 117.796051 \nL 477.0975 117.796051 \n\" style=\"fill:none;stroke:#ffffff;stroke-linecap:round;\"/>\n     </g>\n     <g id=\"text_12\">\n      <!-- 12 -->\n      <g style=\"fill:#262626;\" transform=\"translate(7.2 121.975192)scale(0.11 -0.11)\">\n       <use xlink:href=\"#DejaVuSans-49\"/>\n       <use x=\"63.623047\" xlink:href=\"#DejaVuSans-50\"/>\n      </g>\n     </g>\n    </g>\n    <g id=\"ytick_5\">\n     <g id=\"line2d_12\">\n      <path clip-path=\"url(#p39e7cdd0cb)\" d=\"M 30.6975 92.502125 \nL 477.0975 92.502125 \n\" style=\"fill:none;stroke:#ffffff;stroke-linecap:round;\"/>\n     </g>\n     <g id=\"text_13\">\n      <!-- 14 -->\n      <g style=\"fill:#262626;\" transform=\"translate(7.2 96.681265)scale(0.11 -0.11)\">\n       <use xlink:href=\"#DejaVuSans-49\"/>\n       <use x=\"63.623047\" xlink:href=\"#DejaVuSans-52\"/>\n      </g>\n     </g>\n    </g>\n    <g id=\"ytick_6\">\n     <g id=\"line2d_13\">\n      <path clip-path=\"url(#p39e7cdd0cb)\" d=\"M 30.6975 67.208198 \nL 477.0975 67.208198 \n\" style=\"fill:none;stroke:#ffffff;stroke-linecap:round;\"/>\n     </g>\n     <g id=\"text_14\">\n      <!-- 16 -->\n      <g style=\"fill:#262626;\" transform=\"translate(7.2 71.387338)scale(0.11 -0.11)\">\n       <use xlink:href=\"#DejaVuSans-49\"/>\n       <use x=\"63.623047\" xlink:href=\"#DejaVuSans-54\"/>\n      </g>\n     </g>\n    </g>\n    <g id=\"ytick_7\">\n     <g id=\"line2d_14\">\n      <path clip-path=\"url(#p39e7cdd0cb)\" d=\"M 30.6975 41.914271 \nL 477.0975 41.914271 \n\" style=\"fill:none;stroke:#ffffff;stroke-linecap:round;\"/>\n     </g>\n     <g id=\"text_15\">\n      <!-- 18 -->\n      <g style=\"fill:#262626;\" transform=\"translate(7.2 46.093411)scale(0.11 -0.11)\">\n       <use xlink:href=\"#DejaVuSans-49\"/>\n       <use x=\"63.623047\" xlink:href=\"#DejaVuSans-56\"/>\n      </g>\n     </g>\n    </g>\n    <g id=\"ytick_8\">\n     <g id=\"line2d_15\">\n      <path clip-path=\"url(#p39e7cdd0cb)\" d=\"M 30.6975 16.620344 \nL 477.0975 16.620344 \n\" style=\"fill:none;stroke:#ffffff;stroke-linecap:round;\"/>\n     </g>\n     <g id=\"text_16\">\n      <!-- 20 -->\n      <g style=\"fill:#262626;\" transform=\"translate(7.2 20.799484)scale(0.11 -0.11)\">\n       <use xlink:href=\"#DejaVuSans-50\"/>\n       <use x=\"63.623047\" xlink:href=\"#DejaVuSans-48\"/>\n      </g>\n     </g>\n    </g>\n   </g>\n   <g id=\"line2d_16\">\n    <path clip-path=\"url(#p39e7cdd0cb)\" d=\"M 50.988409 116.341651 \nL 51.250735 115.797831 \nL 51.338177 116.01283 \nL 51.425619 115.646068 \nL 51.600503 112.813148 \nL 51.862829 113.331673 \nL 52.474923 116.556649 \nL 52.562365 116.556649 \nL 52.649807 117.909874 \nL 52.737248 116.645178 \nL 52.82469 118.099579 \nL 53.087016 119.111336 \nL 53.2619 126.168341 \nL 53.349342 125.902755 \nL 53.69911 131.37889 \nL 53.873994 127.395097 \nL 54.048878 117.960462 \nL 54.398646 118.833102 \nL 54.57353 117.328114 \nL 54.660972 119.048101 \nL 54.923298 119.440157 \nL 55.01074 119.8828 \nL 55.185624 125.902755 \nL 55.535392 130.582132 \nL 55.622833 126.433928 \nL 55.710275 127.344509 \nL 55.885159 125.54864 \nL 56.147485 125.902755 \nL 56.234927 127.989504 \nL 56.322369 126.889218 \nL 56.409811 129.557728 \nL 56.497253 129.443905 \nL 56.759579 130.771836 \nL 56.847021 131.92271 \nL 57.021905 130.771836 \nL 57.109347 127.028335 \nL 57.371673 124.081592 \nL 57.459115 127.116864 \nL 57.546557 126.522456 \nL 57.721441 130.9236 \nL 57.983767 133.845048 \nL 58.246093 129.835961 \nL 58.333535 129.835961 \nL 58.59586 130.0889 \nL 58.683302 129.620962 \nL 58.945628 123.601008 \nL 59.295396 124.385119 \nL 59.382838 123.702183 \nL 59.47028 119.8828 \nL 59.557722 120.540443 \nL 59.820048 121.286613 \nL 59.90749 121.084262 \nL 60.082374 118.656045 \nL 60.519584 121.349848 \nL 60.607026 120.945145 \nL 60.694468 121.084262 \nL 60.78191 118.099579 \nL 61.044236 117.821345 \nL 61.21912 120.338091 \nL 61.306562 118.188107 \nL 61.394003 120.628971 \nL 61.656329 120.818676 \nL 61.743771 120.338091 \nL 61.831213 121.286613 \nL 62.006097 117.909874 \nL 62.618191 116.556649 \nL 62.880517 117.770758 \nL 63.055401 115.861066 \nL 63.230285 116.999293 \nL 63.492611 118.276636 \nL 63.667495 116.417532 \nL 63.754937 117.403996 \nL 63.842379 116.417532 \nL 64.192147 115.367835 \nL 64.454472 112.408445 \nL 64.716798 111.396688 \nL 64.891682 110.245814 \nL 64.979124 110.991985 \nL 65.066566 110.245814 \nL 65.328892 109.360527 \nL 65.416334 111.143749 \nL 65.67866 109.031706 \nL 65.940986 109.626113 \nL 66.203312 114.609017 \nL 66.290754 113.622554 \nL 66.727964 112.76256 \nL 66.902848 114.292843 \nL 67.165174 113.394908 \nL 67.514941 105.743495 \nL 67.864709 106.325256 \nL 67.952151 107.526717 \nL 68.127035 104.023508 \nL 68.389361 104.314388 \nL 68.476803 108.968471 \nL 68.564245 108.905236 \nL 68.651687 108.968471 \nL 68.739129 107.311719 \nL 69.088897 104.744385 \nL 69.263781 100.001774 \nL 69.351223 103.037045 \nL 69.613549 103.795863 \nL 69.700991 105.743495 \nL 69.788433 105.427321 \nL 69.963317 100.001774 \nL 70.225642 98.661196 \nL 70.487968 110.991985 \nL 70.57541 109.537584 \nL 70.837736 113.964022 \nL 70.925178 110.334343 \nL 71.187504 114.849309 \nL 71.44983 112.76256 \nL 71.712156 119.731037 \nL 71.799598 117.606347 \nL 72.061924 116.417532 \nL 72.236808 114.773427 \nL 72.32425 115.646068 \nL 72.411692 115.418422 \nL 72.674018 115.367835 \nL 72.76146 116.01283 \nL 72.936344 113.331673 \nL 73.023785 113.331673 \nL 73.286111 116.645178 \nL 73.373553 115.291953 \nL 73.460995 116.088711 \nL 73.548437 118.4284 \nL 73.635879 117.075175 \nL 73.898205 117.403996 \nL 73.985647 116.556649 \nL 74.160531 117.960462 \nL 74.247973 119.440157 \nL 74.510299 118.580163 \nL 74.685183 115.367835 \nL 74.860067 114.090491 \nL 75.122393 117.606347 \nL 75.297277 115.797831 \nL 75.472161 110.827575 \nL 75.821929 109.360527 \nL 75.90937 109.626113 \nL 75.996812 108.133771 \nL 76.084254 109.626113 \nL 76.34658 108.690238 \nL 76.434022 109.47435 \nL 76.521464 109.360527 \nL 76.958674 111.953154 \nL 77.046116 112.117565 \nL 77.133558 113.331673 \nL 77.221 111.232277 \nL 77.65821 113.685788 \nL 77.833094 111.915213 \nL 77.920536 108.614356 \nL 78.357746 103.947626 \nL 78.445188 104.529387 \nL 78.53263 102.607048 \nL 78.794955 103.087633 \nL 78.882397 100.84912 \nL 79.057281 102.986457 \nL 79.144723 100.621475 \nL 79.494491 98.193258 \nL 79.581933 98.787665 \nL 79.756817 97.990907 \nL 80.106585 97.27003 \nL 80.281469 100.798533 \nL 80.368911 98.193258 \nL 80.631237 95.14534 \nL 80.981005 99.230309 \nL 81.243331 99.179721 \nL 81.330773 101.329705 \nL 81.418215 100.001774 \nL 81.593099 103.631452 \nL 81.855424 107.463482 \nL 81.942866 107.387601 \nL 82.030308 108.007302 \nL 82.205192 105.123794 \nL 82.55496 102.68293 \nL 82.642402 105.427321 \nL 82.729844 105.262911 \nL 82.817286 102.227639 \nL 83.079612 101.936759 \nL 83.167054 102.303521 \nL 83.42938 99.837363 \nL 83.691706 101.39294 \nL 83.86659 106.64143 \nL 83.954032 106.894369 \nL 84.041474 103.947626 \nL 84.3038 105.477909 \nL 84.566125 103.378513 \nL 84.915893 110.460813 \nL 85.003335 108.614356 \nL 85.090777 108.80406 \nL 85.178219 109.47435 \nL 85.265661 107.64054 \nL 85.615429 106.80584 \nL 85.790313 104.921443 \nL 85.877755 105.477909 \nL 86.140081 105.123794 \nL 86.402407 102.037935 \nL 86.489849 104.187919 \nL 86.752175 100.760592 \nL 87.014501 102.366756 \nL 87.45171 99.420014 \nL 87.539152 97.27003 \nL 87.626594 97.990907 \nL 87.714036 95.878864 \nL 88.063804 100.545593 \nL 88.151246 100.204125 \nL 88.238688 100.090303 \nL 88.32613 99.027958 \nL 88.588456 97.750614 \nL 88.675898 95.208575 \nL 88.76334 97.080325 \nL 88.850782 97.004444 \nL 88.938224 96.055921 \nL 89.20055 96.308861 \nL 89.375434 93.627704 \nL 89.462876 94.85446 \nL 89.550318 98.193258 \nL 89.812644 101.203235 \nL 89.900086 101.114707 \nL 90.07497 106.09761 \nL 90.162412 106.451725 \nL 90.424737 108.070537 \nL 90.512179 107.64054 \nL 90.599621 107.944067 \nL 90.774505 104.668503 \nL 91.124273 104.023508 \nL 91.299157 100.545593 \nL 91.386599 97.889731 \nL 91.736367 100.545593 \nL 91.911251 104.529387 \nL 92.261019 105.351439 \nL 92.348461 112.244035 \nL 92.435903 111.978448 \nL 92.523345 107.387601 \nL 92.610787 107.64054 \nL 92.960555 112.484327 \nL 93.222881 107.729069 \nL 93.572648 108.690238 \nL 93.66009 107.197896 \nL 93.834974 103.150868 \nL 94.0973 100.887061 \nL 94.272184 100.887061 \nL 94.447068 100.254713 \nL 94.709394 102.366756 \nL 94.796836 101.709114 \nL 94.97172 102.366756 \nL 95.321488 107.387601 \nL 95.40893 109.967581 \nL 95.496372 107.944067 \nL 95.583814 108.272888 \nL 95.671256 110.776987 \nL 95.933582 109.031706 \nL 96.108466 103.631452 \nL 96.195907 103.315278 \nL 96.283349 102.227639 \nL 96.720559 99.230309 \nL 96.895443 97.43444 \nL 97.157769 97.940319 \nL 97.420095 99.230309 \nL 97.507537 98.926782 \nL 97.769863 101.936759 \nL 97.857305 100.798533 \nL 97.944747 102.607048 \nL 98.032189 102.366756 \nL 98.119631 99.647659 \nL 98.381957 99.483248 \nL 98.469399 98.8509 \nL 98.556841 101.279117 \nL 98.731725 98.8509 \nL 98.994051 99.280897 \nL 99.168934 103.795863 \nL 99.343818 100.97559 \nL 99.693586 99.647659 \nL 99.955912 104.124684 \nL 100.218238 108.614356 \nL 100.30568 107.564658 \nL 100.480564 113.243145 \nL 100.568006 113.964022 \nL 100.830332 111.232277 \nL 101.092658 114.242255 \nL 101.1801 115.228718 \nL 101.442426 116.645178 \nL 101.61731 112.964911 \nL 101.704752 110.524047 \nL 101.792194 110.92875 \nL 102.054519 110.334343 \nL 102.229403 114.292843 \nL 102.404287 109.815818 \nL 102.666613 110.827575 \nL 102.754055 108.272888 \nL 102.841497 108.614356 \nL 103.278707 105.262911 \nL 103.453591 103.239397 \nL 103.541033 100.621475 \nL 103.628475 101.709114 \nL 103.890801 103.087633 \nL 104.153127 99.280897 \nL 104.240569 99.280897 \nL 104.502895 102.037935 \nL 104.590337 101.456175 \nL 104.765221 108.80406 \nL 104.852662 107.311719 \nL 105.114988 106.944957 \nL 105.20243 107.526717 \nL 105.377314 105.212323 \nL 105.814524 108.424652 \nL 105.901966 107.729069 \nL 105.989408 109.689348 \nL 106.07685 108.905236 \nL 106.339176 109.284645 \nL 106.51406 105.073206 \nL 106.688944 104.794973 \nL 106.95127 104.921443 \nL 107.301038 98.926782 \nL 107.563364 99.698247 \nL 107.650806 97.889731 \nL 107.738247 98.661196 \nL 107.913131 97.004444 \nL 108.175457 96.928562 \nL 108.262899 96.169744 \nL 108.350341 98.926782 \nL 108.437783 97.510322 \nL 108.525225 97.750614 \nL 108.787551 99.027958 \nL 109.049877 95.954746 \nL 109.137319 97.940319 \nL 109.487087 97.712673 \nL 109.574529 96.662976 \nL 109.661971 93.475941 \nL 109.749413 94.247405 \nL 110.186623 98.661196 \nL 110.274065 103.795863 \nL 110.361507 103.087633 \nL 110.623832 102.151758 \nL 110.798716 103.631452 \nL 110.9736 103.037045 \nL 111.323368 102.897929 \nL 111.41081 100.697357 \nL 111.498252 101.329705 \nL 111.585694 97.750614 \nL 111.84802 98.787665 \nL 112.022904 97.080325 \nL 112.110346 98.332375 \nL 112.197788 97.080325 \nL 112.460114 97.004444 \nL 112.72244 95.01887 \nL 112.809882 94.690049 \nL 113.334534 97.889731 \nL 113.421976 98.787665 \nL 113.684301 99.647659 \nL 113.771743 97.712673 \nL 113.859185 97.990907 \nL 113.946627 97.990907 \nL 114.034069 98.14267 \nL 114.383837 98.408256 \nL 114.558721 97.27003 \nL 114.646163 95.600631 \nL 114.908489 94.171524 \nL 115.083373 97.990907 \nL 115.520583 102.847341 \nL 115.782909 95.461514 \nL 115.870351 94.85446 \nL 116.132677 95.878864 \nL 116.220119 98.787665 \nL 116.307561 98.332375 \nL 116.395002 99.280897 \nL 116.74477 97.573557 \nL 117.094538 90.263612 \nL 117.444306 91.857129 \nL 117.531748 91.566249 \nL 117.61919 90.491257 \nL 117.706632 91.857129 \nL 117.968958 90.225671 \nL 118.0564 87.493927 \nL 118.143842 88.594213 \nL 118.231284 85.533648 \nL 118.581052 85.331296 \nL 118.755936 84.041306 \nL 118.843378 83.623956 \nL 118.93082 79.716044 \nL 119.193146 78.868698 \nL 119.455471 82.308672 \nL 119.805239 79.007815 \nL 119.892681 79.65281 \nL 120.155007 75.782839 \nL 120.417333 77.034888 \nL 120.592217 78.033998 \nL 120.767101 76.073719 \nL 121.029427 76.541657 \nL 121.204311 75.5299 \nL 121.291753 76.073719 \nL 121.379195 71.912868 \nL 121.641521 71.647282 \nL 121.816405 70.673466 \nL 121.903847 67.056434 \nL 121.991289 68.106132 \nL 122.253614 68.169367 \nL 122.341056 69.509945 \nL 122.428498 67.701429 \nL 122.51594 74.644612 \nL 122.603382 73.40521 \nL 122.95315 73.468445 \nL 123.215476 68.106132 \nL 123.477802 64.362631 \nL 123.565244 65.703209 \nL 123.82757 73.885794 \nL 124.089896 72.140513 \nL 124.177338 74.922845 \nL 124.26478 74.6952 \nL 124.439664 71.773751 \nL 124.789432 69.902001 \nL 124.964316 72.684333 \nL 125.051758 73.999617 \nL 125.314083 75.175785 \nL 125.401525 79.298695 \nL 125.488967 76.187542 \nL 125.576409 76.794596 \nL 125.663851 74.745788 \nL 126.013619 70.57229 \nL 126.188503 71.849633 \nL 126.275945 69.421416 \nL 126.538271 66.677025 \nL 126.625713 69.472004 \nL 126.713155 67.789958 \nL 126.888039 62.541468 \nL 127.150365 61.732062 \nL 127.237807 59.607373 \nL 127.500133 65.108802 \nL 127.762459 63.629107 \nL 128.024784 79.501046 \nL 128.112226 80.866918 \nL 128.374552 78.10988 \nL 128.636878 81.461325 \nL 128.72432 86.140702 \nL 128.986646 89.492147 \nL 129.16153 82.561611 \nL 129.336414 88.796564 \nL 129.59874 88.796564 \nL 129.686182 91.351251 \nL 129.861066 102.847341 \nL 129.948508 97.130913 \nL 130.210834 93.058591 \nL 130.298276 93.880644 \nL 130.560602 85.154239 \nL 130.822928 87.215694 \nL 130.910369 91.351251 \nL 130.997811 85.470413 \nL 131.085253 87.708925 \nL 131.172695 84.306892 \nL 131.522463 81.006035 \nL 131.609905 82.06838 \nL 131.697347 78.539877 \nL 131.784789 80.740449 \nL 132.047115 83.421605 \nL 132.134557 81.309562 \nL 132.221999 81.828087 \nL 132.396883 82.06838 \nL 132.659209 83.2319 \nL 132.834093 78.337525 \nL 132.921535 78.805463 \nL 133.008977 77.034888 \nL 133.358745 79.564281 \nL 133.446187 79.222813 \nL 133.533629 77.882235 \nL 133.621071 78.033998 \nL 133.883396 75.782839 \nL 134.145722 77.819 \nL 134.233164 75.618428 \nL 134.49549 76.908419 \nL 134.845258 70.837876 \nL 135.107584 69.585827 \nL 135.282468 72.001397 \nL 135.36991 69.509945 \nL 135.457352 74.6952 \nL 135.719678 76.073719 \nL 135.982004 71.002287 \nL 136.069446 67.625547 \nL 136.331772 65.108802 \nL 136.419214 67.347314 \nL 136.506656 64.982332 \nL 136.594098 68.586717 \nL 136.681539 67.233492 \nL 136.943865 68.586717 \nL 137.031307 63.148522 \nL 137.118749 67.701429 \nL 137.206191 65.260565 \nL 137.293633 68.789068 \nL 137.555959 74.56873 \nL 137.643401 73.885794 \nL 137.730843 74.075499 \nL 137.818285 78.94458 \nL 137.905727 76.073719 \nL 138.168053 80.196629 \nL 138.255495 77.604002 \nL 138.342937 79.501046 \nL 138.517821 76.908419 \nL 138.867589 81.461325 \nL 139.042473 76.453128 \nL 139.129915 74.56873 \nL 139.392241 74.075499 \nL 139.479683 75.782839 \nL 139.742008 67.701429 \nL 140.004334 66.247028 \nL 140.091776 70.433173 \nL 140.26666 66.107912 \nL 140.354102 69.585827 \nL 140.616428 72.380806 \nL 140.70387 72.266983 \nL 140.791312 72.823449 \nL 140.878754 71.647282 \nL 140.966196 66.588496 \nL 141.228522 64.931744 \nL 141.403406 60.227074 \nL 141.490848 62.920877 \nL 141.57829 59.038259 \nL 142.0155 55.560344 \nL 142.102942 53.258597 \nL 142.190384 57.609152 \nL 142.540151 59.822371 \nL 142.715035 56.850335 \nL 142.802477 59.556785 \nL 143.064803 58.330029 \nL 143.414571 78.10988 \nL 143.764339 84.104541 \nL 143.851781 83.876895 \nL 144.026665 71.179344 \nL 144.288991 64.4891 \nL 144.463875 66.980552 \nL 144.638759 62.756466 \nL 144.901085 62.124118 \nL 145.075969 70.724053 \nL 145.163411 71.432283 \nL 145.250853 68.106132 \nL 145.513178 64.362631 \nL 145.60062 64.982332 \nL 145.688062 61.137655 \nL 145.862946 64.059104 \nL 146.300156 58.279441 \nL 146.387598 61.643534 \nL 146.47504 60.78354 \nL 146.737366 56.142105 \nL 146.824808 52.145664 \nL 146.91225 53.385067 \nL 146.999692 51.159201 \nL 147.087134 56.559454 \nL 147.34946 56.142105 \nL 147.436902 59.278551 \nL 147.524344 55.24417 \nL 147.699228 61.32736 \nL 147.961554 65.753797 \nL 148.048996 59.354433 \nL 148.136438 64.4891 \nL 148.22388 62.667938 \nL 148.573647 72.064632 \nL 148.661089 66.892024 \nL 148.835973 78.312232 \nL 149.185741 74.85961 \nL 149.360625 65.994089 \nL 149.448067 66.980552 \nL 149.535509 66.752907 \nL 149.797835 66.411439 \nL 150.060161 60.720305 \nL 150.147603 56.723865 \nL 150.584813 53.056245 \nL 150.672255 52.891835 \nL 150.759697 55.395934 \nL 151.109465 47.238642 \nL 151.284348 40.320753 \nL 151.37179 38.145476 \nL 151.721558 34.427268 \nL 151.809 36.691075 \nL 151.896442 43.178967 \nL 151.983884 40.776044 \nL 152.24621 40.978395 \nL 152.508536 48.70569 \nL 152.595978 43.988373 \nL 152.858304 39.498701 \nL 153.12063 30.354946 \nL 153.208072 30.481416 \nL 153.470398 31.923169 \nL 153.55784 29.659363 \nL 153.645282 32.631399 \nL 153.820166 24.436167 \nL 154.169933 22.121773 \nL 154.257375 23.323234 \nL 154.432259 28.356726 \nL 154.782027 31.923169 \nL 154.869469 28.483195 \nL 154.956911 31.847288 \nL 155.306679 26.801149 \nL 155.481563 29.596128 \nL 155.569005 21.29972 \nL 155.656447 21.742364 \nL 155.918773 18.985326 \nL 156.006215 24.044111 \nL 156.093657 21.868834 \nL 156.181099 26.83909 \nL 156.268541 26.662033 \nL 156.530867 24.436167 \nL 156.705751 17.518278 \nL 156.880635 22.387359 \nL 157.14296 17.075634 \nL 157.405286 24.815576 \nL 157.492728 21.00884 \nL 157.842496 16.772107 \nL 158.01738 30.696414 \nL 158.367148 39.713699 \nL 158.542032 47.390406 \nL 158.716916 38.841059 \nL 158.979242 32.631399 \nL 159.241568 53.625359 \nL 159.591336 46.593647 \nL 159.853661 65.045567 \nL 159.941103 63.32558 \nL 160.290871 60.037369 \nL 160.378313 51.513316 \nL 160.902965 72.001397 \nL 161.077849 66.537909 \nL 161.165291 70.774641 \nL 161.427617 75.087256 \nL 161.515059 74.391673 \nL 161.602501 66.411439 \nL 161.689943 67.15761 \nL 161.777385 70.369938 \nL 162.039711 74.391673 \nL 162.302037 55.889165 \nL 162.389479 58.405911 \nL 162.651805 60.530601 \nL 162.739246 59.114141 \nL 162.826688 55.320052 \nL 162.91413 55.9524 \nL 163.001572 57.040039 \nL 163.875992 81.828087 \nL 163.963434 94.85446 \nL 164.050876 92.502125 \nL 164.138318 93.627704 \nL 164.22576 86.924814 \nL 164.66297 107.944067 \nL 164.750412 104.314388 \nL 164.837854 86.570699 \nL 165.10018 85.154239 \nL 165.275064 91.907717 \nL 165.362506 89.340384 \nL 165.712273 114.381371 \nL 165.799715 109.891699 \nL 165.974599 127.938916 \nL 166.062041 124.663353 \nL 166.324367 138.486484 \nL 166.674135 180.365639 \nL 167.023903 157.107873 \nL 167.111345 170.538948 \nL 167.286229 157.320342 \nL 167.548555 147.465828 \nL 167.635997 151.558385 \nL 167.810881 165.444751 \nL 168.160649 173.521102 \nL 168.510416 147.529063 \nL 168.772742 150.188719 \nL 168.860184 141.977046 \nL 169.12251 160.980373 \nL 169.384836 158.038689 \nL 169.472278 161.047402 \nL 169.55972 167.896997 \nL 169.647162 164.961637 \nL 169.734604 167.695911 \nL 169.99693 168.915078 \nL 170.171814 178.73671 \nL 170.259256 194.138182 \nL 170.346698 191.286292 \nL 170.783908 170.807064 \nL 170.958792 172.289288 \nL 171.221118 182.94056 \nL 171.396001 176.494403 \nL 171.483443 188.028434 \nL 171.570885 185.993537 \nL 171.833211 178.677269 \nL 171.920653 178.870768 \nL 172.008095 170.538948 \nL 172.095537 170.807064 \nL 172.182979 172.432198 \nL 172.445305 173.234016 \nL 172.620189 164.224319 \nL 172.707631 177.986745 \nL 172.795073 168.343435 \nL 173.144841 175.891143 \nL 173.232283 173.041782 \nL 173.407167 173.041782 \nL 173.669493 172.573844 \nL 174.019261 157.228019 \nL 174.369028 151.631738 \nL 174.45647 158.038689 \nL 174.543912 156.342731 \nL 174.631354 155.62059 \nL 174.89368 162.45248 \nL 174.981122 160.499788 \nL 175.243448 163.671647 \nL 175.593216 168.84552 \nL 175.680658 164.443112 \nL 175.7681 165.146283 \nL 175.855542 161.842896 \nL 176.117868 157.107873 \nL 176.20531 153.232843 \nL 176.292752 153.76528 \nL 176.467636 159.591736 \nL 176.729962 161.909925 \nL 177.07973 152.198322 \nL 177.342055 149.708134 \nL 177.516939 150.826126 \nL 177.691823 154.839008 \nL 178.041591 160.01288 \nL 178.129033 158.118365 \nL 178.566243 178.261184 \nL 178.741127 163.002622 \nL 179.178337 180.365639 \nL 179.265779 182.390417 \nL 179.353221 174.19645 \nL 179.528105 180.973958 \nL 179.790431 182.127361 \nL 179.965315 170.035599 \nL 180.052757 172.826784 \nL 180.140198 170.538948 \nL 180.402524 169.250222 \nL 180.577408 165.223429 \nL 180.66485 162.389245 \nL 180.752292 163.737411 \nL 181.014618 162.226099 \nL 181.10206 163.584383 \nL 181.276944 161.295282 \nL 181.626712 165.640779 \nL 181.714154 165.357487 \nL 181.889038 161.295282 \nL 181.97648 161.521663 \nL 182.238806 161.842896 \nL 182.326248 164.224319 \nL 182.41369 163.406061 \nL 182.501132 160.555435 \nL 182.8509 160.627523 \nL 182.938342 162.30451 \nL 183.200667 157.977984 \nL 183.550435 163.537589 \nL 183.637877 162.389245 \nL 183.812761 156.144174 \nL 184.075087 158.506627 \nL 184.162529 158.118365 \nL 184.687181 142.5841 \nL 184.774623 142.432336 \nL 184.862065 141.29411 \nL 184.949507 143.342918 \nL 185.036949 135.855915 \nL 185.299275 141.926458 \nL 185.386717 141.29411 \nL 185.561601 147.731414 \nL 185.649043 150.626304 \nL 185.911368 145.960839 \nL 186.086252 139.295889 \nL 186.173694 144.063795 \nL 186.261136 141.977046 \nL 186.698346 136.551498 \nL 186.87323 124.928939 \nL 187.222998 121.349848 \nL 187.31044 132.744762 \nL 187.485324 122.589251 \nL 187.74765 123.942476 \nL 187.922534 117.328114 \nL 188.009976 118.757221 \nL 188.097418 125.295701 \nL 188.447186 134.957981 \nL 188.534628 140.547939 \nL 188.62207 139.194714 \nL 188.709512 136.956201 \nL 188.971837 144.468497 \nL 189.059279 143.772914 \nL 189.146721 144.607614 \nL 189.321605 140.965289 \nL 189.583931 139.599417 \nL 189.671373 138.271485 \nL 189.758815 134.578572 \nL 190.458351 145.884957 \nL 190.545793 145.606724 \nL 190.808119 142.5841 \nL 190.895561 140.004119 \nL 191.070445 132.871232 \nL 191.420213 128.406854 \nL 191.595097 129.696844 \nL 191.76998 126.433928 \nL 192.032306 124.663353 \nL 192.20719 131.859475 \nL 192.294632 128.824204 \nL 192.382074 128.824204 \nL 192.6444 124.283944 \nL 192.731842 124.309238 \nL 192.819284 124.54953 \nL 192.906726 127.116864 \nL 192.994168 127.028335 \nL 193.256494 127.483626 \nL 193.431378 128.887438 \nL 193.51882 125.004821 \nL 193.868588 135.400625 \nL 194.218356 123.360715 \nL 194.480682 122.311017 \nL 194.655565 125.004821 \nL 194.743007 124.663353 \nL 195.092775 128.115974 \nL 195.267659 131.657123 \nL 195.967195 117.201644 \nL 196.054637 119.364275 \nL 196.316963 119.541332 \nL 196.491847 113.331673 \nL 196.579289 114.533135 \nL 196.666731 116.088711 \nL 196.929057 117.770758 \nL 197.016499 113.964022 \nL 197.103941 115.165483 \nL 197.191383 120.704853 \nL 197.278825 119.933388 \nL 197.628592 115.291953 \nL 197.716034 116.417532 \nL 197.890918 122.993953 \nL 198.153244 119.225158 \nL 198.328128 111.915213 \nL 198.503012 107.767009 \nL 198.765338 107.235837 \nL 198.85278 108.007302 \nL 198.940222 104.579975 \nL 199.027664 105.123794 \nL 199.115106 106.64143 \nL 199.377432 103.795863 \nL 199.464874 104.744385 \nL 199.552316 103.707334 \nL 199.639758 104.124684 \nL 199.7272 106.375843 \nL 199.989526 109.891699 \nL 200.076968 109.752583 \nL 200.16441 118.656045 \nL 200.251852 111.915213 \nL 200.339294 119.440157 \nL 200.689061 114.899897 \nL 200.863945 108.551121 \nL 200.951387 111.05522 \nL 201.213713 106.565548 \nL 201.301155 107.463482 \nL 201.388597 105.123794 \nL 201.476039 108.424652 \nL 201.563481 108.007302 \nL 202.000691 104.402917 \nL 202.088133 108.80406 \nL 202.175575 108.209653 \nL 202.525343 106.565548 \nL 202.612785 104.579975 \nL 202.787669 107.197896 \nL 203.049995 107.109367 \nL 203.137437 105.073206 \nL 203.224879 106.09761 \nL 203.399762 103.239397 \nL 203.74953 101.860878 \nL 203.836972 106.249374 \nL 203.924414 104.668503 \nL 204.011856 104.921443 \nL 204.274182 103.239397 \nL 204.361624 101.051472 \nL 204.536508 94.690049 \nL 204.62395 99.331485 \nL 204.886276 99.280897 \nL 205.148602 92.805652 \nL 205.585812 94.386522 \nL 205.673254 96.131803 \nL 205.760696 95.7271 \nL 206.110464 91.047724 \nL 206.285347 83.699838 \nL 206.460231 87.77216 \nL 206.722557 87.418045 \nL 206.809999 93.172414 \nL 206.897441 92.653888 \nL 206.984883 91.490367 \nL 207.072325 92.85624 \nL 207.422093 89.73244 \nL 207.684419 103.580865 \nL 208.121629 105.958494 \nL 208.296513 111.143749 \nL 208.558839 107.387601 \nL 208.646281 104.074096 \nL 208.733723 104.858208 \nL 208.908607 114.748133 \nL 209.170932 116.151946 \nL 209.345816 111.915213 \nL 209.5207 109.360527 \nL 210.045352 102.227639 \nL 210.132794 102.151758 \nL 210.39512 103.239397 \nL 210.482562 105.958494 \nL 210.570004 105.073206 \nL 210.744888 102.151758 \nL 211.007214 100.204125 \nL 211.094656 98.14267 \nL 211.182098 98.408256 \nL 211.26954 99.420014 \nL 211.356982 95.7271 \nL 211.619308 96.005333 \nL 211.70675 95.878864 \nL 211.794192 94.614167 \nL 211.881634 96.72621 \nL 211.969075 96.245626 \nL 212.231401 98.661196 \nL 212.406285 94.803872 \nL 212.581169 101.329705 \nL 212.843495 101.456175 \nL 213.018379 100.254713 \nL 213.193263 102.986457 \nL 213.455589 101.709114 \nL 214.067683 93.551823 \nL 214.155125 90.89596 \nL 214.242567 92.85624 \nL 214.417451 90.352141 \nL 214.679777 90.832725 \nL 214.767219 92.400949 \nL 214.85466 90.111848 \nL 214.942102 91.237428 \nL 215.029544 94.614167 \nL 215.29187 96.447977 \nL 215.379312 93.109179 \nL 215.466754 93.273589 \nL 215.554196 93.475941 \nL 215.641638 90.617727 \nL 215.903964 90.428023 \nL 216.078848 94.803872 \nL 216.16629 93.943878 \nL 216.253732 96.587094 \nL 216.516058 96.245626 \nL 216.690942 105.68026 \nL 216.865826 114.444606 \nL 217.303036 102.784106 \nL 217.390478 104.074096 \nL 217.47792 107.526717 \nL 217.827687 112.76256 \nL 217.915129 115.291953 \nL 218.002571 124.081592 \nL 218.090013 120.755441 \nL 218.352339 120.413973 \nL 218.439781 121.602787 \nL 218.527223 119.996623 \nL 218.614665 112.041683 \nL 218.702107 113.394908 \nL 219.051875 119.048101 \nL 219.226759 111.143749 \nL 219.314201 115.797831 \nL 219.576527 116.278416 \nL 219.663969 113.88814 \nL 219.751411 115.291953 \nL 219.838853 109.815818 \nL 219.926295 111.523158 \nL 220.188621 112.813148 \nL 220.276063 107.109367 \nL 220.363505 108.007302 \nL 220.538389 109.815818 \nL 220.800714 107.526717 \nL 221.06304 114.684898 \nL 221.150482 110.713752 \nL 221.412808 112.408445 \nL 221.762576 124.385119 \nL 222.112344 121.160144 \nL 222.37467 110.460813 \nL 222.636996 111.143749 \nL 222.724438 109.360527 \nL 222.81188 111.523158 \nL 222.899322 110.827575 \nL 222.986764 115.861066 \nL 223.24909 117.125762 \nL 223.511415 110.574635 \nL 223.598857 110.574635 \nL 223.861183 108.209653 \nL 223.948625 108.80406 \nL 224.036067 111.396688 \nL 224.123509 109.47435 \nL 224.210951 110.63787 \nL 224.473277 107.463482 \nL 224.560719 108.007302 \nL 224.735603 105.617026 \nL 224.823045 106.565548 \nL 225.172813 106.502313 \nL 225.260255 112.117565 \nL 225.347697 111.308159 \nL 225.435139 111.662274 \nL 225.697465 110.334343 \nL 225.872349 107.855538 \nL 225.959791 109.120235 \nL 226.047233 109.031706 \nL 226.397 111.978448 \nL 226.571884 116.493414 \nL 226.659326 114.090491 \nL 226.921652 115.861066 \nL 227.009094 115.519598 \nL 227.183978 108.551121 \nL 227.621188 109.967581 \nL 227.883514 104.074096 \nL 228.233282 107.855538 \nL 228.408166 106.679371 \nL 228.495608 107.463482 \nL 228.757934 106.944957 \nL 228.845376 107.235837 \nL 228.932818 109.120235 \nL 229.107702 107.109367 \nL 229.370027 109.626113 \nL 229.719795 100.001774 \nL 229.982121 101.936759 \nL 230.157005 96.662976 \nL 230.331889 95.802982 \nL 230.594215 94.803872 \nL 230.681657 95.461514 \nL 230.769099 94.01976 \nL 230.856541 94.85446 \nL 230.943983 94.297993 \nL 231.206309 93.754174 \nL 231.293751 97.080325 \nL 231.381193 96.523859 \nL 231.468635 96.447977 \nL 231.556077 95.461514 \nL 231.818403 94.72799 \nL 231.905845 95.802982 \nL 231.993287 98.572667 \nL 232.080729 98.26914 \nL 232.168171 97.573557 \nL 232.430496 97.206795 \nL 232.780264 84.863359 \nL 233.130032 87.342163 \nL 233.304916 85.331296 \nL 233.392358 90.137142 \nL 233.654684 89.858909 \nL 233.742126 94.576227 \nL 233.829568 93.109179 \nL 234.004452 86.3557 \nL 234.266778 86.090114 \nL 234.35422 86.633933 \nL 234.441662 83.77572 \nL 234.616546 85.634823 \nL 234.878872 87.051283 \nL 235.053756 83.48484 \nL 235.228639 77.932823 \nL 235.490965 77.224593 \nL 235.665849 80.057512 \nL 236.190501 75.706957 \nL 236.365385 78.489289 \nL 236.452827 84.395421 \nL 236.715153 84.93924 \nL 236.802595 83.623956 \nL 236.977479 79.298695 \nL 237.327247 80.259864 \nL 237.677015 74.682553 \nL 237.939341 73.266093 \nL 238.026782 76.794596 \nL 238.114224 73.708737 \nL 238.201666 74.56873 \nL 238.289108 72.962566 \nL 238.551434 73.101683 \nL 238.726318 69.509945 \nL 238.901202 71.849633 \nL 239.338412 69.44671 \nL 239.425854 73.40521 \nL 239.513296 71.773751 \nL 239.775622 71.495518 \nL 239.863064 72.507275 \nL 239.950506 68.32113 \nL 240.12539 72.962566 \nL 240.5626 64.147632 \nL 240.650042 64.185573 \nL 240.737484 65.867619 \nL 241.087251 64.653511 \nL 241.174693 69.472004 \nL 241.262135 69.231712 \nL 241.349577 67.347314 \nL 241.611903 64.931744 \nL 241.699345 66.03203 \nL 241.961671 60.707658 \nL 242.311439 65.627327 \nL 242.573765 59.190023 \nL 242.836091 58.051796 \nL 242.923533 60.277662 \nL 243.185859 55.547697 \nL 243.623069 58.519734 \nL 243.710511 67.119669 \nL 243.797952 64.767334 \nL 244.060278 64.32469 \nL 244.235162 68.182014 \nL 244.410046 60.416778 \nL 244.672372 57.609152 \nL 244.759814 58.292088 \nL 245.02214 54.965937 \nL 245.284466 54.434764 \nL 245.371908 54.637116 \nL 245.45935 51.993901 \nL 245.546792 54.055356 \nL 245.634234 51.298318 \nL 245.89656 51.159201 \nL 245.984002 49.983033 \nL 246.071444 50.109503 \nL 246.158886 50.109503 \nL 246.508654 58.216207 \nL 246.596096 63.249698 \nL 246.683537 62.225294 \nL 246.858421 58.127678 \nL 247.120747 61.188243 \nL 247.383073 54.915349 \nL 247.732841 55.383287 \nL 247.995167 56.799747 \nL 248.082609 53.41036 \nL 248.344935 56.002988 \nL 248.607261 71.495518 \nL 248.694703 69.560533 \nL 249.044471 63.249698 \nL 249.131913 68.624657 \nL 249.219355 67.562313 \nL 249.306797 70.420526 \nL 249.569122 71.558753 \nL 249.656564 73.582267 \nL 249.744006 69.181124 \nL 249.831448 69.269653 \nL 249.91889 68.789068 \nL 250.181216 70.420526 \nL 250.530984 62.516174 \nL 250.880752 60.265015 \nL 251.055636 65.311153 \nL 251.143078 66.03203 \nL 251.405404 70.344645 \nL 251.492846 70.28141 \nL 251.580288 70.711406 \nL 251.66773 69.15583 \nL 251.755172 72.659039 \nL 252.017498 77.338415 \nL 252.10494 73.885794 \nL 252.279824 79.121637 \nL 252.367266 80.715155 \nL 252.629591 80.247217 \nL 252.804475 75.466665 \nL 252.979359 79.121637 \nL 253.241685 78.084586 \nL 253.504011 66.752907 \nL 253.941221 64.602923 \nL 254.028663 64.817921 \nL 254.116105 61.959708 \nL 254.553315 68.789068 \nL 254.640757 67.676135 \nL 254.728199 68.839656 \nL 254.815641 62.389705 \nL 255.077967 62.452939 \nL 255.340293 55.421228 \nL 255.427734 54.687704 \nL 255.69006 55.421228 \nL 255.777502 56.217986 \nL 255.952386 64.590276 \nL 256.039828 66.499968 \nL 256.302154 64.754687 \nL 256.477038 69.079948 \nL 256.651922 88.31598 \nL 256.914248 108.121124 \nL 257.00169 96.169744 \nL 257.089132 99.129133 \nL 257.264016 86.595993 \nL 257.526342 80.1081 \nL 257.613784 81.828087 \nL 257.701226 79.779279 \nL 257.87611 96.308861 \nL 258.138436 100.191478 \nL 258.313319 93.096532 \nL 258.400761 92.502125 \nL 258.488203 89.31509 \nL 258.925413 79.513693 \nL 259.100297 85.976291 \nL 259.450065 86.861579 \nL 259.537507 82.738669 \nL 259.624949 83.143372 \nL 259.712391 88.998916 \nL 259.974717 89.618617 \nL 260.149601 87.000695 \nL 260.324485 81.903969 \nL 260.586811 83.952777 \nL 260.674253 85.913057 \nL 260.936579 105.187029 \nL 261.286346 100.178831 \nL 261.548672 109.385821 \nL 261.89844 119.13663 \nL 262.073324 105.047912 \nL 262.160766 106.793193 \nL 262.597976 98.294434 \nL 262.685418 99.495895 \nL 262.77286 93.109179 \nL 263.035186 93.425353 \nL 263.122628 85.913057 \nL 263.21007 90.238318 \nL 263.297512 89.02421 \nL 263.384954 85.672764 \nL 263.64728 82.953667 \nL 263.734722 85.558942 \nL 263.822164 82.953667 \nL 263.909606 75.352842 \nL 263.997048 75.972543 \nL 264.346815 85.217474 \nL 264.521699 78.084586 \nL 264.609141 79.298695 \nL 264.871467 78.299585 \nL 264.958909 76.642832 \nL 265.046351 84.496597 \nL 265.133793 83.801014 \nL 265.221235 80.613979 \nL 265.483561 82.738669 \nL 265.571003 81.448678 \nL 266.095655 97.042384 \nL 266.183097 97.042384 \nL 266.270539 101.405587 \nL 266.445423 101.999994 \nL 266.707749 97.573557 \nL 266.795191 94.158877 \nL 266.882633 85.255414 \nL 266.970074 85.761293 \nL 267.057516 85.116298 \nL 267.319842 81.979851 \nL 267.407284 82.561611 \nL 267.494726 83.902189 \nL 267.582168 90.3142 \nL 267.66961 88.025099 \nL 268.019378 92.85624 \nL 268.194262 98.420903 \nL 268.281704 96.97915 \nL 268.54403 99.280897 \nL 268.631472 93.931231 \nL 268.718914 94.095642 \nL 268.806356 94.01976 \nL 268.893798 92.502125 \nL 269.243566 91.755954 \nL 269.331008 95.486808 \nL 269.943101 84.964534 \nL 270.467753 79.210166 \nL 270.730079 82.94102 \nL 271.079847 82.586905 \nL 271.254731 80.044866 \nL 271.342173 81.878675 \nL 271.604499 81.170445 \nL 271.779383 78.299585 \nL 271.954267 79.678104 \nL 272.216593 79.374576 \nL 272.304035 79.450458 \nL 272.391477 78.185762 \nL 272.478919 78.792816 \nL 272.566361 75.302254 \nL 272.916128 73.961676 \nL 273.091012 68.801715 \nL 273.178454 71.002287 \nL 273.44078 71.331108 \nL 273.615664 72.27963 \nL 273.790548 70.761994 \nL 274.3152 67.992309 \nL 274.402642 66.841436 \nL 274.664968 67.992309 \nL 274.75241 66.892024 \nL 274.839852 68.219955 \nL 274.927294 66.664378 \nL 275.014736 68.359071 \nL 275.277062 71.28052 \nL 275.364504 75.517253 \nL 275.451946 75.226372 \nL 275.626829 72.216395 \nL 275.889155 73.556973 \nL 275.976597 71.69787 \nL 276.064039 74.707847 \nL 276.151481 74.328438 \nL 276.238923 72.431394 \nL 276.501249 71.69787 \nL 276.763575 77.882235 \nL 276.851017 76.11166 \nL 277.113343 76.048425 \nL 277.200785 76.339305 \nL 277.375669 80.373687 \nL 277.463111 76.731361 \nL 277.725437 73.898441 \nL 277.812879 75.061962 \nL 277.987763 78.52723 \nL 278.512414 87.911277 \nL 278.599856 86.165996 \nL 278.687298 87.278929 \nL 278.949624 87.822748 \nL 279.037066 85.875116 \nL 279.124508 86.165996 \nL 279.21195 86.785697 \nL 279.299392 86.583346 \nL 279.561718 87.342163 \nL 279.64916 87.152459 \nL 279.911486 82.662787 \nL 280.173812 82.005145 \nL 280.261254 80.171335 \nL 280.52358 88.202157 \nL 280.785906 89.277149 \nL 280.96079 92.388302 \nL 281.048232 91.31331 \nL 281.398 94.930342 \nL 281.747767 105.857318 \nL 282.272419 99.660306 \nL 282.359861 100.14089 \nL 282.709629 97.636792 \nL 282.971955 108.285535 \nL 283.321723 110.599929 \nL 283.496607 104.263801 \nL 283.584049 105.781436 \nL 283.846375 108.197006 \nL 283.933817 106.742605 \nL 284.021259 107.994655 \nL 284.196143 104.80762 \nL 284.458468 105.187029 \nL 284.54591 103.669393 \nL 284.633352 104.200566 \nL 284.808236 108.108477 \nL 285.070562 111.510511 \nL 285.158004 110.751693 \nL 285.42033 100.735298 \nL 285.682656 99.698247 \nL 285.770098 95.195928 \nL 285.944982 95.765041 \nL 286.032424 97.952966 \nL 286.29475 96.713563 \nL 286.382192 99.116486 \nL 286.469634 97.092972 \nL 286.557076 98.420903 \nL 286.644518 95.372985 \nL 286.906844 94.500345 \nL 287.256611 90.124495 \nL 287.606379 95.385632 \nL 287.693821 94.816519 \nL 287.868705 90.061261 \nL 288.131031 90.339494 \nL 288.393357 92.198597 \nL 288.480799 90.428023 \nL 289.092893 84.559831 \nL 289.355219 84.635713 \nL 289.442661 84.19307 \nL 289.530103 84.48395 \nL 289.704987 80.993388 \nL 289.967313 82.093674 \nL 290.142196 81.499266 \nL 290.31708 82.447789 \nL 290.579406 82.688081 \nL 290.666848 81.183092 \nL 290.841732 83.750426 \nL 290.929174 82.586905 \nL 291.366384 83.168665 \nL 291.541268 79.058402 \nL 291.803594 79.210166 \nL 291.891036 78.451348 \nL 292.153362 71.305814 \nL 292.415688 71.836986 \nL 292.50313 71.621988 \nL 292.590572 73.898441 \nL 292.765456 71.621988 \nL 293.027781 72.583157 \nL 293.202665 76.326658 \nL 293.290107 74.492849 \nL 293.639875 75.997837 \nL 293.727317 76.048425 \nL 293.814759 78.021351 \nL 293.989643 76.326658 \nL 294.251969 77.211946 \nL 294.601737 81.828087 \nL 294.864063 81.334856 \nL 295.038947 76.781949 \nL 295.126389 76.731361 \nL 295.213831 79.513693 \nL 295.476157 79.893102 \nL 295.563599 84.458656 \nL 295.651041 84.306892 \nL 295.738483 84.787477 \nL 295.825925 84.408068 \nL 296.263134 84.698948 \nL 296.350576 81.916616 \nL 296.438018 84.016012 \nL 296.700344 83.396311 \nL 296.787786 82.005145 \nL 297.050112 89.264502 \nL 297.39988 92.527418 \nL 297.574764 101.380293 \nL 297.662206 97.206795 \nL 298.2743 87.848042 \nL 298.536626 88.594213 \nL 298.71151 90.250965 \nL 298.798951 90.18773 \nL 298.886393 89.353031 \nL 299.323603 92.02154 \nL 299.411045 92.02154 \nL 299.498487 91.262722 \nL 299.935697 89.871556 \nL 300.110581 92.198597 \nL 300.372907 90.807431 \nL 300.460349 88.670095 \nL 300.547791 91.262722 \nL 300.635233 89.77038 \nL 300.722675 91.363898 \nL 300.985001 92.02154 \nL 301.159885 92.122716 \nL 301.334769 94.487698 \nL 301.597095 90.124495 \nL 301.946862 82.511023 \nL 302.29663 81.828087 \nL 302.384072 82.194849 \nL 302.558956 80.904859 \nL 302.821282 82.447789 \nL 302.908724 82.371907 \nL 302.996166 81.726912 \nL 303.17105 78.767522 \nL 303.520818 77.629295 \nL 303.783144 75.251666 \nL 304.04547 75.997837 \nL 304.132912 73.771972 \nL 304.220354 73.898441 \nL 304.307796 74.669906 \nL 304.395238 73.089036 \nL 304.657563 74.720494 \nL 304.832447 72.178454 \nL 304.919889 72.216395 \nL 305.007331 71.052874 \nL 305.269657 71.15405 \nL 305.357099 70.964346 \nL 305.444541 71.242579 \nL 305.531983 69.535239 \nL 305.619425 71.242579 \nL 305.969193 70.167587 \nL 306.144077 75.719604 \nL 306.231519 74.998727 \nL 306.493845 78.52723 \nL 306.756171 73.430504 \nL 307.105939 74.998727 \nL 307.193381 74.252556 \nL 307.280823 74.492849 \nL 307.455706 71.685223 \nL 307.718032 71.44493 \nL 307.805474 72.178454 \nL 307.892916 72.127866 \nL 307.980358 70.180234 \nL 308.0678 70.584937 \nL 308.330126 71.331108 \nL 308.417568 73.266093 \nL 308.50501 72.469334 \nL 308.592452 73.607561 \nL 308.679894 72.266983 \nL 308.94222 72.557863 \nL 309.117104 69.598474 \nL 309.204546 69.472004 \nL 309.554314 70.104352 \nL 309.641756 71.331108 \nL 309.81664 74.85961 \nL 310.166408 73.000507 \nL 310.341292 69.396122 \nL 310.428733 69.472004 \nL 310.778501 79.614869 \nL 310.865943 78.350172 \nL 310.953385 81.891322 \nL 311.040827 81.132504 \nL 311.128269 80.841624 \nL 311.390595 78.969874 \nL 311.652921 73.341975 \nL 311.740363 73.607561 \nL 312.090131 71.090815 \nL 312.177573 73.885794 \nL 312.352457 70.458467 \nL 312.614783 68.915538 \nL 312.789667 66.664378 \nL 312.964551 67.688782 \nL 313.226877 67.524372 \nL 313.314318 65.703209 \nL 313.40176 65.90556 \nL 313.489202 66.575849 \nL 313.83897 61.542358 \nL 314.188738 64.261455 \nL 314.538506 63.097934 \nL 314.625948 63.983222 \nL 314.71339 63.527931 \nL 314.800832 67.119669 \nL 315.063158 69.294947 \nL 315.238042 72.899331 \nL 315.412926 68.308483 \nL 315.675252 69.522592 \nL 315.850136 73.316681 \nL 315.937578 69.939942 \nL 316.02502 71.659929 \nL 316.287345 69.674355 \nL 316.374787 67.954368 \nL 316.462229 70.003177 \nL 316.549671 75.643722 \nL 316.637113 75.264313 \nL 316.899439 78.805463 \nL 317.249207 72.633745 \nL 317.511533 69.762884 \nL 317.598975 70.825229 \nL 317.686417 70.686113 \nL 317.861301 70.686113 \nL 318.123627 70.825229 \nL 318.211069 68.397012 \nL 318.298511 69.939942 \nL 318.385953 66.588496 \nL 318.473395 69.44671 \nL 318.735721 69.585827 \nL 318.823163 71.419636 \nL 319.085488 66.942611 \nL 319.347814 67.246138 \nL 319.435256 65.475564 \nL 319.522698 66.44938 \nL 319.697582 65.703209 \nL 319.959908 66.373498 \nL 320.04735 67.32202 \nL 320.134792 66.03203 \nL 320.222234 62.528821 \nL 320.309676 62.819701 \nL 320.572002 63.540578 \nL 320.746886 66.525262 \nL 320.834328 65.981442 \nL 320.92177 66.689672 \nL 321.184096 65.981442 \nL 321.35898 66.44938 \nL 321.533864 70.458467 \nL 321.79619 73.038448 \nL 322.058515 67.802605 \nL 322.145957 66.689672 \nL 322.408283 67.954368 \nL 322.495725 69.585827 \nL 322.583167 67.802605 \nL 322.758051 69.370828 \nL 323.370145 67.119669 \nL 323.894797 63.376168 \nL 323.982239 63.527931 \nL 324.332007 62.78176 \nL 324.506891 60.391484 \nL 324.594333 62.90823 \nL 324.856658 63.565872 \nL 325.031542 62.844995 \nL 325.206426 60.062663 \nL 325.468752 63.376168 \nL 325.643636 60.644424 \nL 325.731078 61.555005 \nL 325.81852 59.405021 \nL 326.080846 60.555895 \nL 326.25573 64.147632 \nL 326.430614 59.190023 \nL 326.69294 59.114141 \nL 326.780382 59.253258 \nL 327.042708 54.864761 \nL 327.305034 54.940643 \nL 327.392476 53.979474 \nL 327.479918 56.407691 \nL 327.654802 54.460058 \nL 327.917127 55.117701 \nL 328.004569 54.068003 \nL 328.092011 54.384177 \nL 328.266895 56.129458 \nL 328.529221 55.117701 \nL 328.791547 59.480903 \nL 328.878989 58.228854 \nL 329.141315 59.038259 \nL 329.228757 60.391484 \nL 329.403641 57.824151 \nL 329.491083 56.49622 \nL 329.928293 60.151192 \nL 330.103177 57.722975 \nL 330.540387 61.643534 \nL 330.71527 61.555005 \nL 330.977596 62.541468 \nL 331.065038 62.402351 \nL 331.15248 62.844995 \nL 331.239922 64.362631 \nL 331.327364 64.071751 \nL 331.58969 63.667048 \nL 331.677132 62.604703 \nL 331.764574 64.286749 \nL 331.852016 62.680585 \nL 331.939458 63.806164 \nL 332.201784 62.465586 \nL 332.551552 56.331809 \nL 332.813878 55.610932 \nL 332.90132 54.940643 \nL 333.076204 52.53772 \nL 333.163646 52.993011 \nL 333.425972 53.359773 \nL 333.513413 51.133907 \nL 333.688297 51.918019 \nL 334.038065 48.768925 \nL 334.125507 45.87277 \nL 334.300391 51.146554 \nL 334.387833 50.349795 \nL 334.650159 53.878298 \nL 334.737601 53.739181 \nL 334.912485 52.993011 \nL 334.999927 49.325391 \nL 335.349695 52.170958 \nL 335.437137 51.020084 \nL 335.524579 52.082429 \nL 335.612021 54.788879 \nL 336.049231 60.189133 \nL 336.136673 60.568542 \nL 336.48644 67.549666 \nL 336.748766 61.985002 \nL 336.836208 62.946171 \nL 337.098534 62.946171 \nL 337.185976 58.65885 \nL 337.273418 59.114141 \nL 337.448302 55.775343 \nL 337.79807 54.333589 \nL 337.885512 55.775343 \nL 338.060396 54.687704 \nL 338.322722 52.423897 \nL 338.410164 52.8286 \nL 338.497606 53.802416 \nL 338.67249 51.968607 \nL 338.934816 53.802416 \nL 339.022258 52.53772 \nL 339.1097 52.8286 \nL 339.197142 51.968607 \nL 339.284584 52.879188 \nL 339.546909 53.359773 \nL 339.634351 52.993011 \nL 339.721793 53.132127 \nL 339.896677 55.37064 \nL 340.159003 54.030062 \nL 340.246445 52.942423 \nL 340.333887 55.155641 \nL 340.508771 53.941533 \nL 340.771097 54.573881 \nL 340.858539 53.132127 \nL 340.945981 53.941533 \nL 341.120865 49.300097 \nL 341.470633 48.655102 \nL 341.732959 46.378649 \nL 341.995285 47.478935 \nL 342.082727 46.644235 \nL 342.170169 43.798668 \nL 342.345052 46.075122 \nL 342.607378 44.924248 \nL 342.869704 42.255739 \nL 343.306914 41.421039 \nL 343.394356 41.686625 \nL 343.919008 40.371341 \nL 344.00645 40.548399 \nL 344.181334 38.613413 \nL 344.44366 39.056057 \nL 344.531102 38.449003 \nL 344.618544 36.842838 \nL 344.793428 38.967528 \nL 345.143195 36.033433 \nL 345.230637 36.349607 \nL 345.318079 38.158122 \nL 345.405521 36.514017 \nL 345.667847 36.235784 \nL 345.930173 33.08669 \nL 346.017615 33.478746 \nL 346.367383 33.08669 \nL 346.454825 32.821104 \nL 346.629709 31.859935 \nL 346.892035 31.859935 \nL 346.979477 31.08847 \nL 347.066919 31.265527 \nL 347.154361 34.022565 \nL 347.241803 32.466989 \nL 347.504129 32.302578 \nL 348.291106 23.538233 \nL 348.378548 19.921201 \nL 348.46599 20.351198 \nL 348.728316 19.352088 \nL 348.815758 21.603247 \nL 348.990642 19.756791 \nL 349.078084 19.162383 \nL 349.34041 19.035914 \nL 349.427852 18.100038 \nL 349.515294 18.428859 \nL 349.602736 17.492984 \nL 350.039946 19.263559 \nL 350.127388 17.670042 \nL 350.302272 20.932958 \nL 350.564598 19.921201 \nL 350.739482 17.581513 \nL 350.914365 19.035914 \nL 351.176691 19.921201 \nL 351.439017 16.101818 \nL 351.876227 19.035914 \nL 351.963669 19.162383 \nL 352.138553 24.00617 \nL 352.400879 22.665592 \nL 352.575763 28.913192 \nL 352.663205 32.100227 \nL 352.750647 28.25555 \nL 353.012973 25.96645 \nL 353.100415 26.320565 \nL 353.187857 25.574394 \nL 353.362741 27.54732 \nL 353.625067 28.167021 \nL 353.79995 26.434387 \nL 353.974834 28.83731 \nL 354.23716 28.470548 \nL 354.499486 25.751451 \nL 354.586928 24.878811 \nL 355.024138 27.243793 \nL 355.199022 29.583481 \nL 355.461348 29.052309 \nL 355.811116 36.147255 \nL 356.073442 37.2096 \nL 356.160884 35.666671 \nL 356.685535 41.990152 \nL 356.860419 42.407502 \nL 356.947861 44.658662 \nL 357.035303 43.596317 \nL 357.297629 44.253959 \nL 357.559955 51.918019 \nL 357.647397 51.386846 \nL 357.909723 52.272134 \nL 357.997165 54.346236 \nL 358.084607 50.792439 \nL 358.259491 59.480903 \nL 358.521817 61.972355 \nL 358.609259 65.19733 \nL 358.696701 64.994979 \nL 358.871585 57.609152 \nL 359.133911 56.761806 \nL 359.221353 47.908931 \nL 359.308795 48.768925 \nL 359.396237 44.076901 \nL 359.483679 44.393075 \nL 359.746004 47.592757 \nL 359.833446 47.377759 \nL 359.920888 45.986593 \nL 360.00833 47.428347 \nL 360.095772 43.520435 \nL 360.358098 44.962189 \nL 360.44554 51.892725 \nL 360.707866 43.520435 \nL 360.970192 44.810425 \nL 361.057634 42.786911 \nL 361.232518 46.441884 \nL 361.31996 46.543059 \nL 361.582286 46.252179 \nL 361.669728 46.644235 \nL 361.844612 44.936895 \nL 361.932054 42.04074 \nL 362.19438 42.761617 \nL 362.544147 58.507087 \nL 362.806473 62.237941 \nL 362.981357 52.676837 \nL 363.068799 54.472705 \nL 363.418567 70.711406 \nL 363.506009 70.369938 \nL 363.593451 72.886684 \nL 363.680893 70.888464 \nL 363.768335 75.504606 \nL 364.030661 78.362819 \nL 364.118103 76.908419 \nL 364.292987 54.156531 \nL 364.380429 57.520624 \nL 364.817639 64.312043 \nL 364.992523 61.07442 \nL 365.254849 64.134985 \nL 365.342291 63.211757 \nL 365.429732 66.651731 \nL 365.604616 62.07353 \nL 365.954384 69.598474 \nL 366.129268 58.620909 \nL 366.21671 59.936194 \nL 366.479036 63.426756 \nL 366.566478 66.095265 \nL 366.65392 59.253258 \nL 366.741362 63.148522 \nL 366.828804 58.962377 \nL 367.178572 61.504417 \nL 367.266014 57.710328 \nL 367.440898 47.896284 \nL 367.703224 46.138356 \nL 367.790666 46.783352 \nL 367.878108 49.451861 \nL 367.96555 46.252179 \nL 368.052992 49.350685 \nL 368.315317 46.656882 \nL 368.577643 37.652244 \nL 368.665085 41.319863 \nL 368.927411 41.636037 \nL 369.102295 41.066924 \nL 369.277179 37.449893 \nL 369.626947 37.981065 \nL 369.801831 40.282812 \nL 369.889273 39.827522 \nL 370.151599 38.739883 \nL 370.501367 42.673088 \nL 370.763693 42.673088 \nL 371.375786 50.058915 \nL 371.638112 56.521513 \nL 371.725554 57.937973 \nL 371.98788 58.355323 \nL 372.075322 62.086177 \nL 372.250206 58.064443 \nL 372.337648 59.20267 \nL 372.599974 56.180045 \nL 372.687416 57.432095 \nL 372.8623 55.977694 \nL 372.949742 58.152972 \nL 373.212068 56.293868 \nL 373.386952 59.114141 \nL 373.474394 60.227074 \nL 373.911604 55.572991 \nL 373.999046 57.432095 \nL 374.173929 52.967717 \nL 374.436255 55.117701 \nL 374.523697 52.8286 \nL 374.698581 44.127489 \nL 374.786023 46.99835 \nL 375.135791 47.681286 \nL 375.223233 46.99835 \nL 375.310675 45.101305 \nL 375.398117 47.314524 \nL 375.660443 47.681286 \nL 375.922769 44.380429 \nL 376.010211 45.721007 \nL 376.447421 48.541279 \nL 376.534863 52.499779 \nL 376.622305 52.41125 \nL 376.884631 53.865651 \nL 376.972072 53.777122 \nL 377.059514 51.905372 \nL 377.496724 56.647983 \nL 377.584166 56.774453 \nL 377.671608 59.088847 \nL 377.75905 57.49533 \nL 377.846492 57.912679 \nL 378.283702 63.161169 \nL 378.458586 61.390594 \nL 378.720912 61.555005 \nL 378.808354 62.212647 \nL 378.983238 68.093485 \nL 379.07068 66.74026 \nL 379.420448 69.914648 \nL 379.50789 68.498188 \nL 379.595332 69.004066 \nL 379.682774 70.660819 \nL 379.945099 72.304924 \nL 380.032541 71.849633 \nL 380.119983 73.101683 \nL 380.207425 72.975213 \nL 380.294867 77.553414 \nL 380.557193 76.617538 \nL 380.732077 73.974323 \nL 380.819519 74.619318 \nL 380.906961 74.707847 \nL 381.344171 81.258974 \nL 381.431613 83.94013 \nL 381.781381 85.369237 \nL 381.868823 83.813661 \nL 381.956265 87.493927 \nL 382.043707 87.177753 \nL 382.131149 84.989828 \nL 382.393475 85.053063 \nL 382.480917 84.800124 \nL 383.005568 99.280897 \nL 383.09301 99.179721 \nL 383.355336 103.024398 \nL 383.617662 108.260241 \nL 383.792546 101.215882 \nL 383.96743 102.923222 \nL 384.40464 111.093161 \nL 384.492082 110.321696 \nL 384.579524 112.547562 \nL 384.929292 108.260241 \nL 385.104176 103.429101 \nL 385.541386 107.526717 \nL 385.716269 111.004632 \nL 385.803711 117.581053 \nL 386.066037 125.25776 \nL 386.240921 122.563957 \nL 386.415805 110.081404 \nL 386.678131 106.35055 \nL 386.765573 112.34521 \nL 386.853015 107.185249 \nL 387.027899 112.459033 \nL 387.377667 113.736376 \nL 387.639993 118.048991 \nL 387.902319 119.452804 \nL 387.989761 118.289283 \nL 388.164645 113.723729 \nL 388.252087 116.114005 \nL 388.514412 115.418422 \nL 388.689296 119.338981 \nL 388.776738 118.795162 \nL 388.86418 118.908984 \nL 389.126506 124.979527 \nL 389.213948 124.853057 \nL 389.476274 115.658715 \nL 389.7386 109.727289 \nL 390.088368 93.159767 \nL 390.438136 95.550043 \nL 390.61302 93.589763 \nL 390.962788 97.156207 \nL 391.05023 95.322397 \nL 391.137672 97.737967 \nL 391.225114 94.133583 \nL 391.312556 94.867107 \nL 391.662323 102.948516 \nL 391.749765 101.10206 \nL 391.837207 101.418234 \nL 391.924649 100.039715 \nL 392.186975 99.457954 \nL 392.274417 96.840033 \nL 392.449301 99.217662 \nL 392.536743 102.847341 \nL 392.799069 105.553791 \nL 392.886511 104.908796 \nL 393.061395 113.546672 \nL 393.148837 112.142859 \nL 393.411163 106.439078 \nL 393.498605 107.729069 \nL 393.586047 106.742605 \nL 393.760931 111.21963 \nL 394.023257 111.105808 \nL 394.198141 107.425541 \nL 394.373024 107.526717 \nL 394.63535 106.64143 \nL 394.722792 105.528497 \nL 394.897676 112.699325 \nL 394.985118 113.306379 \nL 395.334886 122.766308 \nL 395.422328 122.576604 \nL 395.50977 123.0066 \nL 395.597212 127.395097 \nL 395.859538 128.267737 \nL 395.94698 124.650706 \nL 396.034422 125.219819 \nL 396.209306 132.833291 \nL 396.471632 133.718579 \nL 396.559074 134.62916 \nL 396.733958 127.192745 \nL 397.171168 130.531544 \nL 397.258609 133.048289 \nL 397.346051 130.835071 \nL 397.783261 127.420391 \nL 398.045587 140.155883 \nL 398.307913 143.267036 \nL 398.395355 142.71057 \nL 398.482797 146.036721 \nL 398.570239 142.925568 \nL 398.657681 146.719657 \nL 399.007449 149.557636 \nL 399.094891 153.194902 \nL 399.182333 150.700921 \nL 399.269775 142.925568 \nL 399.532101 148.275233 \nL 399.619543 142.811745 \nL 399.706985 143.58321 \nL 399.881869 133.313876 \nL 400.144194 136.665321 \nL 400.231636 140.130589 \nL 400.40652 134.540631 \nL 400.493962 137.778254 \nL 400.756288 138.903834 \nL 401.018614 143.912031 \nL 401.106056 141.104405 \nL 401.455824 139.510888 \nL 401.543266 134.692395 \nL 401.630708 135.463859 \nL 401.71815 135.906503 \nL 401.980476 132.200943 \nL 402.067918 135.906503 \nL 402.15536 135.678858 \nL 402.242802 136.589439 \nL 402.330244 135.008569 \nL 402.59257 135.008569 \nL 402.942338 123.942476 \nL 403.204663 121.451024 \nL 403.292105 128.79891 \nL 403.554431 121.451024 \nL 403.816757 122.943366 \nL 403.904199 125.105996 \nL 404.079083 119.642508 \nL 404.166525 119.414863 \nL 404.516293 120.793382 \nL 404.603735 124.195415 \nL 404.691177 123.626302 \nL 405.040945 123.512479 \nL 405.215829 120.464561 \nL 405.653039 127.028335 \nL 405.740481 126.686867 \nL 405.827923 124.42306 \nL 405.915364 127.938916 \nL 406.002806 122.71572 \nL 406.265132 119.983976 \nL 406.440016 114.34343 \nL 406.6149 118.099579 \nL 406.877226 114.786074 \nL 406.964668 111.826685 \nL 407.05211 112.155506 \nL 407.139552 112.155506 \nL 407.226994 109.992875 \nL 407.48932 111.826685 \nL 407.664204 104.504093 \nL 407.839088 107.589952 \nL 408.101414 109.423762 \nL 408.276298 116.050771 \nL 408.36374 113.875493 \nL 408.451182 115.228718 \nL 408.713508 117.403996 \nL 408.888391 114.583723 \nL 408.975833 114.482547 \nL 409.063275 115.367835 \nL 409.413043 111.953154 \nL 409.500485 113.900787 \nL 409.675369 112.547562 \nL 409.937695 112.977558 \nL 410.025137 112.066977 \nL 410.200021 109.297292 \nL 410.287463 108.728179 \nL 410.637231 109.044353 \nL 411.161883 106.22408 \nL 411.336767 103.555571 \nL 411.511651 107.34966 \nL 411.861418 108.854648 \nL 411.94886 108.323476 \nL 412.123744 109.208763 \nL 412.38607 107.261131 \nL 412.473512 105.414674 \nL 412.560954 106.35055 \nL 412.648396 103.568218 \nL 412.735838 108.437299 \nL 412.998164 114.090491 \nL 413.26049 105.528497 \nL 413.347932 104.39027 \nL 413.872584 108.323476 \nL 413.960026 106.666724 \nL 414.222352 107.374954 \nL 414.309794 103.087633 \nL 414.484678 105.326146 \nL 414.834445 105.262911 \nL 415.096771 107.906126 \nL 415.184213 108.019949 \nL 415.446539 110.991985 \nL 415.533981 109.752583 \nL 415.708865 111.232277 \nL 415.796307 109.398468 \nL 416.146075 113.698435 \nL 416.408401 108.816707 \nL 416.670727 107.665834 \nL 416.758169 108.019949 \nL 416.845611 107.779656 \nL 417.020495 106.198786 \nL 417.457705 103.719981 \nL 417.545146 101.013531 \nL 417.894914 104.200566 \nL 417.982356 102.316168 \nL 418.069798 104.09939 \nL 418.15724 103.97292 \nL 418.244682 104.314388 \nL 418.507008 103.97292 \nL 418.769334 105.832024 \nL 418.856776 103.353219 \nL 419.293986 101.987347 \nL 419.381428 99.027958 \nL 419.46887 102.657636 \nL 419.731196 99.875304 \nL 419.90608 104.820267 \nL 419.993522 104.238507 \nL 420.080964 105.275558 \nL 420.34329 104.820267 \nL 420.430731 105.528497 \nL 420.605615 103.163515 \nL 420.693057 104.466152 \nL 420.955383 105.768789 \nL 421.042825 107.286425 \nL 421.130267 101.658526 \nL 421.217709 101.911465 \nL 421.305151 99.546483 \nL 421.567477 100.014421 \nL 421.654919 101.405587 \nL 421.829803 98.838253 \nL 421.917245 101.532056 \nL 422.179571 98.357669 \nL 422.354455 102.39205 \nL 422.529339 104.289094 \nL 422.791665 106.527607 \nL 422.879107 105.692907 \nL 422.966549 101.68382 \nL 423.053991 102.746165 \nL 423.4912 102.746165 \nL 423.578642 101.81029 \nL 423.753526 103.80851 \nL 424.278178 109.828465 \nL 424.36562 111.965801 \nL 424.627946 108.652297 \nL 424.715388 109.094941 \nL 424.80283 106.312609 \nL 424.890272 106.780546 \nL 424.977714 108.34877 \nL 425.24004 108.690238 \nL 425.327482 104.769679 \nL 425.414924 105.579085 \nL 425.502366 106.552901 \nL 425.589808 105.844671 \nL 426.027018 100.747945 \nL 426.201901 101.81029 \nL 426.551669 105.718201 \nL 426.726553 99.040605 \nL 426.813995 97.029737 \nL 427.076321 96.334154 \nL 427.163763 96.460624 \nL 427.338647 95.765041 \nL 427.426089 95.992686 \nL 427.688415 95.638571 \nL 427.775857 92.072128 \nL 427.863299 96.106509 \nL 427.950741 95.284457 \nL 428.038183 94.475051 \nL 428.300509 95.056811 \nL 428.475393 95.777688 \nL 428.562835 95.537396 \nL 428.650277 95.904158 \nL 429.000045 95.170634 \nL 429.087486 97.320618 \nL 429.174928 96.953856 \nL 429.26237 97.194148 \nL 429.69958 93.867997 \nL 429.787022 94.690049 \nL 429.874464 93.513882 \nL 430.13679 94.108289 \nL 430.224232 96.72621 \nL 430.399116 94.60152 \nL 430.486558 95.30975 \nL 430.923768 94.234759 \nL 431.098652 94.60152 \nL 431.360978 95.56269 \nL 431.535862 91.831835 \nL 431.623304 91.958305 \nL 432.147955 96.738857 \nL 432.322839 94.487698 \nL 432.585165 95.802982 \nL 432.760049 98.56002 \nL 432.847491 97.598851 \nL 432.934933 94.955635 \nL 433.197259 95.347691 \nL 433.459585 97.649439 \nL 433.547027 99.698247 \nL 433.896795 98.8509 \nL 433.984237 99.951186 \nL 434.071679 99.571777 \nL 434.159121 99.824716 \nL 434.421447 98.610608 \nL 434.508889 99.318838 \nL 434.596331 97.14356 \nL 434.771215 99.698247 \nL 435.03354 98.952076 \nL 435.120982 99.445307 \nL 435.295866 104.289094 \nL 435.383308 106.09761 \nL 435.645634 106.249374 \nL 435.733076 108.791413 \nL 435.820518 105.376733 \nL 435.90796 105.869965 \nL 435.995402 105.743495 \nL 436.257728 105.996435 \nL 436.34517 107.438188 \nL 436.432612 107.071426 \nL 436.607496 108.437299 \nL 436.869822 108.310829 \nL 437.132148 102.594401 \nL 437.21959 102.720871 \nL 437.481916 102.379403 \nL 437.569358 101.873524 \nL 437.6568 102.379403 \nL 437.831683 100.406477 \nL 438.094009 98.724431 \nL 438.181451 98.8509 \nL 438.268893 98.623255 \nL 438.356335 101.544703 \nL 438.706103 101.671173 \nL 438.793545 102.644989 \nL 438.968429 105.199676 \nL 439.055871 106.072316 \nL 439.405639 103.365866 \nL 439.493081 103.492336 \nL 439.580523 104.959384 \nL 439.667965 104.251154 \nL 439.930291 104.124684 \nL 440.017733 105.439968 \nL 440.105175 104.491446 \nL 440.192617 107.387601 \nL 440.280059 103.365866 \nL 440.542385 103.492336 \nL 440.629826 103.871745 \nL 440.717268 102.177052 \nL 440.80471 102.923222 \nL 441.154478 100.962943 \nL 441.329362 103.783216 \nL 441.416804 103.656746 \nL 441.766572 100.962943 \nL 441.941456 101.317058 \nL 442.11634 105.123794 \nL 442.55355 106.502313 \nL 442.640992 105.869965 \nL 442.728434 106.856428 \nL 442.99076 107.084073 \nL 443.078202 106.856428 \nL 443.165644 108.576415 \nL 443.253086 108.336123 \nL 443.340528 105.869965 \nL 443.690295 105.022618 \nL 443.865179 109.853758 \nL 443.952621 108.260241 \nL 444.214947 108.981118 \nL 444.389831 113.293732 \nL 444.477273 112.813148 \nL 444.564715 110.233167 \nL 444.914483 110.486107 \nL 445.001925 109.34788 \nL 445.089367 109.47435 \nL 445.176809 109.094941 \nL 445.439135 107.374954 \nL 445.788903 112.939618 \nL 446.051229 112.459033 \nL 446.138671 111.826685 \nL 446.313555 109.841111 \nL 446.400997 109.208763 \nL 446.750764 109.208763 \nL 446.925648 107.729069 \nL 447.275416 109.335233 \nL 447.4503 106.729958 \nL 447.625184 105.490556 \nL 447.974952 104.984677 \nL 448.149836 106.970251 \nL 448.237278 106.856428 \nL 448.499604 108.234947 \nL 448.587046 107.982008 \nL 448.674488 108.234947 \nL 448.76193 110.840222 \nL 448.849372 110.498754 \nL 449.111698 110.979338 \nL 449.374023 115.355188 \nL 449.461465 114.735486 \nL 449.723791 115.228718 \nL 449.986117 113.104028 \nL 450.073559 112.863736 \nL 450.423327 113.862846 \nL 450.598211 112.623443 \nL 450.685653 109.992875 \nL 451.035421 109.739936 \nL 451.210305 107.716422 \nL 451.297747 109.739936 \nL 451.647515 108.121124 \nL 451.822399 105.237617 \nL 451.909841 103.606158 \nL 452.172167 104.364976 \nL 452.521934 100.216772 \nL 453.046586 97.194148 \nL 453.134028 96.941209 \nL 453.396354 97.573557 \nL 453.483796 98.079435 \nL 453.571238 97.952966 \nL 453.65868 97.320618 \nL 453.746122 99.205015 \nL 454.008448 99.647659 \nL 454.09589 98.952076 \nL 454.183332 99.331485 \nL 454.270774 99.205015 \nL 454.358216 98.193258 \nL 454.620542 97.43444 \nL 454.882868 99.710894 \nL 454.97031 99.331485 \nL 455.494961 101.607938 \nL 456.019613 95.537396 \nL 456.107055 97.181501 \nL 456.456823 92.249185 \nL 456.719149 91.237428 \nL 456.806591 91.490367 \n\" style=\"fill:none;stroke:#4c72b0;stroke-linecap:round;stroke-width:1.5;\"/>\n   </g>\n   <g id=\"patch_3\">\n    <path d=\"M 30.6975 203.04 \nL 30.6975 7.2 \n\" style=\"fill:none;stroke:#ffffff;stroke-linecap:square;stroke-linejoin:miter;stroke-width:1.25;\"/>\n   </g>\n   <g id=\"patch_4\">\n    <path d=\"M 477.0975 203.04 \nL 477.0975 7.2 \n\" style=\"fill:none;stroke:#ffffff;stroke-linecap:square;stroke-linejoin:miter;stroke-width:1.25;\"/>\n   </g>\n   <g id=\"patch_5\">\n    <path d=\"M 30.6975 203.04 \nL 477.0975 203.04 \n\" style=\"fill:none;stroke:#ffffff;stroke-linecap:square;stroke-linejoin:miter;stroke-width:1.25;\"/>\n   </g>\n   <g id=\"patch_6\">\n    <path d=\"M 30.6975 7.2 \nL 477.0975 7.2 \n\" style=\"fill:none;stroke:#ffffff;stroke-linecap:square;stroke-linejoin:miter;stroke-width:1.25;\"/>\n   </g>\n  </g>\n </g>\n <defs>\n  <clipPath id=\"p39e7cdd0cb\">\n   <rect height=\"195.84\" width=\"446.4\" x=\"30.6975\" y=\"7.2\"/>\n  </clipPath>\n </defs>\n</svg>\n"
          },
          "metadata": {
            "tags": []
          }
        },
        {
          "output_type": "stream",
          "text": [
            "time: 490 ms\n"
          ],
          "name": "stdout"
        }
      ]
    },
    {
      "cell_type": "markdown",
      "metadata": {
        "id": "pL0FeY3VkSt3",
        "colab_type": "text"
      },
      "source": [
        "# Prepare Data for LSTM"
      ]
    },
    {
      "cell_type": "markdown",
      "metadata": {
        "id": "6eIKVBy0rHJS",
        "colab_type": "text"
      },
      "source": [
        "Min-Max Normalisation"
      ]
    },
    {
      "cell_type": "code",
      "metadata": {
        "id": "PTlbp72QTHO0",
        "colab_type": "code",
        "outputId": "37668811-e827-404d-a269-5c5e125a89ce",
        "colab": {
          "base_uri": "https://localhost:8080/",
          "height": 252
        }
      },
      "source": [
        "bgr_df.head()"
      ],
      "execution_count": 8,
      "outputs": [
        {
          "output_type": "execute_result",
          "data": {
            "text/html": [
              "<div>\n",
              "<style scoped>\n",
              "    .dataframe tbody tr th:only-of-type {\n",
              "        vertical-align: middle;\n",
              "    }\n",
              "\n",
              "    .dataframe tbody tr th {\n",
              "        vertical-align: top;\n",
              "    }\n",
              "\n",
              "    .dataframe thead th {\n",
              "        text-align: right;\n",
              "    }\n",
              "</style>\n",
              "<table border=\"1\" class=\"dataframe\">\n",
              "  <thead>\n",
              "    <tr style=\"text-align: right;\">\n",
              "      <th></th>\n",
              "      <th>Open</th>\n",
              "      <th>High</th>\n",
              "      <th>Low</th>\n",
              "      <th>Close</th>\n",
              "      <th>Volume</th>\n",
              "      <th>OpenInt</th>\n",
              "    </tr>\n",
              "    <tr>\n",
              "      <th>Date</th>\n",
              "      <th></th>\n",
              "      <th></th>\n",
              "      <th></th>\n",
              "      <th></th>\n",
              "      <th></th>\n",
              "      <th></th>\n",
              "    </tr>\n",
              "  </thead>\n",
              "  <tbody>\n",
              "    <tr>\n",
              "      <th>2005-02-25</th>\n",
              "      <td>12.130</td>\n",
              "      <td>12.233</td>\n",
              "      <td>11.991</td>\n",
              "      <td>12.115</td>\n",
              "      <td>287699</td>\n",
              "      <td>0</td>\n",
              "    </tr>\n",
              "    <tr>\n",
              "      <th>2005-02-28</th>\n",
              "      <td>12.147</td>\n",
              "      <td>12.208</td>\n",
              "      <td>12.109</td>\n",
              "      <td>12.158</td>\n",
              "      <td>196150</td>\n",
              "      <td>0</td>\n",
              "    </tr>\n",
              "    <tr>\n",
              "      <th>2005-03-01</th>\n",
              "      <td>12.158</td>\n",
              "      <td>12.183</td>\n",
              "      <td>12.081</td>\n",
              "      <td>12.141</td>\n",
              "      <td>155314</td>\n",
              "      <td>0</td>\n",
              "    </tr>\n",
              "    <tr>\n",
              "      <th>2005-03-02</th>\n",
              "      <td>12.176</td>\n",
              "      <td>12.233</td>\n",
              "      <td>12.135</td>\n",
              "      <td>12.170</td>\n",
              "      <td>124179</td>\n",
              "      <td>0</td>\n",
              "    </tr>\n",
              "    <tr>\n",
              "      <th>2005-03-03</th>\n",
              "      <td>12.141</td>\n",
              "      <td>12.277</td>\n",
              "      <td>12.120</td>\n",
              "      <td>12.246</td>\n",
              "      <td>225421</td>\n",
              "      <td>0</td>\n",
              "    </tr>\n",
              "  </tbody>\n",
              "</table>\n",
              "</div>"
            ],
            "text/plain": [
              "              Open    High     Low   Close  Volume  OpenInt\n",
              "Date                                                       \n",
              "2005-02-25  12.130  12.233  11.991  12.115  287699        0\n",
              "2005-02-28  12.147  12.208  12.109  12.158  196150        0\n",
              "2005-03-01  12.158  12.183  12.081  12.141  155314        0\n",
              "2005-03-02  12.176  12.233  12.135  12.170  124179        0\n",
              "2005-03-03  12.141  12.277  12.120  12.246  225421        0"
            ]
          },
          "metadata": {
            "tags": []
          },
          "execution_count": 8
        },
        {
          "output_type": "stream",
          "text": [
            "time: 22.4 ms\n"
          ],
          "name": "stdout"
        }
      ]
    },
    {
      "cell_type": "code",
      "metadata": {
        "id": "VViGg0axrz24",
        "colab_type": "code",
        "outputId": "5a776395-2581-4422-f5f8-b3ac69395dcc",
        "colab": {
          "base_uri": "https://localhost:8080/",
          "height": 34
        }
      },
      "source": [
        "from sklearn.preprocessing import MinMaxScaler\n",
        "scaler = MinMaxScaler(feature_range=(0,1))\n",
        "\n",
        "bgr_close_scaled_np = scaler.fit_transform(bgr_df[['Close']])"
      ],
      "execution_count": 9,
      "outputs": [
        {
          "output_type": "stream",
          "text": [
            "time: 66.5 ms\n"
          ],
          "name": "stdout"
        }
      ]
    },
    {
      "cell_type": "code",
      "metadata": {
        "id": "KeXIZDsxgJ1Y",
        "colab_type": "code",
        "outputId": "fe543984-7318-491b-c827-e6bcc5b69407",
        "colab": {
          "base_uri": "https://localhost:8080/",
          "height": 68
        }
      },
      "source": [
        "bgr_close_scaled_np[:3]"
      ],
      "execution_count": 10,
      "outputs": [
        {
          "output_type": "execute_result",
          "data": {
            "text/plain": [
              "array([[0.4369699 ],\n",
              "       [0.44002444],\n",
              "       [0.43881683]])"
            ]
          },
          "metadata": {
            "tags": []
          },
          "execution_count": 10
        },
        {
          "output_type": "stream",
          "text": [
            "time: 2.72 ms\n"
          ],
          "name": "stdout"
        }
      ]
    },
    {
      "cell_type": "markdown",
      "metadata": {
        "id": "8RoHb0hTTLSv",
        "colab_type": "text"
      },
      "source": [
        "Size transformation"
      ]
    },
    {
      "cell_type": "code",
      "metadata": {
        "id": "1twiVbDMkUvl",
        "colab_type": "code",
        "colab": {
          "base_uri": "https://localhost:8080/",
          "height": 34
        },
        "outputId": "1a77b148-7939-4610-bd6c-c9cd4139449e"
      },
      "source": [
        "import numpy as np\n",
        "window_size = 10\n",
        "\n",
        "X = []\n",
        "y = []\n",
        "\n",
        "for _ in np.arange(window_size, len(bgr_close_scaled_np)) :\n",
        "    X_window_data = [ x for x in bgr_close_scaled_np[_ - window_size : _] ]\n",
        "    X.append(X_window_data)\n",
        "    y.append(bgr_close_scaled_np[_])\n",
        "\n",
        "X = np.array(X)\n",
        "y = np.array(y)"
      ],
      "execution_count": 11,
      "outputs": [
        {
          "output_type": "stream",
          "text": [
            "time: 32.7 ms\n"
          ],
          "name": "stdout"
        }
      ]
    },
    {
      "cell_type": "code",
      "metadata": {
        "id": "PlnfkC7wQpcc",
        "colab_type": "code",
        "colab": {
          "base_uri": "https://localhost:8080/",
          "height": 34
        },
        "outputId": "0ce19b74-fb2a-48cb-bd92-0c3c7553a2d1"
      },
      "source": [
        "X.shape\n",
        "y.shape"
      ],
      "execution_count": 12,
      "outputs": [
        {
          "output_type": "execute_result",
          "data": {
            "text/plain": [
              "(3191, 1)"
            ]
          },
          "metadata": {
            "tags": []
          },
          "execution_count": 12
        },
        {
          "output_type": "stream",
          "text": [
            "time: 2.8 ms\n"
          ],
          "name": "stdout"
        }
      ]
    },
    {
      "cell_type": "code",
      "metadata": {
        "id": "Aur_SFOipGU9",
        "colab_type": "code",
        "colab": {
          "base_uri": "https://localhost:8080/",
          "height": 34
        },
        "outputId": "8414f1f6-4bc4-4097-da63-9daf77850d28"
      },
      "source": [
        "from sklearn.model_selection import train_test_split\n",
        "\n",
        "X_train, X_test, y_train, y_test = train_test_split(X, y, shuffle=False, test_size=0.2)"
      ],
      "execution_count": 13,
      "outputs": [
        {
          "output_type": "stream",
          "text": [
            "time: 51.7 ms\n"
          ],
          "name": "stdout"
        }
      ]
    },
    {
      "cell_type": "code",
      "metadata": {
        "id": "sIST-ft4Or0t",
        "colab_type": "code",
        "colab": {
          "base_uri": "https://localhost:8080/",
          "height": 34
        },
        "outputId": "c4d8f14d-e053-4320-bc95-88f7afac6bd6"
      },
      "source": [
        "X_train.shape"
      ],
      "execution_count": 14,
      "outputs": [
        {
          "output_type": "execute_result",
          "data": {
            "text/plain": [
              "(2552, 10, 1)"
            ]
          },
          "metadata": {
            "tags": []
          },
          "execution_count": 14
        },
        {
          "output_type": "stream",
          "text": [
            "time: 2.61 ms\n"
          ],
          "name": "stdout"
        }
      ]
    },
    {
      "cell_type": "code",
      "metadata": {
        "id": "gqwQ6bGrOryP",
        "colab_type": "code",
        "colab": {
          "base_uri": "https://localhost:8080/",
          "height": 34
        },
        "outputId": "c9308b15-c9c0-403e-9191-c704e5dc9bea"
      },
      "source": [
        "y_train.shape"
      ],
      "execution_count": 15,
      "outputs": [
        {
          "output_type": "execute_result",
          "data": {
            "text/plain": [
              "(2552, 1)"
            ]
          },
          "metadata": {
            "tags": []
          },
          "execution_count": 15
        },
        {
          "output_type": "stream",
          "text": [
            "time: 4.19 ms\n"
          ],
          "name": "stdout"
        }
      ]
    },
    {
      "cell_type": "markdown",
      "metadata": {
        "id": "DcfHbiKeU-UM",
        "colab_type": "text"
      },
      "source": [
        "# Modeling LSTM"
      ]
    },
    {
      "cell_type": "code",
      "metadata": {
        "id": "c6LbJx2JU_3m",
        "colab_type": "code",
        "colab": {
          "base_uri": "https://localhost:8080/",
          "height": 34
        },
        "outputId": "ab4565fe-11bf-47cb-d678-773e7ee542f2"
      },
      "source": [
        "import tensorflow as tf\n",
        "\n",
        "def build_lstm_model(input, loss='mse', optimiser='adam') :\n",
        "    model = tf.keras.Sequential()\n",
        "    model.add(tf.keras.layers.InputLayer(input_shape=(input.shape[1], input.shape[2])))\n",
        "    # model.add(tf.keras.layers.BatchNormalization())\n",
        "    model.add(tf.keras.layers.LSTM(128, return_sequences=True))\n",
        "    model.add(tf.keras.layers.Dropout(0.2))\n",
        "    model.add(tf.keras.layers.LSTM(64, return_sequences=True))\n",
        "    model.add(tf.keras.layers.Dropout(0.2))\n",
        "    model.add(tf.keras.layers.LSTM(32, return_sequences=False))\n",
        "    model.add(tf.keras.layers.Dropout(0.2))\n",
        "    # model.add(tf.keras.layers.Dense(32, activation='relu'))\n",
        "    # model.add(tf.keras.layers.Dropout(0.2))\n",
        "    # model.add(tf.keras.layers.Dense(16, activation='relu'))\n",
        "    # model.add(tf.keras.layers.Dropout(0.2))\n",
        "    # model.add(tf.keras.layers.Dense(8, activation='relu'))\n",
        "    # model.add(tf.keras.layers.Dropout(0.2))\n",
        "    model.add(tf.keras.layers.Dense(1))\n",
        "    \n",
        "    model.compile(loss=loss, optimizer=optimiser)\n",
        "\n",
        "    return model"
      ],
      "execution_count": 53,
      "outputs": [
        {
          "output_type": "stream",
          "text": [
            "time: 17.5 ms\n"
          ],
          "name": "stdout"
        }
      ]
    },
    {
      "cell_type": "code",
      "metadata": {
        "id": "To0XlpOzXZEf",
        "colab_type": "code",
        "colab": {
          "base_uri": "https://localhost:8080/",
          "height": 34
        },
        "outputId": "17e385c9-28fe-4143-a022-1ea976ead43e"
      },
      "source": [
        "model = build_lstm_model(X_train)"
      ],
      "execution_count": 54,
      "outputs": [
        {
          "output_type": "stream",
          "text": [
            "time: 1.11 s\n"
          ],
          "name": "stdout"
        }
      ]
    },
    {
      "cell_type": "code",
      "metadata": {
        "id": "MoHijzNgXnEi",
        "colab_type": "code",
        "colab": {
          "base_uri": "https://localhost:8080/",
          "height": 408
        },
        "outputId": "153d62fb-472b-48bd-e560-2ee41ec1555d"
      },
      "source": [
        "model.summary()"
      ],
      "execution_count": 55,
      "outputs": [
        {
          "output_type": "stream",
          "text": [
            "Model: \"sequential_8\"\n",
            "_________________________________________________________________\n",
            "Layer (type)                 Output Shape              Param #   \n",
            "=================================================================\n",
            "lstm_3 (LSTM)                (None, 10, 128)           66560     \n",
            "_________________________________________________________________\n",
            "dropout_12 (Dropout)         (None, 10, 128)           0         \n",
            "_________________________________________________________________\n",
            "lstm_4 (LSTM)                (None, 10, 64)            49408     \n",
            "_________________________________________________________________\n",
            "dropout_13 (Dropout)         (None, 10, 64)            0         \n",
            "_________________________________________________________________\n",
            "lstm_5 (LSTM)                (None, 32)                12416     \n",
            "_________________________________________________________________\n",
            "dropout_14 (Dropout)         (None, 32)                0         \n",
            "_________________________________________________________________\n",
            "dense_4 (Dense)              (None, 1)                 33        \n",
            "=================================================================\n",
            "Total params: 128,417\n",
            "Trainable params: 128,417\n",
            "Non-trainable params: 0\n",
            "_________________________________________________________________\n",
            "time: 8.82 ms\n"
          ],
          "name": "stdout"
        }
      ]
    },
    {
      "cell_type": "code",
      "metadata": {
        "id": "08DAULWkX0lH",
        "colab_type": "code",
        "colab": {
          "base_uri": "https://localhost:8080/",
          "height": 1000
        },
        "outputId": "54f23324-0b82-4ddb-e520-6ee1c5d27ab7"
      },
      "source": [
        "model_history = model.fit(X_train, y_train, epochs=50, batch_size=25, verbose=2, shuffle=False, validation_split=0.05)"
      ],
      "execution_count": 56,
      "outputs": [
        {
          "output_type": "stream",
          "text": [
            "Epoch 1/50\n",
            "97/97 - 1s - loss: 0.0196 - val_loss: 0.0076\n",
            "Epoch 2/50\n",
            "97/97 - 1s - loss: 0.0167 - val_loss: 0.0071\n",
            "Epoch 3/50\n",
            "97/97 - 1s - loss: 0.0171 - val_loss: 0.0165\n",
            "Epoch 4/50\n",
            "97/97 - 1s - loss: 0.0214 - val_loss: 0.0227\n",
            "Epoch 5/50\n",
            "97/97 - 1s - loss: 0.0174 - val_loss: 0.0128\n",
            "Epoch 6/50\n",
            "97/97 - 1s - loss: 0.0113 - val_loss: 0.0117\n",
            "Epoch 7/50\n",
            "97/97 - 1s - loss: 0.0121 - val_loss: 0.0070\n",
            "Epoch 8/50\n",
            "97/97 - 1s - loss: 0.0064 - val_loss: 0.0050\n",
            "Epoch 9/50\n",
            "97/97 - 1s - loss: 0.0079 - val_loss: 0.0043\n",
            "Epoch 10/50\n",
            "97/97 - 1s - loss: 0.0053 - val_loss: 0.0038\n",
            "Epoch 11/50\n",
            "97/97 - 1s - loss: 0.0048 - val_loss: 0.0035\n",
            "Epoch 12/50\n",
            "97/97 - 1s - loss: 0.0046 - val_loss: 0.0024\n",
            "Epoch 13/50\n",
            "97/97 - 1s - loss: 0.0048 - val_loss: 0.0050\n",
            "Epoch 14/50\n",
            "97/97 - 1s - loss: 0.0043 - val_loss: 0.0022\n",
            "Epoch 15/50\n",
            "97/97 - 1s - loss: 0.0049 - val_loss: 0.0036\n",
            "Epoch 16/50\n",
            "97/97 - 1s - loss: 0.0042 - val_loss: 0.0040\n",
            "Epoch 17/50\n",
            "97/97 - 1s - loss: 0.0041 - val_loss: 0.0028\n",
            "Epoch 18/50\n",
            "97/97 - 1s - loss: 0.0036 - val_loss: 0.0015\n",
            "Epoch 19/50\n",
            "97/97 - 1s - loss: 0.0036 - val_loss: 0.0035\n",
            "Epoch 20/50\n",
            "97/97 - 1s - loss: 0.0038 - val_loss: 0.0026\n",
            "Epoch 21/50\n",
            "97/97 - 1s - loss: 0.0036 - val_loss: 0.0024\n",
            "Epoch 22/50\n",
            "97/97 - 1s - loss: 0.0034 - val_loss: 0.0030\n",
            "Epoch 23/50\n",
            "97/97 - 1s - loss: 0.0037 - val_loss: 0.0015\n",
            "Epoch 24/50\n",
            "97/97 - 1s - loss: 0.0030 - val_loss: 0.0019\n",
            "Epoch 25/50\n",
            "97/97 - 1s - loss: 0.0036 - val_loss: 0.0040\n",
            "Epoch 26/50\n",
            "97/97 - 1s - loss: 0.0033 - val_loss: 0.0013\n",
            "Epoch 27/50\n",
            "97/97 - 1s - loss: 0.0033 - val_loss: 0.0031\n",
            "Epoch 28/50\n",
            "97/97 - 1s - loss: 0.0027 - val_loss: 0.0015\n",
            "Epoch 29/50\n",
            "97/97 - 1s - loss: 0.0026 - val_loss: 0.0012\n",
            "Epoch 30/50\n",
            "97/97 - 1s - loss: 0.0024 - val_loss: 0.0014\n",
            "Epoch 31/50\n",
            "97/97 - 1s - loss: 0.0024 - val_loss: 0.0022\n",
            "Epoch 32/50\n",
            "97/97 - 1s - loss: 0.0026 - val_loss: 0.0024\n",
            "Epoch 33/50\n",
            "97/97 - 1s - loss: 0.0024 - val_loss: 0.0023\n",
            "Epoch 34/50\n",
            "97/97 - 1s - loss: 0.0022 - val_loss: 0.0019\n",
            "Epoch 35/50\n",
            "97/97 - 1s - loss: 0.0022 - val_loss: 0.0011\n",
            "Epoch 36/50\n",
            "97/97 - 1s - loss: 0.0019 - val_loss: 8.9701e-04\n",
            "Epoch 37/50\n",
            "97/97 - 1s - loss: 0.0019 - val_loss: 6.3724e-04\n",
            "Epoch 38/50\n",
            "97/97 - 1s - loss: 0.0019 - val_loss: 0.0018\n",
            "Epoch 39/50\n",
            "97/97 - 1s - loss: 0.0023 - val_loss: 0.0024\n",
            "Epoch 40/50\n",
            "97/97 - 1s - loss: 0.0020 - val_loss: 7.2931e-04\n",
            "Epoch 41/50\n",
            "97/97 - 1s - loss: 0.0018 - val_loss: 6.7069e-04\n",
            "Epoch 42/50\n",
            "97/97 - 1s - loss: 0.0015 - val_loss: 6.7459e-04\n",
            "Epoch 43/50\n",
            "97/97 - 1s - loss: 0.0017 - val_loss: 9.4528e-04\n",
            "Epoch 44/50\n",
            "97/97 - 1s - loss: 0.0018 - val_loss: 0.0015\n",
            "Epoch 45/50\n",
            "97/97 - 1s - loss: 0.0017 - val_loss: 0.0011\n",
            "Epoch 46/50\n",
            "97/97 - 1s - loss: 0.0015 - val_loss: 7.0823e-04\n",
            "Epoch 47/50\n",
            "97/97 - 1s - loss: 0.0015 - val_loss: 0.0017\n",
            "Epoch 48/50\n",
            "97/97 - 1s - loss: 0.0015 - val_loss: 6.2687e-04\n",
            "Epoch 49/50\n",
            "97/97 - 1s - loss: 0.0016 - val_loss: 9.8334e-04\n",
            "Epoch 50/50\n",
            "97/97 - 1s - loss: 0.0013 - val_loss: 4.6196e-04\n",
            "time: 35.2 s\n"
          ],
          "name": "stdout"
        }
      ]
    },
    {
      "cell_type": "code",
      "metadata": {
        "id": "sYiSI6KuTBbV",
        "colab_type": "code",
        "colab": {
          "base_uri": "https://localhost:8080/",
          "height": 394
        },
        "outputId": "994d5021-c777-440d-c2f0-f73f392752ed"
      },
      "source": [
        "plt.plot(model_history.history['loss'], label='train')\n",
        "plt.plot(model_history.history['val_loss'], label='val')\n",
        "plt.legend()\n",
        "plt.title('last loss: ' + str(model.history.history['loss'][-1]))\n",
        "plt.show()"
      ],
      "execution_count": 57,
      "outputs": [
        {
          "output_type": "display_data",
          "data": {
            "text/plain": [
              "<Figure size 576x288 with 1 Axes>"
            ],
            "image/svg+xml": "<?xml version=\"1.0\" encoding=\"utf-8\" standalone=\"no\"?>\n<!DOCTYPE svg PUBLIC \"-//W3C//DTD SVG 1.1//EN\"\n  \"http://www.w3.org/Graphics/SVG/1.1/DTD/svg11.dtd\">\n<!-- Created with matplotlib (https://matplotlib.org/) -->\n<svg height=\"267.104062pt\" version=\"1.1\" viewBox=\"0 0 501.790937 267.104062\" width=\"501.790937pt\" xmlns=\"http://www.w3.org/2000/svg\" xmlns:xlink=\"http://www.w3.org/1999/xlink\">\n <defs>\n  <style type=\"text/css\">\n*{stroke-linecap:butt;stroke-linejoin:round;}\n  </style>\n </defs>\n <g id=\"figure_1\">\n  <g id=\"patch_1\">\n   <path d=\"M 0 267.104062 \nL 501.790937 267.104062 \nL 501.790937 0 \nL 0 0 \nz\n\" style=\"fill:#ffffff;\"/>\n  </g>\n  <g id=\"axes_1\">\n   <g id=\"patch_2\">\n    <path d=\"M 48.190938 239.758125 \nL 494.590937 239.758125 \nL 494.590937 22.318125 \nL 48.190938 22.318125 \nz\n\" style=\"fill:#eaeaf2;\"/>\n   </g>\n   <g id=\"matplotlib.axis_1\">\n    <g id=\"xtick_1\">\n     <g id=\"line2d_1\">\n      <path clip-path=\"url(#p9fefa15fbb)\" d=\"M 68.481847 239.758125 \nL 68.481847 22.318125 \n\" style=\"fill:none;stroke:#ffffff;stroke-linecap:round;\"/>\n     </g>\n     <g id=\"text_1\">\n      <!-- 0 -->\n      <defs>\n       <path d=\"M 31.78125 66.40625 \nQ 24.171875 66.40625 20.328125 58.90625 \nQ 16.5 51.421875 16.5 36.375 \nQ 16.5 21.390625 20.328125 13.890625 \nQ 24.171875 6.390625 31.78125 6.390625 \nQ 39.453125 6.390625 43.28125 13.890625 \nQ 47.125 21.390625 47.125 36.375 \nQ 47.125 51.421875 43.28125 58.90625 \nQ 39.453125 66.40625 31.78125 66.40625 \nz\nM 31.78125 74.21875 \nQ 44.046875 74.21875 50.515625 64.515625 \nQ 56.984375 54.828125 56.984375 36.375 \nQ 56.984375 17.96875 50.515625 8.265625 \nQ 44.046875 -1.421875 31.78125 -1.421875 \nQ 19.53125 -1.421875 13.0625 8.265625 \nQ 6.59375 17.96875 6.59375 36.375 \nQ 6.59375 54.828125 13.0625 64.515625 \nQ 19.53125 74.21875 31.78125 74.21875 \nz\n\" id=\"DejaVuSans-48\"/>\n      </defs>\n      <g style=\"fill:#262626;\" transform=\"translate(64.982472 257.616406)scale(0.11 -0.11)\">\n       <use xlink:href=\"#DejaVuSans-48\"/>\n      </g>\n     </g>\n    </g>\n    <g id=\"xtick_2\">\n     <g id=\"line2d_2\">\n      <path clip-path=\"url(#p9fefa15fbb)\" d=\"M 151.301884 239.758125 \nL 151.301884 22.318125 \n\" style=\"fill:none;stroke:#ffffff;stroke-linecap:round;\"/>\n     </g>\n     <g id=\"text_2\">\n      <!-- 10 -->\n      <defs>\n       <path d=\"M 12.40625 8.296875 \nL 28.515625 8.296875 \nL 28.515625 63.921875 \nL 10.984375 60.40625 \nL 10.984375 69.390625 \nL 28.421875 72.90625 \nL 38.28125 72.90625 \nL 38.28125 8.296875 \nL 54.390625 8.296875 \nL 54.390625 0 \nL 12.40625 0 \nz\n\" id=\"DejaVuSans-49\"/>\n      </defs>\n      <g style=\"fill:#262626;\" transform=\"translate(144.303134 257.616406)scale(0.11 -0.11)\">\n       <use xlink:href=\"#DejaVuSans-49\"/>\n       <use x=\"63.623047\" xlink:href=\"#DejaVuSans-48\"/>\n      </g>\n     </g>\n    </g>\n    <g id=\"xtick_3\">\n     <g id=\"line2d_3\">\n      <path clip-path=\"url(#p9fefa15fbb)\" d=\"M 234.121921 239.758125 \nL 234.121921 22.318125 \n\" style=\"fill:none;stroke:#ffffff;stroke-linecap:round;\"/>\n     </g>\n     <g id=\"text_3\">\n      <!-- 20 -->\n      <defs>\n       <path d=\"M 19.1875 8.296875 \nL 53.609375 8.296875 \nL 53.609375 0 \nL 7.328125 0 \nL 7.328125 8.296875 \nQ 12.9375 14.109375 22.625 23.890625 \nQ 32.328125 33.6875 34.8125 36.53125 \nQ 39.546875 41.84375 41.421875 45.53125 \nQ 43.3125 49.21875 43.3125 52.78125 \nQ 43.3125 58.59375 39.234375 62.25 \nQ 35.15625 65.921875 28.609375 65.921875 \nQ 23.96875 65.921875 18.8125 64.3125 \nQ 13.671875 62.703125 7.8125 59.421875 \nL 7.8125 69.390625 \nQ 13.765625 71.78125 18.9375 73 \nQ 24.125 74.21875 28.421875 74.21875 \nQ 39.75 74.21875 46.484375 68.546875 \nQ 53.21875 62.890625 53.21875 53.421875 \nQ 53.21875 48.921875 51.53125 44.890625 \nQ 49.859375 40.875 45.40625 35.40625 \nQ 44.1875 33.984375 37.640625 27.21875 \nQ 31.109375 20.453125 19.1875 8.296875 \nz\n\" id=\"DejaVuSans-50\"/>\n      </defs>\n      <g style=\"fill:#262626;\" transform=\"translate(227.123171 257.616406)scale(0.11 -0.11)\">\n       <use xlink:href=\"#DejaVuSans-50\"/>\n       <use x=\"63.623047\" xlink:href=\"#DejaVuSans-48\"/>\n      </g>\n     </g>\n    </g>\n    <g id=\"xtick_4\">\n     <g id=\"line2d_4\">\n      <path clip-path=\"url(#p9fefa15fbb)\" d=\"M 316.941958 239.758125 \nL 316.941958 22.318125 \n\" style=\"fill:none;stroke:#ffffff;stroke-linecap:round;\"/>\n     </g>\n     <g id=\"text_4\">\n      <!-- 30 -->\n      <defs>\n       <path d=\"M 40.578125 39.3125 \nQ 47.65625 37.796875 51.625 33 \nQ 55.609375 28.21875 55.609375 21.1875 \nQ 55.609375 10.40625 48.1875 4.484375 \nQ 40.765625 -1.421875 27.09375 -1.421875 \nQ 22.515625 -1.421875 17.65625 -0.515625 \nQ 12.796875 0.390625 7.625 2.203125 \nL 7.625 11.71875 \nQ 11.71875 9.328125 16.59375 8.109375 \nQ 21.484375 6.890625 26.8125 6.890625 \nQ 36.078125 6.890625 40.9375 10.546875 \nQ 45.796875 14.203125 45.796875 21.1875 \nQ 45.796875 27.640625 41.28125 31.265625 \nQ 36.765625 34.90625 28.71875 34.90625 \nL 20.21875 34.90625 \nL 20.21875 43.015625 \nL 29.109375 43.015625 \nQ 36.375 43.015625 40.234375 45.921875 \nQ 44.09375 48.828125 44.09375 54.296875 \nQ 44.09375 59.90625 40.109375 62.90625 \nQ 36.140625 65.921875 28.71875 65.921875 \nQ 24.65625 65.921875 20.015625 65.03125 \nQ 15.375 64.15625 9.8125 62.3125 \nL 9.8125 71.09375 \nQ 15.4375 72.65625 20.34375 73.4375 \nQ 25.25 74.21875 29.59375 74.21875 \nQ 40.828125 74.21875 47.359375 69.109375 \nQ 53.90625 64.015625 53.90625 55.328125 \nQ 53.90625 49.265625 50.4375 45.09375 \nQ 46.96875 40.921875 40.578125 39.3125 \nz\n\" id=\"DejaVuSans-51\"/>\n      </defs>\n      <g style=\"fill:#262626;\" transform=\"translate(309.943208 257.616406)scale(0.11 -0.11)\">\n       <use xlink:href=\"#DejaVuSans-51\"/>\n       <use x=\"63.623047\" xlink:href=\"#DejaVuSans-48\"/>\n      </g>\n     </g>\n    </g>\n    <g id=\"xtick_5\">\n     <g id=\"line2d_5\">\n      <path clip-path=\"url(#p9fefa15fbb)\" d=\"M 399.761995 239.758125 \nL 399.761995 22.318125 \n\" style=\"fill:none;stroke:#ffffff;stroke-linecap:round;\"/>\n     </g>\n     <g id=\"text_5\">\n      <!-- 40 -->\n      <defs>\n       <path d=\"M 37.796875 64.3125 \nL 12.890625 25.390625 \nL 37.796875 25.390625 \nz\nM 35.203125 72.90625 \nL 47.609375 72.90625 \nL 47.609375 25.390625 \nL 58.015625 25.390625 \nL 58.015625 17.1875 \nL 47.609375 17.1875 \nL 47.609375 0 \nL 37.796875 0 \nL 37.796875 17.1875 \nL 4.890625 17.1875 \nL 4.890625 26.703125 \nz\n\" id=\"DejaVuSans-52\"/>\n      </defs>\n      <g style=\"fill:#262626;\" transform=\"translate(392.763245 257.616406)scale(0.11 -0.11)\">\n       <use xlink:href=\"#DejaVuSans-52\"/>\n       <use x=\"63.623047\" xlink:href=\"#DejaVuSans-48\"/>\n      </g>\n     </g>\n    </g>\n    <g id=\"xtick_6\">\n     <g id=\"line2d_6\">\n      <path clip-path=\"url(#p9fefa15fbb)\" d=\"M 482.582032 239.758125 \nL 482.582032 22.318125 \n\" style=\"fill:none;stroke:#ffffff;stroke-linecap:round;\"/>\n     </g>\n     <g id=\"text_6\">\n      <!-- 50 -->\n      <defs>\n       <path d=\"M 10.796875 72.90625 \nL 49.515625 72.90625 \nL 49.515625 64.59375 \nL 19.828125 64.59375 \nL 19.828125 46.734375 \nQ 21.96875 47.46875 24.109375 47.828125 \nQ 26.265625 48.1875 28.421875 48.1875 \nQ 40.625 48.1875 47.75 41.5 \nQ 54.890625 34.8125 54.890625 23.390625 \nQ 54.890625 11.625 47.5625 5.09375 \nQ 40.234375 -1.421875 26.90625 -1.421875 \nQ 22.3125 -1.421875 17.546875 -0.640625 \nQ 12.796875 0.140625 7.71875 1.703125 \nL 7.71875 11.625 \nQ 12.109375 9.234375 16.796875 8.0625 \nQ 21.484375 6.890625 26.703125 6.890625 \nQ 35.15625 6.890625 40.078125 11.328125 \nQ 45.015625 15.765625 45.015625 23.390625 \nQ 45.015625 31 40.078125 35.4375 \nQ 35.15625 39.890625 26.703125 39.890625 \nQ 22.75 39.890625 18.8125 39.015625 \nQ 14.890625 38.140625 10.796875 36.28125 \nz\n\" id=\"DejaVuSans-53\"/>\n      </defs>\n      <g style=\"fill:#262626;\" transform=\"translate(475.583282 257.616406)scale(0.11 -0.11)\">\n       <use xlink:href=\"#DejaVuSans-53\"/>\n       <use x=\"63.623047\" xlink:href=\"#DejaVuSans-48\"/>\n      </g>\n     </g>\n    </g>\n   </g>\n   <g id=\"matplotlib.axis_2\">\n    <g id=\"ytick_1\">\n     <g id=\"line2d_7\">\n      <path clip-path=\"url(#p9fefa15fbb)\" d=\"M 48.190938 233.974908 \nL 494.590937 233.974908 \n\" style=\"fill:none;stroke:#ffffff;stroke-linecap:round;\"/>\n     </g>\n     <g id=\"text_7\">\n      <!-- 0.000 -->\n      <defs>\n       <path d=\"M 10.6875 12.40625 \nL 21 12.40625 \nL 21 0 \nL 10.6875 0 \nz\n\" id=\"DejaVuSans-46\"/>\n      </defs>\n      <g style=\"fill:#262626;\" transform=\"translate(7.2 238.154049)scale(0.11 -0.11)\">\n       <use xlink:href=\"#DejaVuSans-48\"/>\n       <use x=\"63.623047\" xlink:href=\"#DejaVuSans-46\"/>\n       <use x=\"95.410156\" xlink:href=\"#DejaVuSans-48\"/>\n       <use x=\"159.033203\" xlink:href=\"#DejaVuSans-48\"/>\n       <use x=\"222.65625\" xlink:href=\"#DejaVuSans-48\"/>\n      </g>\n     </g>\n    </g>\n    <g id=\"ytick_2\">\n     <g id=\"line2d_8\">\n      <path clip-path=\"url(#p9fefa15fbb)\" d=\"M 48.190938 189.594536 \nL 494.590937 189.594536 \n\" style=\"fill:none;stroke:#ffffff;stroke-linecap:round;\"/>\n     </g>\n     <g id=\"text_8\">\n      <!-- 0.005 -->\n      <g style=\"fill:#262626;\" transform=\"translate(7.2 193.773676)scale(0.11 -0.11)\">\n       <use xlink:href=\"#DejaVuSans-48\"/>\n       <use x=\"63.623047\" xlink:href=\"#DejaVuSans-46\"/>\n       <use x=\"95.410156\" xlink:href=\"#DejaVuSans-48\"/>\n       <use x=\"159.033203\" xlink:href=\"#DejaVuSans-48\"/>\n       <use x=\"222.65625\" xlink:href=\"#DejaVuSans-53\"/>\n      </g>\n     </g>\n    </g>\n    <g id=\"ytick_3\">\n     <g id=\"line2d_9\">\n      <path clip-path=\"url(#p9fefa15fbb)\" d=\"M 48.190938 145.214164 \nL 494.590937 145.214164 \n\" style=\"fill:none;stroke:#ffffff;stroke-linecap:round;\"/>\n     </g>\n     <g id=\"text_9\">\n      <!-- 0.010 -->\n      <g style=\"fill:#262626;\" transform=\"translate(7.2 149.393304)scale(0.11 -0.11)\">\n       <use xlink:href=\"#DejaVuSans-48\"/>\n       <use x=\"63.623047\" xlink:href=\"#DejaVuSans-46\"/>\n       <use x=\"95.410156\" xlink:href=\"#DejaVuSans-48\"/>\n       <use x=\"159.033203\" xlink:href=\"#DejaVuSans-49\"/>\n       <use x=\"222.65625\" xlink:href=\"#DejaVuSans-48\"/>\n      </g>\n     </g>\n    </g>\n    <g id=\"ytick_4\">\n     <g id=\"line2d_10\">\n      <path clip-path=\"url(#p9fefa15fbb)\" d=\"M 48.190938 100.833791 \nL 494.590937 100.833791 \n\" style=\"fill:none;stroke:#ffffff;stroke-linecap:round;\"/>\n     </g>\n     <g id=\"text_10\">\n      <!-- 0.015 -->\n      <g style=\"fill:#262626;\" transform=\"translate(7.2 105.012932)scale(0.11 -0.11)\">\n       <use xlink:href=\"#DejaVuSans-48\"/>\n       <use x=\"63.623047\" xlink:href=\"#DejaVuSans-46\"/>\n       <use x=\"95.410156\" xlink:href=\"#DejaVuSans-48\"/>\n       <use x=\"159.033203\" xlink:href=\"#DejaVuSans-49\"/>\n       <use x=\"222.65625\" xlink:href=\"#DejaVuSans-53\"/>\n      </g>\n     </g>\n    </g>\n    <g id=\"ytick_5\">\n     <g id=\"line2d_11\">\n      <path clip-path=\"url(#p9fefa15fbb)\" d=\"M 48.190938 56.453419 \nL 494.590937 56.453419 \n\" style=\"fill:none;stroke:#ffffff;stroke-linecap:round;\"/>\n     </g>\n     <g id=\"text_11\">\n      <!-- 0.020 -->\n      <g style=\"fill:#262626;\" transform=\"translate(7.2 60.63256)scale(0.11 -0.11)\">\n       <use xlink:href=\"#DejaVuSans-48\"/>\n       <use x=\"63.623047\" xlink:href=\"#DejaVuSans-46\"/>\n       <use x=\"95.410156\" xlink:href=\"#DejaVuSans-48\"/>\n       <use x=\"159.033203\" xlink:href=\"#DejaVuSans-50\"/>\n       <use x=\"222.65625\" xlink:href=\"#DejaVuSans-48\"/>\n      </g>\n     </g>\n    </g>\n   </g>\n   <g id=\"line2d_12\">\n    <path clip-path=\"url(#p9fefa15fbb)\" d=\"M 68.481847 59.985876 \nL 76.76385 85.619546 \nL 85.045854 82.252175 \nL 93.327858 43.691618 \nL 101.609861 79.194996 \nL 109.891865 134.03059 \nL 118.173869 126.250337 \nL 126.455873 177.328502 \nL 134.737876 164.076879 \nL 143.01988 186.960185 \nL 151.301884 191.552752 \nL 159.583887 193.414832 \nL 167.865891 191.46404 \nL 176.147895 196.173686 \nL 184.429899 190.417015 \nL 192.711902 196.587874 \nL 200.993906 197.766957 \nL 209.27591 201.974004 \nL 217.557913 202.458921 \nL 225.839917 200.287616 \nL 234.121921 202.124919 \nL 242.403925 204.132072 \nL 250.685928 201.235336 \nL 258.967932 207.503723 \nL 267.249936 202.308929 \nL 275.531939 204.306931 \nL 283.813943 205.027302 \nL 292.095947 210.080298 \nL 300.37795 211.053239 \nL 308.659954 212.408658 \nL 316.941958 212.779138 \nL 325.223962 210.571328 \nL 333.505965 212.516352 \nL 341.787969 214.119133 \nL 350.069973 214.451744 \nL 358.351976 217.16212 \nL 366.63398 216.927379 \nL 374.915984 217.00174 \nL 383.197988 213.901754 \nL 391.479991 216.593653 \nL 399.761995 217.618135 \nL 408.043999 220.463469 \nL 416.326002 218.841149 \nL 424.608006 217.58218 \nL 432.89001 219.068836 \nL 441.172014 220.730581 \nL 449.454017 220.27056 \nL 457.736021 220.731706 \nL 466.018025 220.021425 \nL 474.300028 222.185138 \n\" style=\"fill:none;stroke:#4c72b0;stroke-linecap:round;stroke-width:1.5;\"/>\n   </g>\n   <g id=\"line2d_13\">\n    <path clip-path=\"url(#p9fefa15fbb)\" d=\"M 68.481847 166.458756 \nL 76.76385 170.535275 \nL 85.045854 87.951439 \nL 93.327858 32.201761 \nL 101.609861 120.113792 \nL 109.891865 129.898173 \nL 118.173869 171.812601 \nL 126.455873 189.683335 \nL 134.737876 196.201036 \nL 143.01988 199.848076 \nL 151.301884 203.164771 \nL 159.583887 212.53181 \nL 167.865891 189.909383 \nL 176.147895 214.768394 \nL 184.429899 201.648689 \nL 192.711902 198.702273 \nL 200.993906 209.110212 \nL 209.27591 220.756024 \nL 217.557913 202.750562 \nL 225.839917 210.559255 \nL 234.121921 212.43298 \nL 242.403925 207.573283 \nL 250.685928 220.768056 \nL 258.967932 216.708492 \nL 267.249936 198.425391 \nL 275.531939 222.16484 \nL 283.813943 206.100224 \nL 292.095947 220.882285 \nL 300.37795 223.68867 \nL 308.659954 221.516069 \nL 316.941958 214.526632 \nL 325.223962 212.902025 \nL 333.505965 213.199912 \nL 341.787969 216.956217 \nL 350.069973 223.834826 \nL 358.351976 226.012939 \nL 366.63398 228.318699 \nL 374.915984 218.034067 \nL 383.197988 212.86339 \nL 391.479991 227.501497 \nL 399.761995 228.021792 \nL 408.043999 227.987183 \nL 416.326002 225.584528 \nL 424.608006 220.88313 \nL 432.89001 224.268221 \nL 441.172014 227.68863 \nL 449.454017 219.296708 \nL 457.736021 228.410786 \nL 466.018025 225.24675 \nL 474.300028 229.874489 \n\" style=\"fill:none;stroke:#dd8452;stroke-linecap:round;stroke-width:1.5;\"/>\n   </g>\n   <g id=\"patch_3\">\n    <path d=\"M 48.190938 239.758125 \nL 48.190938 22.318125 \n\" style=\"fill:none;stroke:#ffffff;stroke-linecap:square;stroke-linejoin:miter;stroke-width:1.25;\"/>\n   </g>\n   <g id=\"patch_4\">\n    <path d=\"M 494.590937 239.758125 \nL 494.590937 22.318125 \n\" style=\"fill:none;stroke:#ffffff;stroke-linecap:square;stroke-linejoin:miter;stroke-width:1.25;\"/>\n   </g>\n   <g id=\"patch_5\">\n    <path d=\"M 48.190937 239.758125 \nL 494.590937 239.758125 \n\" style=\"fill:none;stroke:#ffffff;stroke-linecap:square;stroke-linejoin:miter;stroke-width:1.25;\"/>\n   </g>\n   <g id=\"patch_6\">\n    <path d=\"M 48.190937 22.318125 \nL 494.590937 22.318125 \n\" style=\"fill:none;stroke:#ffffff;stroke-linecap:square;stroke-linejoin:miter;stroke-width:1.25;\"/>\n   </g>\n   <g id=\"text_12\">\n    <!-- last loss: 0.0013282640138641 -->\n    <defs>\n     <path d=\"M 9.421875 75.984375 \nL 18.40625 75.984375 \nL 18.40625 0 \nL 9.421875 0 \nz\n\" id=\"DejaVuSans-108\"/>\n     <path d=\"M 34.28125 27.484375 \nQ 23.390625 27.484375 19.1875 25 \nQ 14.984375 22.515625 14.984375 16.5 \nQ 14.984375 11.71875 18.140625 8.90625 \nQ 21.296875 6.109375 26.703125 6.109375 \nQ 34.1875 6.109375 38.703125 11.40625 \nQ 43.21875 16.703125 43.21875 25.484375 \nL 43.21875 27.484375 \nz\nM 52.203125 31.203125 \nL 52.203125 0 \nL 43.21875 0 \nL 43.21875 8.296875 \nQ 40.140625 3.328125 35.546875 0.953125 \nQ 30.953125 -1.421875 24.3125 -1.421875 \nQ 15.921875 -1.421875 10.953125 3.296875 \nQ 6 8.015625 6 15.921875 \nQ 6 25.140625 12.171875 29.828125 \nQ 18.359375 34.515625 30.609375 34.515625 \nL 43.21875 34.515625 \nL 43.21875 35.40625 \nQ 43.21875 41.609375 39.140625 45 \nQ 35.0625 48.390625 27.6875 48.390625 \nQ 23 48.390625 18.546875 47.265625 \nQ 14.109375 46.140625 10.015625 43.890625 \nL 10.015625 52.203125 \nQ 14.9375 54.109375 19.578125 55.046875 \nQ 24.21875 56 28.609375 56 \nQ 40.484375 56 46.34375 49.84375 \nQ 52.203125 43.703125 52.203125 31.203125 \nz\n\" id=\"DejaVuSans-97\"/>\n     <path d=\"M 44.28125 53.078125 \nL 44.28125 44.578125 \nQ 40.484375 46.53125 36.375 47.5 \nQ 32.28125 48.484375 27.875 48.484375 \nQ 21.1875 48.484375 17.84375 46.4375 \nQ 14.5 44.390625 14.5 40.28125 \nQ 14.5 37.15625 16.890625 35.375 \nQ 19.28125 33.59375 26.515625 31.984375 \nL 29.59375 31.296875 \nQ 39.15625 29.25 43.1875 25.515625 \nQ 47.21875 21.78125 47.21875 15.09375 \nQ 47.21875 7.46875 41.1875 3.015625 \nQ 35.15625 -1.421875 24.609375 -1.421875 \nQ 20.21875 -1.421875 15.453125 -0.5625 \nQ 10.6875 0.296875 5.421875 2 \nL 5.421875 11.28125 \nQ 10.40625 8.6875 15.234375 7.390625 \nQ 20.0625 6.109375 24.8125 6.109375 \nQ 31.15625 6.109375 34.5625 8.28125 \nQ 37.984375 10.453125 37.984375 14.40625 \nQ 37.984375 18.0625 35.515625 20.015625 \nQ 33.0625 21.96875 24.703125 23.78125 \nL 21.578125 24.515625 \nQ 13.234375 26.265625 9.515625 29.90625 \nQ 5.8125 33.546875 5.8125 39.890625 \nQ 5.8125 47.609375 11.28125 51.796875 \nQ 16.75 56 26.8125 56 \nQ 31.78125 56 36.171875 55.265625 \nQ 40.578125 54.546875 44.28125 53.078125 \nz\n\" id=\"DejaVuSans-115\"/>\n     <path d=\"M 18.3125 70.21875 \nL 18.3125 54.6875 \nL 36.8125 54.6875 \nL 36.8125 47.703125 \nL 18.3125 47.703125 \nL 18.3125 18.015625 \nQ 18.3125 11.328125 20.140625 9.421875 \nQ 21.96875 7.515625 27.59375 7.515625 \nL 36.8125 7.515625 \nL 36.8125 0 \nL 27.59375 0 \nQ 17.1875 0 13.234375 3.875 \nQ 9.28125 7.765625 9.28125 18.015625 \nL 9.28125 47.703125 \nL 2.6875 47.703125 \nL 2.6875 54.6875 \nL 9.28125 54.6875 \nL 9.28125 70.21875 \nz\n\" id=\"DejaVuSans-116\"/>\n     <path id=\"DejaVuSans-32\"/>\n     <path d=\"M 30.609375 48.390625 \nQ 23.390625 48.390625 19.1875 42.75 \nQ 14.984375 37.109375 14.984375 27.296875 \nQ 14.984375 17.484375 19.15625 11.84375 \nQ 23.34375 6.203125 30.609375 6.203125 \nQ 37.796875 6.203125 41.984375 11.859375 \nQ 46.1875 17.53125 46.1875 27.296875 \nQ 46.1875 37.015625 41.984375 42.703125 \nQ 37.796875 48.390625 30.609375 48.390625 \nz\nM 30.609375 56 \nQ 42.328125 56 49.015625 48.375 \nQ 55.71875 40.765625 55.71875 27.296875 \nQ 55.71875 13.875 49.015625 6.21875 \nQ 42.328125 -1.421875 30.609375 -1.421875 \nQ 18.84375 -1.421875 12.171875 6.21875 \nQ 5.515625 13.875 5.515625 27.296875 \nQ 5.515625 40.765625 12.171875 48.375 \nQ 18.84375 56 30.609375 56 \nz\n\" id=\"DejaVuSans-111\"/>\n     <path d=\"M 11.71875 12.40625 \nL 22.015625 12.40625 \nL 22.015625 0 \nL 11.71875 0 \nz\nM 11.71875 51.703125 \nL 22.015625 51.703125 \nL 22.015625 39.3125 \nL 11.71875 39.3125 \nz\n\" id=\"DejaVuSans-58\"/>\n     <path d=\"M 31.78125 34.625 \nQ 24.75 34.625 20.71875 30.859375 \nQ 16.703125 27.09375 16.703125 20.515625 \nQ 16.703125 13.921875 20.71875 10.15625 \nQ 24.75 6.390625 31.78125 6.390625 \nQ 38.8125 6.390625 42.859375 10.171875 \nQ 46.921875 13.96875 46.921875 20.515625 \nQ 46.921875 27.09375 42.890625 30.859375 \nQ 38.875 34.625 31.78125 34.625 \nz\nM 21.921875 38.8125 \nQ 15.578125 40.375 12.03125 44.71875 \nQ 8.5 49.078125 8.5 55.328125 \nQ 8.5 64.0625 14.71875 69.140625 \nQ 20.953125 74.21875 31.78125 74.21875 \nQ 42.671875 74.21875 48.875 69.140625 \nQ 55.078125 64.0625 55.078125 55.328125 \nQ 55.078125 49.078125 51.53125 44.71875 \nQ 48 40.375 41.703125 38.8125 \nQ 48.828125 37.15625 52.796875 32.3125 \nQ 56.78125 27.484375 56.78125 20.515625 \nQ 56.78125 9.90625 50.3125 4.234375 \nQ 43.84375 -1.421875 31.78125 -1.421875 \nQ 19.734375 -1.421875 13.25 4.234375 \nQ 6.78125 9.90625 6.78125 20.515625 \nQ 6.78125 27.484375 10.78125 32.3125 \nQ 14.796875 37.15625 21.921875 38.8125 \nz\nM 18.3125 54.390625 \nQ 18.3125 48.734375 21.84375 45.5625 \nQ 25.390625 42.390625 31.78125 42.390625 \nQ 38.140625 42.390625 41.71875 45.5625 \nQ 45.3125 48.734375 45.3125 54.390625 \nQ 45.3125 60.0625 41.71875 63.234375 \nQ 38.140625 66.40625 31.78125 66.40625 \nQ 25.390625 66.40625 21.84375 63.234375 \nQ 18.3125 60.0625 18.3125 54.390625 \nz\n\" id=\"DejaVuSans-56\"/>\n     <path d=\"M 33.015625 40.375 \nQ 26.375 40.375 22.484375 35.828125 \nQ 18.609375 31.296875 18.609375 23.390625 \nQ 18.609375 15.53125 22.484375 10.953125 \nQ 26.375 6.390625 33.015625 6.390625 \nQ 39.65625 6.390625 43.53125 10.953125 \nQ 47.40625 15.53125 47.40625 23.390625 \nQ 47.40625 31.296875 43.53125 35.828125 \nQ 39.65625 40.375 33.015625 40.375 \nz\nM 52.59375 71.296875 \nL 52.59375 62.3125 \nQ 48.875 64.0625 45.09375 64.984375 \nQ 41.3125 65.921875 37.59375 65.921875 \nQ 27.828125 65.921875 22.671875 59.328125 \nQ 17.53125 52.734375 16.796875 39.40625 \nQ 19.671875 43.65625 24.015625 45.921875 \nQ 28.375 48.1875 33.59375 48.1875 \nQ 44.578125 48.1875 50.953125 41.515625 \nQ 57.328125 34.859375 57.328125 23.390625 \nQ 57.328125 12.15625 50.6875 5.359375 \nQ 44.046875 -1.421875 33.015625 -1.421875 \nQ 20.359375 -1.421875 13.671875 8.265625 \nQ 6.984375 17.96875 6.984375 36.375 \nQ 6.984375 53.65625 15.1875 63.9375 \nQ 23.390625 74.21875 37.203125 74.21875 \nQ 40.921875 74.21875 44.703125 73.484375 \nQ 48.484375 72.75 52.59375 71.296875 \nz\n\" id=\"DejaVuSans-54\"/>\n    </defs>\n    <g style=\"fill:#262626;\" transform=\"translate(176.340625 16.318125)scale(0.12 -0.12)\">\n     <use xlink:href=\"#DejaVuSans-108\"/>\n     <use x=\"27.783203\" xlink:href=\"#DejaVuSans-97\"/>\n     <use x=\"89.0625\" xlink:href=\"#DejaVuSans-115\"/>\n     <use x=\"141.162109\" xlink:href=\"#DejaVuSans-116\"/>\n     <use x=\"180.371094\" xlink:href=\"#DejaVuSans-32\"/>\n     <use x=\"212.158203\" xlink:href=\"#DejaVuSans-108\"/>\n     <use x=\"239.941406\" xlink:href=\"#DejaVuSans-111\"/>\n     <use x=\"301.123047\" xlink:href=\"#DejaVuSans-115\"/>\n     <use x=\"353.222656\" xlink:href=\"#DejaVuSans-115\"/>\n     <use x=\"405.322266\" xlink:href=\"#DejaVuSans-58\"/>\n     <use x=\"439.013672\" xlink:href=\"#DejaVuSans-32\"/>\n     <use x=\"470.800781\" xlink:href=\"#DejaVuSans-48\"/>\n     <use x=\"534.423828\" xlink:href=\"#DejaVuSans-46\"/>\n     <use x=\"566.210938\" xlink:href=\"#DejaVuSans-48\"/>\n     <use x=\"629.833984\" xlink:href=\"#DejaVuSans-48\"/>\n     <use x=\"693.457031\" xlink:href=\"#DejaVuSans-49\"/>\n     <use x=\"757.080078\" xlink:href=\"#DejaVuSans-51\"/>\n     <use x=\"820.703125\" xlink:href=\"#DejaVuSans-50\"/>\n     <use x=\"884.326172\" xlink:href=\"#DejaVuSans-56\"/>\n     <use x=\"947.949219\" xlink:href=\"#DejaVuSans-50\"/>\n     <use x=\"1011.572266\" xlink:href=\"#DejaVuSans-54\"/>\n     <use x=\"1075.195312\" xlink:href=\"#DejaVuSans-52\"/>\n     <use x=\"1138.818359\" xlink:href=\"#DejaVuSans-48\"/>\n     <use x=\"1202.441406\" xlink:href=\"#DejaVuSans-49\"/>\n     <use x=\"1266.064453\" xlink:href=\"#DejaVuSans-51\"/>\n     <use x=\"1329.6875\" xlink:href=\"#DejaVuSans-56\"/>\n     <use x=\"1393.310547\" xlink:href=\"#DejaVuSans-54\"/>\n     <use x=\"1456.933594\" xlink:href=\"#DejaVuSans-52\"/>\n     <use x=\"1520.556641\" xlink:href=\"#DejaVuSans-49\"/>\n    </g>\n   </g>\n   <g id=\"legend_1\">\n    <g id=\"patch_7\">\n     <path d=\"M 426.088437 63.41 \nL 486.890938 63.41 \nQ 489.090937 63.41 489.090937 61.21 \nL 489.090937 30.018125 \nQ 489.090937 27.818125 486.890938 27.818125 \nL 426.088437 27.818125 \nQ 423.888438 27.818125 423.888438 30.018125 \nL 423.888438 61.21 \nQ 423.888438 63.41 426.088437 63.41 \nz\n\" style=\"fill:#eaeaf2;opacity:0.8;stroke:#cccccc;stroke-linejoin:miter;\"/>\n    </g>\n    <g id=\"line2d_14\">\n     <path d=\"M 428.288437 36.726406 \nL 450.288437 36.726406 \n\" style=\"fill:none;stroke:#4c72b0;stroke-linecap:round;stroke-width:1.5;\"/>\n    </g>\n    <g id=\"line2d_15\"/>\n    <g id=\"text_13\">\n     <!-- train -->\n     <defs>\n      <path d=\"M 41.109375 46.296875 \nQ 39.59375 47.171875 37.8125 47.578125 \nQ 36.03125 48 33.890625 48 \nQ 26.265625 48 22.1875 43.046875 \nQ 18.109375 38.09375 18.109375 28.8125 \nL 18.109375 0 \nL 9.078125 0 \nL 9.078125 54.6875 \nL 18.109375 54.6875 \nL 18.109375 46.1875 \nQ 20.953125 51.171875 25.484375 53.578125 \nQ 30.03125 56 36.53125 56 \nQ 37.453125 56 38.578125 55.875 \nQ 39.703125 55.765625 41.0625 55.515625 \nz\n\" id=\"DejaVuSans-114\"/>\n      <path d=\"M 9.421875 54.6875 \nL 18.40625 54.6875 \nL 18.40625 0 \nL 9.421875 0 \nz\nM 9.421875 75.984375 \nL 18.40625 75.984375 \nL 18.40625 64.59375 \nL 9.421875 64.59375 \nz\n\" id=\"DejaVuSans-105\"/>\n      <path d=\"M 54.890625 33.015625 \nL 54.890625 0 \nL 45.90625 0 \nL 45.90625 32.71875 \nQ 45.90625 40.484375 42.875 44.328125 \nQ 39.84375 48.1875 33.796875 48.1875 \nQ 26.515625 48.1875 22.3125 43.546875 \nQ 18.109375 38.921875 18.109375 30.90625 \nL 18.109375 0 \nL 9.078125 0 \nL 9.078125 54.6875 \nL 18.109375 54.6875 \nL 18.109375 46.1875 \nQ 21.34375 51.125 25.703125 53.5625 \nQ 30.078125 56 35.796875 56 \nQ 45.21875 56 50.046875 50.171875 \nQ 54.890625 44.34375 54.890625 33.015625 \nz\n\" id=\"DejaVuSans-110\"/>\n     </defs>\n     <g style=\"fill:#262626;\" transform=\"translate(459.088437 40.576406)scale(0.11 -0.11)\">\n      <use xlink:href=\"#DejaVuSans-116\"/>\n      <use x=\"39.208984\" xlink:href=\"#DejaVuSans-114\"/>\n      <use x=\"80.322266\" xlink:href=\"#DejaVuSans-97\"/>\n      <use x=\"141.601562\" xlink:href=\"#DejaVuSans-105\"/>\n      <use x=\"169.384766\" xlink:href=\"#DejaVuSans-110\"/>\n     </g>\n    </g>\n    <g id=\"line2d_16\">\n     <path d=\"M 428.288437 52.872344 \nL 450.288437 52.872344 \n\" style=\"fill:none;stroke:#dd8452;stroke-linecap:round;stroke-width:1.5;\"/>\n    </g>\n    <g id=\"line2d_17\"/>\n    <g id=\"text_14\">\n     <!-- val -->\n     <defs>\n      <path d=\"M 2.984375 54.6875 \nL 12.5 54.6875 \nL 29.59375 8.796875 \nL 46.6875 54.6875 \nL 56.203125 54.6875 \nL 35.6875 0 \nL 23.484375 0 \nz\n\" id=\"DejaVuSans-118\"/>\n     </defs>\n     <g style=\"fill:#262626;\" transform=\"translate(459.088437 56.722344)scale(0.11 -0.11)\">\n      <use xlink:href=\"#DejaVuSans-118\"/>\n      <use x=\"59.179688\" xlink:href=\"#DejaVuSans-97\"/>\n      <use x=\"120.458984\" xlink:href=\"#DejaVuSans-108\"/>\n     </g>\n    </g>\n   </g>\n  </g>\n </g>\n <defs>\n  <clipPath id=\"p9fefa15fbb\">\n   <rect height=\"217.44\" width=\"446.4\" x=\"48.190938\" y=\"22.318125\"/>\n  </clipPath>\n </defs>\n</svg>\n"
          },
          "metadata": {
            "tags": []
          }
        },
        {
          "output_type": "stream",
          "text": [
            "time: 203 ms\n"
          ],
          "name": "stdout"
        }
      ]
    },
    {
      "cell_type": "code",
      "metadata": {
        "id": "aYe8a3iUZS_G",
        "colab_type": "code",
        "colab": {
          "base_uri": "https://localhost:8080/",
          "height": 34
        },
        "outputId": "79c12026-ae66-4e9f-a5fe-1608eeb42691"
      },
      "source": [
        "y_pred = model.predict(X_test)"
      ],
      "execution_count": 58,
      "outputs": [
        {
          "output_type": "stream",
          "text": [
            "time: 1.09 s\n"
          ],
          "name": "stdout"
        }
      ]
    },
    {
      "cell_type": "code",
      "metadata": {
        "id": "3BXM4XBfZiNH",
        "colab_type": "code",
        "colab": {
          "base_uri": "https://localhost:8080/",
          "height": 375
        },
        "outputId": "ff7fa257-4b33-4e3e-b8e4-4cf32f6eb329"
      },
      "source": [
        "import matplotlib.pyplot as plt\n",
        "\n",
        "plt.plot(scaler.inverse_transform(y_test), label='Actual')\n",
        "plt.plot(scaler.inverse_transform(y_pred), label='Predict')\n",
        "plt.legend()\n",
        "plt.show()"
      ],
      "execution_count": 59,
      "outputs": [
        {
          "output_type": "display_data",
          "data": {
            "text/plain": [
              "<Figure size 576x288 with 1 Axes>"
            ],
            "image/svg+xml": "<?xml version=\"1.0\" encoding=\"utf-8\" standalone=\"no\"?>\n<!DOCTYPE svg PUBLIC \"-//W3C//DTD SVG 1.1//EN\"\n  \"http://www.w3.org/Graphics/SVG/1.1/DTD/svg11.dtd\">\n<!-- Created with matplotlib (https://matplotlib.org/) -->\n<svg height=\"252.779513pt\" version=\"1.1\" viewBox=\"0 0 484.2975 252.779513\" width=\"484.2975pt\" xmlns=\"http://www.w3.org/2000/svg\" xmlns:xlink=\"http://www.w3.org/1999/xlink\">\n <defs>\n  <style type=\"text/css\">\n*{stroke-linecap:butt;stroke-linejoin:round;}\n  </style>\n </defs>\n <g id=\"figure_1\">\n  <g id=\"patch_1\">\n   <path d=\"M 0 252.779513 \nL 484.2975 252.779513 \nL 484.2975 0 \nL 0 0 \nz\n\" style=\"fill:#ffffff;\"/>\n  </g>\n  <g id=\"axes_1\">\n   <g id=\"patch_2\">\n    <path d=\"M 30.6975 225.433576 \nL 477.0975 225.433576 \nL 477.0975 7.993576 \nL 30.6975 7.993576 \nz\n\" style=\"fill:#eaeaf2;\"/>\n   </g>\n   <g id=\"matplotlib.axis_1\">\n    <g id=\"xtick_1\">\n     <g id=\"line2d_1\">\n      <path clip-path=\"url(#p91531f0444)\" d=\"M 50.988409 225.433576 \nL 50.988409 7.993576 \n\" style=\"fill:none;stroke:#ffffff;stroke-linecap:round;\"/>\n     </g>\n     <g id=\"text_1\">\n      <!-- 0 -->\n      <defs>\n       <path d=\"M 31.78125 66.40625 \nQ 24.171875 66.40625 20.328125 58.90625 \nQ 16.5 51.421875 16.5 36.375 \nQ 16.5 21.390625 20.328125 13.890625 \nQ 24.171875 6.390625 31.78125 6.390625 \nQ 39.453125 6.390625 43.28125 13.890625 \nQ 47.125 21.390625 47.125 36.375 \nQ 47.125 51.421875 43.28125 58.90625 \nQ 39.453125 66.40625 31.78125 66.40625 \nz\nM 31.78125 74.21875 \nQ 44.046875 74.21875 50.515625 64.515625 \nQ 56.984375 54.828125 56.984375 36.375 \nQ 56.984375 17.96875 50.515625 8.265625 \nQ 44.046875 -1.421875 31.78125 -1.421875 \nQ 19.53125 -1.421875 13.0625 8.265625 \nQ 6.59375 17.96875 6.59375 36.375 \nQ 6.59375 54.828125 13.0625 64.515625 \nQ 19.53125 74.21875 31.78125 74.21875 \nz\n\" id=\"DejaVuSans-48\"/>\n      </defs>\n      <g style=\"fill:#262626;\" transform=\"translate(47.489034 243.291857)scale(0.11 -0.11)\">\n       <use xlink:href=\"#DejaVuSans-48\"/>\n      </g>\n     </g>\n    </g>\n    <g id=\"xtick_2\">\n     <g id=\"line2d_2\">\n      <path clip-path=\"url(#p91531f0444)\" d=\"M 114.596275 225.433576 \nL 114.596275 7.993576 \n\" style=\"fill:none;stroke:#ffffff;stroke-linecap:round;\"/>\n     </g>\n     <g id=\"text_2\">\n      <!-- 100 -->\n      <defs>\n       <path d=\"M 12.40625 8.296875 \nL 28.515625 8.296875 \nL 28.515625 63.921875 \nL 10.984375 60.40625 \nL 10.984375 69.390625 \nL 28.421875 72.90625 \nL 38.28125 72.90625 \nL 38.28125 8.296875 \nL 54.390625 8.296875 \nL 54.390625 0 \nL 12.40625 0 \nz\n\" id=\"DejaVuSans-49\"/>\n      </defs>\n      <g style=\"fill:#262626;\" transform=\"translate(104.09815 243.291857)scale(0.11 -0.11)\">\n       <use xlink:href=\"#DejaVuSans-49\"/>\n       <use x=\"63.623047\" xlink:href=\"#DejaVuSans-48\"/>\n       <use x=\"127.246094\" xlink:href=\"#DejaVuSans-48\"/>\n      </g>\n     </g>\n    </g>\n    <g id=\"xtick_3\">\n     <g id=\"line2d_3\">\n      <path clip-path=\"url(#p91531f0444)\" d=\"M 178.20414 225.433576 \nL 178.20414 7.993576 \n\" style=\"fill:none;stroke:#ffffff;stroke-linecap:round;\"/>\n     </g>\n     <g id=\"text_3\">\n      <!-- 200 -->\n      <defs>\n       <path d=\"M 19.1875 8.296875 \nL 53.609375 8.296875 \nL 53.609375 0 \nL 7.328125 0 \nL 7.328125 8.296875 \nQ 12.9375 14.109375 22.625 23.890625 \nQ 32.328125 33.6875 34.8125 36.53125 \nQ 39.546875 41.84375 41.421875 45.53125 \nQ 43.3125 49.21875 43.3125 52.78125 \nQ 43.3125 58.59375 39.234375 62.25 \nQ 35.15625 65.921875 28.609375 65.921875 \nQ 23.96875 65.921875 18.8125 64.3125 \nQ 13.671875 62.703125 7.8125 59.421875 \nL 7.8125 69.390625 \nQ 13.765625 71.78125 18.9375 73 \nQ 24.125 74.21875 28.421875 74.21875 \nQ 39.75 74.21875 46.484375 68.546875 \nQ 53.21875 62.890625 53.21875 53.421875 \nQ 53.21875 48.921875 51.53125 44.890625 \nQ 49.859375 40.875 45.40625 35.40625 \nQ 44.1875 33.984375 37.640625 27.21875 \nQ 31.109375 20.453125 19.1875 8.296875 \nz\n\" id=\"DejaVuSans-50\"/>\n      </defs>\n      <g style=\"fill:#262626;\" transform=\"translate(167.706015 243.291857)scale(0.11 -0.11)\">\n       <use xlink:href=\"#DejaVuSans-50\"/>\n       <use x=\"63.623047\" xlink:href=\"#DejaVuSans-48\"/>\n       <use x=\"127.246094\" xlink:href=\"#DejaVuSans-48\"/>\n      </g>\n     </g>\n    </g>\n    <g id=\"xtick_4\">\n     <g id=\"line2d_4\">\n      <path clip-path=\"url(#p91531f0444)\" d=\"M 241.812006 225.433576 \nL 241.812006 7.993576 \n\" style=\"fill:none;stroke:#ffffff;stroke-linecap:round;\"/>\n     </g>\n     <g id=\"text_4\">\n      <!-- 300 -->\n      <defs>\n       <path d=\"M 40.578125 39.3125 \nQ 47.65625 37.796875 51.625 33 \nQ 55.609375 28.21875 55.609375 21.1875 \nQ 55.609375 10.40625 48.1875 4.484375 \nQ 40.765625 -1.421875 27.09375 -1.421875 \nQ 22.515625 -1.421875 17.65625 -0.515625 \nQ 12.796875 0.390625 7.625 2.203125 \nL 7.625 11.71875 \nQ 11.71875 9.328125 16.59375 8.109375 \nQ 21.484375 6.890625 26.8125 6.890625 \nQ 36.078125 6.890625 40.9375 10.546875 \nQ 45.796875 14.203125 45.796875 21.1875 \nQ 45.796875 27.640625 41.28125 31.265625 \nQ 36.765625 34.90625 28.71875 34.90625 \nL 20.21875 34.90625 \nL 20.21875 43.015625 \nL 29.109375 43.015625 \nQ 36.375 43.015625 40.234375 45.921875 \nQ 44.09375 48.828125 44.09375 54.296875 \nQ 44.09375 59.90625 40.109375 62.90625 \nQ 36.140625 65.921875 28.71875 65.921875 \nQ 24.65625 65.921875 20.015625 65.03125 \nQ 15.375 64.15625 9.8125 62.3125 \nL 9.8125 71.09375 \nQ 15.4375 72.65625 20.34375 73.4375 \nQ 25.25 74.21875 29.59375 74.21875 \nQ 40.828125 74.21875 47.359375 69.109375 \nQ 53.90625 64.015625 53.90625 55.328125 \nQ 53.90625 49.265625 50.4375 45.09375 \nQ 46.96875 40.921875 40.578125 39.3125 \nz\n\" id=\"DejaVuSans-51\"/>\n      </defs>\n      <g style=\"fill:#262626;\" transform=\"translate(231.313881 243.291857)scale(0.11 -0.11)\">\n       <use xlink:href=\"#DejaVuSans-51\"/>\n       <use x=\"63.623047\" xlink:href=\"#DejaVuSans-48\"/>\n       <use x=\"127.246094\" xlink:href=\"#DejaVuSans-48\"/>\n      </g>\n     </g>\n    </g>\n    <g id=\"xtick_5\">\n     <g id=\"line2d_5\">\n      <path clip-path=\"url(#p91531f0444)\" d=\"M 305.419871 225.433576 \nL 305.419871 7.993576 \n\" style=\"fill:none;stroke:#ffffff;stroke-linecap:round;\"/>\n     </g>\n     <g id=\"text_5\">\n      <!-- 400 -->\n      <defs>\n       <path d=\"M 37.796875 64.3125 \nL 12.890625 25.390625 \nL 37.796875 25.390625 \nz\nM 35.203125 72.90625 \nL 47.609375 72.90625 \nL 47.609375 25.390625 \nL 58.015625 25.390625 \nL 58.015625 17.1875 \nL 47.609375 17.1875 \nL 47.609375 0 \nL 37.796875 0 \nL 37.796875 17.1875 \nL 4.890625 17.1875 \nL 4.890625 26.703125 \nz\n\" id=\"DejaVuSans-52\"/>\n      </defs>\n      <g style=\"fill:#262626;\" transform=\"translate(294.921746 243.291857)scale(0.11 -0.11)\">\n       <use xlink:href=\"#DejaVuSans-52\"/>\n       <use x=\"63.623047\" xlink:href=\"#DejaVuSans-48\"/>\n       <use x=\"127.246094\" xlink:href=\"#DejaVuSans-48\"/>\n      </g>\n     </g>\n    </g>\n    <g id=\"xtick_6\">\n     <g id=\"line2d_6\">\n      <path clip-path=\"url(#p91531f0444)\" d=\"M 369.027737 225.433576 \nL 369.027737 7.993576 \n\" style=\"fill:none;stroke:#ffffff;stroke-linecap:round;\"/>\n     </g>\n     <g id=\"text_6\">\n      <!-- 500 -->\n      <defs>\n       <path d=\"M 10.796875 72.90625 \nL 49.515625 72.90625 \nL 49.515625 64.59375 \nL 19.828125 64.59375 \nL 19.828125 46.734375 \nQ 21.96875 47.46875 24.109375 47.828125 \nQ 26.265625 48.1875 28.421875 48.1875 \nQ 40.625 48.1875 47.75 41.5 \nQ 54.890625 34.8125 54.890625 23.390625 \nQ 54.890625 11.625 47.5625 5.09375 \nQ 40.234375 -1.421875 26.90625 -1.421875 \nQ 22.3125 -1.421875 17.546875 -0.640625 \nQ 12.796875 0.140625 7.71875 1.703125 \nL 7.71875 11.625 \nQ 12.109375 9.234375 16.796875 8.0625 \nQ 21.484375 6.890625 26.703125 6.890625 \nQ 35.15625 6.890625 40.078125 11.328125 \nQ 45.015625 15.765625 45.015625 23.390625 \nQ 45.015625 31 40.078125 35.4375 \nQ 35.15625 39.890625 26.703125 39.890625 \nQ 22.75 39.890625 18.8125 39.015625 \nQ 14.890625 38.140625 10.796875 36.28125 \nz\n\" id=\"DejaVuSans-53\"/>\n      </defs>\n      <g style=\"fill:#262626;\" transform=\"translate(358.529612 243.291857)scale(0.11 -0.11)\">\n       <use xlink:href=\"#DejaVuSans-53\"/>\n       <use x=\"63.623047\" xlink:href=\"#DejaVuSans-48\"/>\n       <use x=\"127.246094\" xlink:href=\"#DejaVuSans-48\"/>\n      </g>\n     </g>\n    </g>\n    <g id=\"xtick_7\">\n     <g id=\"line2d_7\">\n      <path clip-path=\"url(#p91531f0444)\" d=\"M 432.635602 225.433576 \nL 432.635602 7.993576 \n\" style=\"fill:none;stroke:#ffffff;stroke-linecap:round;\"/>\n     </g>\n     <g id=\"text_7\">\n      <!-- 600 -->\n      <defs>\n       <path d=\"M 33.015625 40.375 \nQ 26.375 40.375 22.484375 35.828125 \nQ 18.609375 31.296875 18.609375 23.390625 \nQ 18.609375 15.53125 22.484375 10.953125 \nQ 26.375 6.390625 33.015625 6.390625 \nQ 39.65625 6.390625 43.53125 10.953125 \nQ 47.40625 15.53125 47.40625 23.390625 \nQ 47.40625 31.296875 43.53125 35.828125 \nQ 39.65625 40.375 33.015625 40.375 \nz\nM 52.59375 71.296875 \nL 52.59375 62.3125 \nQ 48.875 64.0625 45.09375 64.984375 \nQ 41.3125 65.921875 37.59375 65.921875 \nQ 27.828125 65.921875 22.671875 59.328125 \nQ 17.53125 52.734375 16.796875 39.40625 \nQ 19.671875 43.65625 24.015625 45.921875 \nQ 28.375 48.1875 33.59375 48.1875 \nQ 44.578125 48.1875 50.953125 41.515625 \nQ 57.328125 34.859375 57.328125 23.390625 \nQ 57.328125 12.15625 50.6875 5.359375 \nQ 44.046875 -1.421875 33.015625 -1.421875 \nQ 20.359375 -1.421875 13.671875 8.265625 \nQ 6.984375 17.96875 6.984375 36.375 \nQ 6.984375 53.65625 15.1875 63.9375 \nQ 23.390625 74.21875 37.203125 74.21875 \nQ 40.921875 74.21875 44.703125 73.484375 \nQ 48.484375 72.75 52.59375 71.296875 \nz\n\" id=\"DejaVuSans-54\"/>\n      </defs>\n      <g style=\"fill:#262626;\" transform=\"translate(422.137477 243.291857)scale(0.11 -0.11)\">\n       <use xlink:href=\"#DejaVuSans-54\"/>\n       <use x=\"63.623047\" xlink:href=\"#DejaVuSans-48\"/>\n       <use x=\"127.246094\" xlink:href=\"#DejaVuSans-48\"/>\n      </g>\n     </g>\n    </g>\n   </g>\n   <g id=\"matplotlib.axis_2\">\n    <g id=\"ytick_1\">\n     <g id=\"line2d_8\">\n      <path clip-path=\"url(#p91531f0444)\" d=\"M 30.6975 197.010052 \nL 477.0975 197.010052 \n\" style=\"fill:none;stroke:#ffffff;stroke-linecap:round;\"/>\n     </g>\n     <g id=\"text_8\">\n      <!-- 10 -->\n      <g style=\"fill:#262626;\" transform=\"translate(7.2 201.189193)scale(0.11 -0.11)\">\n       <use xlink:href=\"#DejaVuSans-49\"/>\n       <use x=\"63.623047\" xlink:href=\"#DejaVuSans-48\"/>\n      </g>\n     </g>\n    </g>\n    <g id=\"ytick_2\">\n     <g id=\"line2d_9\">\n      <path clip-path=\"url(#p91531f0444)\" d=\"M 30.6975 150.602324 \nL 477.0975 150.602324 \n\" style=\"fill:none;stroke:#ffffff;stroke-linecap:round;\"/>\n     </g>\n     <g id=\"text_9\">\n      <!-- 12 -->\n      <g style=\"fill:#262626;\" transform=\"translate(7.2 154.781465)scale(0.11 -0.11)\">\n       <use xlink:href=\"#DejaVuSans-49\"/>\n       <use x=\"63.623047\" xlink:href=\"#DejaVuSans-50\"/>\n      </g>\n     </g>\n    </g>\n    <g id=\"ytick_3\">\n     <g id=\"line2d_10\">\n      <path clip-path=\"url(#p91531f0444)\" d=\"M 30.6975 104.194596 \nL 477.0975 104.194596 \n\" style=\"fill:none;stroke:#ffffff;stroke-linecap:round;\"/>\n     </g>\n     <g id=\"text_10\">\n      <!-- 14 -->\n      <g style=\"fill:#262626;\" transform=\"translate(7.2 108.373737)scale(0.11 -0.11)\">\n       <use xlink:href=\"#DejaVuSans-49\"/>\n       <use x=\"63.623047\" xlink:href=\"#DejaVuSans-52\"/>\n      </g>\n     </g>\n    </g>\n    <g id=\"ytick_4\">\n     <g id=\"line2d_11\">\n      <path clip-path=\"url(#p91531f0444)\" d=\"M 30.6975 57.786868 \nL 477.0975 57.786868 \n\" style=\"fill:none;stroke:#ffffff;stroke-linecap:round;\"/>\n     </g>\n     <g id=\"text_11\">\n      <!-- 16 -->\n      <g style=\"fill:#262626;\" transform=\"translate(7.2 61.966009)scale(0.11 -0.11)\">\n       <use xlink:href=\"#DejaVuSans-49\"/>\n       <use x=\"63.623047\" xlink:href=\"#DejaVuSans-54\"/>\n      </g>\n     </g>\n    </g>\n    <g id=\"ytick_5\">\n     <g id=\"line2d_12\">\n      <path clip-path=\"url(#p91531f0444)\" d=\"M 30.6975 11.379141 \nL 477.0975 11.379141 \n\" style=\"fill:none;stroke:#ffffff;stroke-linecap:round;\"/>\n     </g>\n     <g id=\"text_12\">\n      <!-- 18 -->\n      <defs>\n       <path d=\"M 31.78125 34.625 \nQ 24.75 34.625 20.71875 30.859375 \nQ 16.703125 27.09375 16.703125 20.515625 \nQ 16.703125 13.921875 20.71875 10.15625 \nQ 24.75 6.390625 31.78125 6.390625 \nQ 38.8125 6.390625 42.859375 10.171875 \nQ 46.921875 13.96875 46.921875 20.515625 \nQ 46.921875 27.09375 42.890625 30.859375 \nQ 38.875 34.625 31.78125 34.625 \nz\nM 21.921875 38.8125 \nQ 15.578125 40.375 12.03125 44.71875 \nQ 8.5 49.078125 8.5 55.328125 \nQ 8.5 64.0625 14.71875 69.140625 \nQ 20.953125 74.21875 31.78125 74.21875 \nQ 42.671875 74.21875 48.875 69.140625 \nQ 55.078125 64.0625 55.078125 55.328125 \nQ 55.078125 49.078125 51.53125 44.71875 \nQ 48 40.375 41.703125 38.8125 \nQ 48.828125 37.15625 52.796875 32.3125 \nQ 56.78125 27.484375 56.78125 20.515625 \nQ 56.78125 9.90625 50.3125 4.234375 \nQ 43.84375 -1.421875 31.78125 -1.421875 \nQ 19.734375 -1.421875 13.25 4.234375 \nQ 6.78125 9.90625 6.78125 20.515625 \nQ 6.78125 27.484375 10.78125 32.3125 \nQ 14.796875 37.15625 21.921875 38.8125 \nz\nM 18.3125 54.390625 \nQ 18.3125 48.734375 21.84375 45.5625 \nQ 25.390625 42.390625 31.78125 42.390625 \nQ 38.140625 42.390625 41.71875 45.5625 \nQ 45.3125 48.734375 45.3125 54.390625 \nQ 45.3125 60.0625 41.71875 63.234375 \nQ 38.140625 66.40625 31.78125 66.40625 \nQ 25.390625 66.40625 21.84375 63.234375 \nQ 18.3125 60.0625 18.3125 54.390625 \nz\n\" id=\"DejaVuSans-56\"/>\n      </defs>\n      <g style=\"fill:#262626;\" transform=\"translate(7.2 15.558281)scale(0.11 -0.11)\">\n       <use xlink:href=\"#DejaVuSans-49\"/>\n       <use x=\"63.623047\" xlink:href=\"#DejaVuSans-56\"/>\n      </g>\n     </g>\n    </g>\n   </g>\n   <g id=\"line2d_13\">\n    <path clip-path=\"url(#p91531f0444)\" d=\"M 50.988409 21.797676 \nL 51.624488 21.681656 \nL 52.260566 23.537965 \nL 52.896645 30.800775 \nL 53.532724 30.638348 \nL 54.168802 33.306792 \nL 54.804881 33.144365 \nL 55.44096 29.710193 \nL 56.713117 34.165335 \nL 57.349196 38.411642 \nL 57.985274 38.643681 \nL 58.621353 42.889988 \nL 59.257432 39.966301 \nL 59.89351 40.732029 \nL 60.529589 49.224643 \nL 61.165668 50.361632 \nL 61.801746 48.06445 \nL 62.437825 47.113091 \nL 63.073904 47.414741 \nL 63.709982 48.621342 \nL 64.346061 56.325025 \nL 64.982139 59.411139 \nL 65.618218 56.928326 \nL 66.254297 62.288418 \nL 66.890375 62.752495 \nL 67.526454 60.153663 \nL 68.162533 61.081817 \nL 69.43469 67.138026 \nL 70.070769 66.302687 \nL 70.706847 68.599869 \nL 71.342926 68.36783 \nL 71.979005 76.767629 \nL 73.251162 73.495884 \nL 73.887241 70.200936 \nL 74.523319 71.384333 \nL 75.159398 71.54676 \nL 75.795477 78.159861 \nL 76.431555 80.271413 \nL 77.067634 83.566361 \nL 77.703713 88.48558 \nL 78.339791 91.107617 \nL 78.97587 88.253542 \nL 79.611949 95.005866 \nL 80.248027 94.42577 \nL 80.884106 90.411501 \nL 81.520185 90.527521 \nL 82.156263 90.063443 \nL 82.792342 95.098682 \nL 83.42842 98.277611 \nL 84.064499 104.728285 \nL 84.700578 116.631867 \nL 85.336656 116.446237 \nL 85.972735 120.390893 \nL 86.608814 119.416331 \nL 87.244892 123.500211 \nL 87.880971 133.106611 \nL 88.51705 125.101278 \nL 89.153128 120.182059 \nL 89.789207 121.411863 \nL 90.425286 123.31458 \nL 91.061364 133.733115 \nL 91.697443 133.106611 \nL 92.333522 138.304276 \nL 92.9696 136.888841 \nL 93.605679 140.972721 \nL 94.241758 135.426997 \nL 94.877836 133.106611 \nL 95.513915 124.846035 \nL 96.149994 124.242735 \nL 96.786072 125.634967 \nL 97.422151 128.164188 \nL 98.05823 131.760787 \nL 98.694308 136.053502 \nL 99.330387 138.141849 \nL 100.602544 164.292604 \nL 101.238623 160.115908 \nL 101.874701 159.350181 \nL 102.51078 143.966019 \nL 103.782937 129.602827 \nL 104.419016 140.601459 \nL 105.055095 131.134282 \nL 105.691173 135.102143 \nL 106.327252 140.810294 \nL 106.963331 143.153884 \nL 107.599409 146.680871 \nL 108.235488 146.239998 \nL 108.871567 151.066402 \nL 109.507645 153.64203 \nL 110.143724 151.507275 \nL 110.779803 145.103008 \nL 111.415881 143.13068 \nL 112.05196 147.51621 \nL 112.688039 146.239998 \nL 113.324117 148.838831 \nL 113.960196 153.433196 \nL 114.596275 152.435429 \nL 115.232353 152.644264 \nL 115.868432 163.782119 \nL 116.504511 163.55008 \nL 117.140589 155.475136 \nL 118.412747 146.680871 \nL 120.320982 115.56449 \nL 120.957061 108.348088 \nL 121.59314 105.401197 \nL 122.229218 109.369058 \nL 122.865297 109.786728 \nL 123.501376 106.190129 \nL 124.137454 106.190129 \nL 124.773533 107.605564 \nL 125.409612 112.733618 \nL 126.04569 109.369058 \nL 126.681769 113.800996 \nL 127.317848 107.187895 \nL 127.953926 108.533719 \nL 128.590005 117.815265 \nL 129.226084 123.360988 \nL 129.862162 119.973224 \nL 130.498241 120.55332 \nL 131.13432 118.024099 \nL 131.770398 116.956722 \nL 132.406477 112.153522 \nL 133.042556 113.615365 \nL 133.678634 116.515848 \nL 134.314713 123.175357 \nL 134.950792 128.140984 \nL 135.58687 126.957587 \nL 136.222949 133.965154 \nL 136.859028 142.805826 \nL 137.495106 140.230197 \nL 138.131185 129.765254 \nL 138.767263 132.132049 \nL 139.403342 130.322147 \nL 140.039421 136.192725 \nL 140.675499 138.536315 \nL 141.311578 138.32748 \nL 141.947657 131.760787 \nL 142.583735 131.575156 \nL 143.219814 131.760787 \nL 143.855893 130.136516 \nL 144.491971 128.094576 \nL 145.12805 137.60816 \nL 145.764129 141.251167 \nL 146.400207 142.364953 \nL 147.036286 157.517076 \nL 147.672365 159.721443 \nL 148.308443 159.373385 \nL 148.944522 160.162316 \nL 149.580601 168.214057 \nL 150.216679 169.815124 \nL 150.852758 163.178819 \nL 151.488837 164.222992 \nL 152.124915 173.75978 \nL 152.760994 178.191718 \nL 154.033151 181.486667 \nL 154.66923 169.861531 \nL 155.305308 167.842795 \nL 155.941387 173.133276 \nL 156.577466 173.968615 \nL 157.213544 178.586184 \nL 158.485702 170.279201 \nL 159.12178 168.260465 \nL 159.757859 181.486667 \nL 160.393938 190.350543 \nL 161.030016 191.626756 \nL 161.666095 197.334906 \nL 162.302174 196.313936 \nL 162.938252 202.416552 \nL 163.574331 196.708402 \nL 164.21041 203.669561 \nL 164.846488 208.876508 \nL 165.482567 215.549939 \nL 166.118646 210.974137 \nL 166.754724 196.708402 \nL 167.390803 206.523636 \nL 168.026882 196.499567 \nL 168.66296 197.915003 \nL 169.299039 189.329573 \nL 169.935118 179.073465 \nL 171.207275 191.580348 \nL 171.843354 184.410354 \nL 172.479432 181.32424 \nL 173.115511 187.264429 \nL 173.751589 189.329573 \nL 174.387668 193.807919 \nL 175.023747 197.334906 \nL 175.659825 198.518303 \nL 176.295904 193.367045 \nL 176.931983 190.443359 \nL 177.568061 181.602686 \nL 178.20414 183.018122 \nL 178.840219 183.830257 \nL 179.476297 177.031525 \nL 180.112376 183.830257 \nL 180.748455 183.412588 \nL 181.384533 185.083266 \nL 182.020612 182.182783 \nL 182.656691 182.182783 \nL 183.292769 175.337643 \nL 183.928848 171.207355 \nL 184.564927 165.615224 \nL 185.201005 161.879402 \nL 185.837084 157.308241 \nL 186.473163 170.789686 \nL 187.109241 165.429593 \nL 187.74532 165.429593 \nL 188.381399 157.308241 \nL 189.017477 160.046297 \nL 189.653556 164.014158 \nL 190.289635 157.749114 \nL 190.925713 153.990088 \nL 191.561792 153.572419 \nL 192.19787 155.266301 \nL 192.833949 156.10164 \nL 193.470028 162.343479 \nL 194.106106 161.299306 \nL 194.742185 161.090471 \nL 195.378264 158.607657 \nL 196.014342 155.49834 \nL 196.650421 158.189988 \nL 197.922578 167.541145 \nL 198.558657 166.914641 \nL 199.194736 162.761149 \nL 199.830814 169.211823 \nL 200.466893 159.628627 \nL 201.102972 154.616593 \nL 201.73905 146.936114 \nL 202.375129 144.267669 \nL 203.011208 148.467569 \nL 203.647286 151.159217 \nL 204.919444 139.6501 \nL 205.555522 140.253401 \nL 206.191601 140.253401 \nL 206.82768 136.28554 \nL 207.463758 139.6501 \nL 208.099837 133.779523 \nL 208.735916 126.215063 \nL 209.371994 130.182924 \nL 210.008073 131.876806 \nL 210.644151 135.241366 \nL 211.28023 144.058835 \nL 211.916309 147.400191 \nL 212.552387 143.409126 \nL 213.188466 145.89194 \nL 213.824545 149.883004 \nL 214.460623 145.079805 \nL 215.096702 144.708543 \nL 215.732781 144.522912 \nL 216.368859 146.147182 \nL 217.004938 141.529613 \nL 217.641017 139.882139 \nL 218.277095 143.455534 \nL 218.913174 142.341749 \nL 219.549253 140.972721 \nL 220.185331 141.761652 \nL 220.82141 140.090974 \nL 221.457489 135.450201 \nL 222.093567 135.009328 \nL 222.729646 133.965154 \nL 223.365725 134.54525 \nL 224.001803 133.756319 \nL 224.637882 133.965154 \nL 225.273961 132.712145 \nL 225.910039 129.370789 \nL 226.546118 124.915647 \nL 227.182196 124.474773 \nL 227.818275 127.212829 \nL 228.454354 131.435933 \nL 229.090432 133.431465 \nL 229.726511 134.197192 \nL 230.36259 133.22263 \nL 230.998668 134.846901 \nL 231.634747 134.846901 \nL 232.906904 127.885741 \nL 233.542983 129.602827 \nL 234.179062 124.497977 \nL 235.451219 143.803592 \nL 236.087298 135.519813 \nL 236.723376 130.600594 \nL 237.995534 126.006228 \nL 238.631612 131.714379 \nL 239.267691 131.48234 \nL 239.90377 133.22263 \nL 240.539848 130.182924 \nL 241.175927 131.48234 \nL 241.812006 123.61623 \nL 242.448084 127.305645 \nL 243.084163 127.723314 \nL 243.720242 127.723314 \nL 244.35632 127.607295 \nL 244.992399 130.090109 \nL 245.628477 130.484574 \nL 246.264556 132.456903 \nL 246.900635 132.665737 \nL 247.536713 138.118645 \nL 248.172792 135.844667 \nL 248.808871 137.561753 \nL 249.444949 138.559519 \nL 250.081028 135.194959 \nL 250.717107 140.137382 \nL 251.353185 143.084272 \nL 252.625343 136.076705 \nL 253.8975 132.016029 \nL 254.533579 132.665737 \nL 255.169657 132.224864 \nL 255.805736 130.136516 \nL 256.441815 129.324381 \nL 257.077893 126.679141 \nL 257.713972 126.052636 \nL 258.350051 124.776424 \nL 258.986129 119.810797 \nL 259.622208 121.38866 \nL 260.258287 125.658171 \nL 260.894365 122.200795 \nL 261.530444 125.47254 \nL 262.166523 125.240501 \nL 262.802601 125.867005 \nL 263.43868 125.240501 \nL 264.074758 126.447102 \nL 264.710837 128.651469 \nL 265.346916 128.651469 \nL 265.982994 124.103512 \nL 266.619073 122.200795 \nL 267.255152 121.597494 \nL 267.89123 116.16779 \nL 268.527309 122.827299 \nL 269.163388 117.722449 \nL 269.799466 125.101278 \nL 270.435545 126.79516 \nL 271.071624 125.727782 \nL 271.707702 127.630499 \nL 272.343781 126.79516 \nL 272.97986 128.094576 \nL 273.615938 125.333316 \nL 274.252017 123.755454 \nL 276.160253 131.319913 \nL 276.796332 120.994194 \nL 277.43241 121.458271 \nL 278.068489 117.119149 \nL 278.704568 117.977692 \nL 279.340646 120.530117 \nL 279.976725 116.88711 \nL 280.612804 115.819732 \nL 281.248882 120.762155 \nL 281.884961 114.937985 \nL 282.521039 121.226233 \nL 283.157118 122.340018 \nL 283.793197 124.497977 \nL 284.429275 125.820598 \nL 285.065354 129.927681 \nL 285.701433 128.396226 \nL 286.337511 121.040602 \nL 286.97359 122.989726 \nL 288.881826 122.989726 \nL 289.517905 121.27264 \nL 290.153983 123.825065 \nL 290.790062 124.938851 \nL 291.426141 130.322147 \nL 292.062219 132.967388 \nL 293.334377 135.98389 \nL 293.970455 139.905343 \nL 294.606534 133.825931 \nL 295.242613 134.638066 \nL 295.878691 129.533216 \nL 296.51477 130.391759 \nL 297.150849 133.269038 \nL 297.786927 133.895542 \nL 298.423006 126.702344 \nL 299.059084 128.187392 \nL 299.695163 129.974089 \nL 300.331242 128.674673 \nL 300.96732 122.780891 \nL 301.603399 119.926816 \nL 302.239478 119.323516 \nL 302.875556 121.27264 \nL 303.511635 126.261471 \nL 304.147714 128.442634 \nL 304.783792 117.560022 \nL 305.419871 116.190994 \nL 306.05595 112.50158 \nL 306.692028 111.225367 \nL 307.328107 111.457406 \nL 307.964186 110.390028 \nL 308.600264 110.181193 \nL 309.236343 110.598863 \nL 309.872422 109.949155 \nL 310.5085 103.405665 \nL 311.144579 110.807698 \nL 312.416736 107.814399 \nL 313.688894 109.763524 \nL 314.324972 110.204397 \nL 314.961051 109.763524 \nL 315.59713 110.436436 \nL 316.233208 109.090612 \nL 316.869287 113.035269 \nL 317.505365 112.362356 \nL 318.141444 112.80323 \nL 318.777523 108.4177 \nL 319.413601 106.700614 \nL 320.04968 108.208865 \nL 320.685759 106.050905 \nL 321.321837 107.141487 \nL 321.957916 111.944687 \nL 322.593995 108.232069 \nL 323.230073 108.046438 \nL 323.866152 109.345854 \nL 324.502231 107.837603 \nL 325.138309 107.373526 \nL 325.774388 108.046438 \nL 326.410467 108.046438 \nL 327.046545 109.809931 \nL 327.682624 104.728285 \nL 328.318703 102.964792 \nL 328.954781 103.19683 \nL 329.59086 104.960324 \nL 330.226939 111.573425 \nL 330.863017 111.109348 \nL 331.499096 111.967891 \nL 332.135175 110.45964 \nL 332.771253 107.837603 \nL 333.407332 110.250805 \nL 334.043411 112.199929 \nL 334.679489 115.309247 \nL 335.315568 113.545754 \nL 335.951646 108.696146 \nL 336.587725 109.415466 \nL 337.223804 110.738086 \nL 337.859882 111.410998 \nL 338.495961 113.638569 \nL 339.13204 117.397595 \nL 339.768118 115.842936 \nL 340.404197 117.861672 \nL 341.040276 117.165556 \nL 341.676354 117.629634 \nL 342.312433 115.402063 \nL 342.948512 116.701479 \nL 343.58459 112.710414 \nL 344.220669 116.028567 \nL 344.856748 117.397595 \nL 345.492826 116.028567 \nL 346.128905 116.933518 \nL 346.764984 125.820598 \nL 347.401062 125.820598 \nL 348.037141 129.13875 \nL 348.67322 129.417196 \nL 349.309298 134.081173 \nL 349.945377 127.81613 \nL 350.581456 128.721081 \nL 351.217534 128.489042 \nL 351.853613 128.953119 \nL 352.489692 131.59836 \nL 353.12577 130.925448 \nL 353.761849 132.062437 \nL 354.397927 133.431465 \nL 355.034006 133.199426 \nL 355.670085 129.881274 \nL 356.306163 124.938851 \nL 356.942242 122.71128 \nL 357.578321 122.943318 \nL 358.214399 122.316814 \nL 358.850478 121.38866 \nL 359.486557 122.316814 \nL 360.122635 119.996428 \nL 360.758714 118.697011 \nL 361.394793 115.610897 \nL 362.030871 115.842936 \nL 362.66695 115.425267 \nL 363.303029 120.785359 \nL 363.939107 121.017398 \nL 364.575186 122.804095 \nL 365.211265 127.491276 \nL 365.847343 127.491276 \nL 366.483422 129.092342 \nL 367.119501 126.191859 \nL 367.755579 124.126715 \nL 368.391658 124.358754 \nL 369.027737 127.050402 \nL 369.663815 125.750986 \nL 370.299894 125.518947 \nL 370.935972 127.932149 \nL 371.572051 126.191859 \nL 372.20813 131.505544 \nL 372.844208 124.126715 \nL 373.480287 124.358754 \nL 374.116366 125.05487 \nL 374.752444 121.945552 \nL 375.388523 123.31458 \nL 376.024602 122.40963 \nL 376.66068 119.717981 \nL 377.296759 123.73225 \nL 377.932838 124.892443 \nL 378.568916 124.660404 \nL 379.204995 123.105745 \nL 379.841074 119.717981 \nL 380.477152 119.926816 \nL 381.113231 120.36769 \nL 381.74931 124.660404 \nL 382.385388 127.352053 \nL 383.021467 129.185158 \nL 383.657546 129.881274 \nL 384.293624 128.721081 \nL 384.929703 130.530982 \nL 385.565782 130.948651 \nL 386.20186 130.530982 \nL 386.837939 133.686707 \nL 387.474018 133.245834 \nL 388.110096 128.721081 \nL 388.746175 127.120014 \nL 389.382253 127.166422 \nL 390.018332 133.106611 \nL 390.654411 136.030298 \nL 391.290489 133.106611 \nL 391.926568 134.429231 \nL 393.198725 142.341749 \nL 393.834804 141.460002 \nL 394.470883 136.726414 \nL 395.74304 137.190491 \nL 396.379119 135.102143 \nL 397.015197 135.334182 \nL 397.651276 134.638066 \nL 398.287355 131.48234 \nL 398.923433 137.190491 \nL 399.559512 140.810294 \nL 400.195591 141.69204 \nL 400.831669 140.810294 \nL 401.467748 139.6501 \nL 402.103827 136.70321 \nL 402.739905 136.007094 \nL 403.375984 134.846901 \nL 404.648141 134.846901 \nL 405.28422 132.364087 \nL 405.920299 132.132049 \nL 406.556377 133.060203 \nL 407.192456 135.078939 \nL 407.828534 130.298943 \nL 408.464613 130.298943 \nL 409.100692 128.953119 \nL 409.73677 128.024965 \nL 410.372849 127.328849 \nL 411.008928 127.09681 \nL 411.645006 128.721081 \nL 412.281085 130.739817 \nL 412.917164 130.530982 \nL 413.553242 133.060203 \nL 414.189321 132.596126 \nL 414.8254 133.060203 \nL 415.461478 137.840199 \nL 416.097557 137.213695 \nL 416.733636 138.095442 \nL 417.369714 140.647867 \nL 418.005793 141.993691 \nL 418.641872 146.123979 \nL 419.27795 144.986989 \nL 419.914029 145.89194 \nL 420.550108 143.85 \nL 421.186186 142.689807 \nL 421.822265 141.993691 \nL 422.458344 141.552817 \nL 423.094422 142.921845 \nL 423.730501 143.385923 \nL 424.36658 142.689807 \nL 425.002658 141.111944 \nL 425.638737 136.28554 \nL 426.274815 135.821463 \nL 426.910894 132.61933 \nL 427.546973 132.108845 \nL 428.183051 135.821463 \nL 428.81913 133.988358 \nL 429.455209 132.851368 \nL 430.091287 128.024965 \nL 430.727366 127.560887 \nL 431.363445 124.567589 \nL 431.999523 125.959821 \nL 433.271681 121.342252 \nL 433.907759 120.414097 \nL 434.543838 118.348953 \nL 435.179917 114.868374 \nL 435.815995 113.499346 \nL 436.452074 112.80323 \nL 437.088153 112.80323 \nL 437.724231 112.339153 \nL 438.36031 113.499346 \nL 438.996389 114.4275 \nL 439.632467 114.195462 \nL 440.268546 113.035269 \nL 440.904625 116.492644 \nL 441.540703 117.304779 \nL 442.176782 116.028567 \nL 442.812861 116.724683 \nL 443.448939 116.492644 \nL 444.085018 114.636335 \nL 444.721096 113.244103 \nL 445.357175 115.100412 \nL 445.993254 115.332451 \nL 446.629332 117.420799 \nL 447.265411 116.724683 \nL 447.90149 119.045069 \nL 448.537568 119.741185 \nL 449.173647 120.66934 \nL 449.809726 120.901378 \nL 450.445804 119.277108 \nL 451.081883 115.796528 \nL 451.717962 114.404297 \nL 452.35404 109.763524 \nL 452.990119 112.780026 \nL 453.626198 109.531485 \nL 454.262276 103.730519 \nL 455.534434 102.802365 \nL 456.170512 101.87421 \nL 456.806591 102.338287 \nL 456.806591 102.338287 \n\" style=\"fill:none;stroke:#4c72b0;stroke-linecap:round;stroke-width:1.5;\"/>\n   </g>\n   <g id=\"line2d_14\">\n    <path clip-path=\"url(#p91531f0444)\" d=\"M 50.988409 17.877212 \nL 51.624488 20.399866 \nL 52.260566 22.18182 \nL 52.896645 23.353547 \nL 53.532724 26.806456 \nL 54.168802 29.425017 \nL 54.804881 31.399625 \nL 55.44096 32.156523 \nL 56.077038 30.73797 \nL 56.713117 30.296897 \nL 57.349196 31.69425 \nL 57.985274 34.906175 \nL 59.257432 39.626453 \nL 59.89351 39.753562 \nL 60.529589 39.27509 \nL 61.801746 46.437295 \nL 62.437825 47.326789 \nL 63.709982 45.178646 \nL 64.346061 45.560325 \nL 65.618218 54.284213 \nL 67.526454 58.399796 \nL 68.798611 57.640773 \nL 69.43469 58.894001 \nL 70.070769 61.551508 \nL 70.706847 63.029743 \nL 71.342926 64.132671 \nL 71.979005 64.574873 \nL 72.615083 68.09875 \nL 73.251162 70.578673 \nL 73.887241 70.52366 \nL 74.523319 68.178746 \nL 75.159398 66.831382 \nL 75.795477 66.924833 \nL 78.97587 83.562822 \nL 79.611949 83.809294 \nL 80.884106 87.401107 \nL 81.520185 86.572179 \nL 82.156263 85.150661 \nL 82.792342 84.303367 \nL 83.42842 86.306035 \nL 84.064499 89.827898 \nL 84.700578 94.646273 \nL 85.336656 102.354421 \nL 85.972735 107.47937 \nL 86.608814 110.33803 \nL 87.244892 110.801808 \nL 87.880971 111.990397 \nL 88.51705 117.162215 \nL 89.153128 118.543171 \nL 90.425286 112.364044 \nL 91.061364 112.478229 \nL 92.333522 122.806708 \nL 92.9696 126.424455 \nL 94.241758 128.382268 \nL 94.877836 127.178344 \nL 95.513915 124.638408 \nL 96.149994 119.703966 \nL 96.786072 115.995711 \nL 97.422151 115.468179 \nL 98.05823 117.477464 \nL 99.966466 127.015586 \nL 100.602544 132.721242 \nL 101.238623 142.69599 \nL 101.874701 148.118463 \nL 102.51078 148.123198 \nL 103.146859 140.228813 \nL 103.782937 130.172698 \nL 104.419016 122.267868 \nL 105.055095 123.789874 \nL 105.691173 124.844273 \nL 106.327252 125.611527 \nL 106.963331 128.099195 \nL 108.235488 134.041211 \nL 108.871567 135.290743 \nL 109.507645 137.060947 \nL 110.143724 139.471318 \nL 110.779803 140.214784 \nL 111.415881 137.29673 \nL 112.05196 133.534237 \nL 112.688039 133.366301 \nL 113.324117 134.571619 \nL 113.960196 136.433503 \nL 114.596275 139.335601 \nL 115.232353 140.893013 \nL 115.868432 141.045703 \nL 117.140589 148.917914 \nL 117.776668 147.494515 \nL 119.048825 137.176172 \nL 120.320982 122.494313 \nL 121.59314 105.684006 \nL 122.229218 100.817744 \nL 122.865297 100.988911 \nL 123.501376 102.934376 \nL 124.137454 102.521871 \nL 124.773533 100.87674 \nL 125.409612 100.181692 \nL 126.04569 102.372323 \nL 126.681769 103.266288 \nL 127.317848 104.599932 \nL 128.590005 101.26508 \nL 129.226084 104.486034 \nL 129.862162 110.572043 \nL 130.498241 113.171661 \nL 131.13432 112.875886 \nL 132.406477 108.954418 \nL 133.042556 106.366573 \nL 133.678634 105.30538 \nL 134.314713 106.690253 \nL 134.950792 110.994175 \nL 135.58687 116.246941 \nL 136.859028 121.252128 \nL 137.495106 126.592326 \nL 138.131185 129.692677 \nL 139.403342 122.032815 \nL 140.039421 120.148426 \nL 140.675499 122.482939 \nL 141.311578 126.344105 \nL 141.947657 128.516436 \nL 142.583735 126.102834 \nL 143.219814 122.855989 \nL 143.855893 121.410129 \nL 144.491971 120.927121 \nL 145.12805 120.071351 \nL 145.764129 123.091507 \nL 146.400207 127.908975 \nL 147.036286 131.26122 \nL 148.308443 144.318483 \nL 148.944522 146.928214 \nL 149.580601 147.037398 \nL 150.216679 149.584725 \nL 150.852758 153.129271 \nL 151.488837 152.746197 \nL 152.124915 151.026292 \nL 152.760994 153.726708 \nL 153.397073 159.173987 \nL 154.033151 163.514754 \nL 154.66923 165.653028 \nL 155.305308 161.511576 \nL 155.941387 155.81039 \nL 156.577466 154.930787 \nL 157.213544 157.27964 \nL 157.849623 161.207392 \nL 158.485702 162.127823 \nL 159.12178 159.358587 \nL 159.757859 155.734178 \nL 160.393938 158.907688 \nL 161.030016 167.257176 \nL 161.666095 173.870738 \nL 162.302174 178.076319 \nL 162.938252 179.108014 \nL 163.574331 180.758036 \nL 164.21041 180.339068 \nL 164.846488 181.628411 \nL 165.482567 185.434631 \nL 166.118646 191.003951 \nL 166.754724 192.992302 \nL 167.390803 186.845438 \nL 168.66296 180.814752 \nL 169.299039 179.567521 \nL 169.935118 176.417955 \nL 170.571196 169.687795 \nL 171.207275 166.8905 \nL 171.843354 170.116189 \nL 172.479432 171.492587 \nL 173.115511 169.302132 \nL 173.751589 168.834526 \nL 174.387668 170.635157 \nL 175.659825 177.79942 \nL 176.295904 180.124927 \nL 176.931983 178.793628 \nL 177.568061 175.387499 \nL 178.20414 169.744755 \nL 178.840219 166.441924 \nL 179.476297 166.398596 \nL 180.112376 165.054551 \nL 180.748455 165.825965 \nL 182.020612 168.660659 \nL 182.656691 168.193606 \nL 183.292769 167.009797 \nL 183.928848 163.663349 \nL 185.837084 150.668888 \nL 186.473163 147.11195 \nL 187.74532 153.359832 \nL 188.381399 153.743327 \nL 189.017477 149.628474 \nL 189.653556 146.645605 \nL 190.289635 147.671613 \nL 190.925713 147.506089 \nL 192.19787 142.261223 \nL 192.833949 141.856794 \nL 193.470028 142.963175 \nL 194.106106 146.374858 \nL 194.742185 148.649579 \nL 195.378264 148.948165 \nL 196.014342 147.352735 \nL 196.650421 144.669514 \nL 197.2865 144.02689 \nL 197.922578 146.544432 \nL 198.558657 150.959773 \nL 199.194736 153.597608 \nL 199.830814 152.342565 \nL 200.466893 152.54863 \nL 201.102972 150.193094 \nL 201.73905 145.593972 \nL 202.375129 139.430601 \nL 203.011208 134.676223 \nL 203.647286 134.640905 \nL 204.283365 137.631143 \nL 204.919444 137.615874 \nL 206.191601 130.215053 \nL 207.463758 127.935242 \nL 208.099837 128.24934 \nL 208.735916 126.750127 \nL 209.371994 121.898868 \nL 210.008073 119.589117 \nL 210.644151 120.557169 \nL 211.28023 123.544021 \nL 212.552387 134.192971 \nL 213.188466 134.865381 \nL 213.824545 134.189187 \nL 214.460623 135.356311 \nL 215.096702 135.176115 \nL 215.732781 134.13309 \nL 216.368859 133.318104 \nL 217.004938 133.784692 \nL 217.641017 132.808054 \nL 218.277095 130.827847 \nL 218.913174 130.8995 \nL 219.549253 131.551861 \nL 220.82141 131.095673 \nL 221.457489 130.34787 \nL 222.729646 125.685305 \nL 223.365725 124.413644 \nL 224.001803 124.353321 \nL 225.273961 124.421455 \nL 225.910039 123.852122 \nL 226.546118 121.941975 \nL 227.182196 118.593005 \nL 227.818275 116.14621 \nL 228.454354 116.507774 \nL 229.726511 122.708145 \nL 230.36259 124.45383 \nL 231.634747 124.134665 \nL 232.270826 124.319131 \nL 232.906904 123.173163 \nL 233.542983 120.596802 \nL 234.179062 119.455104 \nL 234.81514 117.651331 \nL 235.451219 119.799563 \nL 236.087298 126.849088 \nL 236.723376 129.093536 \nL 237.359455 125.512478 \nL 237.995534 120.526255 \nL 238.631612 117.176466 \nL 239.267691 118.624915 \nL 239.90377 121.259209 \nL 240.539848 123.303856 \nL 241.175927 122.743441 \nL 241.812006 121.834495 \nL 242.448084 118.369769 \nL 243.084163 116.912335 \nL 243.720242 117.495012 \nL 244.35632 118.489619 \nL 244.992399 118.897876 \nL 246.264556 120.648208 \nL 246.900635 121.840138 \nL 247.536713 122.68969 \nL 248.172792 125.108625 \nL 248.808871 126.264485 \nL 250.081028 127.402554 \nL 250.717107 126.51005 \nL 251.353185 127.342452 \nL 251.989264 129.932643 \nL 252.625343 130.512421 \nL 253.261421 128.35724 \nL 253.8975 125.449366 \nL 254.533579 123.084204 \nL 255.169657 122.446648 \nL 255.805736 122.640807 \nL 256.441815 122.066539 \nL 257.077893 120.961597 \nL 258.350051 117.652194 \nL 258.986129 116.558007 \nL 259.622208 114.099638 \nL 260.258287 112.752362 \nL 260.894365 114.373151 \nL 261.530444 115.013828 \nL 262.166523 115.841207 \nL 262.802601 116.338621 \nL 263.43868 116.66947 \nL 264.074758 116.551412 \nL 264.710837 116.791246 \nL 265.982994 119.081347 \nL 266.619073 117.649826 \nL 267.255152 115.039144 \nL 267.89123 113.203261 \nL 268.527309 110.550777 \nL 269.163388 111.386189 \nL 269.799466 111.392031 \nL 270.435545 113.564295 \nL 271.071624 116.396178 \nL 271.707702 117.497712 \nL 272.343781 117.960671 \nL 272.97986 117.78707 \nL 273.615938 118.026394 \nL 274.252017 117.339778 \nL 274.888096 115.912639 \nL 275.524174 115.909076 \nL 276.160253 117.609972 \nL 276.796332 120.216915 \nL 277.43241 117.687844 \nL 278.704568 110.599948 \nL 279.340646 109.297793 \nL 279.976725 110.589968 \nL 280.612804 110.680187 \nL 281.248882 109.419391 \nL 281.884961 110.236104 \nL 282.521039 109.378187 \nL 283.157118 110.454096 \nL 285.701433 118.417811 \nL 286.337511 119.358202 \nL 286.97359 116.296 \nL 287.609669 113.844381 \nL 288.245747 113.33827 \nL 289.517905 114.475498 \nL 290.153983 113.943208 \nL 290.790062 114.179059 \nL 291.426141 115.206881 \nL 293.334377 123.842054 \nL 293.970455 125.178442 \nL 294.606534 127.147297 \nL 295.242613 126.243529 \nL 295.878691 124.74903 \nL 296.51477 122.052908 \nL 297.150849 120.547499 \nL 297.786927 121.605416 \nL 298.423006 123.438223 \nL 299.695163 119.413281 \nL 300.331242 119.252359 \nL 300.96732 119.591352 \nL 301.603399 117.388661 \nL 302.239478 113.842876 \nL 302.875556 111.420289 \nL 303.511635 111.573997 \nL 304.783792 118.088289 \nL 305.419871 115.347798 \nL 306.692028 106.208683 \nL 307.328107 103.995347 \nL 307.964186 103.757019 \nL 308.600264 103.79913 \nL 310.5085 103.116829 \nL 311.144579 100.160205 \nL 311.780658 100.455294 \nL 312.416736 101.676413 \nL 313.052815 101.767407 \nL 313.688894 101.609185 \nL 314.324972 101.883097 \nL 314.961051 102.425167 \nL 316.233208 102.769648 \nL 316.869287 102.353846 \nL 318.141444 104.555696 \nL 318.777523 105.113102 \nL 319.413601 103.405501 \nL 320.04968 100.885857 \nL 320.685759 100.095965 \nL 321.321837 99.670315 \nL 321.957916 99.857105 \nL 322.593995 102.097106 \nL 323.230073 102.582172 \nL 323.866152 101.740896 \nL 325.138309 101.022879 \nL 325.774388 100.547196 \nL 326.410467 100.542836 \nL 327.046545 100.75804 \nL 327.682624 101.63138 \nL 328.318703 100.285388 \nL 328.954781 97.813742 \nL 329.59086 96.369077 \nL 330.226939 96.906898 \nL 330.863017 100.609334 \nL 331.499096 103.502315 \nL 332.135175 104.634807 \nL 332.771253 103.910815 \nL 333.407332 101.870174 \nL 334.043411 101.446228 \nL 334.679489 102.902953 \nL 335.315568 105.589272 \nL 335.951646 106.629509 \nL 337.223804 102.176394 \nL 337.859882 102.021181 \nL 338.495961 103.106871 \nL 339.13204 104.893671 \nL 339.768118 107.496011 \nL 340.404197 108.511464 \nL 341.040276 109.065638 \nL 342.312433 109.076305 \nL 342.948512 108.288537 \nL 343.58459 108.067115 \nL 344.220669 106.708133 \nL 344.856748 106.786337 \nL 345.492826 108.141224 \nL 346.128905 108.709119 \nL 346.764984 108.863977 \nL 348.037141 115.814895 \nL 348.67322 118.516638 \nL 349.309298 119.753225 \nL 349.945377 121.71823 \nL 350.581456 120.827496 \nL 351.217534 119.39467 \nL 351.853613 118.692453 \nL 352.489692 118.953286 \nL 353.12577 120.522537 \nL 353.761849 121.575941 \nL 355.670085 123.354443 \nL 356.306163 122.097652 \nL 357.578321 115.367736 \nL 358.214399 113.920637 \nL 359.486557 113.668146 \nL 360.122635 113.799901 \nL 360.758714 112.99775 \nL 361.394793 111.573532 \nL 362.030871 109.379559 \nL 362.66695 108.027969 \nL 363.303029 107.588134 \nL 364.575186 112.095222 \nL 365.211265 113.73367 \nL 365.847343 116.137779 \nL 366.483422 117.827809 \nL 367.119501 118.970392 \nL 367.755579 118.278177 \nL 368.391658 116.366968 \nL 369.027737 115.163929 \nL 370.299894 116.99585 \nL 370.935972 117.102467 \nL 371.572051 117.766977 \nL 372.20813 117.765605 \nL 372.844208 119.521093 \nL 373.480287 118.37165 \nL 374.116366 116.347826 \nL 374.752444 115.507569 \nL 375.388523 114.473108 \nL 376.66068 114.155469 \nL 377.296759 112.963693 \nL 377.932838 113.425967 \nL 378.568916 114.978599 \nL 379.204995 115.986417 \nL 379.841074 115.508675 \nL 380.477152 113.277703 \nL 381.113231 111.587407 \nL 381.74931 111.331043 \nL 382.385388 113.494323 \nL 383.021467 116.612599 \nL 383.657546 119.125272 \nL 384.293624 120.333888 \nL 384.929703 120.002906 \nL 385.565782 120.029416 \nL 386.20186 120.585516 \nL 386.837939 120.948077 \nL 387.474018 122.270767 \nL 388.110096 123.280444 \nL 388.746175 121.785148 \nL 389.382253 119.273204 \nL 390.018332 117.820573 \nL 390.654411 120.028797 \nL 391.290489 123.873278 \nL 391.926568 125.057618 \nL 392.562647 124.784857 \nL 393.198725 125.995154 \nL 393.834804 128.934739 \nL 394.470883 130.789497 \nL 395.106961 129.220844 \nL 395.74304 127.066371 \nL 396.379119 126.211022 \nL 397.015197 125.632815 \nL 398.287355 125.131396 \nL 398.923433 123.661172 \nL 399.559512 124.601098 \nL 400.831669 130.464578 \nL 401.467748 131.087176 \nL 402.103827 130.042801 \nL 402.739905 127.836702 \nL 403.375984 126.092566 \nL 404.012063 125.082646 \nL 404.648141 124.840865 \nL 405.28422 124.972665 \nL 405.920299 124.123888 \nL 406.556377 123.078495 \nL 407.192456 122.898697 \nL 407.828534 123.998948 \nL 408.464613 123.142071 \nL 409.73677 120.209634 \nL 410.372849 119.213279 \nL 411.008928 118.57809 \nL 411.645006 118.246533 \nL 412.281085 118.792254 \nL 412.917164 120.22019 \nL 413.553242 121.169786 \nL 414.189321 122.339035 \nL 414.8254 122.921512 \nL 415.461478 123.124767 \nL 416.733636 126.642868 \nL 417.369714 127.52371 \nL 418.641872 130.153069 \nL 419.27795 132.63505 \nL 419.914029 133.996754 \nL 420.550108 134.462435 \nL 421.186186 133.667497 \nL 421.822265 132.355141 \nL 422.458344 131.335241 \nL 423.094422 130.845749 \nL 423.730501 131.342499 \nL 424.36658 132.179902 \nL 425.002658 132.38475 \nL 425.638737 131.529732 \nL 426.910894 126.339879 \nL 427.546973 124.186911 \nL 428.183051 122.909939 \nL 428.81913 124.04814 \nL 429.455209 124.883463 \nL 430.091287 124.414773 \nL 431.363445 119.096261 \nL 431.999523 116.904657 \nL 433.271681 115.950855 \nL 434.543838 112.97582 \nL 435.179917 111.323033 \nL 436.452074 106.909971 \nL 437.088153 105.668649 \nL 437.724231 105.330762 \nL 438.36031 105.227353 \nL 438.996389 105.593521 \nL 439.632467 106.297575 \nL 440.268546 106.63493 \nL 440.904625 106.118862 \nL 441.540703 106.892909 \nL 442.176782 108.289356 \nL 442.812861 108.648154 \nL 443.448939 108.587299 \nL 444.085018 108.402412 \nL 444.721096 107.571294 \nL 445.357175 106.316628 \nL 445.993254 106.303926 \nL 446.629332 106.991959 \nL 447.265411 108.363532 \nL 447.90149 109.0141 \nL 449.809726 111.650762 \nL 450.445804 112.175107 \nL 451.081883 111.674639 \nL 452.35404 107.413249 \nL 452.990119 104.523698 \nL 454.262276 103.425019 \nL 455.534434 97.736645 \nL 456.170512 96.358167 \nL 456.806591 95.833225 \nL 456.806591 95.833225 \n\" style=\"fill:none;stroke:#dd8452;stroke-linecap:round;stroke-width:1.5;\"/>\n   </g>\n   <g id=\"patch_3\">\n    <path d=\"M 30.6975 225.433576 \nL 30.6975 7.993576 \n\" style=\"fill:none;stroke:#ffffff;stroke-linecap:square;stroke-linejoin:miter;stroke-width:1.25;\"/>\n   </g>\n   <g id=\"patch_4\">\n    <path d=\"M 477.0975 225.433576 \nL 477.0975 7.993576 \n\" style=\"fill:none;stroke:#ffffff;stroke-linecap:square;stroke-linejoin:miter;stroke-width:1.25;\"/>\n   </g>\n   <g id=\"patch_5\">\n    <path d=\"M 30.6975 225.433576 \nL 477.0975 225.433576 \n\" style=\"fill:none;stroke:#ffffff;stroke-linecap:square;stroke-linejoin:miter;stroke-width:1.25;\"/>\n   </g>\n   <g id=\"patch_6\">\n    <path d=\"M 30.6975 7.993576 \nL 477.0975 7.993576 \n\" style=\"fill:none;stroke:#ffffff;stroke-linecap:square;stroke-linejoin:miter;stroke-width:1.25;\"/>\n   </g>\n   <g id=\"legend_1\">\n    <g id=\"patch_7\">\n     <path d=\"M 396.314531 49.085451 \nL 469.3975 49.085451 \nQ 471.5975 49.085451 471.5975 46.885451 \nL 471.5975 15.693576 \nQ 471.5975 13.493576 469.3975 13.493576 \nL 396.314531 13.493576 \nQ 394.114531 13.493576 394.114531 15.693576 \nL 394.114531 46.885451 \nQ 394.114531 49.085451 396.314531 49.085451 \nz\n\" style=\"fill:#eaeaf2;opacity:0.8;stroke:#cccccc;stroke-linejoin:miter;\"/>\n    </g>\n    <g id=\"line2d_15\">\n     <path d=\"M 398.514531 22.401857 \nL 420.514531 22.401857 \n\" style=\"fill:none;stroke:#4c72b0;stroke-linecap:round;stroke-width:1.5;\"/>\n    </g>\n    <g id=\"line2d_16\"/>\n    <g id=\"text_13\">\n     <!-- Actual -->\n     <defs>\n      <path d=\"M 34.1875 63.1875 \nL 20.796875 26.90625 \nL 47.609375 26.90625 \nz\nM 28.609375 72.90625 \nL 39.796875 72.90625 \nL 67.578125 0 \nL 57.328125 0 \nL 50.6875 18.703125 \nL 17.828125 18.703125 \nL 11.1875 0 \nL 0.78125 0 \nz\n\" id=\"DejaVuSans-65\"/>\n      <path d=\"M 48.78125 52.59375 \nL 48.78125 44.1875 \nQ 44.96875 46.296875 41.140625 47.34375 \nQ 37.3125 48.390625 33.40625 48.390625 \nQ 24.65625 48.390625 19.8125 42.84375 \nQ 14.984375 37.3125 14.984375 27.296875 \nQ 14.984375 17.28125 19.8125 11.734375 \nQ 24.65625 6.203125 33.40625 6.203125 \nQ 37.3125 6.203125 41.140625 7.25 \nQ 44.96875 8.296875 48.78125 10.40625 \nL 48.78125 2.09375 \nQ 45.015625 0.34375 40.984375 -0.53125 \nQ 36.96875 -1.421875 32.421875 -1.421875 \nQ 20.0625 -1.421875 12.78125 6.34375 \nQ 5.515625 14.109375 5.515625 27.296875 \nQ 5.515625 40.671875 12.859375 48.328125 \nQ 20.21875 56 33.015625 56 \nQ 37.15625 56 41.109375 55.140625 \nQ 45.0625 54.296875 48.78125 52.59375 \nz\n\" id=\"DejaVuSans-99\"/>\n      <path d=\"M 18.3125 70.21875 \nL 18.3125 54.6875 \nL 36.8125 54.6875 \nL 36.8125 47.703125 \nL 18.3125 47.703125 \nL 18.3125 18.015625 \nQ 18.3125 11.328125 20.140625 9.421875 \nQ 21.96875 7.515625 27.59375 7.515625 \nL 36.8125 7.515625 \nL 36.8125 0 \nL 27.59375 0 \nQ 17.1875 0 13.234375 3.875 \nQ 9.28125 7.765625 9.28125 18.015625 \nL 9.28125 47.703125 \nL 2.6875 47.703125 \nL 2.6875 54.6875 \nL 9.28125 54.6875 \nL 9.28125 70.21875 \nz\n\" id=\"DejaVuSans-116\"/>\n      <path d=\"M 8.5 21.578125 \nL 8.5 54.6875 \nL 17.484375 54.6875 \nL 17.484375 21.921875 \nQ 17.484375 14.15625 20.5 10.265625 \nQ 23.53125 6.390625 29.59375 6.390625 \nQ 36.859375 6.390625 41.078125 11.03125 \nQ 45.3125 15.671875 45.3125 23.6875 \nL 45.3125 54.6875 \nL 54.296875 54.6875 \nL 54.296875 0 \nL 45.3125 0 \nL 45.3125 8.40625 \nQ 42.046875 3.421875 37.71875 1 \nQ 33.40625 -1.421875 27.6875 -1.421875 \nQ 18.265625 -1.421875 13.375 4.4375 \nQ 8.5 10.296875 8.5 21.578125 \nz\nM 31.109375 56 \nz\n\" id=\"DejaVuSans-117\"/>\n      <path d=\"M 34.28125 27.484375 \nQ 23.390625 27.484375 19.1875 25 \nQ 14.984375 22.515625 14.984375 16.5 \nQ 14.984375 11.71875 18.140625 8.90625 \nQ 21.296875 6.109375 26.703125 6.109375 \nQ 34.1875 6.109375 38.703125 11.40625 \nQ 43.21875 16.703125 43.21875 25.484375 \nL 43.21875 27.484375 \nz\nM 52.203125 31.203125 \nL 52.203125 0 \nL 43.21875 0 \nL 43.21875 8.296875 \nQ 40.140625 3.328125 35.546875 0.953125 \nQ 30.953125 -1.421875 24.3125 -1.421875 \nQ 15.921875 -1.421875 10.953125 3.296875 \nQ 6 8.015625 6 15.921875 \nQ 6 25.140625 12.171875 29.828125 \nQ 18.359375 34.515625 30.609375 34.515625 \nL 43.21875 34.515625 \nL 43.21875 35.40625 \nQ 43.21875 41.609375 39.140625 45 \nQ 35.0625 48.390625 27.6875 48.390625 \nQ 23 48.390625 18.546875 47.265625 \nQ 14.109375 46.140625 10.015625 43.890625 \nL 10.015625 52.203125 \nQ 14.9375 54.109375 19.578125 55.046875 \nQ 24.21875 56 28.609375 56 \nQ 40.484375 56 46.34375 49.84375 \nQ 52.203125 43.703125 52.203125 31.203125 \nz\n\" id=\"DejaVuSans-97\"/>\n      <path d=\"M 9.421875 75.984375 \nL 18.40625 75.984375 \nL 18.40625 0 \nL 9.421875 0 \nz\n\" id=\"DejaVuSans-108\"/>\n     </defs>\n     <g style=\"fill:#262626;\" transform=\"translate(429.314531 26.251857)scale(0.11 -0.11)\">\n      <use xlink:href=\"#DejaVuSans-65\"/>\n      <use x=\"66.658203\" xlink:href=\"#DejaVuSans-99\"/>\n      <use x=\"121.638672\" xlink:href=\"#DejaVuSans-116\"/>\n      <use x=\"160.847656\" xlink:href=\"#DejaVuSans-117\"/>\n      <use x=\"224.226562\" xlink:href=\"#DejaVuSans-97\"/>\n      <use x=\"285.505859\" xlink:href=\"#DejaVuSans-108\"/>\n     </g>\n    </g>\n    <g id=\"line2d_17\">\n     <path d=\"M 398.514531 38.547795 \nL 420.514531 38.547795 \n\" style=\"fill:none;stroke:#dd8452;stroke-linecap:round;stroke-width:1.5;\"/>\n    </g>\n    <g id=\"line2d_18\"/>\n    <g id=\"text_14\">\n     <!-- Predict -->\n     <defs>\n      <path d=\"M 19.671875 64.796875 \nL 19.671875 37.40625 \nL 32.078125 37.40625 \nQ 38.96875 37.40625 42.71875 40.96875 \nQ 46.484375 44.53125 46.484375 51.125 \nQ 46.484375 57.671875 42.71875 61.234375 \nQ 38.96875 64.796875 32.078125 64.796875 \nz\nM 9.8125 72.90625 \nL 32.078125 72.90625 \nQ 44.34375 72.90625 50.609375 67.359375 \nQ 56.890625 61.8125 56.890625 51.125 \nQ 56.890625 40.328125 50.609375 34.8125 \nQ 44.34375 29.296875 32.078125 29.296875 \nL 19.671875 29.296875 \nL 19.671875 0 \nL 9.8125 0 \nz\n\" id=\"DejaVuSans-80\"/>\n      <path d=\"M 41.109375 46.296875 \nQ 39.59375 47.171875 37.8125 47.578125 \nQ 36.03125 48 33.890625 48 \nQ 26.265625 48 22.1875 43.046875 \nQ 18.109375 38.09375 18.109375 28.8125 \nL 18.109375 0 \nL 9.078125 0 \nL 9.078125 54.6875 \nL 18.109375 54.6875 \nL 18.109375 46.1875 \nQ 20.953125 51.171875 25.484375 53.578125 \nQ 30.03125 56 36.53125 56 \nQ 37.453125 56 38.578125 55.875 \nQ 39.703125 55.765625 41.0625 55.515625 \nz\n\" id=\"DejaVuSans-114\"/>\n      <path d=\"M 56.203125 29.59375 \nL 56.203125 25.203125 \nL 14.890625 25.203125 \nQ 15.484375 15.921875 20.484375 11.0625 \nQ 25.484375 6.203125 34.421875 6.203125 \nQ 39.59375 6.203125 44.453125 7.46875 \nQ 49.3125 8.734375 54.109375 11.28125 \nL 54.109375 2.78125 \nQ 49.265625 0.734375 44.1875 -0.34375 \nQ 39.109375 -1.421875 33.890625 -1.421875 \nQ 20.796875 -1.421875 13.15625 6.1875 \nQ 5.515625 13.8125 5.515625 26.8125 \nQ 5.515625 40.234375 12.765625 48.109375 \nQ 20.015625 56 32.328125 56 \nQ 43.359375 56 49.78125 48.890625 \nQ 56.203125 41.796875 56.203125 29.59375 \nz\nM 47.21875 32.234375 \nQ 47.125 39.59375 43.09375 43.984375 \nQ 39.0625 48.390625 32.421875 48.390625 \nQ 24.90625 48.390625 20.390625 44.140625 \nQ 15.875 39.890625 15.1875 32.171875 \nz\n\" id=\"DejaVuSans-101\"/>\n      <path d=\"M 45.40625 46.390625 \nL 45.40625 75.984375 \nL 54.390625 75.984375 \nL 54.390625 0 \nL 45.40625 0 \nL 45.40625 8.203125 \nQ 42.578125 3.328125 38.25 0.953125 \nQ 33.9375 -1.421875 27.875 -1.421875 \nQ 17.96875 -1.421875 11.734375 6.484375 \nQ 5.515625 14.40625 5.515625 27.296875 \nQ 5.515625 40.1875 11.734375 48.09375 \nQ 17.96875 56 27.875 56 \nQ 33.9375 56 38.25 53.625 \nQ 42.578125 51.265625 45.40625 46.390625 \nz\nM 14.796875 27.296875 \nQ 14.796875 17.390625 18.875 11.75 \nQ 22.953125 6.109375 30.078125 6.109375 \nQ 37.203125 6.109375 41.296875 11.75 \nQ 45.40625 17.390625 45.40625 27.296875 \nQ 45.40625 37.203125 41.296875 42.84375 \nQ 37.203125 48.484375 30.078125 48.484375 \nQ 22.953125 48.484375 18.875 42.84375 \nQ 14.796875 37.203125 14.796875 27.296875 \nz\n\" id=\"DejaVuSans-100\"/>\n      <path d=\"M 9.421875 54.6875 \nL 18.40625 54.6875 \nL 18.40625 0 \nL 9.421875 0 \nz\nM 9.421875 75.984375 \nL 18.40625 75.984375 \nL 18.40625 64.59375 \nL 9.421875 64.59375 \nz\n\" id=\"DejaVuSans-105\"/>\n     </defs>\n     <g style=\"fill:#262626;\" transform=\"translate(429.314531 42.397795)scale(0.11 -0.11)\">\n      <use xlink:href=\"#DejaVuSans-80\"/>\n      <use x=\"58.552734\" xlink:href=\"#DejaVuSans-114\"/>\n      <use x=\"97.416016\" xlink:href=\"#DejaVuSans-101\"/>\n      <use x=\"158.939453\" xlink:href=\"#DejaVuSans-100\"/>\n      <use x=\"222.416016\" xlink:href=\"#DejaVuSans-105\"/>\n      <use x=\"250.199219\" xlink:href=\"#DejaVuSans-99\"/>\n      <use x=\"305.179688\" xlink:href=\"#DejaVuSans-116\"/>\n     </g>\n    </g>\n   </g>\n  </g>\n </g>\n <defs>\n  <clipPath id=\"p91531f0444\">\n   <rect height=\"217.44\" width=\"446.4\" x=\"30.6975\" y=\"7.993576\"/>\n  </clipPath>\n </defs>\n</svg>\n"
          },
          "metadata": {
            "tags": []
          }
        },
        {
          "output_type": "stream",
          "text": [
            "time: 223 ms\n"
          ],
          "name": "stdout"
        }
      ]
    },
    {
      "cell_type": "markdown",
      "metadata": {
        "id": "_PBmoWkmNT6O",
        "colab_type": "text"
      },
      "source": [
        "# Modeling GRU"
      ]
    },
    {
      "cell_type": "code",
      "metadata": {
        "id": "e5644ioQNTpk",
        "colab_type": "code",
        "colab": {
          "base_uri": "https://localhost:8080/",
          "height": 34
        },
        "outputId": "60d3b2e6-b470-41b7-b7e6-28a8c98eb62d"
      },
      "source": [
        "def build_gru_model(input, loss='mse', optimiser='adam') :\n",
        "    model = tf.keras.Sequential()\n",
        "    model.add(tf.keras.layers.InputLayer(input_shape=(input.shape[1], input.shape[2])))\n",
        "    model.add(tf.keras.layers.GRU(128, return_sequences=True))\n",
        "    model.add(tf.keras.layers.Dropout(0.2))\n",
        "    model.add(tf.keras.layers.GRU(64, return_sequences=True))\n",
        "    model.add(tf.keras.layers.Dropout(0.2))\n",
        "    model.add(tf.keras.layers.GRU(32, return_sequences=False))\n",
        "    model.add(tf.keras.layers.Dropout(0.2))\n",
        "    model.add(tf.keras.layers.Dense(1))\n",
        "    \n",
        "    model.compile(loss=loss, optimizer=optimiser)\n",
        "\n",
        "    return model"
      ],
      "execution_count": 60,
      "outputs": [
        {
          "output_type": "stream",
          "text": [
            "time: 10.9 ms\n"
          ],
          "name": "stdout"
        }
      ]
    },
    {
      "cell_type": "code",
      "metadata": {
        "id": "2wgCovkRODzg",
        "colab_type": "code",
        "colab": {
          "base_uri": "https://localhost:8080/",
          "height": 34
        },
        "outputId": "c624c14f-c697-482c-b7d2-b6319c25cfed"
      },
      "source": [
        "model = build_gru_model(X_train)"
      ],
      "execution_count": 61,
      "outputs": [
        {
          "output_type": "stream",
          "text": [
            "time: 638 ms\n"
          ],
          "name": "stdout"
        }
      ]
    },
    {
      "cell_type": "code",
      "metadata": {
        "id": "r97DDuA1PFw_",
        "colab_type": "code",
        "colab": {
          "base_uri": "https://localhost:8080/",
          "height": 408
        },
        "outputId": "b0bf0205-c40b-4678-ee64-69eea9f36b61"
      },
      "source": [
        "model.summary()"
      ],
      "execution_count": 62,
      "outputs": [
        {
          "output_type": "stream",
          "text": [
            "Model: \"sequential_9\"\n",
            "_________________________________________________________________\n",
            "Layer (type)                 Output Shape              Param #   \n",
            "=================================================================\n",
            "gru_3 (GRU)                  (None, 10, 128)           50304     \n",
            "_________________________________________________________________\n",
            "dropout_15 (Dropout)         (None, 10, 128)           0         \n",
            "_________________________________________________________________\n",
            "gru_4 (GRU)                  (None, 10, 64)            37248     \n",
            "_________________________________________________________________\n",
            "dropout_16 (Dropout)         (None, 10, 64)            0         \n",
            "_________________________________________________________________\n",
            "gru_5 (GRU)                  (None, 32)                9408      \n",
            "_________________________________________________________________\n",
            "dropout_17 (Dropout)         (None, 32)                0         \n",
            "_________________________________________________________________\n",
            "dense_5 (Dense)              (None, 1)                 33        \n",
            "=================================================================\n",
            "Total params: 96,993\n",
            "Trainable params: 96,993\n",
            "Non-trainable params: 0\n",
            "_________________________________________________________________\n",
            "time: 10.7 ms\n"
          ],
          "name": "stdout"
        }
      ]
    },
    {
      "cell_type": "code",
      "metadata": {
        "id": "2lMkQF00PLHl",
        "colab_type": "code",
        "colab": {
          "base_uri": "https://localhost:8080/",
          "height": 1000
        },
        "outputId": "2c5295f2-1c8e-4cf7-9ae1-e983872bec86"
      },
      "source": [
        "model_history = model.fit(X_train, y_train, epochs=50, batch_size=25, verbose=2, shuffle=False, validation_split=0.05)"
      ],
      "execution_count": 63,
      "outputs": [
        {
          "output_type": "stream",
          "text": [
            "ERROR! Session/line number was not unique in database. History logging moved to new session 59\n",
            "Epoch 1/50\n",
            "97/97 - 1s - loss: 0.0163 - val_loss: 0.0016\n",
            "Epoch 2/50\n",
            "97/97 - 1s - loss: 0.0096 - val_loss: 0.0064\n",
            "Epoch 3/50\n",
            "97/97 - 1s - loss: 0.0082 - val_loss: 0.0017\n",
            "Epoch 4/50\n",
            "97/97 - 1s - loss: 0.0072 - val_loss: 8.2757e-04\n",
            "Epoch 5/50\n",
            "97/97 - 1s - loss: 0.0066 - val_loss: 0.0019\n",
            "Epoch 6/50\n",
            "97/97 - 1s - loss: 0.0069 - val_loss: 0.0012\n",
            "Epoch 7/50\n",
            "97/97 - 1s - loss: 0.0049 - val_loss: 0.0018\n",
            "Epoch 8/50\n",
            "97/97 - 1s - loss: 0.0051 - val_loss: 0.0019\n",
            "Epoch 9/50\n",
            "97/97 - 1s - loss: 0.0042 - val_loss: 6.8795e-04\n",
            "Epoch 10/50\n",
            "97/97 - 1s - loss: 0.0043 - val_loss: 0.0016\n",
            "Epoch 11/50\n",
            "97/97 - 1s - loss: 0.0044 - val_loss: 0.0021\n",
            "Epoch 12/50\n",
            "97/97 - 1s - loss: 0.0032 - val_loss: 0.0012\n",
            "Epoch 13/50\n",
            "97/97 - 1s - loss: 0.0043 - val_loss: 0.0035\n",
            "Epoch 14/50\n",
            "97/97 - 1s - loss: 0.0036 - val_loss: 5.2192e-04\n",
            "Epoch 15/50\n",
            "97/97 - 1s - loss: 0.0032 - val_loss: 8.4951e-04\n",
            "Epoch 16/50\n",
            "97/97 - 1s - loss: 0.0029 - val_loss: 7.3937e-04\n",
            "Epoch 17/50\n",
            "97/97 - 1s - loss: 0.0030 - val_loss: 0.0021\n",
            "Epoch 18/50\n",
            "97/97 - 1s - loss: 0.0029 - val_loss: 0.0011\n",
            "Epoch 19/50\n",
            "97/97 - 1s - loss: 0.0028 - val_loss: 0.0038\n",
            "Epoch 20/50\n",
            "97/97 - 1s - loss: 0.0028 - val_loss: 0.0033\n",
            "Epoch 21/50\n",
            "97/97 - 1s - loss: 0.0025 - val_loss: 4.4942e-04\n",
            "Epoch 22/50\n",
            "97/97 - 1s - loss: 0.0021 - val_loss: 0.0012\n",
            "Epoch 23/50\n",
            "97/97 - 1s - loss: 0.0025 - val_loss: 4.9929e-04\n",
            "Epoch 24/50\n",
            "97/97 - 1s - loss: 0.0021 - val_loss: 5.8365e-04\n",
            "Epoch 25/50\n",
            "97/97 - 1s - loss: 0.0022 - val_loss: 0.0013\n",
            "Epoch 26/50\n",
            "97/97 - 1s - loss: 0.0022 - val_loss: 0.0012\n",
            "Epoch 27/50\n",
            "97/97 - 1s - loss: 0.0024 - val_loss: 6.7967e-04\n",
            "Epoch 28/50\n",
            "97/97 - 1s - loss: 0.0026 - val_loss: 0.0020\n",
            "Epoch 29/50\n",
            "97/97 - 1s - loss: 0.0019 - val_loss: 3.5544e-04\n",
            "Epoch 30/50\n",
            "97/97 - 1s - loss: 0.0022 - val_loss: 0.0011\n",
            "Epoch 31/50\n",
            "97/97 - 1s - loss: 0.0020 - val_loss: 0.0010\n",
            "Epoch 32/50\n",
            "97/97 - 1s - loss: 0.0019 - val_loss: 0.0011\n",
            "Epoch 33/50\n",
            "97/97 - 1s - loss: 0.0022 - val_loss: 0.0020\n",
            "Epoch 34/50\n",
            "97/97 - 1s - loss: 0.0023 - val_loss: 9.4936e-04\n",
            "Epoch 35/50\n",
            "97/97 - 1s - loss: 0.0018 - val_loss: 4.4886e-04\n",
            "Epoch 36/50\n",
            "97/97 - 1s - loss: 0.0015 - val_loss: 4.3096e-04\n",
            "Epoch 37/50\n",
            "97/97 - 1s - loss: 0.0021 - val_loss: 9.0869e-04\n",
            "Epoch 38/50\n",
            "97/97 - 1s - loss: 0.0018 - val_loss: 0.0024\n",
            "Epoch 39/50\n",
            "97/97 - 1s - loss: 0.0016 - val_loss: 3.2700e-04\n",
            "Epoch 40/50\n",
            "97/97 - 1s - loss: 0.0018 - val_loss: 0.0014\n",
            "Epoch 41/50\n",
            "97/97 - 1s - loss: 0.0014 - val_loss: 3.1438e-04\n",
            "Epoch 42/50\n",
            "97/97 - 1s - loss: 0.0014 - val_loss: 5.1191e-04\n",
            "Epoch 43/50\n",
            "97/97 - 1s - loss: 0.0014 - val_loss: 0.0020\n",
            "Epoch 44/50\n",
            "97/97 - 1s - loss: 0.0018 - val_loss: 0.0019\n",
            "Epoch 45/50\n",
            "97/97 - 1s - loss: 0.0015 - val_loss: 3.2113e-04\n",
            "Epoch 46/50\n",
            "97/97 - 1s - loss: 0.0016 - val_loss: 0.0016\n",
            "Epoch 47/50\n",
            "97/97 - 1s - loss: 0.0015 - val_loss: 4.1105e-04\n",
            "Epoch 48/50\n",
            "97/97 - 1s - loss: 0.0013 - val_loss: 0.0011\n",
            "Epoch 49/50\n",
            "97/97 - 1s - loss: 0.0015 - val_loss: 0.0018\n",
            "Epoch 50/50\n",
            "97/97 - 1s - loss: 0.0013 - val_loss: 0.0016\n",
            "time: 32.6 s\n"
          ],
          "name": "stdout"
        }
      ]
    },
    {
      "cell_type": "code",
      "metadata": {
        "id": "imZwTmdRS2yG",
        "colab_type": "code",
        "colab": {
          "base_uri": "https://localhost:8080/",
          "height": 394
        },
        "outputId": "74de127f-2284-4d75-af37-004c3dd6b38b"
      },
      "source": [
        "plt.plot(model_history.history['loss'], label='train')\n",
        "plt.plot(model_history.history['val_loss'], label='val')\n",
        "plt.legend()\n",
        "plt.title('last loss: ' + str(model.history.history['loss'][-1]))\n",
        "plt.show()"
      ],
      "execution_count": 64,
      "outputs": [
        {
          "output_type": "display_data",
          "data": {
            "text/plain": [
              "<Figure size 576x288 with 1 Axes>"
            ],
            "image/svg+xml": "<?xml version=\"1.0\" encoding=\"utf-8\" standalone=\"no\"?>\n<!DOCTYPE svg PUBLIC \"-//W3C//DTD SVG 1.1//EN\"\n  \"http://www.w3.org/Graphics/SVG/1.1/DTD/svg11.dtd\">\n<!-- Created with matplotlib (https://matplotlib.org/) -->\n<svg height=\"267.104062pt\" version=\"1.1\" viewBox=\"0 0 501.790937 267.104062\" width=\"501.790937pt\" xmlns=\"http://www.w3.org/2000/svg\" xmlns:xlink=\"http://www.w3.org/1999/xlink\">\n <defs>\n  <style type=\"text/css\">\n*{stroke-linecap:butt;stroke-linejoin:round;}\n  </style>\n </defs>\n <g id=\"figure_1\">\n  <g id=\"patch_1\">\n   <path d=\"M 0 267.104062 \nL 501.790937 267.104062 \nL 501.790937 0 \nL 0 0 \nz\n\" style=\"fill:#ffffff;\"/>\n  </g>\n  <g id=\"axes_1\">\n   <g id=\"patch_2\">\n    <path d=\"M 48.190938 239.758125 \nL 494.590937 239.758125 \nL 494.590937 22.318125 \nL 48.190938 22.318125 \nz\n\" style=\"fill:#eaeaf2;\"/>\n   </g>\n   <g id=\"matplotlib.axis_1\">\n    <g id=\"xtick_1\">\n     <g id=\"line2d_1\">\n      <path clip-path=\"url(#p96683fa834)\" d=\"M 68.481847 239.758125 \nL 68.481847 22.318125 \n\" style=\"fill:none;stroke:#ffffff;stroke-linecap:round;\"/>\n     </g>\n     <g id=\"text_1\">\n      <!-- 0 -->\n      <defs>\n       <path d=\"M 31.78125 66.40625 \nQ 24.171875 66.40625 20.328125 58.90625 \nQ 16.5 51.421875 16.5 36.375 \nQ 16.5 21.390625 20.328125 13.890625 \nQ 24.171875 6.390625 31.78125 6.390625 \nQ 39.453125 6.390625 43.28125 13.890625 \nQ 47.125 21.390625 47.125 36.375 \nQ 47.125 51.421875 43.28125 58.90625 \nQ 39.453125 66.40625 31.78125 66.40625 \nz\nM 31.78125 74.21875 \nQ 44.046875 74.21875 50.515625 64.515625 \nQ 56.984375 54.828125 56.984375 36.375 \nQ 56.984375 17.96875 50.515625 8.265625 \nQ 44.046875 -1.421875 31.78125 -1.421875 \nQ 19.53125 -1.421875 13.0625 8.265625 \nQ 6.59375 17.96875 6.59375 36.375 \nQ 6.59375 54.828125 13.0625 64.515625 \nQ 19.53125 74.21875 31.78125 74.21875 \nz\n\" id=\"DejaVuSans-48\"/>\n      </defs>\n      <g style=\"fill:#262626;\" transform=\"translate(64.982472 257.616406)scale(0.11 -0.11)\">\n       <use xlink:href=\"#DejaVuSans-48\"/>\n      </g>\n     </g>\n    </g>\n    <g id=\"xtick_2\">\n     <g id=\"line2d_2\">\n      <path clip-path=\"url(#p96683fa834)\" d=\"M 151.301884 239.758125 \nL 151.301884 22.318125 \n\" style=\"fill:none;stroke:#ffffff;stroke-linecap:round;\"/>\n     </g>\n     <g id=\"text_2\">\n      <!-- 10 -->\n      <defs>\n       <path d=\"M 12.40625 8.296875 \nL 28.515625 8.296875 \nL 28.515625 63.921875 \nL 10.984375 60.40625 \nL 10.984375 69.390625 \nL 28.421875 72.90625 \nL 38.28125 72.90625 \nL 38.28125 8.296875 \nL 54.390625 8.296875 \nL 54.390625 0 \nL 12.40625 0 \nz\n\" id=\"DejaVuSans-49\"/>\n      </defs>\n      <g style=\"fill:#262626;\" transform=\"translate(144.303134 257.616406)scale(0.11 -0.11)\">\n       <use xlink:href=\"#DejaVuSans-49\"/>\n       <use x=\"63.623047\" xlink:href=\"#DejaVuSans-48\"/>\n      </g>\n     </g>\n    </g>\n    <g id=\"xtick_3\">\n     <g id=\"line2d_3\">\n      <path clip-path=\"url(#p96683fa834)\" d=\"M 234.121921 239.758125 \nL 234.121921 22.318125 \n\" style=\"fill:none;stroke:#ffffff;stroke-linecap:round;\"/>\n     </g>\n     <g id=\"text_3\">\n      <!-- 20 -->\n      <defs>\n       <path d=\"M 19.1875 8.296875 \nL 53.609375 8.296875 \nL 53.609375 0 \nL 7.328125 0 \nL 7.328125 8.296875 \nQ 12.9375 14.109375 22.625 23.890625 \nQ 32.328125 33.6875 34.8125 36.53125 \nQ 39.546875 41.84375 41.421875 45.53125 \nQ 43.3125 49.21875 43.3125 52.78125 \nQ 43.3125 58.59375 39.234375 62.25 \nQ 35.15625 65.921875 28.609375 65.921875 \nQ 23.96875 65.921875 18.8125 64.3125 \nQ 13.671875 62.703125 7.8125 59.421875 \nL 7.8125 69.390625 \nQ 13.765625 71.78125 18.9375 73 \nQ 24.125 74.21875 28.421875 74.21875 \nQ 39.75 74.21875 46.484375 68.546875 \nQ 53.21875 62.890625 53.21875 53.421875 \nQ 53.21875 48.921875 51.53125 44.890625 \nQ 49.859375 40.875 45.40625 35.40625 \nQ 44.1875 33.984375 37.640625 27.21875 \nQ 31.109375 20.453125 19.1875 8.296875 \nz\n\" id=\"DejaVuSans-50\"/>\n      </defs>\n      <g style=\"fill:#262626;\" transform=\"translate(227.123171 257.616406)scale(0.11 -0.11)\">\n       <use xlink:href=\"#DejaVuSans-50\"/>\n       <use x=\"63.623047\" xlink:href=\"#DejaVuSans-48\"/>\n      </g>\n     </g>\n    </g>\n    <g id=\"xtick_4\">\n     <g id=\"line2d_4\">\n      <path clip-path=\"url(#p96683fa834)\" d=\"M 316.941958 239.758125 \nL 316.941958 22.318125 \n\" style=\"fill:none;stroke:#ffffff;stroke-linecap:round;\"/>\n     </g>\n     <g id=\"text_4\">\n      <!-- 30 -->\n      <defs>\n       <path d=\"M 40.578125 39.3125 \nQ 47.65625 37.796875 51.625 33 \nQ 55.609375 28.21875 55.609375 21.1875 \nQ 55.609375 10.40625 48.1875 4.484375 \nQ 40.765625 -1.421875 27.09375 -1.421875 \nQ 22.515625 -1.421875 17.65625 -0.515625 \nQ 12.796875 0.390625 7.625 2.203125 \nL 7.625 11.71875 \nQ 11.71875 9.328125 16.59375 8.109375 \nQ 21.484375 6.890625 26.8125 6.890625 \nQ 36.078125 6.890625 40.9375 10.546875 \nQ 45.796875 14.203125 45.796875 21.1875 \nQ 45.796875 27.640625 41.28125 31.265625 \nQ 36.765625 34.90625 28.71875 34.90625 \nL 20.21875 34.90625 \nL 20.21875 43.015625 \nL 29.109375 43.015625 \nQ 36.375 43.015625 40.234375 45.921875 \nQ 44.09375 48.828125 44.09375 54.296875 \nQ 44.09375 59.90625 40.109375 62.90625 \nQ 36.140625 65.921875 28.71875 65.921875 \nQ 24.65625 65.921875 20.015625 65.03125 \nQ 15.375 64.15625 9.8125 62.3125 \nL 9.8125 71.09375 \nQ 15.4375 72.65625 20.34375 73.4375 \nQ 25.25 74.21875 29.59375 74.21875 \nQ 40.828125 74.21875 47.359375 69.109375 \nQ 53.90625 64.015625 53.90625 55.328125 \nQ 53.90625 49.265625 50.4375 45.09375 \nQ 46.96875 40.921875 40.578125 39.3125 \nz\n\" id=\"DejaVuSans-51\"/>\n      </defs>\n      <g style=\"fill:#262626;\" transform=\"translate(309.943208 257.616406)scale(0.11 -0.11)\">\n       <use xlink:href=\"#DejaVuSans-51\"/>\n       <use x=\"63.623047\" xlink:href=\"#DejaVuSans-48\"/>\n      </g>\n     </g>\n    </g>\n    <g id=\"xtick_5\">\n     <g id=\"line2d_5\">\n      <path clip-path=\"url(#p96683fa834)\" d=\"M 399.761995 239.758125 \nL 399.761995 22.318125 \n\" style=\"fill:none;stroke:#ffffff;stroke-linecap:round;\"/>\n     </g>\n     <g id=\"text_5\">\n      <!-- 40 -->\n      <defs>\n       <path d=\"M 37.796875 64.3125 \nL 12.890625 25.390625 \nL 37.796875 25.390625 \nz\nM 35.203125 72.90625 \nL 47.609375 72.90625 \nL 47.609375 25.390625 \nL 58.015625 25.390625 \nL 58.015625 17.1875 \nL 47.609375 17.1875 \nL 47.609375 0 \nL 37.796875 0 \nL 37.796875 17.1875 \nL 4.890625 17.1875 \nL 4.890625 26.703125 \nz\n\" id=\"DejaVuSans-52\"/>\n      </defs>\n      <g style=\"fill:#262626;\" transform=\"translate(392.763245 257.616406)scale(0.11 -0.11)\">\n       <use xlink:href=\"#DejaVuSans-52\"/>\n       <use x=\"63.623047\" xlink:href=\"#DejaVuSans-48\"/>\n      </g>\n     </g>\n    </g>\n    <g id=\"xtick_6\">\n     <g id=\"line2d_6\">\n      <path clip-path=\"url(#p96683fa834)\" d=\"M 482.582032 239.758125 \nL 482.582032 22.318125 \n\" style=\"fill:none;stroke:#ffffff;stroke-linecap:round;\"/>\n     </g>\n     <g id=\"text_6\">\n      <!-- 50 -->\n      <defs>\n       <path d=\"M 10.796875 72.90625 \nL 49.515625 72.90625 \nL 49.515625 64.59375 \nL 19.828125 64.59375 \nL 19.828125 46.734375 \nQ 21.96875 47.46875 24.109375 47.828125 \nQ 26.265625 48.1875 28.421875 48.1875 \nQ 40.625 48.1875 47.75 41.5 \nQ 54.890625 34.8125 54.890625 23.390625 \nQ 54.890625 11.625 47.5625 5.09375 \nQ 40.234375 -1.421875 26.90625 -1.421875 \nQ 22.3125 -1.421875 17.546875 -0.640625 \nQ 12.796875 0.140625 7.71875 1.703125 \nL 7.71875 11.625 \nQ 12.109375 9.234375 16.796875 8.0625 \nQ 21.484375 6.890625 26.703125 6.890625 \nQ 35.15625 6.890625 40.078125 11.328125 \nQ 45.015625 15.765625 45.015625 23.390625 \nQ 45.015625 31 40.078125 35.4375 \nQ 35.15625 39.890625 26.703125 39.890625 \nQ 22.75 39.890625 18.8125 39.015625 \nQ 14.890625 38.140625 10.796875 36.28125 \nz\n\" id=\"DejaVuSans-53\"/>\n      </defs>\n      <g style=\"fill:#262626;\" transform=\"translate(475.583282 257.616406)scale(0.11 -0.11)\">\n       <use xlink:href=\"#DejaVuSans-53\"/>\n       <use x=\"63.623047\" xlink:href=\"#DejaVuSans-48\"/>\n      </g>\n     </g>\n    </g>\n   </g>\n   <g id=\"matplotlib.axis_2\">\n    <g id=\"ytick_1\">\n     <g id=\"line2d_7\">\n      <path clip-path=\"url(#p96683fa834)\" d=\"M 48.190938 233.768065 \nL 494.590937 233.768065 \n\" style=\"fill:none;stroke:#ffffff;stroke-linecap:round;\"/>\n     </g>\n     <g id=\"text_7\">\n      <!-- 0.000 -->\n      <defs>\n       <path d=\"M 10.6875 12.40625 \nL 21 12.40625 \nL 21 0 \nL 10.6875 0 \nz\n\" id=\"DejaVuSans-46\"/>\n      </defs>\n      <g style=\"fill:#262626;\" transform=\"translate(7.2 237.947206)scale(0.11 -0.11)\">\n       <use xlink:href=\"#DejaVuSans-48\"/>\n       <use x=\"63.623047\" xlink:href=\"#DejaVuSans-46\"/>\n       <use x=\"95.410156\" xlink:href=\"#DejaVuSans-48\"/>\n       <use x=\"159.033203\" xlink:href=\"#DejaVuSans-48\"/>\n       <use x=\"222.65625\" xlink:href=\"#DejaVuSans-48\"/>\n      </g>\n     </g>\n    </g>\n    <g id=\"ytick_2\">\n     <g id=\"line2d_8\">\n      <path clip-path=\"url(#p96683fa834)\" d=\"M 48.190938 208.997888 \nL 494.590937 208.997888 \n\" style=\"fill:none;stroke:#ffffff;stroke-linecap:round;\"/>\n     </g>\n     <g id=\"text_8\">\n      <!-- 0.002 -->\n      <g style=\"fill:#262626;\" transform=\"translate(7.2 213.177028)scale(0.11 -0.11)\">\n       <use xlink:href=\"#DejaVuSans-48\"/>\n       <use x=\"63.623047\" xlink:href=\"#DejaVuSans-46\"/>\n       <use x=\"95.410156\" xlink:href=\"#DejaVuSans-48\"/>\n       <use x=\"159.033203\" xlink:href=\"#DejaVuSans-48\"/>\n       <use x=\"222.65625\" xlink:href=\"#DejaVuSans-50\"/>\n      </g>\n     </g>\n    </g>\n    <g id=\"ytick_3\">\n     <g id=\"line2d_9\">\n      <path clip-path=\"url(#p96683fa834)\" d=\"M 48.190938 184.22771 \nL 494.590937 184.22771 \n\" style=\"fill:none;stroke:#ffffff;stroke-linecap:round;\"/>\n     </g>\n     <g id=\"text_9\">\n      <!-- 0.004 -->\n      <g style=\"fill:#262626;\" transform=\"translate(7.2 188.406851)scale(0.11 -0.11)\">\n       <use xlink:href=\"#DejaVuSans-48\"/>\n       <use x=\"63.623047\" xlink:href=\"#DejaVuSans-46\"/>\n       <use x=\"95.410156\" xlink:href=\"#DejaVuSans-48\"/>\n       <use x=\"159.033203\" xlink:href=\"#DejaVuSans-48\"/>\n       <use x=\"222.65625\" xlink:href=\"#DejaVuSans-52\"/>\n      </g>\n     </g>\n    </g>\n    <g id=\"ytick_4\">\n     <g id=\"line2d_10\">\n      <path clip-path=\"url(#p96683fa834)\" d=\"M 48.190938 159.457532 \nL 494.590937 159.457532 \n\" style=\"fill:none;stroke:#ffffff;stroke-linecap:round;\"/>\n     </g>\n     <g id=\"text_10\">\n      <!-- 0.006 -->\n      <defs>\n       <path d=\"M 33.015625 40.375 \nQ 26.375 40.375 22.484375 35.828125 \nQ 18.609375 31.296875 18.609375 23.390625 \nQ 18.609375 15.53125 22.484375 10.953125 \nQ 26.375 6.390625 33.015625 6.390625 \nQ 39.65625 6.390625 43.53125 10.953125 \nQ 47.40625 15.53125 47.40625 23.390625 \nQ 47.40625 31.296875 43.53125 35.828125 \nQ 39.65625 40.375 33.015625 40.375 \nz\nM 52.59375 71.296875 \nL 52.59375 62.3125 \nQ 48.875 64.0625 45.09375 64.984375 \nQ 41.3125 65.921875 37.59375 65.921875 \nQ 27.828125 65.921875 22.671875 59.328125 \nQ 17.53125 52.734375 16.796875 39.40625 \nQ 19.671875 43.65625 24.015625 45.921875 \nQ 28.375 48.1875 33.59375 48.1875 \nQ 44.578125 48.1875 50.953125 41.515625 \nQ 57.328125 34.859375 57.328125 23.390625 \nQ 57.328125 12.15625 50.6875 5.359375 \nQ 44.046875 -1.421875 33.015625 -1.421875 \nQ 20.359375 -1.421875 13.671875 8.265625 \nQ 6.984375 17.96875 6.984375 36.375 \nQ 6.984375 53.65625 15.1875 63.9375 \nQ 23.390625 74.21875 37.203125 74.21875 \nQ 40.921875 74.21875 44.703125 73.484375 \nQ 48.484375 72.75 52.59375 71.296875 \nz\n\" id=\"DejaVuSans-54\"/>\n      </defs>\n      <g style=\"fill:#262626;\" transform=\"translate(7.2 163.636673)scale(0.11 -0.11)\">\n       <use xlink:href=\"#DejaVuSans-48\"/>\n       <use x=\"63.623047\" xlink:href=\"#DejaVuSans-46\"/>\n       <use x=\"95.410156\" xlink:href=\"#DejaVuSans-48\"/>\n       <use x=\"159.033203\" xlink:href=\"#DejaVuSans-48\"/>\n       <use x=\"222.65625\" xlink:href=\"#DejaVuSans-54\"/>\n      </g>\n     </g>\n    </g>\n    <g id=\"ytick_5\">\n     <g id=\"line2d_11\">\n      <path clip-path=\"url(#p96683fa834)\" d=\"M 48.190938 134.687355 \nL 494.590937 134.687355 \n\" style=\"fill:none;stroke:#ffffff;stroke-linecap:round;\"/>\n     </g>\n     <g id=\"text_11\">\n      <!-- 0.008 -->\n      <defs>\n       <path d=\"M 31.78125 34.625 \nQ 24.75 34.625 20.71875 30.859375 \nQ 16.703125 27.09375 16.703125 20.515625 \nQ 16.703125 13.921875 20.71875 10.15625 \nQ 24.75 6.390625 31.78125 6.390625 \nQ 38.8125 6.390625 42.859375 10.171875 \nQ 46.921875 13.96875 46.921875 20.515625 \nQ 46.921875 27.09375 42.890625 30.859375 \nQ 38.875 34.625 31.78125 34.625 \nz\nM 21.921875 38.8125 \nQ 15.578125 40.375 12.03125 44.71875 \nQ 8.5 49.078125 8.5 55.328125 \nQ 8.5 64.0625 14.71875 69.140625 \nQ 20.953125 74.21875 31.78125 74.21875 \nQ 42.671875 74.21875 48.875 69.140625 \nQ 55.078125 64.0625 55.078125 55.328125 \nQ 55.078125 49.078125 51.53125 44.71875 \nQ 48 40.375 41.703125 38.8125 \nQ 48.828125 37.15625 52.796875 32.3125 \nQ 56.78125 27.484375 56.78125 20.515625 \nQ 56.78125 9.90625 50.3125 4.234375 \nQ 43.84375 -1.421875 31.78125 -1.421875 \nQ 19.734375 -1.421875 13.25 4.234375 \nQ 6.78125 9.90625 6.78125 20.515625 \nQ 6.78125 27.484375 10.78125 32.3125 \nQ 14.796875 37.15625 21.921875 38.8125 \nz\nM 18.3125 54.390625 \nQ 18.3125 48.734375 21.84375 45.5625 \nQ 25.390625 42.390625 31.78125 42.390625 \nQ 38.140625 42.390625 41.71875 45.5625 \nQ 45.3125 48.734375 45.3125 54.390625 \nQ 45.3125 60.0625 41.71875 63.234375 \nQ 38.140625 66.40625 31.78125 66.40625 \nQ 25.390625 66.40625 21.84375 63.234375 \nQ 18.3125 60.0625 18.3125 54.390625 \nz\n\" id=\"DejaVuSans-56\"/>\n      </defs>\n      <g style=\"fill:#262626;\" transform=\"translate(7.2 138.866495)scale(0.11 -0.11)\">\n       <use xlink:href=\"#DejaVuSans-48\"/>\n       <use x=\"63.623047\" xlink:href=\"#DejaVuSans-46\"/>\n       <use x=\"95.410156\" xlink:href=\"#DejaVuSans-48\"/>\n       <use x=\"159.033203\" xlink:href=\"#DejaVuSans-48\"/>\n       <use x=\"222.65625\" xlink:href=\"#DejaVuSans-56\"/>\n      </g>\n     </g>\n    </g>\n    <g id=\"ytick_6\">\n     <g id=\"line2d_12\">\n      <path clip-path=\"url(#p96683fa834)\" d=\"M 48.190938 109.917177 \nL 494.590937 109.917177 \n\" style=\"fill:none;stroke:#ffffff;stroke-linecap:round;\"/>\n     </g>\n     <g id=\"text_12\">\n      <!-- 0.010 -->\n      <g style=\"fill:#262626;\" transform=\"translate(7.2 114.096317)scale(0.11 -0.11)\">\n       <use xlink:href=\"#DejaVuSans-48\"/>\n       <use x=\"63.623047\" xlink:href=\"#DejaVuSans-46\"/>\n       <use x=\"95.410156\" xlink:href=\"#DejaVuSans-48\"/>\n       <use x=\"159.033203\" xlink:href=\"#DejaVuSans-49\"/>\n       <use x=\"222.65625\" xlink:href=\"#DejaVuSans-48\"/>\n      </g>\n     </g>\n    </g>\n    <g id=\"ytick_7\">\n     <g id=\"line2d_13\">\n      <path clip-path=\"url(#p96683fa834)\" d=\"M 48.190938 85.146999 \nL 494.590937 85.146999 \n\" style=\"fill:none;stroke:#ffffff;stroke-linecap:round;\"/>\n     </g>\n     <g id=\"text_13\">\n      <!-- 0.012 -->\n      <g style=\"fill:#262626;\" transform=\"translate(7.2 89.32614)scale(0.11 -0.11)\">\n       <use xlink:href=\"#DejaVuSans-48\"/>\n       <use x=\"63.623047\" xlink:href=\"#DejaVuSans-46\"/>\n       <use x=\"95.410156\" xlink:href=\"#DejaVuSans-48\"/>\n       <use x=\"159.033203\" xlink:href=\"#DejaVuSans-49\"/>\n       <use x=\"222.65625\" xlink:href=\"#DejaVuSans-50\"/>\n      </g>\n     </g>\n    </g>\n    <g id=\"ytick_8\">\n     <g id=\"line2d_14\">\n      <path clip-path=\"url(#p96683fa834)\" d=\"M 48.190938 60.376821 \nL 494.590937 60.376821 \n\" style=\"fill:none;stroke:#ffffff;stroke-linecap:round;\"/>\n     </g>\n     <g id=\"text_14\">\n      <!-- 0.014 -->\n      <g style=\"fill:#262626;\" transform=\"translate(7.2 64.555962)scale(0.11 -0.11)\">\n       <use xlink:href=\"#DejaVuSans-48\"/>\n       <use x=\"63.623047\" xlink:href=\"#DejaVuSans-46\"/>\n       <use x=\"95.410156\" xlink:href=\"#DejaVuSans-48\"/>\n       <use x=\"159.033203\" xlink:href=\"#DejaVuSans-49\"/>\n       <use x=\"222.65625\" xlink:href=\"#DejaVuSans-52\"/>\n      </g>\n     </g>\n    </g>\n    <g id=\"ytick_9\">\n     <g id=\"line2d_15\">\n      <path clip-path=\"url(#p96683fa834)\" d=\"M 48.190938 35.606644 \nL 494.590937 35.606644 \n\" style=\"fill:none;stroke:#ffffff;stroke-linecap:round;\"/>\n     </g>\n     <g id=\"text_15\">\n      <!-- 0.016 -->\n      <g style=\"fill:#262626;\" transform=\"translate(7.2 39.785784)scale(0.11 -0.11)\">\n       <use xlink:href=\"#DejaVuSans-48\"/>\n       <use x=\"63.623047\" xlink:href=\"#DejaVuSans-46\"/>\n       <use x=\"95.410156\" xlink:href=\"#DejaVuSans-48\"/>\n       <use x=\"159.033203\" xlink:href=\"#DejaVuSans-49\"/>\n       <use x=\"222.65625\" xlink:href=\"#DejaVuSans-54\"/>\n      </g>\n     </g>\n    </g>\n   </g>\n   <g id=\"line2d_16\">\n    <path clip-path=\"url(#p96683fa834)\" d=\"M 68.481847 32.201761 \nL 76.76385 114.323929 \nL 85.045854 131.97058 \nL 93.327858 145.170215 \nL 101.609861 152.551357 \nL 109.891865 148.803725 \nL 118.173869 173.13274 \nL 126.455873 170.855078 \nL 134.737876 181.234761 \nL 143.01988 180.293314 \nL 151.301884 178.865716 \nL 159.583887 194.02315 \nL 167.865891 179.972199 \nL 176.147895 188.97621 \nL 184.429899 193.64109 \nL 192.711902 197.496734 \nL 200.993906 196.709651 \nL 209.27591 197.850876 \nL 217.557913 199.5959 \nL 225.839917 198.473791 \nL 234.121921 203.181952 \nL 242.403925 207.181783 \nL 250.685928 203.376556 \nL 258.967932 207.673523 \nL 267.249936 206.075742 \nL 275.531939 206.467405 \nL 283.813943 203.981354 \nL 292.095947 201.012062 \nL 300.37795 210.117859 \nL 308.659954 206.893343 \nL 316.941958 209.372675 \nL 325.223962 210.026823 \nL 333.505965 206.212463 \nL 341.787969 204.67576 \nL 350.069973 212.043092 \nL 358.351976 214.851177 \nL 366.63398 208.091017 \nL 374.915984 211.102345 \nL 383.197988 214.065324 \nL 391.479991 211.536417 \nL 399.761995 216.014824 \nL 408.043999 216.904771 \nL 416.326002 216.080082 \nL 424.608006 211.901676 \nL 432.89001 214.888975 \nL 441.172014 213.461114 \nL 449.454017 215.78658 \nL 457.736021 218.103093 \nL 466.018025 214.963111 \nL 474.300028 217.616253 \n\" style=\"fill:none;stroke:#4c72b0;stroke-linecap:round;stroke-width:1.5;\"/>\n   </g>\n   <g id=\"line2d_17\">\n    <path clip-path=\"url(#p96683fa834)\" d=\"M 68.481847 213.39534 \nL 76.76385 154.427521 \nL 85.045854 212.327619 \nL 93.327858 223.518572 \nL 101.609861 209.635484 \nL 109.891865 218.579846 \nL 118.173869 211.904616 \nL 126.455873 209.658298 \nL 134.737876 225.247685 \nL 143.01988 214.195541 \nL 151.301884 207.165081 \nL 159.583887 219.020641 \nL 167.865891 190.914827 \nL 176.147895 227.304037 \nL 184.429899 223.246769 \nL 192.711902 224.61085 \nL 200.993906 208.276959 \nL 209.27591 220.556407 \nL 217.557913 186.47374 \nL 225.839917 193.278007 \nL 234.121921 228.202019 \nL 242.403925 218.372602 \nL 250.685928 227.584261 \nL 258.967932 226.539478 \nL 267.249936 218.100332 \nL 275.531939 218.289536 \nL 283.813943 225.350233 \nL 292.095947 208.714019 \nL 300.37795 229.365913 \nL 308.659954 220.36655 \nL 316.941958 220.882354 \nL 325.223962 219.659472 \nL 333.505965 209.130239 \nL 341.787969 222.010121 \nL 350.069973 228.208891 \nL 358.351976 228.430554 \nL 366.63398 222.513867 \nL 374.915984 203.943238 \nL 383.197988 229.718147 \nL 391.479991 216.141058 \nL 399.761995 229.874489 \nL 408.043999 227.428009 \nL 416.326002 209.175256 \nL 424.608006 210.17019 \nL 432.89001 229.790877 \nL 441.172014 213.461665 \nL 449.454017 228.677117 \nL 457.736021 219.636998 \nL 466.018025 211.854978 \nL 474.300028 213.957264 \n\" style=\"fill:none;stroke:#dd8452;stroke-linecap:round;stroke-width:1.5;\"/>\n   </g>\n   <g id=\"patch_3\">\n    <path d=\"M 48.190938 239.758125 \nL 48.190938 22.318125 \n\" style=\"fill:none;stroke:#ffffff;stroke-linecap:square;stroke-linejoin:miter;stroke-width:1.25;\"/>\n   </g>\n   <g id=\"patch_4\">\n    <path d=\"M 494.590937 239.758125 \nL 494.590937 22.318125 \n\" style=\"fill:none;stroke:#ffffff;stroke-linecap:square;stroke-linejoin:miter;stroke-width:1.25;\"/>\n   </g>\n   <g id=\"patch_5\">\n    <path d=\"M 48.190937 239.758125 \nL 494.590937 239.758125 \n\" style=\"fill:none;stroke:#ffffff;stroke-linecap:square;stroke-linejoin:miter;stroke-width:1.25;\"/>\n   </g>\n   <g id=\"patch_6\">\n    <path d=\"M 48.190937 22.318125 \nL 494.590937 22.318125 \n\" style=\"fill:none;stroke:#ffffff;stroke-linecap:square;stroke-linejoin:miter;stroke-width:1.25;\"/>\n   </g>\n   <g id=\"text_16\">\n    <!-- last loss: 0.0013041337952017784 -->\n    <defs>\n     <path d=\"M 9.421875 75.984375 \nL 18.40625 75.984375 \nL 18.40625 0 \nL 9.421875 0 \nz\n\" id=\"DejaVuSans-108\"/>\n     <path d=\"M 34.28125 27.484375 \nQ 23.390625 27.484375 19.1875 25 \nQ 14.984375 22.515625 14.984375 16.5 \nQ 14.984375 11.71875 18.140625 8.90625 \nQ 21.296875 6.109375 26.703125 6.109375 \nQ 34.1875 6.109375 38.703125 11.40625 \nQ 43.21875 16.703125 43.21875 25.484375 \nL 43.21875 27.484375 \nz\nM 52.203125 31.203125 \nL 52.203125 0 \nL 43.21875 0 \nL 43.21875 8.296875 \nQ 40.140625 3.328125 35.546875 0.953125 \nQ 30.953125 -1.421875 24.3125 -1.421875 \nQ 15.921875 -1.421875 10.953125 3.296875 \nQ 6 8.015625 6 15.921875 \nQ 6 25.140625 12.171875 29.828125 \nQ 18.359375 34.515625 30.609375 34.515625 \nL 43.21875 34.515625 \nL 43.21875 35.40625 \nQ 43.21875 41.609375 39.140625 45 \nQ 35.0625 48.390625 27.6875 48.390625 \nQ 23 48.390625 18.546875 47.265625 \nQ 14.109375 46.140625 10.015625 43.890625 \nL 10.015625 52.203125 \nQ 14.9375 54.109375 19.578125 55.046875 \nQ 24.21875 56 28.609375 56 \nQ 40.484375 56 46.34375 49.84375 \nQ 52.203125 43.703125 52.203125 31.203125 \nz\n\" id=\"DejaVuSans-97\"/>\n     <path d=\"M 44.28125 53.078125 \nL 44.28125 44.578125 \nQ 40.484375 46.53125 36.375 47.5 \nQ 32.28125 48.484375 27.875 48.484375 \nQ 21.1875 48.484375 17.84375 46.4375 \nQ 14.5 44.390625 14.5 40.28125 \nQ 14.5 37.15625 16.890625 35.375 \nQ 19.28125 33.59375 26.515625 31.984375 \nL 29.59375 31.296875 \nQ 39.15625 29.25 43.1875 25.515625 \nQ 47.21875 21.78125 47.21875 15.09375 \nQ 47.21875 7.46875 41.1875 3.015625 \nQ 35.15625 -1.421875 24.609375 -1.421875 \nQ 20.21875 -1.421875 15.453125 -0.5625 \nQ 10.6875 0.296875 5.421875 2 \nL 5.421875 11.28125 \nQ 10.40625 8.6875 15.234375 7.390625 \nQ 20.0625 6.109375 24.8125 6.109375 \nQ 31.15625 6.109375 34.5625 8.28125 \nQ 37.984375 10.453125 37.984375 14.40625 \nQ 37.984375 18.0625 35.515625 20.015625 \nQ 33.0625 21.96875 24.703125 23.78125 \nL 21.578125 24.515625 \nQ 13.234375 26.265625 9.515625 29.90625 \nQ 5.8125 33.546875 5.8125 39.890625 \nQ 5.8125 47.609375 11.28125 51.796875 \nQ 16.75 56 26.8125 56 \nQ 31.78125 56 36.171875 55.265625 \nQ 40.578125 54.546875 44.28125 53.078125 \nz\n\" id=\"DejaVuSans-115\"/>\n     <path d=\"M 18.3125 70.21875 \nL 18.3125 54.6875 \nL 36.8125 54.6875 \nL 36.8125 47.703125 \nL 18.3125 47.703125 \nL 18.3125 18.015625 \nQ 18.3125 11.328125 20.140625 9.421875 \nQ 21.96875 7.515625 27.59375 7.515625 \nL 36.8125 7.515625 \nL 36.8125 0 \nL 27.59375 0 \nQ 17.1875 0 13.234375 3.875 \nQ 9.28125 7.765625 9.28125 18.015625 \nL 9.28125 47.703125 \nL 2.6875 47.703125 \nL 2.6875 54.6875 \nL 9.28125 54.6875 \nL 9.28125 70.21875 \nz\n\" id=\"DejaVuSans-116\"/>\n     <path id=\"DejaVuSans-32\"/>\n     <path d=\"M 30.609375 48.390625 \nQ 23.390625 48.390625 19.1875 42.75 \nQ 14.984375 37.109375 14.984375 27.296875 \nQ 14.984375 17.484375 19.15625 11.84375 \nQ 23.34375 6.203125 30.609375 6.203125 \nQ 37.796875 6.203125 41.984375 11.859375 \nQ 46.1875 17.53125 46.1875 27.296875 \nQ 46.1875 37.015625 41.984375 42.703125 \nQ 37.796875 48.390625 30.609375 48.390625 \nz\nM 30.609375 56 \nQ 42.328125 56 49.015625 48.375 \nQ 55.71875 40.765625 55.71875 27.296875 \nQ 55.71875 13.875 49.015625 6.21875 \nQ 42.328125 -1.421875 30.609375 -1.421875 \nQ 18.84375 -1.421875 12.171875 6.21875 \nQ 5.515625 13.875 5.515625 27.296875 \nQ 5.515625 40.765625 12.171875 48.375 \nQ 18.84375 56 30.609375 56 \nz\n\" id=\"DejaVuSans-111\"/>\n     <path d=\"M 11.71875 12.40625 \nL 22.015625 12.40625 \nL 22.015625 0 \nL 11.71875 0 \nz\nM 11.71875 51.703125 \nL 22.015625 51.703125 \nL 22.015625 39.3125 \nL 11.71875 39.3125 \nz\n\" id=\"DejaVuSans-58\"/>\n     <path d=\"M 8.203125 72.90625 \nL 55.078125 72.90625 \nL 55.078125 68.703125 \nL 28.609375 0 \nL 18.3125 0 \nL 43.21875 64.59375 \nL 8.203125 64.59375 \nz\n\" id=\"DejaVuSans-55\"/>\n     <path d=\"M 10.984375 1.515625 \nL 10.984375 10.5 \nQ 14.703125 8.734375 18.5 7.8125 \nQ 22.3125 6.890625 25.984375 6.890625 \nQ 35.75 6.890625 40.890625 13.453125 \nQ 46.046875 20.015625 46.78125 33.40625 \nQ 43.953125 29.203125 39.59375 26.953125 \nQ 35.25 24.703125 29.984375 24.703125 \nQ 19.046875 24.703125 12.671875 31.3125 \nQ 6.296875 37.9375 6.296875 49.421875 \nQ 6.296875 60.640625 12.9375 67.421875 \nQ 19.578125 74.21875 30.609375 74.21875 \nQ 43.265625 74.21875 49.921875 64.515625 \nQ 56.59375 54.828125 56.59375 36.375 \nQ 56.59375 19.140625 48.40625 8.859375 \nQ 40.234375 -1.421875 26.421875 -1.421875 \nQ 22.703125 -1.421875 18.890625 -0.6875 \nQ 15.09375 0.046875 10.984375 1.515625 \nz\nM 30.609375 32.421875 \nQ 37.25 32.421875 41.125 36.953125 \nQ 45.015625 41.5 45.015625 49.421875 \nQ 45.015625 57.28125 41.125 61.84375 \nQ 37.25 66.40625 30.609375 66.40625 \nQ 23.96875 66.40625 20.09375 61.84375 \nQ 16.21875 57.28125 16.21875 49.421875 \nQ 16.21875 41.5 20.09375 36.953125 \nQ 23.96875 32.421875 30.609375 32.421875 \nz\n\" id=\"DejaVuSans-57\"/>\n    </defs>\n    <g style=\"fill:#262626;\" transform=\"translate(164.888125 16.318125)scale(0.12 -0.12)\">\n     <use xlink:href=\"#DejaVuSans-108\"/>\n     <use x=\"27.783203\" xlink:href=\"#DejaVuSans-97\"/>\n     <use x=\"89.0625\" xlink:href=\"#DejaVuSans-115\"/>\n     <use x=\"141.162109\" xlink:href=\"#DejaVuSans-116\"/>\n     <use x=\"180.371094\" xlink:href=\"#DejaVuSans-32\"/>\n     <use x=\"212.158203\" xlink:href=\"#DejaVuSans-108\"/>\n     <use x=\"239.941406\" xlink:href=\"#DejaVuSans-111\"/>\n     <use x=\"301.123047\" xlink:href=\"#DejaVuSans-115\"/>\n     <use x=\"353.222656\" xlink:href=\"#DejaVuSans-115\"/>\n     <use x=\"405.322266\" xlink:href=\"#DejaVuSans-58\"/>\n     <use x=\"439.013672\" xlink:href=\"#DejaVuSans-32\"/>\n     <use x=\"470.800781\" xlink:href=\"#DejaVuSans-48\"/>\n     <use x=\"534.423828\" xlink:href=\"#DejaVuSans-46\"/>\n     <use x=\"566.210938\" xlink:href=\"#DejaVuSans-48\"/>\n     <use x=\"629.833984\" xlink:href=\"#DejaVuSans-48\"/>\n     <use x=\"693.457031\" xlink:href=\"#DejaVuSans-49\"/>\n     <use x=\"757.080078\" xlink:href=\"#DejaVuSans-51\"/>\n     <use x=\"820.703125\" xlink:href=\"#DejaVuSans-48\"/>\n     <use x=\"884.326172\" xlink:href=\"#DejaVuSans-52\"/>\n     <use x=\"947.949219\" xlink:href=\"#DejaVuSans-49\"/>\n     <use x=\"1011.572266\" xlink:href=\"#DejaVuSans-51\"/>\n     <use x=\"1075.195312\" xlink:href=\"#DejaVuSans-51\"/>\n     <use x=\"1138.818359\" xlink:href=\"#DejaVuSans-55\"/>\n     <use x=\"1202.441406\" xlink:href=\"#DejaVuSans-57\"/>\n     <use x=\"1266.064453\" xlink:href=\"#DejaVuSans-53\"/>\n     <use x=\"1329.6875\" xlink:href=\"#DejaVuSans-50\"/>\n     <use x=\"1393.310547\" xlink:href=\"#DejaVuSans-48\"/>\n     <use x=\"1456.933594\" xlink:href=\"#DejaVuSans-49\"/>\n     <use x=\"1520.556641\" xlink:href=\"#DejaVuSans-55\"/>\n     <use x=\"1584.179688\" xlink:href=\"#DejaVuSans-55\"/>\n     <use x=\"1647.802734\" xlink:href=\"#DejaVuSans-56\"/>\n     <use x=\"1711.425781\" xlink:href=\"#DejaVuSans-52\"/>\n    </g>\n   </g>\n   <g id=\"legend_1\">\n    <g id=\"patch_7\">\n     <path d=\"M 426.088437 63.41 \nL 486.890938 63.41 \nQ 489.090937 63.41 489.090937 61.21 \nL 489.090937 30.018125 \nQ 489.090937 27.818125 486.890938 27.818125 \nL 426.088437 27.818125 \nQ 423.888438 27.818125 423.888438 30.018125 \nL 423.888438 61.21 \nQ 423.888438 63.41 426.088437 63.41 \nz\n\" style=\"fill:#eaeaf2;opacity:0.8;stroke:#cccccc;stroke-linejoin:miter;\"/>\n    </g>\n    <g id=\"line2d_18\">\n     <path d=\"M 428.288437 36.726406 \nL 450.288437 36.726406 \n\" style=\"fill:none;stroke:#4c72b0;stroke-linecap:round;stroke-width:1.5;\"/>\n    </g>\n    <g id=\"line2d_19\"/>\n    <g id=\"text_17\">\n     <!-- train -->\n     <defs>\n      <path d=\"M 41.109375 46.296875 \nQ 39.59375 47.171875 37.8125 47.578125 \nQ 36.03125 48 33.890625 48 \nQ 26.265625 48 22.1875 43.046875 \nQ 18.109375 38.09375 18.109375 28.8125 \nL 18.109375 0 \nL 9.078125 0 \nL 9.078125 54.6875 \nL 18.109375 54.6875 \nL 18.109375 46.1875 \nQ 20.953125 51.171875 25.484375 53.578125 \nQ 30.03125 56 36.53125 56 \nQ 37.453125 56 38.578125 55.875 \nQ 39.703125 55.765625 41.0625 55.515625 \nz\n\" id=\"DejaVuSans-114\"/>\n      <path d=\"M 9.421875 54.6875 \nL 18.40625 54.6875 \nL 18.40625 0 \nL 9.421875 0 \nz\nM 9.421875 75.984375 \nL 18.40625 75.984375 \nL 18.40625 64.59375 \nL 9.421875 64.59375 \nz\n\" id=\"DejaVuSans-105\"/>\n      <path d=\"M 54.890625 33.015625 \nL 54.890625 0 \nL 45.90625 0 \nL 45.90625 32.71875 \nQ 45.90625 40.484375 42.875 44.328125 \nQ 39.84375 48.1875 33.796875 48.1875 \nQ 26.515625 48.1875 22.3125 43.546875 \nQ 18.109375 38.921875 18.109375 30.90625 \nL 18.109375 0 \nL 9.078125 0 \nL 9.078125 54.6875 \nL 18.109375 54.6875 \nL 18.109375 46.1875 \nQ 21.34375 51.125 25.703125 53.5625 \nQ 30.078125 56 35.796875 56 \nQ 45.21875 56 50.046875 50.171875 \nQ 54.890625 44.34375 54.890625 33.015625 \nz\n\" id=\"DejaVuSans-110\"/>\n     </defs>\n     <g style=\"fill:#262626;\" transform=\"translate(459.088437 40.576406)scale(0.11 -0.11)\">\n      <use xlink:href=\"#DejaVuSans-116\"/>\n      <use x=\"39.208984\" xlink:href=\"#DejaVuSans-114\"/>\n      <use x=\"80.322266\" xlink:href=\"#DejaVuSans-97\"/>\n      <use x=\"141.601562\" xlink:href=\"#DejaVuSans-105\"/>\n      <use x=\"169.384766\" xlink:href=\"#DejaVuSans-110\"/>\n     </g>\n    </g>\n    <g id=\"line2d_20\">\n     <path d=\"M 428.288437 52.872344 \nL 450.288437 52.872344 \n\" style=\"fill:none;stroke:#dd8452;stroke-linecap:round;stroke-width:1.5;\"/>\n    </g>\n    <g id=\"line2d_21\"/>\n    <g id=\"text_18\">\n     <!-- val -->\n     <defs>\n      <path d=\"M 2.984375 54.6875 \nL 12.5 54.6875 \nL 29.59375 8.796875 \nL 46.6875 54.6875 \nL 56.203125 54.6875 \nL 35.6875 0 \nL 23.484375 0 \nz\n\" id=\"DejaVuSans-118\"/>\n     </defs>\n     <g style=\"fill:#262626;\" transform=\"translate(459.088437 56.722344)scale(0.11 -0.11)\">\n      <use xlink:href=\"#DejaVuSans-118\"/>\n      <use x=\"59.179688\" xlink:href=\"#DejaVuSans-97\"/>\n      <use x=\"120.458984\" xlink:href=\"#DejaVuSans-108\"/>\n     </g>\n    </g>\n   </g>\n  </g>\n </g>\n <defs>\n  <clipPath id=\"p96683fa834\">\n   <rect height=\"217.44\" width=\"446.4\" x=\"48.190938\" y=\"22.318125\"/>\n  </clipPath>\n </defs>\n</svg>\n"
          },
          "metadata": {
            "tags": []
          }
        },
        {
          "output_type": "stream",
          "text": [
            "time: 550 ms\n"
          ],
          "name": "stdout"
        }
      ]
    },
    {
      "cell_type": "code",
      "metadata": {
        "id": "PU9VYvVpPUFE",
        "colab_type": "code",
        "colab": {
          "base_uri": "https://localhost:8080/",
          "height": 34
        },
        "outputId": "e159ec22-5f68-4cf0-bcae-a1530559f25d"
      },
      "source": [
        "y_pred = model.predict(X_test)"
      ],
      "execution_count": 65,
      "outputs": [
        {
          "output_type": "stream",
          "text": [
            "time: 728 ms\n"
          ],
          "name": "stdout"
        }
      ]
    },
    {
      "cell_type": "code",
      "metadata": {
        "id": "5BzMPnI9Pak4",
        "colab_type": "code",
        "colab": {
          "base_uri": "https://localhost:8080/",
          "height": 374
        },
        "outputId": "930f038f-7982-4591-80d9-35355dccaf12"
      },
      "source": [
        "plt.plot(scaler.inverse_transform(y_test), label='Actual')\n",
        "plt.plot(scaler.inverse_transform(y_pred), label='Predict')\n",
        "plt.legend()\n",
        "plt.show()"
      ],
      "execution_count": 66,
      "outputs": [
        {
          "output_type": "display_data",
          "data": {
            "text/plain": [
              "<Figure size 576x288 with 1 Axes>"
            ],
            "image/svg+xml": "<?xml version=\"1.0\" encoding=\"utf-8\" standalone=\"no\"?>\n<!DOCTYPE svg PUBLIC \"-//W3C//DTD SVG 1.1//EN\"\n  \"http://www.w3.org/Graphics/SVG/1.1/DTD/svg11.dtd\">\n<!-- Created with matplotlib (https://matplotlib.org/) -->\n<svg height=\"251.985938pt\" version=\"1.1\" viewBox=\"0 0 484.2975 251.985938\" width=\"484.2975pt\" xmlns=\"http://www.w3.org/2000/svg\" xmlns:xlink=\"http://www.w3.org/1999/xlink\">\n <defs>\n  <style type=\"text/css\">\n*{stroke-linecap:butt;stroke-linejoin:round;}\n  </style>\n </defs>\n <g id=\"figure_1\">\n  <g id=\"patch_1\">\n   <path d=\"M 0 251.985938 \nL 484.2975 251.985938 \nL 484.2975 0 \nL 0 0 \nz\n\" style=\"fill:#ffffff;\"/>\n  </g>\n  <g id=\"axes_1\">\n   <g id=\"patch_2\">\n    <path d=\"M 30.6975 224.64 \nL 477.0975 224.64 \nL 477.0975 7.2 \nL 30.6975 7.2 \nz\n\" style=\"fill:#eaeaf2;\"/>\n   </g>\n   <g id=\"matplotlib.axis_1\">\n    <g id=\"xtick_1\">\n     <g id=\"line2d_1\">\n      <path clip-path=\"url(#pf8b3e81288)\" d=\"M 50.988409 224.64 \nL 50.988409 7.2 \n\" style=\"fill:none;stroke:#ffffff;stroke-linecap:round;\"/>\n     </g>\n     <g id=\"text_1\">\n      <!-- 0 -->\n      <defs>\n       <path d=\"M 31.78125 66.40625 \nQ 24.171875 66.40625 20.328125 58.90625 \nQ 16.5 51.421875 16.5 36.375 \nQ 16.5 21.390625 20.328125 13.890625 \nQ 24.171875 6.390625 31.78125 6.390625 \nQ 39.453125 6.390625 43.28125 13.890625 \nQ 47.125 21.390625 47.125 36.375 \nQ 47.125 51.421875 43.28125 58.90625 \nQ 39.453125 66.40625 31.78125 66.40625 \nz\nM 31.78125 74.21875 \nQ 44.046875 74.21875 50.515625 64.515625 \nQ 56.984375 54.828125 56.984375 36.375 \nQ 56.984375 17.96875 50.515625 8.265625 \nQ 44.046875 -1.421875 31.78125 -1.421875 \nQ 19.53125 -1.421875 13.0625 8.265625 \nQ 6.59375 17.96875 6.59375 36.375 \nQ 6.59375 54.828125 13.0625 64.515625 \nQ 19.53125 74.21875 31.78125 74.21875 \nz\n\" id=\"DejaVuSans-48\"/>\n      </defs>\n      <g style=\"fill:#262626;\" transform=\"translate(47.489034 242.498281)scale(0.11 -0.11)\">\n       <use xlink:href=\"#DejaVuSans-48\"/>\n      </g>\n     </g>\n    </g>\n    <g id=\"xtick_2\">\n     <g id=\"line2d_2\">\n      <path clip-path=\"url(#pf8b3e81288)\" d=\"M 114.596275 224.64 \nL 114.596275 7.2 \n\" style=\"fill:none;stroke:#ffffff;stroke-linecap:round;\"/>\n     </g>\n     <g id=\"text_2\">\n      <!-- 100 -->\n      <defs>\n       <path d=\"M 12.40625 8.296875 \nL 28.515625 8.296875 \nL 28.515625 63.921875 \nL 10.984375 60.40625 \nL 10.984375 69.390625 \nL 28.421875 72.90625 \nL 38.28125 72.90625 \nL 38.28125 8.296875 \nL 54.390625 8.296875 \nL 54.390625 0 \nL 12.40625 0 \nz\n\" id=\"DejaVuSans-49\"/>\n      </defs>\n      <g style=\"fill:#262626;\" transform=\"translate(104.09815 242.498281)scale(0.11 -0.11)\">\n       <use xlink:href=\"#DejaVuSans-49\"/>\n       <use x=\"63.623047\" xlink:href=\"#DejaVuSans-48\"/>\n       <use x=\"127.246094\" xlink:href=\"#DejaVuSans-48\"/>\n      </g>\n     </g>\n    </g>\n    <g id=\"xtick_3\">\n     <g id=\"line2d_3\">\n      <path clip-path=\"url(#pf8b3e81288)\" d=\"M 178.20414 224.64 \nL 178.20414 7.2 \n\" style=\"fill:none;stroke:#ffffff;stroke-linecap:round;\"/>\n     </g>\n     <g id=\"text_3\">\n      <!-- 200 -->\n      <defs>\n       <path d=\"M 19.1875 8.296875 \nL 53.609375 8.296875 \nL 53.609375 0 \nL 7.328125 0 \nL 7.328125 8.296875 \nQ 12.9375 14.109375 22.625 23.890625 \nQ 32.328125 33.6875 34.8125 36.53125 \nQ 39.546875 41.84375 41.421875 45.53125 \nQ 43.3125 49.21875 43.3125 52.78125 \nQ 43.3125 58.59375 39.234375 62.25 \nQ 35.15625 65.921875 28.609375 65.921875 \nQ 23.96875 65.921875 18.8125 64.3125 \nQ 13.671875 62.703125 7.8125 59.421875 \nL 7.8125 69.390625 \nQ 13.765625 71.78125 18.9375 73 \nQ 24.125 74.21875 28.421875 74.21875 \nQ 39.75 74.21875 46.484375 68.546875 \nQ 53.21875 62.890625 53.21875 53.421875 \nQ 53.21875 48.921875 51.53125 44.890625 \nQ 49.859375 40.875 45.40625 35.40625 \nQ 44.1875 33.984375 37.640625 27.21875 \nQ 31.109375 20.453125 19.1875 8.296875 \nz\n\" id=\"DejaVuSans-50\"/>\n      </defs>\n      <g style=\"fill:#262626;\" transform=\"translate(167.706015 242.498281)scale(0.11 -0.11)\">\n       <use xlink:href=\"#DejaVuSans-50\"/>\n       <use x=\"63.623047\" xlink:href=\"#DejaVuSans-48\"/>\n       <use x=\"127.246094\" xlink:href=\"#DejaVuSans-48\"/>\n      </g>\n     </g>\n    </g>\n    <g id=\"xtick_4\">\n     <g id=\"line2d_4\">\n      <path clip-path=\"url(#pf8b3e81288)\" d=\"M 241.812006 224.64 \nL 241.812006 7.2 \n\" style=\"fill:none;stroke:#ffffff;stroke-linecap:round;\"/>\n     </g>\n     <g id=\"text_4\">\n      <!-- 300 -->\n      <defs>\n       <path d=\"M 40.578125 39.3125 \nQ 47.65625 37.796875 51.625 33 \nQ 55.609375 28.21875 55.609375 21.1875 \nQ 55.609375 10.40625 48.1875 4.484375 \nQ 40.765625 -1.421875 27.09375 -1.421875 \nQ 22.515625 -1.421875 17.65625 -0.515625 \nQ 12.796875 0.390625 7.625 2.203125 \nL 7.625 11.71875 \nQ 11.71875 9.328125 16.59375 8.109375 \nQ 21.484375 6.890625 26.8125 6.890625 \nQ 36.078125 6.890625 40.9375 10.546875 \nQ 45.796875 14.203125 45.796875 21.1875 \nQ 45.796875 27.640625 41.28125 31.265625 \nQ 36.765625 34.90625 28.71875 34.90625 \nL 20.21875 34.90625 \nL 20.21875 43.015625 \nL 29.109375 43.015625 \nQ 36.375 43.015625 40.234375 45.921875 \nQ 44.09375 48.828125 44.09375 54.296875 \nQ 44.09375 59.90625 40.109375 62.90625 \nQ 36.140625 65.921875 28.71875 65.921875 \nQ 24.65625 65.921875 20.015625 65.03125 \nQ 15.375 64.15625 9.8125 62.3125 \nL 9.8125 71.09375 \nQ 15.4375 72.65625 20.34375 73.4375 \nQ 25.25 74.21875 29.59375 74.21875 \nQ 40.828125 74.21875 47.359375 69.109375 \nQ 53.90625 64.015625 53.90625 55.328125 \nQ 53.90625 49.265625 50.4375 45.09375 \nQ 46.96875 40.921875 40.578125 39.3125 \nz\n\" id=\"DejaVuSans-51\"/>\n      </defs>\n      <g style=\"fill:#262626;\" transform=\"translate(231.313881 242.498281)scale(0.11 -0.11)\">\n       <use xlink:href=\"#DejaVuSans-51\"/>\n       <use x=\"63.623047\" xlink:href=\"#DejaVuSans-48\"/>\n       <use x=\"127.246094\" xlink:href=\"#DejaVuSans-48\"/>\n      </g>\n     </g>\n    </g>\n    <g id=\"xtick_5\">\n     <g id=\"line2d_5\">\n      <path clip-path=\"url(#pf8b3e81288)\" d=\"M 305.419871 224.64 \nL 305.419871 7.2 \n\" style=\"fill:none;stroke:#ffffff;stroke-linecap:round;\"/>\n     </g>\n     <g id=\"text_5\">\n      <!-- 400 -->\n      <defs>\n       <path d=\"M 37.796875 64.3125 \nL 12.890625 25.390625 \nL 37.796875 25.390625 \nz\nM 35.203125 72.90625 \nL 47.609375 72.90625 \nL 47.609375 25.390625 \nL 58.015625 25.390625 \nL 58.015625 17.1875 \nL 47.609375 17.1875 \nL 47.609375 0 \nL 37.796875 0 \nL 37.796875 17.1875 \nL 4.890625 17.1875 \nL 4.890625 26.703125 \nz\n\" id=\"DejaVuSans-52\"/>\n      </defs>\n      <g style=\"fill:#262626;\" transform=\"translate(294.921746 242.498281)scale(0.11 -0.11)\">\n       <use xlink:href=\"#DejaVuSans-52\"/>\n       <use x=\"63.623047\" xlink:href=\"#DejaVuSans-48\"/>\n       <use x=\"127.246094\" xlink:href=\"#DejaVuSans-48\"/>\n      </g>\n     </g>\n    </g>\n    <g id=\"xtick_6\">\n     <g id=\"line2d_6\">\n      <path clip-path=\"url(#pf8b3e81288)\" d=\"M 369.027737 224.64 \nL 369.027737 7.2 \n\" style=\"fill:none;stroke:#ffffff;stroke-linecap:round;\"/>\n     </g>\n     <g id=\"text_6\">\n      <!-- 500 -->\n      <defs>\n       <path d=\"M 10.796875 72.90625 \nL 49.515625 72.90625 \nL 49.515625 64.59375 \nL 19.828125 64.59375 \nL 19.828125 46.734375 \nQ 21.96875 47.46875 24.109375 47.828125 \nQ 26.265625 48.1875 28.421875 48.1875 \nQ 40.625 48.1875 47.75 41.5 \nQ 54.890625 34.8125 54.890625 23.390625 \nQ 54.890625 11.625 47.5625 5.09375 \nQ 40.234375 -1.421875 26.90625 -1.421875 \nQ 22.3125 -1.421875 17.546875 -0.640625 \nQ 12.796875 0.140625 7.71875 1.703125 \nL 7.71875 11.625 \nQ 12.109375 9.234375 16.796875 8.0625 \nQ 21.484375 6.890625 26.703125 6.890625 \nQ 35.15625 6.890625 40.078125 11.328125 \nQ 45.015625 15.765625 45.015625 23.390625 \nQ 45.015625 31 40.078125 35.4375 \nQ 35.15625 39.890625 26.703125 39.890625 \nQ 22.75 39.890625 18.8125 39.015625 \nQ 14.890625 38.140625 10.796875 36.28125 \nz\n\" id=\"DejaVuSans-53\"/>\n      </defs>\n      <g style=\"fill:#262626;\" transform=\"translate(358.529612 242.498281)scale(0.11 -0.11)\">\n       <use xlink:href=\"#DejaVuSans-53\"/>\n       <use x=\"63.623047\" xlink:href=\"#DejaVuSans-48\"/>\n       <use x=\"127.246094\" xlink:href=\"#DejaVuSans-48\"/>\n      </g>\n     </g>\n    </g>\n    <g id=\"xtick_7\">\n     <g id=\"line2d_7\">\n      <path clip-path=\"url(#pf8b3e81288)\" d=\"M 432.635602 224.64 \nL 432.635602 7.2 \n\" style=\"fill:none;stroke:#ffffff;stroke-linecap:round;\"/>\n     </g>\n     <g id=\"text_7\">\n      <!-- 600 -->\n      <defs>\n       <path d=\"M 33.015625 40.375 \nQ 26.375 40.375 22.484375 35.828125 \nQ 18.609375 31.296875 18.609375 23.390625 \nQ 18.609375 15.53125 22.484375 10.953125 \nQ 26.375 6.390625 33.015625 6.390625 \nQ 39.65625 6.390625 43.53125 10.953125 \nQ 47.40625 15.53125 47.40625 23.390625 \nQ 47.40625 31.296875 43.53125 35.828125 \nQ 39.65625 40.375 33.015625 40.375 \nz\nM 52.59375 71.296875 \nL 52.59375 62.3125 \nQ 48.875 64.0625 45.09375 64.984375 \nQ 41.3125 65.921875 37.59375 65.921875 \nQ 27.828125 65.921875 22.671875 59.328125 \nQ 17.53125 52.734375 16.796875 39.40625 \nQ 19.671875 43.65625 24.015625 45.921875 \nQ 28.375 48.1875 33.59375 48.1875 \nQ 44.578125 48.1875 50.953125 41.515625 \nQ 57.328125 34.859375 57.328125 23.390625 \nQ 57.328125 12.15625 50.6875 5.359375 \nQ 44.046875 -1.421875 33.015625 -1.421875 \nQ 20.359375 -1.421875 13.671875 8.265625 \nQ 6.984375 17.96875 6.984375 36.375 \nQ 6.984375 53.65625 15.1875 63.9375 \nQ 23.390625 74.21875 37.203125 74.21875 \nQ 40.921875 74.21875 44.703125 73.484375 \nQ 48.484375 72.75 52.59375 71.296875 \nz\n\" id=\"DejaVuSans-54\"/>\n      </defs>\n      <g style=\"fill:#262626;\" transform=\"translate(422.137477 242.498281)scale(0.11 -0.11)\">\n       <use xlink:href=\"#DejaVuSans-54\"/>\n       <use x=\"63.623047\" xlink:href=\"#DejaVuSans-48\"/>\n       <use x=\"127.246094\" xlink:href=\"#DejaVuSans-48\"/>\n      </g>\n     </g>\n    </g>\n   </g>\n   <g id=\"matplotlib.axis_2\">\n    <g id=\"ytick_1\">\n     <g id=\"line2d_8\">\n      <path clip-path=\"url(#pf8b3e81288)\" d=\"M 30.6975 197.207136 \nL 477.0975 197.207136 \n\" style=\"fill:none;stroke:#ffffff;stroke-linecap:round;\"/>\n     </g>\n     <g id=\"text_8\">\n      <!-- 10 -->\n      <g style=\"fill:#262626;\" transform=\"translate(7.2 201.386277)scale(0.11 -0.11)\">\n       <use xlink:href=\"#DejaVuSans-49\"/>\n       <use x=\"63.623047\" xlink:href=\"#DejaVuSans-48\"/>\n      </g>\n     </g>\n    </g>\n    <g id=\"ytick_2\">\n     <g id=\"line2d_9\">\n      <path clip-path=\"url(#pf8b3e81288)\" d=\"M 30.6975 153.279157 \nL 477.0975 153.279157 \n\" style=\"fill:none;stroke:#ffffff;stroke-linecap:round;\"/>\n     </g>\n     <g id=\"text_9\">\n      <!-- 12 -->\n      <g style=\"fill:#262626;\" transform=\"translate(7.2 157.458297)scale(0.11 -0.11)\">\n       <use xlink:href=\"#DejaVuSans-49\"/>\n       <use x=\"63.623047\" xlink:href=\"#DejaVuSans-50\"/>\n      </g>\n     </g>\n    </g>\n    <g id=\"ytick_3\">\n     <g id=\"line2d_10\">\n      <path clip-path=\"url(#pf8b3e81288)\" d=\"M 30.6975 109.351178 \nL 477.0975 109.351178 \n\" style=\"fill:none;stroke:#ffffff;stroke-linecap:round;\"/>\n     </g>\n     <g id=\"text_10\">\n      <!-- 14 -->\n      <g style=\"fill:#262626;\" transform=\"translate(7.2 113.530318)scale(0.11 -0.11)\">\n       <use xlink:href=\"#DejaVuSans-49\"/>\n       <use x=\"63.623047\" xlink:href=\"#DejaVuSans-52\"/>\n      </g>\n     </g>\n    </g>\n    <g id=\"ytick_4\">\n     <g id=\"line2d_11\">\n      <path clip-path=\"url(#pf8b3e81288)\" d=\"M 30.6975 65.423198 \nL 477.0975 65.423198 \n\" style=\"fill:none;stroke:#ffffff;stroke-linecap:round;\"/>\n     </g>\n     <g id=\"text_11\">\n      <!-- 16 -->\n      <g style=\"fill:#262626;\" transform=\"translate(7.2 69.602339)scale(0.11 -0.11)\">\n       <use xlink:href=\"#DejaVuSans-49\"/>\n       <use x=\"63.623047\" xlink:href=\"#DejaVuSans-54\"/>\n      </g>\n     </g>\n    </g>\n    <g id=\"ytick_5\">\n     <g id=\"line2d_12\">\n      <path clip-path=\"url(#pf8b3e81288)\" d=\"M 30.6975 21.495219 \nL 477.0975 21.495219 \n\" style=\"fill:none;stroke:#ffffff;stroke-linecap:round;\"/>\n     </g>\n     <g id=\"text_12\">\n      <!-- 18 -->\n      <defs>\n       <path d=\"M 31.78125 34.625 \nQ 24.75 34.625 20.71875 30.859375 \nQ 16.703125 27.09375 16.703125 20.515625 \nQ 16.703125 13.921875 20.71875 10.15625 \nQ 24.75 6.390625 31.78125 6.390625 \nQ 38.8125 6.390625 42.859375 10.171875 \nQ 46.921875 13.96875 46.921875 20.515625 \nQ 46.921875 27.09375 42.890625 30.859375 \nQ 38.875 34.625 31.78125 34.625 \nz\nM 21.921875 38.8125 \nQ 15.578125 40.375 12.03125 44.71875 \nQ 8.5 49.078125 8.5 55.328125 \nQ 8.5 64.0625 14.71875 69.140625 \nQ 20.953125 74.21875 31.78125 74.21875 \nQ 42.671875 74.21875 48.875 69.140625 \nQ 55.078125 64.0625 55.078125 55.328125 \nQ 55.078125 49.078125 51.53125 44.71875 \nQ 48 40.375 41.703125 38.8125 \nQ 48.828125 37.15625 52.796875 32.3125 \nQ 56.78125 27.484375 56.78125 20.515625 \nQ 56.78125 9.90625 50.3125 4.234375 \nQ 43.84375 -1.421875 31.78125 -1.421875 \nQ 19.734375 -1.421875 13.25 4.234375 \nQ 6.78125 9.90625 6.78125 20.515625 \nQ 6.78125 27.484375 10.78125 32.3125 \nQ 14.796875 37.15625 21.921875 38.8125 \nz\nM 18.3125 54.390625 \nQ 18.3125 48.734375 21.84375 45.5625 \nQ 25.390625 42.390625 31.78125 42.390625 \nQ 38.140625 42.390625 41.71875 45.5625 \nQ 45.3125 48.734375 45.3125 54.390625 \nQ 45.3125 60.0625 41.71875 63.234375 \nQ 38.140625 66.40625 31.78125 66.40625 \nQ 25.390625 66.40625 21.84375 63.234375 \nQ 18.3125 60.0625 18.3125 54.390625 \nz\n\" id=\"DejaVuSans-56\"/>\n      </defs>\n      <g style=\"fill:#262626;\" transform=\"translate(7.2 25.67436)scale(0.11 -0.11)\">\n       <use xlink:href=\"#DejaVuSans-49\"/>\n       <use x=\"63.623047\" xlink:href=\"#DejaVuSans-56\"/>\n      </g>\n     </g>\n    </g>\n   </g>\n   <g id=\"line2d_13\">\n    <path clip-path=\"url(#pf8b3e81288)\" d=\"M 50.988409 31.35705 \nL 51.624488 31.24723 \nL 52.260566 33.00435 \nL 52.896645 39.879078 \nL 53.532724 39.72533 \nL 54.168802 42.251189 \nL 54.804881 42.097441 \nL 55.44096 38.846771 \nL 56.713117 43.063857 \nL 57.349196 47.083267 \nL 57.985274 47.302907 \nL 58.621353 51.322317 \nL 59.257432 48.554854 \nL 59.89351 49.279666 \nL 60.529589 57.318486 \nL 61.165668 58.394722 \nL 61.801746 56.220287 \nL 62.437825 55.319763 \nL 63.073904 55.605295 \nL 63.709982 56.747422 \nL 64.346061 64.039467 \nL 64.982139 66.960678 \nL 65.618218 64.610531 \nL 66.254297 69.684212 \nL 66.890375 70.123492 \nL 67.526454 67.663525 \nL 68.162533 68.542085 \nL 69.43469 74.274686 \nL 70.070769 73.483982 \nL 70.706847 75.658417 \nL 71.342926 75.438778 \nL 71.979005 83.389742 \nL 73.251162 80.292819 \nL 73.887241 77.173933 \nL 74.523319 78.294096 \nL 75.159398 78.447844 \nL 75.795477 84.707581 \nL 76.431555 86.706304 \nL 77.067634 89.825191 \nL 77.703713 94.481557 \nL 78.339791 96.963487 \nL 78.97587 94.261917 \nL 79.611949 100.653438 \nL 80.248027 100.104338 \nL 80.884106 96.304568 \nL 81.520185 96.414388 \nL 82.156263 95.975108 \nL 82.792342 100.741294 \nL 83.42842 103.75036 \nL 84.064499 109.856349 \nL 84.700578 121.123876 \nL 85.336656 120.948164 \nL 85.972735 124.682042 \nL 86.608814 123.759555 \nL 87.244892 127.625217 \nL 87.880971 136.718309 \nL 88.51705 129.140732 \nL 89.153128 124.484366 \nL 89.789207 125.648458 \nL 90.425286 127.449505 \nL 91.061364 137.311336 \nL 91.697443 136.718309 \nL 92.333522 141.638242 \nL 92.9696 140.298439 \nL 93.605679 144.164101 \nL 94.241758 138.914708 \nL 94.877836 136.718309 \nL 95.513915 128.899128 \nL 96.149994 128.328065 \nL 96.786072 129.645904 \nL 97.422151 132.039979 \nL 98.05823 135.444397 \nL 98.694308 139.507735 \nL 99.330387 141.484494 \nL 100.602544 166.237911 \nL 101.238623 162.284392 \nL 101.874701 161.559581 \nL 102.51078 146.997456 \nL 103.782937 133.401746 \nL 104.419016 143.812677 \nL 105.055095 134.851369 \nL 105.691173 138.607212 \nL 106.327252 144.010353 \nL 106.963331 146.228716 \nL 107.599409 149.567242 \nL 108.235488 149.149927 \nL 108.871567 153.718437 \nL 109.507645 156.156439 \nL 110.143724 154.135752 \nL 110.779803 148.073691 \nL 111.415881 146.206752 \nL 112.05196 150.357946 \nL 112.688039 149.149927 \nL 113.324117 151.609894 \nL 113.960196 155.958763 \nL 114.596275 155.014312 \nL 115.232353 155.211988 \nL 115.868432 165.754703 \nL 116.504511 165.535063 \nL 117.140589 157.891595 \nL 118.412747 149.567242 \nL 120.320982 120.113532 \nL 120.957061 113.282732 \nL 121.59314 110.493305 \nL 122.229218 114.249147 \nL 122.865297 114.644499 \nL 123.501376 111.240081 \nL 124.137454 111.240081 \nL 124.773533 112.579884 \nL 125.409612 117.433926 \nL 126.04569 114.249147 \nL 126.681769 118.444269 \nL 127.317848 112.184532 \nL 127.953926 113.458444 \nL 128.590005 122.244039 \nL 129.226084 127.493433 \nL 129.862162 124.28669 \nL 130.498241 124.83579 \nL 131.13432 122.441715 \nL 131.770398 121.431372 \nL 132.406477 116.884826 \nL 133.042556 118.268557 \nL 133.678634 121.014056 \nL 134.314713 127.317721 \nL 134.950792 132.018015 \nL 135.58687 130.897851 \nL 136.222949 137.530976 \nL 136.859028 145.899256 \nL 137.495106 143.461253 \nL 138.131185 133.555494 \nL 138.767263 135.795821 \nL 139.403342 134.08263 \nL 140.039421 139.639519 \nL 140.675499 141.857882 \nL 141.311578 141.660206 \nL 141.947657 135.444397 \nL 142.583735 135.268685 \nL 143.219814 135.444397 \nL 143.855893 133.906918 \nL 144.491971 131.974087 \nL 145.12805 140.979323 \nL 145.764129 144.427669 \nL 146.400207 145.48194 \nL 147.036286 159.824426 \nL 147.672365 161.911005 \nL 148.308443 161.581545 \nL 148.944522 162.32832 \nL 149.580601 169.949825 \nL 150.216679 171.46534 \nL 150.852758 165.183639 \nL 151.488837 166.172019 \nL 152.124915 175.199218 \nL 152.760994 179.39434 \nL 154.033151 182.513227 \nL 154.66923 171.509268 \nL 155.305308 169.598401 \nL 155.941387 174.606191 \nL 156.577466 175.396894 \nL 157.213544 179.767728 \nL 158.485702 171.90462 \nL 159.12178 169.993753 \nL 159.757859 182.513227 \nL 160.393938 190.903471 \nL 161.030016 192.11149 \nL 161.666095 197.514632 \nL 162.302174 196.548216 \nL 162.938252 202.324746 \nL 163.574331 196.921604 \nL 164.21041 203.510801 \nL 164.846488 208.43952 \nL 165.482567 214.756364 \nL 166.118646 210.425065 \nL 166.754724 196.921604 \nL 167.390803 206.212372 \nL 168.026882 196.723928 \nL 168.66296 198.063732 \nL 169.299039 189.937055 \nL 169.935118 180.228972 \nL 171.207275 192.067562 \nL 171.843354 185.28069 \nL 172.479432 182.359479 \nL 173.115511 187.98226 \nL 173.751589 189.937055 \nL 174.387668 194.176105 \nL 175.023747 197.514632 \nL 175.659825 198.634795 \nL 176.295904 193.75879 \nL 176.931983 190.991327 \nL 177.568061 182.623047 \nL 178.20414 183.96285 \nL 178.840219 184.73159 \nL 179.476297 178.296141 \nL 180.112376 184.73159 \nL 180.748455 184.336238 \nL 181.384533 185.917645 \nL 182.020612 183.172147 \nL 182.656691 183.172147 \nL 183.292769 176.69277 \nL 183.928848 172.78318 \nL 184.564927 167.489858 \nL 185.201005 163.953656 \nL 185.837084 159.62675 \nL 186.473163 172.387828 \nL 187.109241 167.314146 \nL 187.74532 167.314146 \nL 188.381399 159.62675 \nL 189.017477 162.218501 \nL 189.653556 165.974343 \nL 190.289635 160.044066 \nL 190.925713 156.485899 \nL 191.561792 156.090547 \nL 192.19787 157.693919 \nL 192.833949 158.484622 \nL 193.470028 164.392935 \nL 194.106106 163.404556 \nL 194.742185 163.20688 \nL 195.378264 160.856733 \nL 196.014342 157.913559 \nL 196.650421 160.461381 \nL 197.922578 169.312869 \nL 198.558657 168.719841 \nL 199.194736 164.788287 \nL 199.830814 170.894276 \nL 200.466893 161.823149 \nL 201.102972 157.078927 \nL 201.73905 149.808846 \nL 202.375129 147.282988 \nL 203.011208 151.25847 \nL 203.647286 153.806292 \nL 204.919444 142.912154 \nL 205.555522 143.483217 \nL 206.191601 143.483217 \nL 206.82768 139.727375 \nL 207.463758 142.912154 \nL 208.099837 137.355264 \nL 208.735916 130.195004 \nL 209.371994 133.950846 \nL 210.008073 135.554217 \nL 210.644151 138.738996 \nL 211.28023 147.085312 \nL 211.916309 150.248126 \nL 212.552387 146.47032 \nL 213.188466 148.820467 \nL 213.824545 152.598273 \nL 214.460623 148.051727 \nL 215.096702 147.700303 \nL 215.732781 147.524591 \nL 216.368859 149.062071 \nL 217.004938 144.691237 \nL 217.641017 143.131794 \nL 218.277095 146.514248 \nL 218.913174 145.459976 \nL 219.549253 144.164101 \nL 220.185331 144.910877 \nL 220.82141 143.329469 \nL 221.457489 138.936672 \nL 222.093567 138.519356 \nL 222.729646 137.530976 \nL 223.365725 138.080076 \nL 224.001803 137.3333 \nL 224.637882 137.530976 \nL 225.273961 136.344921 \nL 225.910039 133.182106 \nL 226.546118 128.96502 \nL 227.182196 128.547704 \nL 227.818275 131.139455 \nL 228.454354 135.136901 \nL 229.090432 137.025804 \nL 229.726511 137.750616 \nL 230.36259 136.828129 \nL 230.998668 138.365608 \nL 231.634747 138.365608 \nL 232.906904 131.776411 \nL 233.542983 133.401746 \nL 234.179062 128.569668 \nL 235.451219 146.843708 \nL 236.087298 139.002563 \nL 236.723376 134.346198 \nL 237.995534 129.997328 \nL 238.631612 135.400469 \nL 239.267691 135.180829 \nL 239.90377 136.828129 \nL 240.539848 133.950846 \nL 241.175927 135.180829 \nL 241.812006 127.735037 \nL 242.448084 131.227311 \nL 243.084163 131.622663 \nL 244.35632 131.512843 \nL 244.992399 133.86299 \nL 245.628477 134.236378 \nL 246.264556 136.103317 \nL 246.900635 136.300993 \nL 247.536713 141.46253 \nL 248.172792 139.310059 \nL 248.808871 140.935395 \nL 249.444949 141.879846 \nL 250.081028 138.695068 \nL 250.717107 143.373397 \nL 251.353185 146.162824 \nL 252.625343 139.529699 \nL 253.8975 135.686001 \nL 254.533579 136.300993 \nL 255.169657 135.883677 \nL 255.805736 133.906918 \nL 256.441815 133.138178 \nL 257.077893 130.634283 \nL 257.713972 130.041256 \nL 258.350051 128.833236 \nL 258.986129 124.132943 \nL 259.622208 125.626494 \nL 260.258287 129.667868 \nL 260.894365 126.395233 \nL 261.530444 129.492156 \nL 262.166523 129.272516 \nL 262.802601 129.865544 \nL 263.43868 129.272516 \nL 264.074758 130.414644 \nL 264.710837 132.501223 \nL 265.346916 132.501223 \nL 265.982994 128.196281 \nL 266.619073 126.395233 \nL 267.255152 125.82417 \nL 267.89123 120.684596 \nL 268.527309 126.988261 \nL 269.163388 122.156183 \nL 269.799466 129.140732 \nL 270.435545 130.744103 \nL 271.071624 129.73376 \nL 271.707702 131.534807 \nL 272.343781 130.744103 \nL 272.97986 131.974087 \nL 273.615938 129.360372 \nL 274.252017 127.866821 \nL 276.160253 135.027081 \nL 276.796332 125.253106 \nL 277.43241 125.692386 \nL 278.068489 121.58512 \nL 278.704568 122.397787 \nL 279.340646 124.813826 \nL 279.976725 121.36548 \nL 280.612804 120.355136 \nL 281.248882 125.033466 \nL 281.884961 119.520505 \nL 282.521039 125.472746 \nL 283.157118 126.527017 \nL 283.793197 128.569668 \nL 284.429275 129.821616 \nL 285.065354 133.709242 \nL 285.701433 132.259619 \nL 286.337511 125.297034 \nL 286.97359 127.142009 \nL 288.881826 127.142009 \nL 289.517905 125.516674 \nL 290.153983 127.932713 \nL 290.790062 128.986984 \nL 291.426141 134.08263 \nL 292.062219 136.586525 \nL 293.334377 139.441843 \nL 293.970455 143.153758 \nL 294.606534 137.399192 \nL 295.242613 138.167932 \nL 295.878691 133.335854 \nL 296.51477 134.148522 \nL 297.150849 136.872056 \nL 297.786927 137.465084 \nL 298.423006 130.656247 \nL 299.059084 132.061943 \nL 299.695163 133.75317 \nL 300.331242 132.523187 \nL 300.96732 126.944333 \nL 301.603399 124.242762 \nL 302.239478 123.671699 \nL 302.875556 125.516674 \nL 303.511635 130.238932 \nL 304.147714 132.303547 \nL 304.783792 122.002436 \nL 305.419871 120.70656 \nL 306.05595 117.214286 \nL 306.692028 116.006266 \nL 307.328107 116.225906 \nL 307.964186 115.215563 \nL 308.600264 115.017887 \nL 309.236343 115.413239 \nL 309.872422 114.798247 \nL 310.5085 108.604402 \nL 311.144579 115.610915 \nL 312.416736 112.77756 \nL 313.688894 114.622535 \nL 314.324972 115.039851 \nL 314.961051 114.622535 \nL 315.59713 115.259491 \nL 316.233208 113.985579 \nL 316.869287 117.719458 \nL 317.505365 117.082502 \nL 318.141444 117.499818 \nL 318.777523 113.348624 \nL 319.413601 111.723288 \nL 320.04968 113.150948 \nL 320.685759 111.108297 \nL 321.321837 112.140604 \nL 321.957916 116.68715 \nL 322.593995 113.172912 \nL 323.230073 112.9972 \nL 323.866152 114.227183 \nL 324.502231 112.799524 \nL 325.138309 112.360244 \nL 325.774388 112.9972 \nL 326.410467 112.9972 \nL 327.046545 114.666463 \nL 327.682624 109.856349 \nL 328.318703 108.187086 \nL 328.954781 108.406726 \nL 329.59086 110.075989 \nL 330.226939 116.335726 \nL 330.863017 115.896446 \nL 331.499096 116.709114 \nL 332.135175 115.281455 \nL 332.771253 112.799524 \nL 333.407332 115.083779 \nL 334.043411 116.928754 \nL 334.679489 119.871929 \nL 335.315568 118.202665 \nL 335.951646 113.612192 \nL 336.587725 114.293075 \nL 337.223804 115.545023 \nL 337.859882 116.181978 \nL 338.495961 118.290521 \nL 339.13204 121.848688 \nL 339.768118 120.3771 \nL 340.404197 122.287967 \nL 341.040276 121.629048 \nL 341.676354 122.068328 \nL 342.312433 119.959784 \nL 342.948512 121.189768 \nL 343.58459 117.411962 \nL 344.220669 120.552812 \nL 344.856748 121.848688 \nL 345.492826 120.552812 \nL 346.128905 121.409408 \nL 346.764984 129.821616 \nL 347.401062 129.821616 \nL 348.037141 132.962466 \nL 348.67322 133.226034 \nL 349.309298 137.640796 \nL 349.945377 131.710519 \nL 350.581456 132.567115 \nL 351.217534 132.347475 \nL 351.853613 132.786754 \nL 352.489692 135.290649 \nL 353.12577 134.653694 \nL 353.761849 135.729929 \nL 354.397927 137.025804 \nL 355.034006 136.806165 \nL 355.670085 133.665314 \nL 356.306163 128.986984 \nL 356.942242 126.878441 \nL 357.578321 127.098081 \nL 358.214399 126.505053 \nL 358.850478 125.626494 \nL 359.486557 126.505053 \nL 360.122635 124.308654 \nL 360.758714 123.078671 \nL 361.394793 120.15746 \nL 362.030871 120.3771 \nL 362.66695 119.981748 \nL 363.303029 125.05543 \nL 363.939107 125.27507 \nL 364.575186 126.966297 \nL 365.211265 131.403023 \nL 365.847343 131.403023 \nL 366.483422 132.918538 \nL 367.119501 130.17304 \nL 367.755579 128.218245 \nL 368.391658 128.437884 \nL 369.027737 130.985707 \nL 369.663815 129.755724 \nL 370.299894 129.536084 \nL 370.935972 131.820339 \nL 371.572051 130.17304 \nL 372.20813 135.202793 \nL 372.844208 128.218245 \nL 373.480287 128.437884 \nL 374.116366 129.096804 \nL 374.752444 126.15363 \nL 375.388523 127.449505 \nL 376.024602 126.592909 \nL 376.66068 124.045087 \nL 377.296759 127.844857 \nL 377.932838 128.943056 \nL 378.568916 128.723416 \nL 379.204995 127.251829 \nL 379.841074 124.045087 \nL 380.477152 124.242762 \nL 381.113231 124.660078 \nL 381.74931 128.723416 \nL 382.385388 131.271239 \nL 383.021467 133.006394 \nL 383.657546 133.665314 \nL 384.293624 132.567115 \nL 384.929703 134.280306 \nL 385.565782 134.675658 \nL 386.20186 134.280306 \nL 386.837939 137.267408 \nL 387.474018 136.850093 \nL 388.110096 132.567115 \nL 388.746175 131.051599 \nL 389.382253 131.095527 \nL 390.018332 136.718309 \nL 390.654411 139.485771 \nL 391.290489 136.718309 \nL 391.926568 137.970256 \nL 393.198725 145.459976 \nL 393.834804 144.625345 \nL 394.470883 140.144691 \nL 395.74304 140.583971 \nL 396.379119 138.607212 \nL 397.015197 138.826852 \nL 397.651276 138.167932 \nL 398.287355 135.180829 \nL 398.923433 140.583971 \nL 399.559512 144.010353 \nL 400.195591 144.844985 \nL 400.831669 144.010353 \nL 401.467748 142.912154 \nL 402.103827 140.122727 \nL 402.739905 139.463807 \nL 403.375984 138.365608 \nL 404.648141 138.365608 \nL 405.28422 136.015461 \nL 405.920299 135.795821 \nL 406.556377 136.674381 \nL 407.192456 138.585248 \nL 407.828534 134.060666 \nL 408.464613 134.060666 \nL 409.100692 132.786754 \nL 409.73677 131.908195 \nL 410.372849 131.249275 \nL 411.008928 131.029635 \nL 411.645006 132.567115 \nL 412.281085 134.477982 \nL 412.917164 134.280306 \nL 413.553242 136.674381 \nL 414.189321 136.235101 \nL 414.8254 136.674381 \nL 415.461478 141.198962 \nL 416.097557 140.605935 \nL 416.733636 141.440566 \nL 417.369714 143.856605 \nL 418.005793 145.130517 \nL 418.641872 149.040107 \nL 419.27795 147.963871 \nL 419.914029 148.820467 \nL 420.550108 146.887636 \nL 421.186186 145.789436 \nL 421.822265 145.130517 \nL 422.458344 144.713201 \nL 423.094422 146.009076 \nL 423.730501 146.448356 \nL 424.36658 145.789436 \nL 425.002658 144.295885 \nL 425.638737 139.727375 \nL 426.274815 139.288095 \nL 426.910894 136.257065 \nL 427.546973 135.773857 \nL 428.183051 139.288095 \nL 428.81913 137.55294 \nL 429.455209 136.476705 \nL 430.091287 131.908195 \nL 430.727366 131.468915 \nL 431.363445 128.63556 \nL 431.999523 129.9534 \nL 433.271681 125.582566 \nL 433.907759 124.704006 \nL 434.543838 122.749211 \nL 435.179917 119.454613 \nL 435.815995 118.158737 \nL 436.452074 117.499818 \nL 437.088153 117.499818 \nL 437.724231 117.060538 \nL 438.996389 119.037297 \nL 439.632467 118.817657 \nL 440.268546 117.719458 \nL 440.904625 120.992092 \nL 441.540703 121.760832 \nL 442.176782 120.552812 \nL 442.812861 121.211732 \nL 443.448939 120.992092 \nL 444.085018 119.234973 \nL 444.721096 117.917133 \nL 445.357175 119.674253 \nL 445.993254 119.893893 \nL 446.629332 121.870652 \nL 447.265411 121.211732 \nL 447.90149 123.408131 \nL 448.537568 124.067051 \nL 449.173647 124.94561 \nL 449.809726 125.16525 \nL 450.445804 123.627771 \nL 451.081883 120.333172 \nL 451.717962 119.015333 \nL 452.35404 114.622535 \nL 452.990119 117.477854 \nL 453.626198 114.402895 \nL 454.262276 108.911898 \nL 455.534434 108.033338 \nL 456.170512 107.154779 \nL 456.806591 107.594058 \nL 456.806591 107.594058 \n\" style=\"fill:none;stroke:#4c72b0;stroke-linecap:round;stroke-width:1.5;\"/>\n   </g>\n   <g id=\"line2d_14\">\n    <path clip-path=\"url(#pf8b3e81288)\" d=\"M 50.988409 17.083636 \nL 51.624488 19.838142 \nL 52.260566 19.445647 \nL 52.896645 21.355003 \nL 53.532724 28.131277 \nL 54.168802 27.552987 \nL 54.804881 30.17599 \nL 55.44096 30.31851 \nL 56.077038 27.29568 \nL 56.713117 29.681863 \nL 57.349196 31.635207 \nL 57.985274 35.28329 \nL 58.621353 35.33796 \nL 59.257432 39.35156 \nL 59.89351 36.715779 \nL 60.529589 37.590337 \nL 61.165668 45.785275 \nL 61.801746 46.42695 \nL 62.437825 44.173191 \nL 63.073904 43.756146 \nL 63.709982 44.206119 \nL 64.346061 45.223574 \nL 64.982139 52.342072 \nL 65.618218 54.986734 \nL 66.254297 52.572232 \nL 66.890375 57.972782 \nL 67.526454 58.496235 \nL 68.162533 55.935359 \nL 68.798611 57.066972 \nL 70.070769 62.627931 \nL 70.706847 61.733767 \nL 71.342926 63.990291 \nL 71.979005 63.902232 \nL 72.615083 71.830751 \nL 73.887241 68.65365 \nL 74.523319 65.895688 \nL 75.159398 67.068943 \nL 75.795477 67.155222 \nL 76.431555 73.245038 \nL 77.067634 75.177666 \nL 77.703713 78.141092 \nL 78.339791 82.949799 \nL 78.97587 85.514488 \nL 79.611949 82.899444 \nL 80.248027 89.412798 \nL 80.884106 89.119777 \nL 81.520185 85.093149 \nL 82.156263 85.290905 \nL 82.792342 84.951802 \nL 83.42842 89.551589 \nL 84.064499 92.567758 \nL 84.700578 98.574375 \nL 85.336656 110.088766 \nL 85.972735 110.284239 \nL 86.608814 113.689636 \nL 87.244892 113.144483 \nL 87.880971 116.819356 \nL 88.51705 126.100244 \nL 89.153128 119.118192 \nL 89.789207 113.703209 \nL 90.425286 114.943828 \nL 91.061364 116.778113 \nL 91.697443 126.503025 \nL 92.333522 126.391317 \nL 92.9696 130.821228 \nL 93.605679 129.913826 \nL 94.241758 133.443017 \nL 94.877836 128.645432 \nL 95.513915 125.947126 \nL 96.149994 118.357583 \nL 96.786072 117.376261 \nL 97.422151 118.827161 \nL 98.05823 121.151259 \nL 98.694308 124.556823 \nL 99.330387 128.721321 \nL 99.966466 130.838446 \nL 100.602544 142.235139 \nL 101.238623 156.147004 \nL 101.874701 153.008486 \nL 102.51078 151.232014 \nL 103.146859 137.317783 \nL 103.782937 129.160632 \nL 104.419016 122.722246 \nL 105.055095 132.874508 \nL 105.691173 124.956336 \nL 106.327252 127.506026 \nL 106.963331 133.39484 \nL 107.599409 135.712758 \nL 108.235488 138.888979 \nL 108.871567 138.698115 \nL 109.507645 143.044114 \nL 110.143724 145.776374 \nL 110.779803 143.779566 \nL 111.415881 137.626764 \nL 112.05196 135.413516 \nL 112.688039 139.57106 \nL 113.324117 138.689212 \nL 113.960196 140.786333 \nL 114.596275 145.304157 \nL 115.232353 144.635943 \nL 115.868432 144.559195 \nL 116.504511 155.040003 \nL 117.140589 155.700006 \nL 117.776668 147.812499 \nL 119.048825 138.932422 \nL 120.957061 109.253483 \nL 121.59314 102.252202 \nL 122.229218 99.402368 \nL 122.865297 103.081348 \nL 123.501376 103.536305 \nL 124.137454 100.043017 \nL 124.773533 100.050977 \nL 125.409612 101.565785 \nL 126.04569 106.394894 \nL 126.681769 103.401326 \nL 127.317848 107.343791 \nL 127.953926 101.570247 \nL 128.590005 102.413469 \nL 129.226084 111.482504 \nL 129.862162 116.84866 \nL 130.498241 113.59345 \nL 131.13432 113.908674 \nL 131.770398 111.776425 \nL 132.406477 110.581281 \nL 133.042556 106.101434 \nL 133.678634 107.281873 \nL 134.314713 110.143541 \nL 134.950792 116.379501 \nL 135.58687 121.232321 \nL 136.222949 120.220983 \nL 136.859028 126.688799 \nL 137.495106 135.472292 \nL 138.131185 133.377077 \nL 138.767263 123.251584 \nL 139.403342 125.008052 \nL 140.039421 123.688738 \nL 140.675499 128.78814 \nL 141.311578 131.293739 \nL 141.947657 131.005054 \nL 142.583735 124.884531 \nL 143.219814 124.373604 \nL 143.855893 124.744755 \nL 144.491971 123.161891 \nL 145.12805 121.120467 \nL 145.764129 130.095201 \nL 146.400207 134.069736 \nL 147.036286 134.911345 \nL 147.672365 149.203681 \nL 148.308443 152.322928 \nL 148.944522 151.433477 \nL 149.580601 151.943755 \nL 150.216679 159.427434 \nL 150.852758 161.443429 \nL 151.488837 155.152737 \nL 152.124915 155.393998 \nL 152.760994 164.516385 \nL 153.397073 169.271741 \nL 154.66923 172.073481 \nL 155.305308 161.752348 \nL 155.941387 158.6853 \nL 156.577466 163.751544 \nL 157.213544 165.032464 \nL 157.849623 169.039403 \nL 158.485702 165.748269 \nL 159.12178 161.323469 \nL 159.757859 159.227521 \nL 160.393938 171.48545 \nL 161.030016 180.790972 \nL 161.666095 182.190868 \nL 162.302174 186.910008 \nL 162.938252 186.448975 \nL 163.574331 191.486376 \nL 164.21041 187.067965 \nL 165.482567 197.844789 \nL 166.118646 203.991035 \nL 166.754724 200.478873 \nL 167.390803 187.223514 \nL 168.026882 194.54867 \nL 168.66296 187.310693 \nL 169.299039 187.017442 \nL 169.935118 179.780555 \nL 170.571196 169.696997 \nL 171.207275 174.611316 \nL 171.843354 181.347604 \nL 172.479432 175.41296 \nL 173.115511 171.574976 \nL 173.751589 176.908099 \nL 174.387668 179.507391 \nL 175.659825 186.952969 \nL 176.295904 188.189901 \nL 176.931983 183.560726 \nL 177.568061 180.293681 \nL 178.20414 172.290277 \nL 178.840219 172.818359 \nL 179.476297 174.007073 \nL 180.112376 167.970063 \nL 180.748455 173.487097 \nL 181.384533 174.020709 \nL 182.020612 175.214869 \nL 182.656691 172.747435 \nL 183.292769 172.405672 \nL 183.928848 166.373228 \nL 184.564927 161.972265 \nL 185.201005 156.768193 \nL 186.473163 148.775305 \nL 187.109241 161.222151 \nL 187.74532 157.70934 \nL 188.381399 156.582314 \nL 189.017477 149.33399 \nL 189.653556 151.22418 \nL 190.289635 155.354263 \nL 190.925713 149.859851 \nL 191.561792 145.695814 \nL 192.19787 145.269469 \nL 192.833949 146.91999 \nL 193.470028 147.813337 \nL 194.106106 153.598025 \nL 195.378264 152.605811 \nL 196.014342 150.341055 \nL 196.650421 147.302054 \nL 197.2865 149.628916 \nL 198.558657 158.791373 \nL 199.194736 158.431868 \nL 199.830814 154.388001 \nL 200.466893 160.021812 \nL 201.102972 152.073183 \nL 201.73905 146.326283 \nL 202.375129 139.186315 \nL 203.011208 136.312267 \nL 203.647286 140.273752 \nL 204.283365 143.108839 \nL 205.555522 132.076635 \nL 206.191601 132.554445 \nL 206.82768 132.7659 \nL 207.463758 129.016248 \nL 208.099837 131.933214 \nL 208.735916 126.896463 \nL 209.371994 119.388946 \nL 210.008073 122.970629 \nL 210.644151 124.940353 \nL 211.28023 127.895589 \nL 211.916309 136.321274 \nL 212.552387 139.908382 \nL 213.188466 136.152404 \nL 213.824545 138.089661 \nL 214.460623 142.117022 \nL 215.096702 137.836627 \nL 215.732781 136.929895 \nL 216.368859 136.894412 \nL 217.004938 138.354655 \nL 217.641017 134.180207 \nL 218.277095 132.272841 \nL 218.913174 135.691644 \nL 219.549253 134.920415 \nL 220.185331 133.401731 \nL 220.82141 134.118311 \nL 221.457489 132.683727 \nL 222.093567 128.243573 \nL 222.729646 127.615346 \nL 223.365725 126.776041 \nL 224.001803 127.222914 \nL 224.637882 126.543053 \nL 225.273961 126.680358 \nL 225.910039 125.574927 \nL 226.546118 122.403042 \nL 227.182196 118.138357 \nL 227.818275 117.617627 \nL 228.454354 120.266521 \nL 229.090432 124.303454 \nL 229.726511 126.279169 \nL 230.36259 126.998367 \nL 230.998668 126.129632 \nL 231.634747 127.597835 \nL 232.270826 127.726384 \nL 233.542983 120.97579 \nL 234.179062 122.526919 \nL 234.81514 117.952143 \nL 235.451219 126.047732 \nL 236.087298 136.418487 \nL 236.723376 129.154264 \nL 237.359455 123.624076 \nL 238.631612 119.303945 \nL 239.267691 124.508353 \nL 239.90377 124.589479 \nL 240.539848 125.948173 \nL 241.175927 123.2838 \nL 241.812006 124.293212 \nL 242.448084 117.240716 \nL 243.084163 120.245637 \nL 243.720242 121.029266 \nL 244.992399 120.657927 \nL 245.628477 123.00961 \nL 246.264556 123.514505 \nL 246.900635 125.288568 \nL 247.536713 125.602556 \nL 248.172792 130.67366 \nL 248.808871 128.89658 \nL 250.081028 131.269525 \nL 250.717107 128.134358 \nL 251.353185 132.51184 \nL 251.989264 135.662298 \nL 253.261421 128.793922 \nL 254.533579 124.930676 \nL 255.169657 125.423463 \nL 255.805736 125.090854 \nL 256.441815 123.088013 \nL 257.077893 122.243053 \nL 257.713972 119.826602 \nL 258.350051 119.125628 \nL 258.986129 117.98683 \nL 259.622208 113.3135 \nL 260.258287 114.612371 \nL 260.894365 118.835435 \nL 261.530444 115.712439 \nL 262.166523 118.47392 \nL 262.802601 118.589251 \nL 263.43868 119.013648 \nL 264.074758 118.47991 \nL 264.710837 119.566719 \nL 265.346916 121.709462 \nL 265.982994 121.765452 \nL 266.619073 117.477495 \nL 267.255152 115.504796 \nL 267.89123 114.9972 \nL 268.527309 109.918241 \nL 269.163388 115.981287 \nL 269.799466 111.690859 \nL 270.435545 118.108382 \nL 271.071624 120.210908 \nL 271.707702 118.972656 \nL 272.343781 120.685262 \nL 272.97986 120.079406 \nL 273.615938 121.152683 \nL 274.252017 118.679153 \nL 274.888096 117.003099 \nL 276.160253 121.622869 \nL 276.796332 124.222706 \nL 277.43241 114.854554 \nL 278.068489 114.721795 \nL 278.704568 111.017555 \nL 279.340646 111.432212 \nL 279.976725 113.922708 \nL 280.612804 110.559685 \nL 281.248882 109.313767 \nL 281.884961 114.107414 \nL 282.521039 108.929567 \nL 283.157118 114.43906 \nL 285.065354 119.029588 \nL 285.701433 122.910387 \nL 286.337511 121.676261 \nL 286.97359 114.65705 \nL 287.609669 116.235263 \nL 288.245747 116.507316 \nL 288.881826 116.276612 \nL 289.517905 116.247601 \nL 290.153983 114.662245 \nL 290.790062 116.98609 \nL 291.426141 118.200463 \nL 292.062219 123.205921 \nL 292.698298 125.943963 \nL 293.970455 128.761999 \nL 294.606534 132.494559 \nL 295.242613 127.092061 \nL 295.878691 127.315832 \nL 296.51477 122.839315 \nL 297.150849 123.245196 \nL 297.786927 126.103407 \nL 298.423006 126.752539 \nL 299.059084 120.044739 \nL 299.695163 121.078951 \nL 300.331242 123.061244 \nL 300.96732 121.795363 \nL 301.603399 116.179692 \nL 302.239478 113.313144 \nL 302.875556 112.798342 \nL 303.511635 114.589812 \nL 304.147714 119.316262 \nL 304.783792 121.526578 \nL 305.419871 111.533111 \nL 306.05595 109.751046 \nL 306.692028 106.5849 \nL 307.328107 105.074909 \nL 307.964186 105.243968 \nL 308.600264 104.21759 \nL 309.236343 103.941075 \nL 309.872422 104.370709 \nL 310.5085 103.784836 \nL 311.144579 97.69502 \nL 311.780658 104.617563 \nL 312.416736 103.575999 \nL 313.052815 101.707614 \nL 314.324972 103.687853 \nL 314.961051 104.037534 \nL 315.59713 103.618374 \nL 316.233208 104.248277 \nL 316.869287 103.037046 \nL 317.505365 106.682804 \nL 318.141444 106.237041 \nL 318.777523 106.469946 \nL 319.413601 102.482864 \nL 320.04968 100.722249 \nL 320.685759 102.206015 \nL 321.321837 100.186584 \nL 321.957916 101.030372 \nL 322.593995 105.677833 \nL 323.230073 102.330751 \nL 323.866152 101.882978 \nL 324.502231 103.296594 \nL 325.138309 101.878223 \nL 325.774388 101.31227 \nL 326.410467 101.993596 \nL 327.046545 102.000676 \nL 327.682624 103.611901 \nL 328.318703 98.964335 \nL 328.954781 97.116017 \nL 329.59086 97.453297 \nL 330.226939 99.04919 \nL 330.863017 105.262883 \nL 331.499096 104.994035 \nL 332.135175 105.605861 \nL 332.771253 104.370793 \nL 333.407332 101.867792 \nL 335.315568 108.87475 \nL 335.951646 107.309669 \nL 336.587725 102.680097 \nL 337.223804 103.316912 \nL 337.859882 104.682728 \nL 338.495961 105.206453 \nL 339.13204 107.256884 \nL 339.768118 110.882618 \nL 340.404197 109.537518 \nL 341.040276 111.287262 \nL 341.676354 110.8362 \nL 342.312433 111.157729 \nL 342.948512 109.125647 \nL 343.58459 110.231161 \nL 344.220669 106.630689 \nL 344.856748 109.524845 \nL 345.492826 111.043528 \nL 346.128905 109.643716 \nL 346.764984 110.419721 \nL 347.401062 118.967901 \nL 348.037141 119.329898 \nL 348.67322 122.087839 \nL 349.309298 122.606642 \nL 349.945377 126.893572 \nL 350.581456 121.376643 \nL 351.217534 121.685059 \nL 351.853613 121.719788 \nL 352.489692 122.007593 \nL 353.12577 124.463507 \nL 353.761849 123.963325 \nL 354.397927 124.891674 \nL 355.034006 126.283107 \nL 355.670085 126.102486 \nL 356.306163 122.9691 \nL 356.942242 118.219168 \nL 357.578321 116.000307 \nL 358.214399 116.22169 \nL 358.850478 115.629721 \nL 359.486557 114.680342 \nL 360.122635 115.541495 \nL 360.758714 113.466577 \nL 361.394793 112.117141 \nL 362.030871 109.283248 \nL 362.66695 109.399815 \nL 363.303029 109.080214 \nL 363.939107 114.059782 \nL 364.575186 114.509859 \nL 365.211265 116.008203 \nL 365.847343 120.566244 \nL 366.483422 120.769718 \nL 367.119501 122.104533 \nL 368.391658 117.410362 \nL 369.027737 117.615909 \nL 369.663815 120.163631 \nL 370.299894 119.024687 \nL 370.935972 118.635187 \nL 371.572051 120.965945 \nL 372.20813 119.475686 \nL 372.844208 124.288268 \nL 373.480287 117.870053 \nL 374.116366 117.479883 \nL 374.752444 118.390427 \nL 375.388523 115.419376 \nL 376.024602 116.478766 \nL 376.66068 115.805064 \nL 377.296759 113.167398 \nL 377.932838 116.872016 \nL 378.568916 118.216969 \nL 379.204995 117.874829 \nL 379.841074 116.412387 \nL 380.477152 113.231348 \nL 381.113231 113.326717 \nL 381.74931 113.819023 \nL 382.385388 117.801893 \nL 383.021467 120.490062 \nL 383.657546 122.197431 \nL 384.293624 122.908041 \nL 384.929703 121.851688 \nL 385.565782 123.479985 \nL 386.20186 124.00128 \nL 386.837939 123.537148 \nL 387.474018 126.452544 \nL 388.110096 126.233464 \nL 388.746175 121.88912 \nL 389.382253 120.18506 \nL 390.018332 120.295867 \nL 390.654411 125.870943 \nL 391.290489 128.86648 \nL 391.926568 126.11099 \nL 392.562647 127.124402 \nL 393.834804 134.898358 \nL 394.470883 134.130418 \nL 395.106961 129.583018 \nL 395.74304 129.558427 \nL 396.379119 129.923294 \nL 397.015197 127.917185 \nL 397.651276 127.974306 \nL 398.287355 127.419245 \nL 398.923433 124.427353 \nL 399.559512 129.649188 \nL 400.195591 133.458601 \nL 400.831669 134.25153 \nL 401.467748 133.375401 \nL 402.103827 132.250386 \nL 402.739905 129.482181 \nL 403.375984 128.669583 \nL 404.012063 127.625317 \nL 405.28422 127.566185 \nL 405.920299 125.25895 \nL 406.556377 124.910086 \nL 407.192456 125.862879 \nL 407.828534 127.790082 \nL 408.464613 123.457593 \nL 409.100692 123.130304 \nL 410.372849 121.069944 \nL 411.008928 120.393729 \nL 411.645006 120.168093 \nL 412.281085 121.690966 \nL 412.917164 123.665026 \nL 413.553242 123.525376 \nL 414.189321 125.836382 \nL 414.8254 125.583222 \nL 415.461478 125.897482 \nL 416.097557 130.434598 \nL 416.733636 130.116588 \nL 417.369714 130.696659 \nL 418.005793 133.17465 \nL 418.641872 134.546834 \nL 419.27795 138.365778 \nL 419.914029 137.545953 \nL 420.550108 138.140603 \nL 421.186186 136.358873 \nL 421.822265 135.089683 \nL 422.458344 134.422035 \nL 423.094422 133.985908 \nL 423.730501 135.23325 \nL 424.36658 135.762191 \nL 425.002658 135.094187 \nL 425.638737 133.585159 \nL 426.274815 129.063838 \nL 426.910894 128.393802 \nL 427.546973 125.548472 \nL 428.183051 124.856065 \nL 428.81913 128.405469 \nL 430.091287 125.612359 \nL 430.727366 121.189025 \nL 431.363445 120.546596 \nL 431.999523 117.878893 \nL 432.635602 118.987863 \nL 433.907759 114.644482 \nL 434.543838 113.765043 \nL 435.179917 111.863584 \nL 435.815995 108.52842 \nL 436.452074 107.167171 \nL 437.088153 106.543552 \nL 437.724231 106.498579 \nL 438.36031 106.05332 \nL 439.632467 108.063639 \nL 440.268546 107.849188 \nL 440.904625 106.755279 \nL 441.540703 110.009526 \nL 442.176782 110.934292 \nL 442.812861 109.634374 \nL 443.448939 110.256359 \nL 444.085018 110.134053 \nL 444.721096 108.340886 \nL 445.357175 106.970671 \nL 445.993254 108.719515 \nL 446.629332 109.007152 \nL 447.265411 110.875768 \nL 447.90149 110.330175 \nL 448.537568 112.433224 \nL 449.809726 114.053079 \nL 450.445804 114.313632 \nL 451.081883 112.795305 \nL 451.717962 109.481967 \nL 452.35404 108.09022 \nL 452.990119 103.788187 \nL 453.626198 106.447617 \nL 454.262276 103.607146 \nL 454.898355 97.905679 \nL 456.170512 97.094484 \nL 456.806591 96.069111 \nL 456.806591 96.069111 \n\" style=\"fill:none;stroke:#dd8452;stroke-linecap:round;stroke-width:1.5;\"/>\n   </g>\n   <g id=\"patch_3\">\n    <path d=\"M 30.6975 224.64 \nL 30.6975 7.2 \n\" style=\"fill:none;stroke:#ffffff;stroke-linecap:square;stroke-linejoin:miter;stroke-width:1.25;\"/>\n   </g>\n   <g id=\"patch_4\">\n    <path d=\"M 477.0975 224.64 \nL 477.0975 7.2 \n\" style=\"fill:none;stroke:#ffffff;stroke-linecap:square;stroke-linejoin:miter;stroke-width:1.25;\"/>\n   </g>\n   <g id=\"patch_5\">\n    <path d=\"M 30.6975 224.64 \nL 477.0975 224.64 \n\" style=\"fill:none;stroke:#ffffff;stroke-linecap:square;stroke-linejoin:miter;stroke-width:1.25;\"/>\n   </g>\n   <g id=\"patch_6\">\n    <path d=\"M 30.6975 7.2 \nL 477.0975 7.2 \n\" style=\"fill:none;stroke:#ffffff;stroke-linecap:square;stroke-linejoin:miter;stroke-width:1.25;\"/>\n   </g>\n   <g id=\"legend_1\">\n    <g id=\"patch_7\">\n     <path d=\"M 396.314531 48.291875 \nL 469.3975 48.291875 \nQ 471.5975 48.291875 471.5975 46.091875 \nL 471.5975 14.9 \nQ 471.5975 12.7 469.3975 12.7 \nL 396.314531 12.7 \nQ 394.114531 12.7 394.114531 14.9 \nL 394.114531 46.091875 \nQ 394.114531 48.291875 396.314531 48.291875 \nz\n\" style=\"fill:#eaeaf2;opacity:0.8;stroke:#cccccc;stroke-linejoin:miter;\"/>\n    </g>\n    <g id=\"line2d_15\">\n     <path d=\"M 398.514531 21.608281 \nL 420.514531 21.608281 \n\" style=\"fill:none;stroke:#4c72b0;stroke-linecap:round;stroke-width:1.5;\"/>\n    </g>\n    <g id=\"line2d_16\"/>\n    <g id=\"text_13\">\n     <!-- Actual -->\n     <defs>\n      <path d=\"M 34.1875 63.1875 \nL 20.796875 26.90625 \nL 47.609375 26.90625 \nz\nM 28.609375 72.90625 \nL 39.796875 72.90625 \nL 67.578125 0 \nL 57.328125 0 \nL 50.6875 18.703125 \nL 17.828125 18.703125 \nL 11.1875 0 \nL 0.78125 0 \nz\n\" id=\"DejaVuSans-65\"/>\n      <path d=\"M 48.78125 52.59375 \nL 48.78125 44.1875 \nQ 44.96875 46.296875 41.140625 47.34375 \nQ 37.3125 48.390625 33.40625 48.390625 \nQ 24.65625 48.390625 19.8125 42.84375 \nQ 14.984375 37.3125 14.984375 27.296875 \nQ 14.984375 17.28125 19.8125 11.734375 \nQ 24.65625 6.203125 33.40625 6.203125 \nQ 37.3125 6.203125 41.140625 7.25 \nQ 44.96875 8.296875 48.78125 10.40625 \nL 48.78125 2.09375 \nQ 45.015625 0.34375 40.984375 -0.53125 \nQ 36.96875 -1.421875 32.421875 -1.421875 \nQ 20.0625 -1.421875 12.78125 6.34375 \nQ 5.515625 14.109375 5.515625 27.296875 \nQ 5.515625 40.671875 12.859375 48.328125 \nQ 20.21875 56 33.015625 56 \nQ 37.15625 56 41.109375 55.140625 \nQ 45.0625 54.296875 48.78125 52.59375 \nz\n\" id=\"DejaVuSans-99\"/>\n      <path d=\"M 18.3125 70.21875 \nL 18.3125 54.6875 \nL 36.8125 54.6875 \nL 36.8125 47.703125 \nL 18.3125 47.703125 \nL 18.3125 18.015625 \nQ 18.3125 11.328125 20.140625 9.421875 \nQ 21.96875 7.515625 27.59375 7.515625 \nL 36.8125 7.515625 \nL 36.8125 0 \nL 27.59375 0 \nQ 17.1875 0 13.234375 3.875 \nQ 9.28125 7.765625 9.28125 18.015625 \nL 9.28125 47.703125 \nL 2.6875 47.703125 \nL 2.6875 54.6875 \nL 9.28125 54.6875 \nL 9.28125 70.21875 \nz\n\" id=\"DejaVuSans-116\"/>\n      <path d=\"M 8.5 21.578125 \nL 8.5 54.6875 \nL 17.484375 54.6875 \nL 17.484375 21.921875 \nQ 17.484375 14.15625 20.5 10.265625 \nQ 23.53125 6.390625 29.59375 6.390625 \nQ 36.859375 6.390625 41.078125 11.03125 \nQ 45.3125 15.671875 45.3125 23.6875 \nL 45.3125 54.6875 \nL 54.296875 54.6875 \nL 54.296875 0 \nL 45.3125 0 \nL 45.3125 8.40625 \nQ 42.046875 3.421875 37.71875 1 \nQ 33.40625 -1.421875 27.6875 -1.421875 \nQ 18.265625 -1.421875 13.375 4.4375 \nQ 8.5 10.296875 8.5 21.578125 \nz\nM 31.109375 56 \nz\n\" id=\"DejaVuSans-117\"/>\n      <path d=\"M 34.28125 27.484375 \nQ 23.390625 27.484375 19.1875 25 \nQ 14.984375 22.515625 14.984375 16.5 \nQ 14.984375 11.71875 18.140625 8.90625 \nQ 21.296875 6.109375 26.703125 6.109375 \nQ 34.1875 6.109375 38.703125 11.40625 \nQ 43.21875 16.703125 43.21875 25.484375 \nL 43.21875 27.484375 \nz\nM 52.203125 31.203125 \nL 52.203125 0 \nL 43.21875 0 \nL 43.21875 8.296875 \nQ 40.140625 3.328125 35.546875 0.953125 \nQ 30.953125 -1.421875 24.3125 -1.421875 \nQ 15.921875 -1.421875 10.953125 3.296875 \nQ 6 8.015625 6 15.921875 \nQ 6 25.140625 12.171875 29.828125 \nQ 18.359375 34.515625 30.609375 34.515625 \nL 43.21875 34.515625 \nL 43.21875 35.40625 \nQ 43.21875 41.609375 39.140625 45 \nQ 35.0625 48.390625 27.6875 48.390625 \nQ 23 48.390625 18.546875 47.265625 \nQ 14.109375 46.140625 10.015625 43.890625 \nL 10.015625 52.203125 \nQ 14.9375 54.109375 19.578125 55.046875 \nQ 24.21875 56 28.609375 56 \nQ 40.484375 56 46.34375 49.84375 \nQ 52.203125 43.703125 52.203125 31.203125 \nz\n\" id=\"DejaVuSans-97\"/>\n      <path d=\"M 9.421875 75.984375 \nL 18.40625 75.984375 \nL 18.40625 0 \nL 9.421875 0 \nz\n\" id=\"DejaVuSans-108\"/>\n     </defs>\n     <g style=\"fill:#262626;\" transform=\"translate(429.314531 25.458281)scale(0.11 -0.11)\">\n      <use xlink:href=\"#DejaVuSans-65\"/>\n      <use x=\"66.658203\" xlink:href=\"#DejaVuSans-99\"/>\n      <use x=\"121.638672\" xlink:href=\"#DejaVuSans-116\"/>\n      <use x=\"160.847656\" xlink:href=\"#DejaVuSans-117\"/>\n      <use x=\"224.226562\" xlink:href=\"#DejaVuSans-97\"/>\n      <use x=\"285.505859\" xlink:href=\"#DejaVuSans-108\"/>\n     </g>\n    </g>\n    <g id=\"line2d_17\">\n     <path d=\"M 398.514531 37.754219 \nL 420.514531 37.754219 \n\" style=\"fill:none;stroke:#dd8452;stroke-linecap:round;stroke-width:1.5;\"/>\n    </g>\n    <g id=\"line2d_18\"/>\n    <g id=\"text_14\">\n     <!-- Predict -->\n     <defs>\n      <path d=\"M 19.671875 64.796875 \nL 19.671875 37.40625 \nL 32.078125 37.40625 \nQ 38.96875 37.40625 42.71875 40.96875 \nQ 46.484375 44.53125 46.484375 51.125 \nQ 46.484375 57.671875 42.71875 61.234375 \nQ 38.96875 64.796875 32.078125 64.796875 \nz\nM 9.8125 72.90625 \nL 32.078125 72.90625 \nQ 44.34375 72.90625 50.609375 67.359375 \nQ 56.890625 61.8125 56.890625 51.125 \nQ 56.890625 40.328125 50.609375 34.8125 \nQ 44.34375 29.296875 32.078125 29.296875 \nL 19.671875 29.296875 \nL 19.671875 0 \nL 9.8125 0 \nz\n\" id=\"DejaVuSans-80\"/>\n      <path d=\"M 41.109375 46.296875 \nQ 39.59375 47.171875 37.8125 47.578125 \nQ 36.03125 48 33.890625 48 \nQ 26.265625 48 22.1875 43.046875 \nQ 18.109375 38.09375 18.109375 28.8125 \nL 18.109375 0 \nL 9.078125 0 \nL 9.078125 54.6875 \nL 18.109375 54.6875 \nL 18.109375 46.1875 \nQ 20.953125 51.171875 25.484375 53.578125 \nQ 30.03125 56 36.53125 56 \nQ 37.453125 56 38.578125 55.875 \nQ 39.703125 55.765625 41.0625 55.515625 \nz\n\" id=\"DejaVuSans-114\"/>\n      <path d=\"M 56.203125 29.59375 \nL 56.203125 25.203125 \nL 14.890625 25.203125 \nQ 15.484375 15.921875 20.484375 11.0625 \nQ 25.484375 6.203125 34.421875 6.203125 \nQ 39.59375 6.203125 44.453125 7.46875 \nQ 49.3125 8.734375 54.109375 11.28125 \nL 54.109375 2.78125 \nQ 49.265625 0.734375 44.1875 -0.34375 \nQ 39.109375 -1.421875 33.890625 -1.421875 \nQ 20.796875 -1.421875 13.15625 6.1875 \nQ 5.515625 13.8125 5.515625 26.8125 \nQ 5.515625 40.234375 12.765625 48.109375 \nQ 20.015625 56 32.328125 56 \nQ 43.359375 56 49.78125 48.890625 \nQ 56.203125 41.796875 56.203125 29.59375 \nz\nM 47.21875 32.234375 \nQ 47.125 39.59375 43.09375 43.984375 \nQ 39.0625 48.390625 32.421875 48.390625 \nQ 24.90625 48.390625 20.390625 44.140625 \nQ 15.875 39.890625 15.1875 32.171875 \nz\n\" id=\"DejaVuSans-101\"/>\n      <path d=\"M 45.40625 46.390625 \nL 45.40625 75.984375 \nL 54.390625 75.984375 \nL 54.390625 0 \nL 45.40625 0 \nL 45.40625 8.203125 \nQ 42.578125 3.328125 38.25 0.953125 \nQ 33.9375 -1.421875 27.875 -1.421875 \nQ 17.96875 -1.421875 11.734375 6.484375 \nQ 5.515625 14.40625 5.515625 27.296875 \nQ 5.515625 40.1875 11.734375 48.09375 \nQ 17.96875 56 27.875 56 \nQ 33.9375 56 38.25 53.625 \nQ 42.578125 51.265625 45.40625 46.390625 \nz\nM 14.796875 27.296875 \nQ 14.796875 17.390625 18.875 11.75 \nQ 22.953125 6.109375 30.078125 6.109375 \nQ 37.203125 6.109375 41.296875 11.75 \nQ 45.40625 17.390625 45.40625 27.296875 \nQ 45.40625 37.203125 41.296875 42.84375 \nQ 37.203125 48.484375 30.078125 48.484375 \nQ 22.953125 48.484375 18.875 42.84375 \nQ 14.796875 37.203125 14.796875 27.296875 \nz\n\" id=\"DejaVuSans-100\"/>\n      <path d=\"M 9.421875 54.6875 \nL 18.40625 54.6875 \nL 18.40625 0 \nL 9.421875 0 \nz\nM 9.421875 75.984375 \nL 18.40625 75.984375 \nL 18.40625 64.59375 \nL 9.421875 64.59375 \nz\n\" id=\"DejaVuSans-105\"/>\n     </defs>\n     <g style=\"fill:#262626;\" transform=\"translate(429.314531 41.604219)scale(0.11 -0.11)\">\n      <use xlink:href=\"#DejaVuSans-80\"/>\n      <use x=\"58.552734\" xlink:href=\"#DejaVuSans-114\"/>\n      <use x=\"97.416016\" xlink:href=\"#DejaVuSans-101\"/>\n      <use x=\"158.939453\" xlink:href=\"#DejaVuSans-100\"/>\n      <use x=\"222.416016\" xlink:href=\"#DejaVuSans-105\"/>\n      <use x=\"250.199219\" xlink:href=\"#DejaVuSans-99\"/>\n      <use x=\"305.179688\" xlink:href=\"#DejaVuSans-116\"/>\n     </g>\n    </g>\n   </g>\n  </g>\n </g>\n <defs>\n  <clipPath id=\"pf8b3e81288\">\n   <rect height=\"217.44\" width=\"446.4\" x=\"30.6975\" y=\"7.2\"/>\n  </clipPath>\n </defs>\n</svg>\n"
          },
          "metadata": {
            "tags": []
          }
        },
        {
          "output_type": "stream",
          "text": [
            "time: 212 ms\n"
          ],
          "name": "stdout"
        }
      ]
    },
    {
      "cell_type": "markdown",
      "metadata": {
        "id": "gf0YnU_-Pg4u",
        "colab_type": "text"
      },
      "source": [
        "# Modelling RNN"
      ]
    },
    {
      "cell_type": "code",
      "metadata": {
        "id": "532udZZvPktj",
        "colab_type": "code",
        "colab": {
          "base_uri": "https://localhost:8080/",
          "height": 34
        },
        "outputId": "daa4a9ca-31ff-49ef-fdf6-fe9de11111fc"
      },
      "source": [
        "def build_rnn_model(input, loss='mse', optimiser='adam') :\n",
        "    model = tf.keras.Sequential()\n",
        "    model.add(tf.keras.layers.InputLayer(input_shape=(input.shape[1], input.shape[2])))\n",
        "    model.add(tf.keras.layers.SimpleRNN(128, return_sequences=True))\n",
        "    model.add(tf.keras.layers.Dropout(0.2))\n",
        "    model.add(tf.keras.layers.SimpleRNN(64, return_sequences=True))\n",
        "    model.add(tf.keras.layers.Dropout(0.2))\n",
        "    model.add(tf.keras.layers.SimpleRNN(32, return_sequences=False))\n",
        "    model.add(tf.keras.layers.Dropout(0.2))\n",
        "    model.add(tf.keras.layers.Dense(1))\n",
        "    \n",
        "    model.compile(loss=loss, optimizer=optimiser)\n",
        "\n",
        "    return model"
      ],
      "execution_count": 67,
      "outputs": [
        {
          "output_type": "stream",
          "text": [
            "time: 16.4 ms\n"
          ],
          "name": "stdout"
        }
      ]
    },
    {
      "cell_type": "code",
      "metadata": {
        "id": "WW7jayr_P2uq",
        "colab_type": "code",
        "colab": {
          "base_uri": "https://localhost:8080/",
          "height": 34
        },
        "outputId": "d390d4a0-78dd-430a-86f6-546b378dc610"
      },
      "source": [
        "model = build_rnn_model(X_train)"
      ],
      "execution_count": 68,
      "outputs": [
        {
          "output_type": "stream",
          "text": [
            "time: 224 ms\n"
          ],
          "name": "stdout"
        }
      ]
    },
    {
      "cell_type": "code",
      "metadata": {
        "id": "QtSacjn0RSGz",
        "colab_type": "code",
        "colab": {
          "base_uri": "https://localhost:8080/",
          "height": 408
        },
        "outputId": "24c7ea35-160f-4bc5-b947-b8b323576bef"
      },
      "source": [
        "model.summary()"
      ],
      "execution_count": 69,
      "outputs": [
        {
          "output_type": "stream",
          "text": [
            "Model: \"sequential_10\"\n",
            "_________________________________________________________________\n",
            "Layer (type)                 Output Shape              Param #   \n",
            "=================================================================\n",
            "simple_rnn_6 (SimpleRNN)     (None, 10, 128)           16640     \n",
            "_________________________________________________________________\n",
            "dropout_18 (Dropout)         (None, 10, 128)           0         \n",
            "_________________________________________________________________\n",
            "simple_rnn_7 (SimpleRNN)     (None, 10, 64)            12352     \n",
            "_________________________________________________________________\n",
            "dropout_19 (Dropout)         (None, 10, 64)            0         \n",
            "_________________________________________________________________\n",
            "simple_rnn_8 (SimpleRNN)     (None, 32)                3104      \n",
            "_________________________________________________________________\n",
            "dropout_20 (Dropout)         (None, 32)                0         \n",
            "_________________________________________________________________\n",
            "dense_6 (Dense)              (None, 1)                 33        \n",
            "=================================================================\n",
            "Total params: 32,129\n",
            "Trainable params: 32,129\n",
            "Non-trainable params: 0\n",
            "_________________________________________________________________\n",
            "time: 9.35 ms\n"
          ],
          "name": "stdout"
        }
      ]
    },
    {
      "cell_type": "code",
      "metadata": {
        "id": "aK-CPe9jQhNk",
        "colab_type": "code",
        "colab": {
          "base_uri": "https://localhost:8080/",
          "height": 1000
        },
        "outputId": "e2cdf57e-d016-4242-c265-506b9ff3de5b"
      },
      "source": [
        "model_history = model.fit(X_train, y_train, epochs=50, batch_size=25, verbose=2, shuffle=False, validation_split=0.05)"
      ],
      "execution_count": 70,
      "outputs": [
        {
          "output_type": "stream",
          "text": [
            "Epoch 1/50\n",
            "97/97 - 3s - loss: 0.2801 - val_loss: 0.0288\n",
            "Epoch 2/50\n",
            "97/97 - 2s - loss: 0.0781 - val_loss: 0.0271\n",
            "Epoch 3/50\n",
            "97/97 - 2s - loss: 0.0572 - val_loss: 0.0350\n",
            "Epoch 4/50\n",
            "97/97 - 3s - loss: 0.0323 - val_loss: 0.0206\n",
            "Epoch 5/50\n",
            "97/97 - 2s - loss: 0.0236 - val_loss: 0.0252\n",
            "Epoch 6/50\n",
            "97/97 - 2s - loss: 0.0192 - val_loss: 0.0187\n",
            "Epoch 7/50\n",
            "97/97 - 2s - loss: 0.0152 - val_loss: 0.0056\n",
            "Epoch 8/50\n",
            "97/97 - 3s - loss: 0.0123 - val_loss: 0.0070\n",
            "Epoch 9/50\n",
            "97/97 - 3s - loss: 0.0119 - val_loss: 0.0065\n",
            "Epoch 10/50\n",
            "97/97 - 3s - loss: 0.0102 - val_loss: 0.0051\n",
            "Epoch 11/50\n",
            "97/97 - 3s - loss: 0.0101 - val_loss: 0.0044\n",
            "Epoch 12/50\n",
            "97/97 - 3s - loss: 0.0080 - val_loss: 0.0051\n",
            "Epoch 13/50\n",
            "97/97 - 2s - loss: 0.0079 - val_loss: 0.0026\n",
            "Epoch 14/50\n",
            "97/97 - 2s - loss: 0.0075 - val_loss: 0.0029\n",
            "Epoch 15/50\n",
            "97/97 - 3s - loss: 0.0069 - val_loss: 0.0039\n",
            "Epoch 16/50\n",
            "97/97 - 2s - loss: 0.0061 - val_loss: 0.0044\n",
            "Epoch 17/50\n",
            "97/97 - 3s - loss: 0.0057 - val_loss: 0.0030\n",
            "Epoch 18/50\n",
            "97/97 - 3s - loss: 0.0056 - val_loss: 0.0027\n",
            "Epoch 19/50\n",
            "97/97 - 2s - loss: 0.0053 - val_loss: 0.0049\n",
            "Epoch 20/50\n",
            "97/97 - 2s - loss: 0.0051 - val_loss: 0.0014\n",
            "Epoch 21/50\n",
            "97/97 - 2s - loss: 0.0045 - val_loss: 0.0026\n",
            "Epoch 22/50\n",
            "97/97 - 2s - loss: 0.0043 - val_loss: 8.9909e-04\n",
            "Epoch 23/50\n",
            "97/97 - 2s - loss: 0.0038 - val_loss: 0.0031\n",
            "Epoch 24/50\n",
            "97/97 - 2s - loss: 0.0041 - val_loss: 0.0029\n",
            "Epoch 25/50\n",
            "97/97 - 2s - loss: 0.0039 - val_loss: 0.0012\n",
            "Epoch 26/50\n",
            "97/97 - 2s - loss: 0.0038 - val_loss: 9.8551e-04\n",
            "Epoch 27/50\n",
            "97/97 - 2s - loss: 0.0034 - val_loss: 0.0032\n",
            "Epoch 28/50\n",
            "97/97 - 2s - loss: 0.0037 - val_loss: 0.0025\n",
            "Epoch 29/50\n",
            "97/97 - 2s - loss: 0.0036 - val_loss: 0.0033\n",
            "Epoch 30/50\n",
            "97/97 - 3s - loss: 0.0033 - val_loss: 7.1343e-04\n",
            "Epoch 31/50\n",
            "97/97 - 2s - loss: 0.0029 - val_loss: 0.0022\n",
            "Epoch 32/50\n",
            "97/97 - 2s - loss: 0.0027 - val_loss: 0.0019\n",
            "Epoch 33/50\n",
            "97/97 - 2s - loss: 0.0029 - val_loss: 0.0024\n",
            "Epoch 34/50\n",
            "97/97 - 2s - loss: 0.0027 - val_loss: 0.0018\n",
            "Epoch 35/50\n",
            "97/97 - 2s - loss: 0.0029 - val_loss: 0.0030\n",
            "Epoch 36/50\n",
            "97/97 - 2s - loss: 0.0024 - val_loss: 8.4778e-04\n",
            "Epoch 37/50\n",
            "97/97 - 2s - loss: 0.0024 - val_loss: 0.0017\n",
            "Epoch 38/50\n",
            "97/97 - 3s - loss: 0.0024 - val_loss: 0.0038\n",
            "Epoch 39/50\n",
            "97/97 - 2s - loss: 0.0026 - val_loss: 0.0016\n",
            "Epoch 40/50\n",
            "97/97 - 3s - loss: 0.0021 - val_loss: 6.6320e-04\n",
            "Epoch 41/50\n",
            "97/97 - 2s - loss: 0.0020 - val_loss: 0.0013\n",
            "Epoch 42/50\n",
            "97/97 - 3s - loss: 0.0020 - val_loss: 9.0995e-04\n",
            "Epoch 43/50\n",
            "97/97 - 2s - loss: 0.0021 - val_loss: 0.0023\n",
            "Epoch 44/50\n",
            "97/97 - 2s - loss: 0.0021 - val_loss: 0.0010\n",
            "Epoch 45/50\n",
            "97/97 - 2s - loss: 0.0018 - val_loss: 0.0014\n",
            "Epoch 46/50\n",
            "97/97 - 2s - loss: 0.0018 - val_loss: 8.5982e-04\n",
            "Epoch 47/50\n",
            "97/97 - 2s - loss: 0.0016 - val_loss: 0.0011\n",
            "Epoch 48/50\n",
            "97/97 - 2s - loss: 0.0018 - val_loss: 0.0017\n",
            "Epoch 49/50\n",
            "97/97 - 2s - loss: 0.0019 - val_loss: 0.0026\n",
            "Epoch 50/50\n",
            "97/97 - 2s - loss: 0.0020 - val_loss: 0.0035\n",
            "time: 2min 4s\n"
          ],
          "name": "stdout"
        }
      ]
    },
    {
      "cell_type": "code",
      "metadata": {
        "id": "7l1ErxqQRqQh",
        "colab_type": "code",
        "colab": {
          "base_uri": "https://localhost:8080/",
          "height": 394
        },
        "outputId": "19863cb5-9be4-4183-d849-9f8866d4259d"
      },
      "source": [
        "plt.plot(model_history.history['loss'], label='train')\n",
        "plt.plot(model_history.history['val_loss'], label='val')\n",
        "plt.legend()\n",
        "plt.title('last loss: ' + str(model.history.history['loss'][-1]))\n",
        "plt.show()"
      ],
      "execution_count": 71,
      "outputs": [
        {
          "output_type": "display_data",
          "data": {
            "text/plain": [
              "<Figure size 576x288 with 1 Axes>"
            ],
            "image/svg+xml": "<?xml version=\"1.0\" encoding=\"utf-8\" standalone=\"no\"?>\n<!DOCTYPE svg PUBLIC \"-//W3C//DTD SVG 1.1//EN\"\n  \"http://www.w3.org/Graphics/SVG/1.1/DTD/svg11.dtd\">\n<!-- Created with matplotlib (https://matplotlib.org/) -->\n<svg height=\"267.104062pt\" version=\"1.1\" viewBox=\"0 0 494.792187 267.104062\" width=\"494.792187pt\" xmlns=\"http://www.w3.org/2000/svg\" xmlns:xlink=\"http://www.w3.org/1999/xlink\">\n <defs>\n  <style type=\"text/css\">\n*{stroke-linecap:butt;stroke-linejoin:round;}\n  </style>\n </defs>\n <g id=\"figure_1\">\n  <g id=\"patch_1\">\n   <path d=\"M 0 267.104062 \nL 494.792187 267.104062 \nL 494.792187 0 \nL 0 0 \nz\n\" style=\"fill:#ffffff;\"/>\n  </g>\n  <g id=\"axes_1\">\n   <g id=\"patch_2\">\n    <path d=\"M 41.192188 239.758125 \nL 487.592187 239.758125 \nL 487.592187 22.318125 \nL 41.192188 22.318125 \nz\n\" style=\"fill:#eaeaf2;\"/>\n   </g>\n   <g id=\"matplotlib.axis_1\">\n    <g id=\"xtick_1\">\n     <g id=\"line2d_1\">\n      <path clip-path=\"url(#p22632be8b0)\" d=\"M 61.483097 239.758125 \nL 61.483097 22.318125 \n\" style=\"fill:none;stroke:#ffffff;stroke-linecap:round;\"/>\n     </g>\n     <g id=\"text_1\">\n      <!-- 0 -->\n      <defs>\n       <path d=\"M 31.78125 66.40625 \nQ 24.171875 66.40625 20.328125 58.90625 \nQ 16.5 51.421875 16.5 36.375 \nQ 16.5 21.390625 20.328125 13.890625 \nQ 24.171875 6.390625 31.78125 6.390625 \nQ 39.453125 6.390625 43.28125 13.890625 \nQ 47.125 21.390625 47.125 36.375 \nQ 47.125 51.421875 43.28125 58.90625 \nQ 39.453125 66.40625 31.78125 66.40625 \nz\nM 31.78125 74.21875 \nQ 44.046875 74.21875 50.515625 64.515625 \nQ 56.984375 54.828125 56.984375 36.375 \nQ 56.984375 17.96875 50.515625 8.265625 \nQ 44.046875 -1.421875 31.78125 -1.421875 \nQ 19.53125 -1.421875 13.0625 8.265625 \nQ 6.59375 17.96875 6.59375 36.375 \nQ 6.59375 54.828125 13.0625 64.515625 \nQ 19.53125 74.21875 31.78125 74.21875 \nz\n\" id=\"DejaVuSans-48\"/>\n      </defs>\n      <g style=\"fill:#262626;\" transform=\"translate(57.983722 257.616406)scale(0.11 -0.11)\">\n       <use xlink:href=\"#DejaVuSans-48\"/>\n      </g>\n     </g>\n    </g>\n    <g id=\"xtick_2\">\n     <g id=\"line2d_2\">\n      <path clip-path=\"url(#p22632be8b0)\" d=\"M 144.303134 239.758125 \nL 144.303134 22.318125 \n\" style=\"fill:none;stroke:#ffffff;stroke-linecap:round;\"/>\n     </g>\n     <g id=\"text_2\">\n      <!-- 10 -->\n      <defs>\n       <path d=\"M 12.40625 8.296875 \nL 28.515625 8.296875 \nL 28.515625 63.921875 \nL 10.984375 60.40625 \nL 10.984375 69.390625 \nL 28.421875 72.90625 \nL 38.28125 72.90625 \nL 38.28125 8.296875 \nL 54.390625 8.296875 \nL 54.390625 0 \nL 12.40625 0 \nz\n\" id=\"DejaVuSans-49\"/>\n      </defs>\n      <g style=\"fill:#262626;\" transform=\"translate(137.304384 257.616406)scale(0.11 -0.11)\">\n       <use xlink:href=\"#DejaVuSans-49\"/>\n       <use x=\"63.623047\" xlink:href=\"#DejaVuSans-48\"/>\n      </g>\n     </g>\n    </g>\n    <g id=\"xtick_3\">\n     <g id=\"line2d_3\">\n      <path clip-path=\"url(#p22632be8b0)\" d=\"M 227.123171 239.758125 \nL 227.123171 22.318125 \n\" style=\"fill:none;stroke:#ffffff;stroke-linecap:round;\"/>\n     </g>\n     <g id=\"text_3\">\n      <!-- 20 -->\n      <defs>\n       <path d=\"M 19.1875 8.296875 \nL 53.609375 8.296875 \nL 53.609375 0 \nL 7.328125 0 \nL 7.328125 8.296875 \nQ 12.9375 14.109375 22.625 23.890625 \nQ 32.328125 33.6875 34.8125 36.53125 \nQ 39.546875 41.84375 41.421875 45.53125 \nQ 43.3125 49.21875 43.3125 52.78125 \nQ 43.3125 58.59375 39.234375 62.25 \nQ 35.15625 65.921875 28.609375 65.921875 \nQ 23.96875 65.921875 18.8125 64.3125 \nQ 13.671875 62.703125 7.8125 59.421875 \nL 7.8125 69.390625 \nQ 13.765625 71.78125 18.9375 73 \nQ 24.125 74.21875 28.421875 74.21875 \nQ 39.75 74.21875 46.484375 68.546875 \nQ 53.21875 62.890625 53.21875 53.421875 \nQ 53.21875 48.921875 51.53125 44.890625 \nQ 49.859375 40.875 45.40625 35.40625 \nQ 44.1875 33.984375 37.640625 27.21875 \nQ 31.109375 20.453125 19.1875 8.296875 \nz\n\" id=\"DejaVuSans-50\"/>\n      </defs>\n      <g style=\"fill:#262626;\" transform=\"translate(220.124421 257.616406)scale(0.11 -0.11)\">\n       <use xlink:href=\"#DejaVuSans-50\"/>\n       <use x=\"63.623047\" xlink:href=\"#DejaVuSans-48\"/>\n      </g>\n     </g>\n    </g>\n    <g id=\"xtick_4\">\n     <g id=\"line2d_4\">\n      <path clip-path=\"url(#p22632be8b0)\" d=\"M 309.943208 239.758125 \nL 309.943208 22.318125 \n\" style=\"fill:none;stroke:#ffffff;stroke-linecap:round;\"/>\n     </g>\n     <g id=\"text_4\">\n      <!-- 30 -->\n      <defs>\n       <path d=\"M 40.578125 39.3125 \nQ 47.65625 37.796875 51.625 33 \nQ 55.609375 28.21875 55.609375 21.1875 \nQ 55.609375 10.40625 48.1875 4.484375 \nQ 40.765625 -1.421875 27.09375 -1.421875 \nQ 22.515625 -1.421875 17.65625 -0.515625 \nQ 12.796875 0.390625 7.625 2.203125 \nL 7.625 11.71875 \nQ 11.71875 9.328125 16.59375 8.109375 \nQ 21.484375 6.890625 26.8125 6.890625 \nQ 36.078125 6.890625 40.9375 10.546875 \nQ 45.796875 14.203125 45.796875 21.1875 \nQ 45.796875 27.640625 41.28125 31.265625 \nQ 36.765625 34.90625 28.71875 34.90625 \nL 20.21875 34.90625 \nL 20.21875 43.015625 \nL 29.109375 43.015625 \nQ 36.375 43.015625 40.234375 45.921875 \nQ 44.09375 48.828125 44.09375 54.296875 \nQ 44.09375 59.90625 40.109375 62.90625 \nQ 36.140625 65.921875 28.71875 65.921875 \nQ 24.65625 65.921875 20.015625 65.03125 \nQ 15.375 64.15625 9.8125 62.3125 \nL 9.8125 71.09375 \nQ 15.4375 72.65625 20.34375 73.4375 \nQ 25.25 74.21875 29.59375 74.21875 \nQ 40.828125 74.21875 47.359375 69.109375 \nQ 53.90625 64.015625 53.90625 55.328125 \nQ 53.90625 49.265625 50.4375 45.09375 \nQ 46.96875 40.921875 40.578125 39.3125 \nz\n\" id=\"DejaVuSans-51\"/>\n      </defs>\n      <g style=\"fill:#262626;\" transform=\"translate(302.944458 257.616406)scale(0.11 -0.11)\">\n       <use xlink:href=\"#DejaVuSans-51\"/>\n       <use x=\"63.623047\" xlink:href=\"#DejaVuSans-48\"/>\n      </g>\n     </g>\n    </g>\n    <g id=\"xtick_5\">\n     <g id=\"line2d_5\">\n      <path clip-path=\"url(#p22632be8b0)\" d=\"M 392.763245 239.758125 \nL 392.763245 22.318125 \n\" style=\"fill:none;stroke:#ffffff;stroke-linecap:round;\"/>\n     </g>\n     <g id=\"text_5\">\n      <!-- 40 -->\n      <defs>\n       <path d=\"M 37.796875 64.3125 \nL 12.890625 25.390625 \nL 37.796875 25.390625 \nz\nM 35.203125 72.90625 \nL 47.609375 72.90625 \nL 47.609375 25.390625 \nL 58.015625 25.390625 \nL 58.015625 17.1875 \nL 47.609375 17.1875 \nL 47.609375 0 \nL 37.796875 0 \nL 37.796875 17.1875 \nL 4.890625 17.1875 \nL 4.890625 26.703125 \nz\n\" id=\"DejaVuSans-52\"/>\n      </defs>\n      <g style=\"fill:#262626;\" transform=\"translate(385.764495 257.616406)scale(0.11 -0.11)\">\n       <use xlink:href=\"#DejaVuSans-52\"/>\n       <use x=\"63.623047\" xlink:href=\"#DejaVuSans-48\"/>\n      </g>\n     </g>\n    </g>\n    <g id=\"xtick_6\">\n     <g id=\"line2d_6\">\n      <path clip-path=\"url(#p22632be8b0)\" d=\"M 475.583282 239.758125 \nL 475.583282 22.318125 \n\" style=\"fill:none;stroke:#ffffff;stroke-linecap:round;\"/>\n     </g>\n     <g id=\"text_6\">\n      <!-- 50 -->\n      <defs>\n       <path d=\"M 10.796875 72.90625 \nL 49.515625 72.90625 \nL 49.515625 64.59375 \nL 19.828125 64.59375 \nL 19.828125 46.734375 \nQ 21.96875 47.46875 24.109375 47.828125 \nQ 26.265625 48.1875 28.421875 48.1875 \nQ 40.625 48.1875 47.75 41.5 \nQ 54.890625 34.8125 54.890625 23.390625 \nQ 54.890625 11.625 47.5625 5.09375 \nQ 40.234375 -1.421875 26.90625 -1.421875 \nQ 22.3125 -1.421875 17.546875 -0.640625 \nQ 12.796875 0.140625 7.71875 1.703125 \nL 7.71875 11.625 \nQ 12.109375 9.234375 16.796875 8.0625 \nQ 21.484375 6.890625 26.703125 6.890625 \nQ 35.15625 6.890625 40.078125 11.328125 \nQ 45.015625 15.765625 45.015625 23.390625 \nQ 45.015625 31 40.078125 35.4375 \nQ 35.15625 39.890625 26.703125 39.890625 \nQ 22.75 39.890625 18.8125 39.015625 \nQ 14.890625 38.140625 10.796875 36.28125 \nz\n\" id=\"DejaVuSans-53\"/>\n      </defs>\n      <g style=\"fill:#262626;\" transform=\"translate(468.584532 257.616406)scale(0.11 -0.11)\">\n       <use xlink:href=\"#DejaVuSans-53\"/>\n       <use x=\"63.623047\" xlink:href=\"#DejaVuSans-48\"/>\n      </g>\n     </g>\n    </g>\n   </g>\n   <g id=\"matplotlib.axis_2\">\n    <g id=\"ytick_1\">\n     <g id=\"line2d_7\">\n      <path clip-path=\"url(#p22632be8b0)\" d=\"M 41.192188 230.343671 \nL 487.592187 230.343671 \n\" style=\"fill:none;stroke:#ffffff;stroke-linecap:round;\"/>\n     </g>\n     <g id=\"text_7\">\n      <!-- 0.00 -->\n      <defs>\n       <path d=\"M 10.6875 12.40625 \nL 21 12.40625 \nL 21 0 \nL 10.6875 0 \nz\n\" id=\"DejaVuSans-46\"/>\n      </defs>\n      <g style=\"fill:#262626;\" transform=\"translate(7.2 234.522812)scale(0.11 -0.11)\">\n       <use xlink:href=\"#DejaVuSans-48\"/>\n       <use x=\"63.623047\" xlink:href=\"#DejaVuSans-46\"/>\n       <use x=\"95.410156\" xlink:href=\"#DejaVuSans-48\"/>\n       <use x=\"159.033203\" xlink:href=\"#DejaVuSans-48\"/>\n      </g>\n     </g>\n    </g>\n    <g id=\"ytick_2\">\n     <g id=\"line2d_8\">\n      <path clip-path=\"url(#p22632be8b0)\" d=\"M 41.192188 194.970886 \nL 487.592187 194.970886 \n\" style=\"fill:none;stroke:#ffffff;stroke-linecap:round;\"/>\n     </g>\n     <g id=\"text_8\">\n      <!-- 0.05 -->\n      <g style=\"fill:#262626;\" transform=\"translate(7.2 199.150027)scale(0.11 -0.11)\">\n       <use xlink:href=\"#DejaVuSans-48\"/>\n       <use x=\"63.623047\" xlink:href=\"#DejaVuSans-46\"/>\n       <use x=\"95.410156\" xlink:href=\"#DejaVuSans-48\"/>\n       <use x=\"159.033203\" xlink:href=\"#DejaVuSans-53\"/>\n      </g>\n     </g>\n    </g>\n    <g id=\"ytick_3\">\n     <g id=\"line2d_9\">\n      <path clip-path=\"url(#p22632be8b0)\" d=\"M 41.192188 159.598101 \nL 487.592187 159.598101 \n\" style=\"fill:none;stroke:#ffffff;stroke-linecap:round;\"/>\n     </g>\n     <g id=\"text_9\">\n      <!-- 0.10 -->\n      <g style=\"fill:#262626;\" transform=\"translate(7.2 163.777241)scale(0.11 -0.11)\">\n       <use xlink:href=\"#DejaVuSans-48\"/>\n       <use x=\"63.623047\" xlink:href=\"#DejaVuSans-46\"/>\n       <use x=\"95.410156\" xlink:href=\"#DejaVuSans-49\"/>\n       <use x=\"159.033203\" xlink:href=\"#DejaVuSans-48\"/>\n      </g>\n     </g>\n    </g>\n    <g id=\"ytick_4\">\n     <g id=\"line2d_10\">\n      <path clip-path=\"url(#p22632be8b0)\" d=\"M 41.192188 124.225316 \nL 487.592187 124.225316 \n\" style=\"fill:none;stroke:#ffffff;stroke-linecap:round;\"/>\n     </g>\n     <g id=\"text_10\">\n      <!-- 0.15 -->\n      <g style=\"fill:#262626;\" transform=\"translate(7.2 128.404456)scale(0.11 -0.11)\">\n       <use xlink:href=\"#DejaVuSans-48\"/>\n       <use x=\"63.623047\" xlink:href=\"#DejaVuSans-46\"/>\n       <use x=\"95.410156\" xlink:href=\"#DejaVuSans-49\"/>\n       <use x=\"159.033203\" xlink:href=\"#DejaVuSans-53\"/>\n      </g>\n     </g>\n    </g>\n    <g id=\"ytick_5\">\n     <g id=\"line2d_11\">\n      <path clip-path=\"url(#p22632be8b0)\" d=\"M 41.192188 88.85253 \nL 487.592187 88.85253 \n\" style=\"fill:none;stroke:#ffffff;stroke-linecap:round;\"/>\n     </g>\n     <g id=\"text_11\">\n      <!-- 0.20 -->\n      <g style=\"fill:#262626;\" transform=\"translate(7.2 93.031671)scale(0.11 -0.11)\">\n       <use xlink:href=\"#DejaVuSans-48\"/>\n       <use x=\"63.623047\" xlink:href=\"#DejaVuSans-46\"/>\n       <use x=\"95.410156\" xlink:href=\"#DejaVuSans-50\"/>\n       <use x=\"159.033203\" xlink:href=\"#DejaVuSans-48\"/>\n      </g>\n     </g>\n    </g>\n    <g id=\"ytick_6\">\n     <g id=\"line2d_12\">\n      <path clip-path=\"url(#p22632be8b0)\" d=\"M 41.192188 53.479745 \nL 487.592187 53.479745 \n\" style=\"fill:none;stroke:#ffffff;stroke-linecap:round;\"/>\n     </g>\n     <g id=\"text_12\">\n      <!-- 0.25 -->\n      <g style=\"fill:#262626;\" transform=\"translate(7.2 57.658886)scale(0.11 -0.11)\">\n       <use xlink:href=\"#DejaVuSans-48\"/>\n       <use x=\"63.623047\" xlink:href=\"#DejaVuSans-46\"/>\n       <use x=\"95.410156\" xlink:href=\"#DejaVuSans-50\"/>\n       <use x=\"159.033203\" xlink:href=\"#DejaVuSans-53\"/>\n      </g>\n     </g>\n    </g>\n   </g>\n   <g id=\"line2d_13\">\n    <path clip-path=\"url(#p22632be8b0)\" d=\"M 61.483097 32.201761 \nL 69.7651 175.059447 \nL 78.047104 189.871033 \nL 86.329108 207.497112 \nL 94.611111 213.655356 \nL 102.893115 216.727261 \nL 111.175119 219.563262 \nL 119.457123 221.67498 \nL 127.739126 221.915491 \nL 136.02113 223.108093 \nL 144.303134 223.211036 \nL 152.585137 224.673426 \nL 160.867141 224.728662 \nL 169.149145 225.048196 \nL 177.431149 225.493429 \nL 185.713152 226.029864 \nL 193.995156 226.294164 \nL 202.27716 226.348466 \nL 210.559163 226.617569 \nL 218.841167 226.756909 \nL 227.123171 227.1495 \nL 235.405175 227.300349 \nL 243.687178 227.637667 \nL 251.969182 227.429416 \nL 260.251186 227.598814 \nL 268.533189 227.663603 \nL 276.815193 227.922821 \nL 285.097197 227.740186 \nL 293.3792 227.778744 \nL 301.661204 228.03325 \nL 309.943208 228.309892 \nL 318.225212 228.443811 \nL 326.507215 228.271514 \nL 334.789219 228.412356 \nL 343.071223 228.319878 \nL 351.353226 228.620657 \nL 359.63523 228.65026 \nL 367.917234 228.627627 \nL 376.199238 228.482068 \nL 384.481241 228.849837 \nL 392.763245 228.915134 \nL 401.045249 228.963619 \nL 409.327252 228.887646 \nL 417.609256 228.88972 \nL 425.89126 229.051451 \nL 434.173264 229.099314 \nL 442.455267 229.178882 \nL 450.737271 229.10034 \nL 459.019275 229.02809 \nL 467.301278 228.930258 \n\" style=\"fill:none;stroke:#4c72b0;stroke-linecap:round;stroke-width:1.5;\"/>\n   </g>\n   <g id=\"line2d_14\">\n    <path clip-path=\"url(#p22632be8b0)\" d=\"M 61.483097 209.975201 \nL 69.7651 211.186937 \nL 78.047104 205.556253 \nL 86.329108 215.780815 \nL 94.611111 212.508869 \nL 102.893115 217.134823 \nL 111.175119 226.394298 \nL 119.457123 225.42172 \nL 127.739126 225.721387 \nL 136.02113 226.737545 \nL 144.303134 227.19967 \nL 152.585137 226.72362 \nL 160.867141 228.496981 \nL 169.149145 228.295245 \nL 177.431149 227.552279 \nL 185.713152 227.21686 \nL 193.995156 228.254729 \nL 202.27716 228.416133 \nL 210.559163 226.845736 \nL 218.841167 229.368181 \nL 227.123171 228.52383 \nL 235.405175 229.707602 \nL 243.687178 228.122079 \nL 251.969182 228.297039 \nL 260.251186 229.46025 \nL 268.533189 229.646466 \nL 276.815193 228.09133 \nL 285.097197 228.596145 \nL 293.3792 228.027585 \nL 301.661204 229.838948 \nL 309.943208 228.810221 \nL 318.225212 229.018917 \nL 326.507215 228.669646 \nL 334.789219 229.042923 \nL 343.071223 228.240382 \nL 351.353226 229.743907 \nL 359.63523 229.152344 \nL 367.917234 227.640383 \nL 376.199238 229.238408 \nL 384.481241 229.874489 \nL 392.763245 229.419062 \nL 401.045249 229.699925 \nL 409.327252 228.710705 \nL 417.609256 229.61679 \nL 425.89126 229.348245 \nL 434.173264 229.735385 \nL 442.455267 229.549933 \nL 450.737271 229.168343 \nL 459.019275 228.512133 \nL 467.301278 227.868407 \n\" style=\"fill:none;stroke:#dd8452;stroke-linecap:round;stroke-width:1.5;\"/>\n   </g>\n   <g id=\"patch_3\">\n    <path d=\"M 41.192188 239.758125 \nL 41.192188 22.318125 \n\" style=\"fill:none;stroke:#ffffff;stroke-linecap:square;stroke-linejoin:miter;stroke-width:1.25;\"/>\n   </g>\n   <g id=\"patch_4\">\n    <path d=\"M 487.592187 239.758125 \nL 487.592187 22.318125 \n\" style=\"fill:none;stroke:#ffffff;stroke-linecap:square;stroke-linejoin:miter;stroke-width:1.25;\"/>\n   </g>\n   <g id=\"patch_5\">\n    <path d=\"M 41.192187 239.758125 \nL 487.592187 239.758125 \n\" style=\"fill:none;stroke:#ffffff;stroke-linecap:square;stroke-linejoin:miter;stroke-width:1.25;\"/>\n   </g>\n   <g id=\"patch_6\">\n    <path d=\"M 41.192187 22.318125 \nL 487.592187 22.318125 \n\" style=\"fill:none;stroke:#ffffff;stroke-linecap:square;stroke-linejoin:miter;stroke-width:1.25;\"/>\n   </g>\n   <g id=\"text_13\">\n    <!-- last loss: 0.001997882267460227 -->\n    <defs>\n     <path d=\"M 9.421875 75.984375 \nL 18.40625 75.984375 \nL 18.40625 0 \nL 9.421875 0 \nz\n\" id=\"DejaVuSans-108\"/>\n     <path d=\"M 34.28125 27.484375 \nQ 23.390625 27.484375 19.1875 25 \nQ 14.984375 22.515625 14.984375 16.5 \nQ 14.984375 11.71875 18.140625 8.90625 \nQ 21.296875 6.109375 26.703125 6.109375 \nQ 34.1875 6.109375 38.703125 11.40625 \nQ 43.21875 16.703125 43.21875 25.484375 \nL 43.21875 27.484375 \nz\nM 52.203125 31.203125 \nL 52.203125 0 \nL 43.21875 0 \nL 43.21875 8.296875 \nQ 40.140625 3.328125 35.546875 0.953125 \nQ 30.953125 -1.421875 24.3125 -1.421875 \nQ 15.921875 -1.421875 10.953125 3.296875 \nQ 6 8.015625 6 15.921875 \nQ 6 25.140625 12.171875 29.828125 \nQ 18.359375 34.515625 30.609375 34.515625 \nL 43.21875 34.515625 \nL 43.21875 35.40625 \nQ 43.21875 41.609375 39.140625 45 \nQ 35.0625 48.390625 27.6875 48.390625 \nQ 23 48.390625 18.546875 47.265625 \nQ 14.109375 46.140625 10.015625 43.890625 \nL 10.015625 52.203125 \nQ 14.9375 54.109375 19.578125 55.046875 \nQ 24.21875 56 28.609375 56 \nQ 40.484375 56 46.34375 49.84375 \nQ 52.203125 43.703125 52.203125 31.203125 \nz\n\" id=\"DejaVuSans-97\"/>\n     <path d=\"M 44.28125 53.078125 \nL 44.28125 44.578125 \nQ 40.484375 46.53125 36.375 47.5 \nQ 32.28125 48.484375 27.875 48.484375 \nQ 21.1875 48.484375 17.84375 46.4375 \nQ 14.5 44.390625 14.5 40.28125 \nQ 14.5 37.15625 16.890625 35.375 \nQ 19.28125 33.59375 26.515625 31.984375 \nL 29.59375 31.296875 \nQ 39.15625 29.25 43.1875 25.515625 \nQ 47.21875 21.78125 47.21875 15.09375 \nQ 47.21875 7.46875 41.1875 3.015625 \nQ 35.15625 -1.421875 24.609375 -1.421875 \nQ 20.21875 -1.421875 15.453125 -0.5625 \nQ 10.6875 0.296875 5.421875 2 \nL 5.421875 11.28125 \nQ 10.40625 8.6875 15.234375 7.390625 \nQ 20.0625 6.109375 24.8125 6.109375 \nQ 31.15625 6.109375 34.5625 8.28125 \nQ 37.984375 10.453125 37.984375 14.40625 \nQ 37.984375 18.0625 35.515625 20.015625 \nQ 33.0625 21.96875 24.703125 23.78125 \nL 21.578125 24.515625 \nQ 13.234375 26.265625 9.515625 29.90625 \nQ 5.8125 33.546875 5.8125 39.890625 \nQ 5.8125 47.609375 11.28125 51.796875 \nQ 16.75 56 26.8125 56 \nQ 31.78125 56 36.171875 55.265625 \nQ 40.578125 54.546875 44.28125 53.078125 \nz\n\" id=\"DejaVuSans-115\"/>\n     <path d=\"M 18.3125 70.21875 \nL 18.3125 54.6875 \nL 36.8125 54.6875 \nL 36.8125 47.703125 \nL 18.3125 47.703125 \nL 18.3125 18.015625 \nQ 18.3125 11.328125 20.140625 9.421875 \nQ 21.96875 7.515625 27.59375 7.515625 \nL 36.8125 7.515625 \nL 36.8125 0 \nL 27.59375 0 \nQ 17.1875 0 13.234375 3.875 \nQ 9.28125 7.765625 9.28125 18.015625 \nL 9.28125 47.703125 \nL 2.6875 47.703125 \nL 2.6875 54.6875 \nL 9.28125 54.6875 \nL 9.28125 70.21875 \nz\n\" id=\"DejaVuSans-116\"/>\n     <path id=\"DejaVuSans-32\"/>\n     <path d=\"M 30.609375 48.390625 \nQ 23.390625 48.390625 19.1875 42.75 \nQ 14.984375 37.109375 14.984375 27.296875 \nQ 14.984375 17.484375 19.15625 11.84375 \nQ 23.34375 6.203125 30.609375 6.203125 \nQ 37.796875 6.203125 41.984375 11.859375 \nQ 46.1875 17.53125 46.1875 27.296875 \nQ 46.1875 37.015625 41.984375 42.703125 \nQ 37.796875 48.390625 30.609375 48.390625 \nz\nM 30.609375 56 \nQ 42.328125 56 49.015625 48.375 \nQ 55.71875 40.765625 55.71875 27.296875 \nQ 55.71875 13.875 49.015625 6.21875 \nQ 42.328125 -1.421875 30.609375 -1.421875 \nQ 18.84375 -1.421875 12.171875 6.21875 \nQ 5.515625 13.875 5.515625 27.296875 \nQ 5.515625 40.765625 12.171875 48.375 \nQ 18.84375 56 30.609375 56 \nz\n\" id=\"DejaVuSans-111\"/>\n     <path d=\"M 11.71875 12.40625 \nL 22.015625 12.40625 \nL 22.015625 0 \nL 11.71875 0 \nz\nM 11.71875 51.703125 \nL 22.015625 51.703125 \nL 22.015625 39.3125 \nL 11.71875 39.3125 \nz\n\" id=\"DejaVuSans-58\"/>\n     <path d=\"M 10.984375 1.515625 \nL 10.984375 10.5 \nQ 14.703125 8.734375 18.5 7.8125 \nQ 22.3125 6.890625 25.984375 6.890625 \nQ 35.75 6.890625 40.890625 13.453125 \nQ 46.046875 20.015625 46.78125 33.40625 \nQ 43.953125 29.203125 39.59375 26.953125 \nQ 35.25 24.703125 29.984375 24.703125 \nQ 19.046875 24.703125 12.671875 31.3125 \nQ 6.296875 37.9375 6.296875 49.421875 \nQ 6.296875 60.640625 12.9375 67.421875 \nQ 19.578125 74.21875 30.609375 74.21875 \nQ 43.265625 74.21875 49.921875 64.515625 \nQ 56.59375 54.828125 56.59375 36.375 \nQ 56.59375 19.140625 48.40625 8.859375 \nQ 40.234375 -1.421875 26.421875 -1.421875 \nQ 22.703125 -1.421875 18.890625 -0.6875 \nQ 15.09375 0.046875 10.984375 1.515625 \nz\nM 30.609375 32.421875 \nQ 37.25 32.421875 41.125 36.953125 \nQ 45.015625 41.5 45.015625 49.421875 \nQ 45.015625 57.28125 41.125 61.84375 \nQ 37.25 66.40625 30.609375 66.40625 \nQ 23.96875 66.40625 20.09375 61.84375 \nQ 16.21875 57.28125 16.21875 49.421875 \nQ 16.21875 41.5 20.09375 36.953125 \nQ 23.96875 32.421875 30.609375 32.421875 \nz\n\" id=\"DejaVuSans-57\"/>\n     <path d=\"M 8.203125 72.90625 \nL 55.078125 72.90625 \nL 55.078125 68.703125 \nL 28.609375 0 \nL 18.3125 0 \nL 43.21875 64.59375 \nL 8.203125 64.59375 \nz\n\" id=\"DejaVuSans-55\"/>\n     <path d=\"M 31.78125 34.625 \nQ 24.75 34.625 20.71875 30.859375 \nQ 16.703125 27.09375 16.703125 20.515625 \nQ 16.703125 13.921875 20.71875 10.15625 \nQ 24.75 6.390625 31.78125 6.390625 \nQ 38.8125 6.390625 42.859375 10.171875 \nQ 46.921875 13.96875 46.921875 20.515625 \nQ 46.921875 27.09375 42.890625 30.859375 \nQ 38.875 34.625 31.78125 34.625 \nz\nM 21.921875 38.8125 \nQ 15.578125 40.375 12.03125 44.71875 \nQ 8.5 49.078125 8.5 55.328125 \nQ 8.5 64.0625 14.71875 69.140625 \nQ 20.953125 74.21875 31.78125 74.21875 \nQ 42.671875 74.21875 48.875 69.140625 \nQ 55.078125 64.0625 55.078125 55.328125 \nQ 55.078125 49.078125 51.53125 44.71875 \nQ 48 40.375 41.703125 38.8125 \nQ 48.828125 37.15625 52.796875 32.3125 \nQ 56.78125 27.484375 56.78125 20.515625 \nQ 56.78125 9.90625 50.3125 4.234375 \nQ 43.84375 -1.421875 31.78125 -1.421875 \nQ 19.734375 -1.421875 13.25 4.234375 \nQ 6.78125 9.90625 6.78125 20.515625 \nQ 6.78125 27.484375 10.78125 32.3125 \nQ 14.796875 37.15625 21.921875 38.8125 \nz\nM 18.3125 54.390625 \nQ 18.3125 48.734375 21.84375 45.5625 \nQ 25.390625 42.390625 31.78125 42.390625 \nQ 38.140625 42.390625 41.71875 45.5625 \nQ 45.3125 48.734375 45.3125 54.390625 \nQ 45.3125 60.0625 41.71875 63.234375 \nQ 38.140625 66.40625 31.78125 66.40625 \nQ 25.390625 66.40625 21.84375 63.234375 \nQ 18.3125 60.0625 18.3125 54.390625 \nz\n\" id=\"DejaVuSans-56\"/>\n     <path d=\"M 33.015625 40.375 \nQ 26.375 40.375 22.484375 35.828125 \nQ 18.609375 31.296875 18.609375 23.390625 \nQ 18.609375 15.53125 22.484375 10.953125 \nQ 26.375 6.390625 33.015625 6.390625 \nQ 39.65625 6.390625 43.53125 10.953125 \nQ 47.40625 15.53125 47.40625 23.390625 \nQ 47.40625 31.296875 43.53125 35.828125 \nQ 39.65625 40.375 33.015625 40.375 \nz\nM 52.59375 71.296875 \nL 52.59375 62.3125 \nQ 48.875 64.0625 45.09375 64.984375 \nQ 41.3125 65.921875 37.59375 65.921875 \nQ 27.828125 65.921875 22.671875 59.328125 \nQ 17.53125 52.734375 16.796875 39.40625 \nQ 19.671875 43.65625 24.015625 45.921875 \nQ 28.375 48.1875 33.59375 48.1875 \nQ 44.578125 48.1875 50.953125 41.515625 \nQ 57.328125 34.859375 57.328125 23.390625 \nQ 57.328125 12.15625 50.6875 5.359375 \nQ 44.046875 -1.421875 33.015625 -1.421875 \nQ 20.359375 -1.421875 13.671875 8.265625 \nQ 6.984375 17.96875 6.984375 36.375 \nQ 6.984375 53.65625 15.1875 63.9375 \nQ 23.390625 74.21875 37.203125 74.21875 \nQ 40.921875 74.21875 44.703125 73.484375 \nQ 48.484375 72.75 52.59375 71.296875 \nz\n\" id=\"DejaVuSans-54\"/>\n    </defs>\n    <g style=\"fill:#262626;\" transform=\"translate(161.706875 16.318125)scale(0.12 -0.12)\">\n     <use xlink:href=\"#DejaVuSans-108\"/>\n     <use x=\"27.783203\" xlink:href=\"#DejaVuSans-97\"/>\n     <use x=\"89.0625\" xlink:href=\"#DejaVuSans-115\"/>\n     <use x=\"141.162109\" xlink:href=\"#DejaVuSans-116\"/>\n     <use x=\"180.371094\" xlink:href=\"#DejaVuSans-32\"/>\n     <use x=\"212.158203\" xlink:href=\"#DejaVuSans-108\"/>\n     <use x=\"239.941406\" xlink:href=\"#DejaVuSans-111\"/>\n     <use x=\"301.123047\" xlink:href=\"#DejaVuSans-115\"/>\n     <use x=\"353.222656\" xlink:href=\"#DejaVuSans-115\"/>\n     <use x=\"405.322266\" xlink:href=\"#DejaVuSans-58\"/>\n     <use x=\"439.013672\" xlink:href=\"#DejaVuSans-32\"/>\n     <use x=\"470.800781\" xlink:href=\"#DejaVuSans-48\"/>\n     <use x=\"534.423828\" xlink:href=\"#DejaVuSans-46\"/>\n     <use x=\"566.210938\" xlink:href=\"#DejaVuSans-48\"/>\n     <use x=\"629.833984\" xlink:href=\"#DejaVuSans-48\"/>\n     <use x=\"693.457031\" xlink:href=\"#DejaVuSans-49\"/>\n     <use x=\"757.080078\" xlink:href=\"#DejaVuSans-57\"/>\n     <use x=\"820.703125\" xlink:href=\"#DejaVuSans-57\"/>\n     <use x=\"884.326172\" xlink:href=\"#DejaVuSans-55\"/>\n     <use x=\"947.949219\" xlink:href=\"#DejaVuSans-56\"/>\n     <use x=\"1011.572266\" xlink:href=\"#DejaVuSans-56\"/>\n     <use x=\"1075.195312\" xlink:href=\"#DejaVuSans-50\"/>\n     <use x=\"1138.818359\" xlink:href=\"#DejaVuSans-50\"/>\n     <use x=\"1202.441406\" xlink:href=\"#DejaVuSans-54\"/>\n     <use x=\"1266.064453\" xlink:href=\"#DejaVuSans-55\"/>\n     <use x=\"1329.6875\" xlink:href=\"#DejaVuSans-52\"/>\n     <use x=\"1393.310547\" xlink:href=\"#DejaVuSans-54\"/>\n     <use x=\"1456.933594\" xlink:href=\"#DejaVuSans-48\"/>\n     <use x=\"1520.556641\" xlink:href=\"#DejaVuSans-50\"/>\n     <use x=\"1584.179688\" xlink:href=\"#DejaVuSans-50\"/>\n     <use x=\"1647.802734\" xlink:href=\"#DejaVuSans-55\"/>\n    </g>\n   </g>\n   <g id=\"legend_1\">\n    <g id=\"patch_7\">\n     <path d=\"M 419.089687 63.41 \nL 479.892187 63.41 \nQ 482.092187 63.41 482.092187 61.21 \nL 482.092187 30.018125 \nQ 482.092187 27.818125 479.892187 27.818125 \nL 419.089687 27.818125 \nQ 416.889687 27.818125 416.889687 30.018125 \nL 416.889687 61.21 \nQ 416.889687 63.41 419.089687 63.41 \nz\n\" style=\"fill:#eaeaf2;opacity:0.8;stroke:#cccccc;stroke-linejoin:miter;\"/>\n    </g>\n    <g id=\"line2d_15\">\n     <path d=\"M 421.289687 36.726406 \nL 443.289687 36.726406 \n\" style=\"fill:none;stroke:#4c72b0;stroke-linecap:round;stroke-width:1.5;\"/>\n    </g>\n    <g id=\"line2d_16\"/>\n    <g id=\"text_14\">\n     <!-- train -->\n     <defs>\n      <path d=\"M 41.109375 46.296875 \nQ 39.59375 47.171875 37.8125 47.578125 \nQ 36.03125 48 33.890625 48 \nQ 26.265625 48 22.1875 43.046875 \nQ 18.109375 38.09375 18.109375 28.8125 \nL 18.109375 0 \nL 9.078125 0 \nL 9.078125 54.6875 \nL 18.109375 54.6875 \nL 18.109375 46.1875 \nQ 20.953125 51.171875 25.484375 53.578125 \nQ 30.03125 56 36.53125 56 \nQ 37.453125 56 38.578125 55.875 \nQ 39.703125 55.765625 41.0625 55.515625 \nz\n\" id=\"DejaVuSans-114\"/>\n      <path d=\"M 9.421875 54.6875 \nL 18.40625 54.6875 \nL 18.40625 0 \nL 9.421875 0 \nz\nM 9.421875 75.984375 \nL 18.40625 75.984375 \nL 18.40625 64.59375 \nL 9.421875 64.59375 \nz\n\" id=\"DejaVuSans-105\"/>\n      <path d=\"M 54.890625 33.015625 \nL 54.890625 0 \nL 45.90625 0 \nL 45.90625 32.71875 \nQ 45.90625 40.484375 42.875 44.328125 \nQ 39.84375 48.1875 33.796875 48.1875 \nQ 26.515625 48.1875 22.3125 43.546875 \nQ 18.109375 38.921875 18.109375 30.90625 \nL 18.109375 0 \nL 9.078125 0 \nL 9.078125 54.6875 \nL 18.109375 54.6875 \nL 18.109375 46.1875 \nQ 21.34375 51.125 25.703125 53.5625 \nQ 30.078125 56 35.796875 56 \nQ 45.21875 56 50.046875 50.171875 \nQ 54.890625 44.34375 54.890625 33.015625 \nz\n\" id=\"DejaVuSans-110\"/>\n     </defs>\n     <g style=\"fill:#262626;\" transform=\"translate(452.089687 40.576406)scale(0.11 -0.11)\">\n      <use xlink:href=\"#DejaVuSans-116\"/>\n      <use x=\"39.208984\" xlink:href=\"#DejaVuSans-114\"/>\n      <use x=\"80.322266\" xlink:href=\"#DejaVuSans-97\"/>\n      <use x=\"141.601562\" xlink:href=\"#DejaVuSans-105\"/>\n      <use x=\"169.384766\" xlink:href=\"#DejaVuSans-110\"/>\n     </g>\n    </g>\n    <g id=\"line2d_17\">\n     <path d=\"M 421.289687 52.872344 \nL 443.289687 52.872344 \n\" style=\"fill:none;stroke:#dd8452;stroke-linecap:round;stroke-width:1.5;\"/>\n    </g>\n    <g id=\"line2d_18\"/>\n    <g id=\"text_15\">\n     <!-- val -->\n     <defs>\n      <path d=\"M 2.984375 54.6875 \nL 12.5 54.6875 \nL 29.59375 8.796875 \nL 46.6875 54.6875 \nL 56.203125 54.6875 \nL 35.6875 0 \nL 23.484375 0 \nz\n\" id=\"DejaVuSans-118\"/>\n     </defs>\n     <g style=\"fill:#262626;\" transform=\"translate(452.089687 56.722344)scale(0.11 -0.11)\">\n      <use xlink:href=\"#DejaVuSans-118\"/>\n      <use x=\"59.179688\" xlink:href=\"#DejaVuSans-97\"/>\n      <use x=\"120.458984\" xlink:href=\"#DejaVuSans-108\"/>\n     </g>\n    </g>\n   </g>\n  </g>\n </g>\n <defs>\n  <clipPath id=\"p22632be8b0\">\n   <rect height=\"217.44\" width=\"446.4\" x=\"41.192188\" y=\"22.318125\"/>\n  </clipPath>\n </defs>\n</svg>\n"
          },
          "metadata": {
            "tags": []
          }
        },
        {
          "output_type": "stream",
          "text": [
            "time: 211 ms\n"
          ],
          "name": "stdout"
        }
      ]
    },
    {
      "cell_type": "code",
      "metadata": {
        "id": "Jx-2OcGiRFj0",
        "colab_type": "code",
        "colab": {
          "base_uri": "https://localhost:8080/",
          "height": 34
        },
        "outputId": "4200795d-17b2-4930-ed68-fde4e0b72aa2"
      },
      "source": [
        "y_pred = model.predict(X_test)"
      ],
      "execution_count": 72,
      "outputs": [
        {
          "output_type": "stream",
          "text": [
            "time: 299 ms\n"
          ],
          "name": "stdout"
        }
      ]
    },
    {
      "cell_type": "code",
      "metadata": {
        "id": "F5HWWdrARITP",
        "colab_type": "code",
        "colab": {
          "base_uri": "https://localhost:8080/",
          "height": 374
        },
        "outputId": "c56397b1-8c62-405c-97dc-61bb863a0fe2"
      },
      "source": [
        "plt.plot(scaler.inverse_transform(y_test), label='Actual')\n",
        "plt.plot(scaler.inverse_transform(y_pred), label='Predict')\n",
        "plt.legend()\n",
        "plt.show()"
      ],
      "execution_count": 73,
      "outputs": [
        {
          "output_type": "display_data",
          "data": {
            "text/plain": [
              "<Figure size 576x288 with 1 Axes>"
            ],
            "image/svg+xml": "<?xml version=\"1.0\" encoding=\"utf-8\" standalone=\"no\"?>\n<!DOCTYPE svg PUBLIC \"-//W3C//DTD SVG 1.1//EN\"\n  \"http://www.w3.org/Graphics/SVG/1.1/DTD/svg11.dtd\">\n<!-- Created with matplotlib (https://matplotlib.org/) -->\n<svg height=\"251.985937pt\" version=\"1.1\" viewBox=\"0 0 484.2975 251.985937\" width=\"484.2975pt\" xmlns=\"http://www.w3.org/2000/svg\" xmlns:xlink=\"http://www.w3.org/1999/xlink\">\n <defs>\n  <style type=\"text/css\">\n*{stroke-linecap:butt;stroke-linejoin:round;}\n  </style>\n </defs>\n <g id=\"figure_1\">\n  <g id=\"patch_1\">\n   <path d=\"M 0 251.985937 \nL 484.2975 251.985937 \nL 484.2975 0 \nL 0 0 \nz\n\" style=\"fill:#ffffff;\"/>\n  </g>\n  <g id=\"axes_1\">\n   <g id=\"patch_2\">\n    <path d=\"M 30.6975 224.64 \nL 477.0975 224.64 \nL 477.0975 7.2 \nL 30.6975 7.2 \nz\n\" style=\"fill:#eaeaf2;\"/>\n   </g>\n   <g id=\"matplotlib.axis_1\">\n    <g id=\"xtick_1\">\n     <g id=\"line2d_1\">\n      <path clip-path=\"url(#p7db6de9384)\" d=\"M 50.988409 224.64 \nL 50.988409 7.2 \n\" style=\"fill:none;stroke:#ffffff;stroke-linecap:round;\"/>\n     </g>\n     <g id=\"text_1\">\n      <!-- 0 -->\n      <defs>\n       <path d=\"M 31.78125 66.40625 \nQ 24.171875 66.40625 20.328125 58.90625 \nQ 16.5 51.421875 16.5 36.375 \nQ 16.5 21.390625 20.328125 13.890625 \nQ 24.171875 6.390625 31.78125 6.390625 \nQ 39.453125 6.390625 43.28125 13.890625 \nQ 47.125 21.390625 47.125 36.375 \nQ 47.125 51.421875 43.28125 58.90625 \nQ 39.453125 66.40625 31.78125 66.40625 \nz\nM 31.78125 74.21875 \nQ 44.046875 74.21875 50.515625 64.515625 \nQ 56.984375 54.828125 56.984375 36.375 \nQ 56.984375 17.96875 50.515625 8.265625 \nQ 44.046875 -1.421875 31.78125 -1.421875 \nQ 19.53125 -1.421875 13.0625 8.265625 \nQ 6.59375 17.96875 6.59375 36.375 \nQ 6.59375 54.828125 13.0625 64.515625 \nQ 19.53125 74.21875 31.78125 74.21875 \nz\n\" id=\"DejaVuSans-48\"/>\n      </defs>\n      <g style=\"fill:#262626;\" transform=\"translate(47.489034 242.498281)scale(0.11 -0.11)\">\n       <use xlink:href=\"#DejaVuSans-48\"/>\n      </g>\n     </g>\n    </g>\n    <g id=\"xtick_2\">\n     <g id=\"line2d_2\">\n      <path clip-path=\"url(#p7db6de9384)\" d=\"M 114.596275 224.64 \nL 114.596275 7.2 \n\" style=\"fill:none;stroke:#ffffff;stroke-linecap:round;\"/>\n     </g>\n     <g id=\"text_2\">\n      <!-- 100 -->\n      <defs>\n       <path d=\"M 12.40625 8.296875 \nL 28.515625 8.296875 \nL 28.515625 63.921875 \nL 10.984375 60.40625 \nL 10.984375 69.390625 \nL 28.421875 72.90625 \nL 38.28125 72.90625 \nL 38.28125 8.296875 \nL 54.390625 8.296875 \nL 54.390625 0 \nL 12.40625 0 \nz\n\" id=\"DejaVuSans-49\"/>\n      </defs>\n      <g style=\"fill:#262626;\" transform=\"translate(104.09815 242.498281)scale(0.11 -0.11)\">\n       <use xlink:href=\"#DejaVuSans-49\"/>\n       <use x=\"63.623047\" xlink:href=\"#DejaVuSans-48\"/>\n       <use x=\"127.246094\" xlink:href=\"#DejaVuSans-48\"/>\n      </g>\n     </g>\n    </g>\n    <g id=\"xtick_3\">\n     <g id=\"line2d_3\">\n      <path clip-path=\"url(#p7db6de9384)\" d=\"M 178.20414 224.64 \nL 178.20414 7.2 \n\" style=\"fill:none;stroke:#ffffff;stroke-linecap:round;\"/>\n     </g>\n     <g id=\"text_3\">\n      <!-- 200 -->\n      <defs>\n       <path d=\"M 19.1875 8.296875 \nL 53.609375 8.296875 \nL 53.609375 0 \nL 7.328125 0 \nL 7.328125 8.296875 \nQ 12.9375 14.109375 22.625 23.890625 \nQ 32.328125 33.6875 34.8125 36.53125 \nQ 39.546875 41.84375 41.421875 45.53125 \nQ 43.3125 49.21875 43.3125 52.78125 \nQ 43.3125 58.59375 39.234375 62.25 \nQ 35.15625 65.921875 28.609375 65.921875 \nQ 23.96875 65.921875 18.8125 64.3125 \nQ 13.671875 62.703125 7.8125 59.421875 \nL 7.8125 69.390625 \nQ 13.765625 71.78125 18.9375 73 \nQ 24.125 74.21875 28.421875 74.21875 \nQ 39.75 74.21875 46.484375 68.546875 \nQ 53.21875 62.890625 53.21875 53.421875 \nQ 53.21875 48.921875 51.53125 44.890625 \nQ 49.859375 40.875 45.40625 35.40625 \nQ 44.1875 33.984375 37.640625 27.21875 \nQ 31.109375 20.453125 19.1875 8.296875 \nz\n\" id=\"DejaVuSans-50\"/>\n      </defs>\n      <g style=\"fill:#262626;\" transform=\"translate(167.706015 242.498281)scale(0.11 -0.11)\">\n       <use xlink:href=\"#DejaVuSans-50\"/>\n       <use x=\"63.623047\" xlink:href=\"#DejaVuSans-48\"/>\n       <use x=\"127.246094\" xlink:href=\"#DejaVuSans-48\"/>\n      </g>\n     </g>\n    </g>\n    <g id=\"xtick_4\">\n     <g id=\"line2d_4\">\n      <path clip-path=\"url(#p7db6de9384)\" d=\"M 241.812006 224.64 \nL 241.812006 7.2 \n\" style=\"fill:none;stroke:#ffffff;stroke-linecap:round;\"/>\n     </g>\n     <g id=\"text_4\">\n      <!-- 300 -->\n      <defs>\n       <path d=\"M 40.578125 39.3125 \nQ 47.65625 37.796875 51.625 33 \nQ 55.609375 28.21875 55.609375 21.1875 \nQ 55.609375 10.40625 48.1875 4.484375 \nQ 40.765625 -1.421875 27.09375 -1.421875 \nQ 22.515625 -1.421875 17.65625 -0.515625 \nQ 12.796875 0.390625 7.625 2.203125 \nL 7.625 11.71875 \nQ 11.71875 9.328125 16.59375 8.109375 \nQ 21.484375 6.890625 26.8125 6.890625 \nQ 36.078125 6.890625 40.9375 10.546875 \nQ 45.796875 14.203125 45.796875 21.1875 \nQ 45.796875 27.640625 41.28125 31.265625 \nQ 36.765625 34.90625 28.71875 34.90625 \nL 20.21875 34.90625 \nL 20.21875 43.015625 \nL 29.109375 43.015625 \nQ 36.375 43.015625 40.234375 45.921875 \nQ 44.09375 48.828125 44.09375 54.296875 \nQ 44.09375 59.90625 40.109375 62.90625 \nQ 36.140625 65.921875 28.71875 65.921875 \nQ 24.65625 65.921875 20.015625 65.03125 \nQ 15.375 64.15625 9.8125 62.3125 \nL 9.8125 71.09375 \nQ 15.4375 72.65625 20.34375 73.4375 \nQ 25.25 74.21875 29.59375 74.21875 \nQ 40.828125 74.21875 47.359375 69.109375 \nQ 53.90625 64.015625 53.90625 55.328125 \nQ 53.90625 49.265625 50.4375 45.09375 \nQ 46.96875 40.921875 40.578125 39.3125 \nz\n\" id=\"DejaVuSans-51\"/>\n      </defs>\n      <g style=\"fill:#262626;\" transform=\"translate(231.313881 242.498281)scale(0.11 -0.11)\">\n       <use xlink:href=\"#DejaVuSans-51\"/>\n       <use x=\"63.623047\" xlink:href=\"#DejaVuSans-48\"/>\n       <use x=\"127.246094\" xlink:href=\"#DejaVuSans-48\"/>\n      </g>\n     </g>\n    </g>\n    <g id=\"xtick_5\">\n     <g id=\"line2d_5\">\n      <path clip-path=\"url(#p7db6de9384)\" d=\"M 305.419871 224.64 \nL 305.419871 7.2 \n\" style=\"fill:none;stroke:#ffffff;stroke-linecap:round;\"/>\n     </g>\n     <g id=\"text_5\">\n      <!-- 400 -->\n      <defs>\n       <path d=\"M 37.796875 64.3125 \nL 12.890625 25.390625 \nL 37.796875 25.390625 \nz\nM 35.203125 72.90625 \nL 47.609375 72.90625 \nL 47.609375 25.390625 \nL 58.015625 25.390625 \nL 58.015625 17.1875 \nL 47.609375 17.1875 \nL 47.609375 0 \nL 37.796875 0 \nL 37.796875 17.1875 \nL 4.890625 17.1875 \nL 4.890625 26.703125 \nz\n\" id=\"DejaVuSans-52\"/>\n      </defs>\n      <g style=\"fill:#262626;\" transform=\"translate(294.921746 242.498281)scale(0.11 -0.11)\">\n       <use xlink:href=\"#DejaVuSans-52\"/>\n       <use x=\"63.623047\" xlink:href=\"#DejaVuSans-48\"/>\n       <use x=\"127.246094\" xlink:href=\"#DejaVuSans-48\"/>\n      </g>\n     </g>\n    </g>\n    <g id=\"xtick_6\">\n     <g id=\"line2d_6\">\n      <path clip-path=\"url(#p7db6de9384)\" d=\"M 369.027737 224.64 \nL 369.027737 7.2 \n\" style=\"fill:none;stroke:#ffffff;stroke-linecap:round;\"/>\n     </g>\n     <g id=\"text_6\">\n      <!-- 500 -->\n      <defs>\n       <path d=\"M 10.796875 72.90625 \nL 49.515625 72.90625 \nL 49.515625 64.59375 \nL 19.828125 64.59375 \nL 19.828125 46.734375 \nQ 21.96875 47.46875 24.109375 47.828125 \nQ 26.265625 48.1875 28.421875 48.1875 \nQ 40.625 48.1875 47.75 41.5 \nQ 54.890625 34.8125 54.890625 23.390625 \nQ 54.890625 11.625 47.5625 5.09375 \nQ 40.234375 -1.421875 26.90625 -1.421875 \nQ 22.3125 -1.421875 17.546875 -0.640625 \nQ 12.796875 0.140625 7.71875 1.703125 \nL 7.71875 11.625 \nQ 12.109375 9.234375 16.796875 8.0625 \nQ 21.484375 6.890625 26.703125 6.890625 \nQ 35.15625 6.890625 40.078125 11.328125 \nQ 45.015625 15.765625 45.015625 23.390625 \nQ 45.015625 31 40.078125 35.4375 \nQ 35.15625 39.890625 26.703125 39.890625 \nQ 22.75 39.890625 18.8125 39.015625 \nQ 14.890625 38.140625 10.796875 36.28125 \nz\n\" id=\"DejaVuSans-53\"/>\n      </defs>\n      <g style=\"fill:#262626;\" transform=\"translate(358.529612 242.498281)scale(0.11 -0.11)\">\n       <use xlink:href=\"#DejaVuSans-53\"/>\n       <use x=\"63.623047\" xlink:href=\"#DejaVuSans-48\"/>\n       <use x=\"127.246094\" xlink:href=\"#DejaVuSans-48\"/>\n      </g>\n     </g>\n    </g>\n    <g id=\"xtick_7\">\n     <g id=\"line2d_7\">\n      <path clip-path=\"url(#p7db6de9384)\" d=\"M 432.635602 224.64 \nL 432.635602 7.2 \n\" style=\"fill:none;stroke:#ffffff;stroke-linecap:round;\"/>\n     </g>\n     <g id=\"text_7\">\n      <!-- 600 -->\n      <defs>\n       <path d=\"M 33.015625 40.375 \nQ 26.375 40.375 22.484375 35.828125 \nQ 18.609375 31.296875 18.609375 23.390625 \nQ 18.609375 15.53125 22.484375 10.953125 \nQ 26.375 6.390625 33.015625 6.390625 \nQ 39.65625 6.390625 43.53125 10.953125 \nQ 47.40625 15.53125 47.40625 23.390625 \nQ 47.40625 31.296875 43.53125 35.828125 \nQ 39.65625 40.375 33.015625 40.375 \nz\nM 52.59375 71.296875 \nL 52.59375 62.3125 \nQ 48.875 64.0625 45.09375 64.984375 \nQ 41.3125 65.921875 37.59375 65.921875 \nQ 27.828125 65.921875 22.671875 59.328125 \nQ 17.53125 52.734375 16.796875 39.40625 \nQ 19.671875 43.65625 24.015625 45.921875 \nQ 28.375 48.1875 33.59375 48.1875 \nQ 44.578125 48.1875 50.953125 41.515625 \nQ 57.328125 34.859375 57.328125 23.390625 \nQ 57.328125 12.15625 50.6875 5.359375 \nQ 44.046875 -1.421875 33.015625 -1.421875 \nQ 20.359375 -1.421875 13.671875 8.265625 \nQ 6.984375 17.96875 6.984375 36.375 \nQ 6.984375 53.65625 15.1875 63.9375 \nQ 23.390625 74.21875 37.203125 74.21875 \nQ 40.921875 74.21875 44.703125 73.484375 \nQ 48.484375 72.75 52.59375 71.296875 \nz\n\" id=\"DejaVuSans-54\"/>\n      </defs>\n      <g style=\"fill:#262626;\" transform=\"translate(422.137477 242.498281)scale(0.11 -0.11)\">\n       <use xlink:href=\"#DejaVuSans-54\"/>\n       <use x=\"63.623047\" xlink:href=\"#DejaVuSans-48\"/>\n       <use x=\"127.246094\" xlink:href=\"#DejaVuSans-48\"/>\n      </g>\n     </g>\n    </g>\n   </g>\n   <g id=\"matplotlib.axis_2\">\n    <g id=\"ytick_1\">\n     <g id=\"line2d_8\">\n      <path clip-path=\"url(#p7db6de9384)\" d=\"M 30.6975 197.696967 \nL 477.0975 197.696967 \n\" style=\"fill:none;stroke:#ffffff;stroke-linecap:round;\"/>\n     </g>\n     <g id=\"text_8\">\n      <!-- 10 -->\n      <g style=\"fill:#262626;\" transform=\"translate(7.2 201.876108)scale(0.11 -0.11)\">\n       <use xlink:href=\"#DejaVuSans-49\"/>\n       <use x=\"63.623047\" xlink:href=\"#DejaVuSans-48\"/>\n      </g>\n     </g>\n    </g>\n    <g id=\"ytick_2\">\n     <g id=\"line2d_9\">\n      <path clip-path=\"url(#p7db6de9384)\" d=\"M 30.6975 154.995098 \nL 477.0975 154.995098 \n\" style=\"fill:none;stroke:#ffffff;stroke-linecap:round;\"/>\n     </g>\n     <g id=\"text_9\">\n      <!-- 12 -->\n      <g style=\"fill:#262626;\" transform=\"translate(7.2 159.174238)scale(0.11 -0.11)\">\n       <use xlink:href=\"#DejaVuSans-49\"/>\n       <use x=\"63.623047\" xlink:href=\"#DejaVuSans-50\"/>\n      </g>\n     </g>\n    </g>\n    <g id=\"ytick_3\">\n     <g id=\"line2d_10\">\n      <path clip-path=\"url(#p7db6de9384)\" d=\"M 30.6975 112.293229 \nL 477.0975 112.293229 \n\" style=\"fill:none;stroke:#ffffff;stroke-linecap:round;\"/>\n     </g>\n     <g id=\"text_10\">\n      <!-- 14 -->\n      <g style=\"fill:#262626;\" transform=\"translate(7.2 116.472369)scale(0.11 -0.11)\">\n       <use xlink:href=\"#DejaVuSans-49\"/>\n       <use x=\"63.623047\" xlink:href=\"#DejaVuSans-52\"/>\n      </g>\n     </g>\n    </g>\n    <g id=\"ytick_4\">\n     <g id=\"line2d_11\">\n      <path clip-path=\"url(#p7db6de9384)\" d=\"M 30.6975 69.591359 \nL 477.0975 69.591359 \n\" style=\"fill:none;stroke:#ffffff;stroke-linecap:round;\"/>\n     </g>\n     <g id=\"text_11\">\n      <!-- 16 -->\n      <g style=\"fill:#262626;\" transform=\"translate(7.2 73.7705)scale(0.11 -0.11)\">\n       <use xlink:href=\"#DejaVuSans-49\"/>\n       <use x=\"63.623047\" xlink:href=\"#DejaVuSans-54\"/>\n      </g>\n     </g>\n    </g>\n    <g id=\"ytick_5\">\n     <g id=\"line2d_12\">\n      <path clip-path=\"url(#p7db6de9384)\" d=\"M 30.6975 26.88949 \nL 477.0975 26.88949 \n\" style=\"fill:none;stroke:#ffffff;stroke-linecap:round;\"/>\n     </g>\n     <g id=\"text_12\">\n      <!-- 18 -->\n      <defs>\n       <path d=\"M 31.78125 34.625 \nQ 24.75 34.625 20.71875 30.859375 \nQ 16.703125 27.09375 16.703125 20.515625 \nQ 16.703125 13.921875 20.71875 10.15625 \nQ 24.75 6.390625 31.78125 6.390625 \nQ 38.8125 6.390625 42.859375 10.171875 \nQ 46.921875 13.96875 46.921875 20.515625 \nQ 46.921875 27.09375 42.890625 30.859375 \nQ 38.875 34.625 31.78125 34.625 \nz\nM 21.921875 38.8125 \nQ 15.578125 40.375 12.03125 44.71875 \nQ 8.5 49.078125 8.5 55.328125 \nQ 8.5 64.0625 14.71875 69.140625 \nQ 20.953125 74.21875 31.78125 74.21875 \nQ 42.671875 74.21875 48.875 69.140625 \nQ 55.078125 64.0625 55.078125 55.328125 \nQ 55.078125 49.078125 51.53125 44.71875 \nQ 48 40.375 41.703125 38.8125 \nQ 48.828125 37.15625 52.796875 32.3125 \nQ 56.78125 27.484375 56.78125 20.515625 \nQ 56.78125 9.90625 50.3125 4.234375 \nQ 43.84375 -1.421875 31.78125 -1.421875 \nQ 19.734375 -1.421875 13.25 4.234375 \nQ 6.78125 9.90625 6.78125 20.515625 \nQ 6.78125 27.484375 10.78125 32.3125 \nQ 14.796875 37.15625 21.921875 38.8125 \nz\nM 18.3125 54.390625 \nQ 18.3125 48.734375 21.84375 45.5625 \nQ 25.390625 42.390625 31.78125 42.390625 \nQ 38.140625 42.390625 41.71875 45.5625 \nQ 45.3125 48.734375 45.3125 54.390625 \nQ 45.3125 60.0625 41.71875 63.234375 \nQ 38.140625 66.40625 31.78125 66.40625 \nQ 25.390625 66.40625 21.84375 63.234375 \nQ 18.3125 60.0625 18.3125 54.390625 \nz\n\" id=\"DejaVuSans-56\"/>\n      </defs>\n      <g style=\"fill:#262626;\" transform=\"translate(7.2 31.068631)scale(0.11 -0.11)\">\n       <use xlink:href=\"#DejaVuSans-49\"/>\n       <use x=\"63.623047\" xlink:href=\"#DejaVuSans-56\"/>\n      </g>\n     </g>\n    </g>\n   </g>\n   <g id=\"line2d_13\">\n    <path clip-path=\"url(#p7db6de9384)\" d=\"M 50.988409 36.47606 \nL 51.624488 36.369305 \nL 52.260566 38.07738 \nL 52.896645 44.760223 \nL 53.532724 44.610766 \nL 54.168802 47.066123 \nL 54.804881 46.916667 \nL 55.44096 43.756729 \nL 56.713117 47.856108 \nL 57.349196 51.763329 \nL 57.985274 51.976838 \nL 58.621353 55.884059 \nL 59.257432 53.193842 \nL 59.89351 53.898423 \nL 60.529589 61.712865 \nL 61.165668 62.75906 \nL 61.801746 60.645318 \nL 62.437825 59.76993 \nL 63.073904 60.047492 \nL 63.709982 61.15774 \nL 64.346061 68.246251 \nL 64.982139 71.085925 \nL 65.618218 68.801375 \nL 66.254297 73.733441 \nL 66.890375 74.160459 \nL 67.526454 71.769155 \nL 68.162533 72.623192 \nL 69.43469 78.195786 \nL 70.070769 77.427152 \nL 70.706847 79.540895 \nL 71.342926 79.327386 \nL 71.979005 87.056424 \nL 73.251162 84.045942 \nL 73.887241 81.014109 \nL 74.523319 82.103007 \nL 75.159398 82.252464 \nL 75.795477 88.33748 \nL 76.431555 90.280415 \nL 77.067634 93.312248 \nL 77.703713 97.838646 \nL 78.339791 100.251301 \nL 78.97587 97.625137 \nL 79.611949 103.838258 \nL 80.248027 103.304485 \nL 80.884106 99.610773 \nL 81.520185 99.717528 \nL 82.156263 99.290509 \nL 82.792342 103.923662 \nL 83.42842 106.84874 \nL 84.064499 112.7843 \nL 84.700578 123.73733 \nL 85.336656 123.566522 \nL 85.972735 127.196181 \nL 86.608814 126.299442 \nL 87.244892 130.057206 \nL 87.880971 138.896493 \nL 88.51705 131.530421 \nL 89.153128 127.004023 \nL 89.789207 128.135622 \nL 90.425286 129.886399 \nL 91.061364 139.472968 \nL 91.697443 138.896493 \nL 92.333522 143.679102 \nL 92.9696 142.376695 \nL 93.605679 146.13446 \nL 94.241758 141.031587 \nL 94.877836 138.896493 \nL 95.513915 131.29556 \nL 96.149994 130.740436 \nL 96.786072 132.021492 \nL 97.422151 134.348744 \nL 98.05823 137.658139 \nL 98.694308 141.608062 \nL 99.330387 143.529646 \nL 100.602544 167.592149 \nL 101.238623 163.748981 \nL 101.874701 163.0444 \nL 102.51078 148.88873 \nL 103.782937 135.672502 \nL 104.419016 145.792845 \nL 105.055095 137.081664 \nL 105.691173 140.732673 \nL 106.327252 145.985003 \nL 106.963331 148.141448 \nL 107.599409 151.38679 \nL 108.235488 150.981122 \nL 108.871567 155.422116 \nL 109.507645 157.79207 \nL 110.143724 155.827784 \nL 110.779803 149.934926 \nL 111.415881 148.120097 \nL 112.05196 152.155423 \nL 112.688039 150.981122 \nL 113.324117 153.372427 \nL 113.960196 157.599912 \nL 114.596275 156.681822 \nL 115.232353 156.87398 \nL 115.868432 167.122429 \nL 116.504511 166.908919 \nL 117.140589 159.478794 \nL 118.412747 151.38679 \nL 120.320982 122.755187 \nL 120.957061 116.115046 \nL 121.59314 113.403477 \nL 122.229218 117.054487 \nL 122.865297 117.438804 \nL 123.501376 114.129409 \nL 124.137454 114.129409 \nL 124.773533 115.431816 \nL 125.409612 120.150373 \nL 126.04569 117.054487 \nL 126.681769 121.132516 \nL 127.317848 115.047499 \nL 127.953926 116.285853 \nL 128.590005 124.826227 \nL 129.226084 129.929101 \nL 129.862162 126.811864 \nL 130.498241 127.345637 \nL 131.13432 125.018386 \nL 131.770398 124.036243 \nL 132.406477 119.616599 \nL 133.042556 120.961708 \nL 133.678634 123.630575 \nL 134.314713 129.758293 \nL 134.950792 134.327393 \nL 135.58687 133.238495 \nL 136.222949 139.686478 \nL 136.859028 147.821184 \nL 137.495106 145.45123 \nL 138.131185 135.821958 \nL 138.767263 137.999754 \nL 139.403342 136.334381 \nL 140.039421 141.736167 \nL 140.675499 143.892612 \nL 141.311578 143.700453 \nL 141.947657 137.658139 \nL 142.583735 137.487331 \nL 143.219814 137.658139 \nL 143.855893 136.163573 \nL 144.491971 134.284691 \nL 145.12805 143.038574 \nL 145.764129 146.390671 \nL 146.400207 147.415516 \nL 147.036286 161.357676 \nL 147.672365 163.386015 \nL 148.308443 163.065751 \nL 148.944522 163.791683 \nL 149.580601 171.200457 \nL 150.216679 172.673672 \nL 150.852758 166.567304 \nL 151.488837 167.528096 \nL 152.124915 176.30333 \nL 152.760994 180.381359 \nL 154.033151 183.413192 \nL 154.66923 172.716373 \nL 155.305308 170.858842 \nL 155.941387 175.726855 \nL 156.577466 176.495489 \nL 157.213544 180.744325 \nL 158.485702 173.10069 \nL 159.12178 171.243159 \nL 159.757859 183.413192 \nL 160.393938 191.569249 \nL 161.030016 192.74355 \nL 161.666095 197.99588 \nL 162.302174 197.056439 \nL 162.938252 202.671735 \nL 163.574331 197.419405 \nL 164.21041 203.824685 \nL 164.846488 208.615835 \nL 165.482567 214.756364 \nL 166.118646 210.545959 \nL 166.754724 197.419405 \nL 167.390803 206.45085 \nL 168.026882 197.227246 \nL 168.66296 198.529653 \nL 169.299039 190.629808 \nL 169.935118 181.192694 \nL 171.207275 192.700848 \nL 171.843354 186.103409 \nL 172.479432 183.263735 \nL 173.115511 188.729574 \nL 173.751589 190.629808 \nL 174.387668 194.750538 \nL 175.023747 197.99588 \nL 175.659825 199.084778 \nL 176.295904 194.34487 \nL 176.931983 191.654652 \nL 177.568061 183.519946 \nL 178.20414 184.822353 \nL 178.840219 185.569636 \nL 179.476297 179.313812 \nL 180.112376 185.569636 \nL 180.748455 185.185319 \nL 181.384533 186.722587 \nL 182.020612 184.05372 \nL 182.656691 184.05372 \nL 183.292769 177.755194 \nL 183.928848 173.954728 \nL 184.564927 168.809152 \nL 185.201005 165.371652 \nL 185.837084 161.165518 \nL 186.473163 173.570411 \nL 187.109241 168.638345 \nL 187.74532 168.638345 \nL 188.381399 161.165518 \nL 189.017477 163.684928 \nL 189.653556 167.335938 \nL 190.289635 161.571186 \nL 190.925713 158.112334 \nL 191.561792 157.728017 \nL 192.19787 159.286636 \nL 192.833949 160.055269 \nL 193.470028 165.798671 \nL 194.106106 164.837879 \nL 194.742185 164.64572 \nL 195.378264 162.36117 \nL 196.014342 159.500145 \nL 196.650421 161.976853 \nL 197.922578 170.58128 \nL 198.558657 170.004805 \nL 199.194736 166.182987 \nL 199.830814 172.118547 \nL 200.466893 163.300611 \nL 201.102972 158.688809 \nL 201.73905 151.62165 \nL 202.375129 149.166293 \nL 203.011208 153.030812 \nL 203.647286 155.50752 \nL 204.919444 144.917457 \nL 205.555522 145.472581 \nL 206.191601 145.472581 \nL 206.82768 141.821571 \nL 207.463758 144.917457 \nL 208.099837 139.51567 \nL 208.735916 132.555266 \nL 209.371994 136.206275 \nL 210.008073 137.764894 \nL 210.644151 140.860779 \nL 211.28023 148.974134 \nL 211.916309 152.048669 \nL 212.552387 148.376308 \nL 213.188466 150.660858 \nL 213.824545 154.333219 \nL 214.460623 149.913575 \nL 215.096702 149.57196 \nL 215.732781 149.401153 \nL 216.368859 150.895718 \nL 217.004938 146.646882 \nL 217.641017 145.130966 \nL 218.277095 148.41901 \nL 218.913174 147.394165 \nL 219.549253 146.13446 \nL 220.185331 146.860392 \nL 220.82141 145.323124 \nL 221.457489 141.052937 \nL 222.093567 140.64727 \nL 222.729646 139.686478 \nL 223.365725 140.220251 \nL 224.001803 139.494319 \nL 224.637882 139.686478 \nL 225.273961 138.533527 \nL 225.910039 135.458993 \nL 226.546118 131.359613 \nL 227.182196 130.953945 \nL 227.818275 133.473356 \nL 228.454354 137.359226 \nL 229.090432 139.195406 \nL 229.726511 139.899987 \nL 230.36259 139.003248 \nL 230.998668 140.497813 \nL 231.634747 140.497813 \nL 232.906904 134.092533 \nL 233.542983 135.672502 \nL 234.179062 130.975296 \nL 235.451219 148.739274 \nL 236.087298 141.11699 \nL 236.723376 136.590592 \nL 237.995534 132.363107 \nL 238.631612 137.615437 \nL 239.267691 137.401928 \nL 239.90377 139.003248 \nL 240.539848 136.206275 \nL 241.175927 137.401928 \nL 241.812006 130.163961 \nL 242.448084 133.558759 \nL 243.084163 133.943076 \nL 244.35632 133.836322 \nL 244.992399 136.120872 \nL 245.628477 136.483837 \nL 246.264556 138.298667 \nL 246.900635 138.490825 \nL 247.536713 143.508295 \nL 248.172792 141.415903 \nL 248.808871 142.995873 \nL 249.444949 143.913963 \nL 250.081028 140.818077 \nL 250.717107 145.365826 \nL 251.353185 148.077395 \nL 252.625343 141.629413 \nL 253.8975 137.892999 \nL 254.533579 138.490825 \nL 255.169657 138.085158 \nL 255.805736 136.163573 \nL 256.441815 135.416291 \nL 257.077893 132.982284 \nL 257.713972 132.405809 \nL 258.350051 131.231508 \nL 258.986129 126.662408 \nL 259.622208 128.114271 \nL 260.258287 132.042843 \nL 260.894365 128.861554 \nL 261.530444 131.872036 \nL 262.166523 131.658526 \nL 262.802601 132.235001 \nL 263.43868 131.658526 \nL 264.074758 132.768775 \nL 264.710837 134.797114 \nL 265.346916 134.797114 \nL 265.982994 130.61233 \nL 266.619073 128.861554 \nL 267.255152 128.30643 \nL 267.89123 123.310311 \nL 268.527309 129.438029 \nL 269.163388 124.740823 \nL 269.799466 131.530421 \nL 270.435545 133.089039 \nL 271.071624 132.106896 \nL 271.707702 133.857673 \nL 272.343781 133.089039 \nL 272.97986 134.284691 \nL 273.615938 131.74393 \nL 274.252017 130.292066 \nL 276.160253 137.252471 \nL 276.796332 127.751305 \nL 277.43241 128.178324 \nL 278.068489 124.185699 \nL 278.704568 124.975684 \nL 279.340646 127.324287 \nL 279.976725 123.97219 \nL 280.612804 122.990047 \nL 281.248882 127.537796 \nL 281.884961 122.178711 \nL 282.521039 127.964815 \nL 283.157118 128.989659 \nL 283.793197 130.975296 \nL 284.429275 132.1923 \nL 285.065354 135.971415 \nL 285.701433 134.562253 \nL 286.337511 127.794007 \nL 286.97359 129.587486 \nL 288.881826 129.587486 \nL 289.517905 128.007516 \nL 290.153983 130.356119 \nL 290.790062 131.380964 \nL 291.426141 136.334381 \nL 292.062219 138.768387 \nL 293.334377 141.544009 \nL 293.970455 145.152317 \nL 294.606534 139.558372 \nL 295.242613 140.305655 \nL 295.878691 135.608449 \nL 296.51477 136.398434 \nL 297.150849 139.04595 \nL 297.786927 139.622425 \nL 298.423006 133.003635 \nL 299.059084 134.370095 \nL 299.695163 136.014117 \nL 300.331242 134.818465 \nL 300.96732 129.395327 \nL 301.603399 126.769162 \nL 302.239478 126.214038 \nL 302.875556 128.007516 \nL 303.511635 132.597967 \nL 304.147714 134.604955 \nL 304.783792 124.591367 \nL 305.419871 123.331662 \nL 306.05595 119.936863 \nL 306.692028 118.762562 \nL 307.328107 118.976071 \nL 307.964186 117.993928 \nL 308.600264 117.80177 \nL 309.236343 118.186087 \nL 309.872422 117.58826 \nL 310.5085 111.567297 \nL 311.144579 118.378245 \nL 312.416736 115.623974 \nL 313.688894 117.417453 \nL 314.324972 117.823121 \nL 314.961051 117.417453 \nL 315.59713 118.03663 \nL 316.233208 116.798276 \nL 316.869287 120.427935 \nL 317.505365 119.808758 \nL 318.141444 120.214425 \nL 318.777523 116.179099 \nL 319.413601 114.59913 \nL 320.04968 115.98694 \nL 320.685759 114.001303 \nL 321.321837 115.004797 \nL 321.957916 119.424441 \nL 322.593995 116.008291 \nL 323.230073 115.837484 \nL 323.866152 117.033136 \nL 324.502231 115.645325 \nL 325.138309 115.218307 \nL 325.774388 115.837484 \nL 326.410467 115.837484 \nL 327.046545 117.460155 \nL 327.682624 112.7843 \nL 328.318703 111.161629 \nL 328.954781 111.375138 \nL 329.59086 112.997809 \nL 330.226939 119.082826 \nL 330.863017 118.655807 \nL 331.499096 119.445792 \nL 332.135175 118.057981 \nL 332.771253 115.645325 \nL 333.407332 117.865823 \nL 334.043411 119.659301 \nL 334.679489 122.520326 \nL 335.315568 120.897655 \nL 335.951646 116.43531 \nL 336.587725 117.097189 \nL 337.223804 118.314192 \nL 337.859882 118.933369 \nL 338.495961 120.983059 \nL 339.13204 124.44191 \nL 339.768118 123.011398 \nL 340.404197 124.868929 \nL 341.040276 124.228401 \nL 341.676354 124.65542 \nL 342.312433 122.60573 \nL 342.948512 123.801382 \nL 343.58459 120.129022 \nL 344.220669 123.182205 \nL 344.856748 124.44191 \nL 345.492826 123.182205 \nL 346.128905 124.014892 \nL 346.764984 132.1923 \nL 347.401062 132.1923 \nL 348.037141 135.245483 \nL 348.67322 135.501694 \nL 349.309298 139.793232 \nL 349.945377 134.02848 \nL 350.581456 134.861166 \nL 351.217534 134.647657 \nL 351.853613 135.074676 \nL 352.489692 137.508682 \nL 353.12577 136.889505 \nL 354.397927 139.195406 \nL 355.034006 138.981897 \nL 355.670085 135.928713 \nL 356.306163 131.380964 \nL 356.942242 129.331274 \nL 357.578321 129.544784 \nL 358.214399 128.968308 \nL 358.850478 128.114271 \nL 359.486557 128.968308 \nL 360.122635 126.833215 \nL 360.758714 125.637563 \nL 361.394793 122.797888 \nL 362.030871 123.011398 \nL 362.66695 122.627081 \nL 363.303029 127.559147 \nL 363.939107 127.772656 \nL 364.575186 129.416678 \nL 365.211265 133.729567 \nL 365.847343 133.729567 \nL 366.483422 135.202781 \nL 367.119501 132.533915 \nL 367.755579 130.633681 \nL 368.391658 130.847191 \nL 369.027737 133.323899 \nL 369.663815 132.128247 \nL 370.299894 131.914737 \nL 370.935972 134.135235 \nL 371.572051 132.533915 \nL 372.20813 137.423279 \nL 372.844208 130.633681 \nL 373.480287 130.847191 \nL 374.116366 131.487719 \nL 374.752444 128.626694 \nL 375.388523 129.886399 \nL 376.024602 129.053712 \nL 376.66068 126.577004 \nL 377.296759 130.270716 \nL 377.932838 131.338262 \nL 378.568916 131.124753 \nL 379.204995 129.69424 \nL 379.841074 126.577004 \nL 380.477152 126.769162 \nL 381.113231 127.17483 \nL 381.74931 131.124753 \nL 382.385388 133.601461 \nL 383.021467 135.288185 \nL 383.657546 135.928713 \nL 384.293624 134.861166 \nL 384.929703 136.526539 \nL 385.565782 136.910856 \nL 386.20186 136.526539 \nL 386.837939 139.430266 \nL 387.474018 139.024599 \nL 388.110096 134.861166 \nL 388.746175 133.387952 \nL 389.382253 133.430654 \nL 390.018332 138.896493 \nL 390.654411 141.586711 \nL 391.290489 138.896493 \nL 391.926568 140.113496 \nL 393.198725 147.394165 \nL 393.834804 146.58283 \nL 394.470883 142.227239 \nL 395.74304 142.654258 \nL 396.379119 140.732673 \nL 397.015197 140.946183 \nL 397.651276 140.305655 \nL 398.287355 137.401928 \nL 398.923433 142.654258 \nL 399.559512 145.985003 \nL 400.195591 146.796339 \nL 400.831669 145.985003 \nL 401.467748 144.917457 \nL 402.103827 142.205888 \nL 402.739905 141.56536 \nL 403.375984 140.497813 \nL 404.648141 140.497813 \nL 405.28422 138.213263 \nL 405.920299 137.999754 \nL 406.556377 138.853791 \nL 407.192456 140.711323 \nL 407.828534 136.31303 \nL 408.464613 136.31303 \nL 409.100692 135.074676 \nL 409.73677 134.220638 \nL 410.372849 133.58011 \nL 411.008928 133.366601 \nL 411.645006 134.861166 \nL 412.281085 136.718698 \nL 412.917164 136.526539 \nL 413.553242 138.853791 \nL 414.189321 138.426773 \nL 414.8254 138.853791 \nL 415.461478 143.252084 \nL 416.097557 142.675608 \nL 416.733636 143.486944 \nL 417.369714 145.835547 \nL 418.005793 147.073901 \nL 418.641872 150.874367 \nL 419.27795 149.828172 \nL 419.914029 150.660858 \nL 420.550108 148.781976 \nL 421.186186 147.714429 \nL 421.822265 147.073901 \nL 422.458344 146.668233 \nL 423.094422 147.927938 \nL 423.730501 148.354957 \nL 424.36658 147.714429 \nL 425.002658 146.262566 \nL 425.638737 141.821571 \nL 426.274815 141.394552 \nL 426.910894 138.448123 \nL 427.546973 137.978403 \nL 428.183051 141.394552 \nL 428.81913 139.707829 \nL 429.455209 138.661633 \nL 430.091287 134.220638 \nL 430.727366 133.79362 \nL 431.363445 131.039349 \nL 431.999523 132.320405 \nL 433.271681 128.071569 \nL 433.907759 127.217532 \nL 434.543838 125.317299 \nL 435.179917 122.114658 \nL 435.815995 120.854953 \nL 436.452074 120.214425 \nL 437.088153 120.214425 \nL 437.724231 119.787407 \nL 438.996389 121.708991 \nL 439.632467 121.495481 \nL 440.268546 120.427935 \nL 440.904625 123.609224 \nL 441.540703 124.356507 \nL 442.176782 123.182205 \nL 442.812861 123.822733 \nL 443.448939 123.609224 \nL 444.085018 121.901149 \nL 444.721096 120.620093 \nL 445.357175 122.328168 \nL 445.993254 122.541677 \nL 446.629332 124.463261 \nL 447.265411 123.822733 \nL 447.90149 125.957827 \nL 448.537568 126.598355 \nL 449.173647 127.452392 \nL 449.809726 127.665901 \nL 450.445804 126.171336 \nL 451.081883 122.968696 \nL 451.717962 121.68764 \nL 452.35404 117.417453 \nL 452.990119 120.193074 \nL 453.626198 117.203944 \nL 454.262276 111.86621 \nL 455.534434 111.012173 \nL 456.170512 110.158135 \nL 456.806591 110.585154 \nL 456.806591 110.585154 \n\" style=\"fill:none;stroke:#4c72b0;stroke-linecap:round;stroke-width:1.5;\"/>\n   </g>\n   <g id=\"line2d_14\">\n    <path clip-path=\"url(#p7db6de9384)\" d=\"M 50.988409 17.083636 \nL 51.624488 19.884285 \nL 52.260566 20.066116 \nL 52.896645 20.820889 \nL 53.532724 26.579054 \nL 54.804881 29.195224 \nL 55.44096 28.75944 \nL 56.077038 26.33687 \nL 56.713117 27.372107 \nL 57.349196 29.42796 \nL 57.985274 32.723971 \nL 58.621353 33.238393 \nL 59.257432 36.800208 \nL 59.89351 35.30349 \nL 60.529589 35.746075 \nL 61.165668 41.608656 \nL 61.801746 43.359 \nL 63.073904 40.376194 \nL 63.709982 41.06023 \nL 64.346061 42.127394 \nL 64.982139 47.89912 \nL 65.618218 50.639009 \nL 66.254297 49.231721 \nL 66.890375 53.223944 \nL 67.526454 54.652897 \nL 68.162533 52.861748 \nL 68.798611 52.368217 \nL 69.43469 54.464672 \nL 70.070769 57.204032 \nL 70.706847 57.585735 \nL 71.342926 59.167442 \nL 71.979005 59.010086 \nL 72.615083 65.657819 \nL 73.251162 65.632407 \nL 73.887241 63.850013 \nL 74.523319 60.848353 \nL 75.159398 61.689948 \nL 75.795477 62.332079 \nL 76.431555 66.685155 \nL 77.703713 71.749002 \nL 78.339791 76.606338 \nL 78.97587 79.284633 \nL 79.611949 77.505314 \nL 80.248027 81.069226 \nL 80.884106 81.630479 \nL 81.520185 78.641891 \nL 82.156263 78.068135 \nL 82.792342 77.880623 \nL 84.700578 90.43392 \nL 85.336656 99.414549 \nL 86.608814 105.008129 \nL 87.244892 104.001786 \nL 87.880971 106.946576 \nL 88.51705 113.741709 \nL 89.153128 109.724746 \nL 89.789207 104.594133 \nL 90.425286 104.595823 \nL 91.061364 108.121007 \nL 91.697443 115.565152 \nL 92.333522 116.632316 \nL 92.9696 120.058175 \nL 93.605679 120.267209 \nL 94.241758 124.904109 \nL 94.877836 120.38653 \nL 95.513915 117.011514 \nL 96.149994 110.168002 \nL 96.786072 108.533354 \nL 98.05823 112.365635 \nL 99.966466 122.680576 \nL 100.602544 131.322567 \nL 101.238623 143.246256 \nL 101.874701 141.763018 \nL 102.51078 139.897833 \nL 103.146859 128.371648 \nL 104.419016 114.37995 \nL 105.055095 121.067287 \nL 105.691173 115.471752 \nL 106.327252 118.218157 \nL 106.963331 124.507623 \nL 108.235488 131.705085 \nL 108.871567 130.043009 \nL 109.507645 132.746186 \nL 110.143724 134.432655 \nL 110.779803 134.76382 \nL 111.415881 128.076219 \nL 112.05196 125.741042 \nL 112.688039 129.147984 \nL 113.324117 129.200375 \nL 113.960196 130.900467 \nL 114.596275 134.139282 \nL 115.232353 135.338696 \nL 115.868432 135.906567 \nL 116.504511 143.540872 \nL 117.140589 144.634038 \nL 117.776668 138.565375 \nL 119.048825 129.917825 \nL 120.320982 113.43508 \nL 120.957061 103.48486 \nL 121.59314 96.866632 \nL 122.229218 95.323958 \nL 122.865297 98.21823 \nL 123.501376 98.777061 \nL 124.137454 96.542308 \nL 124.773533 96.130714 \nL 125.409612 96.785632 \nL 126.04569 100.341379 \nL 126.681769 97.515625 \nL 127.317848 99.138158 \nL 127.953926 94.641612 \nL 128.590005 95.466246 \nL 129.226084 101.970856 \nL 129.862162 107.260984 \nL 130.498241 105.505549 \nL 131.13432 105.0256 \nL 131.770398 104.148473 \nL 132.406477 103.012527 \nL 133.042556 99.523383 \nL 133.678634 98.513497 \nL 134.314713 100.603864 \nL 134.950792 107.090901 \nL 135.58687 112.348083 \nL 136.222949 112.050149 \nL 136.859028 117.048268 \nL 137.495106 124.361446 \nL 138.131185 124.170492 \nL 138.767263 115.067162 \nL 140.039421 113.94268 \nL 140.675499 118.682549 \nL 141.311578 120.840619 \nL 141.947657 120.800038 \nL 142.583735 116.938029 \nL 143.219814 117.245818 \nL 143.855893 117.260825 \nL 145.12805 112.997443 \nL 146.400207 124.12087 \nL 147.036286 126.240619 \nL 147.672365 136.883447 \nL 148.308443 140.493519 \nL 148.944522 141.038198 \nL 149.580601 140.689502 \nL 150.216679 146.365364 \nL 150.852758 148.318858 \nL 151.488837 144.37984 \nL 152.124915 143.420268 \nL 153.397073 157.179088 \nL 154.033151 158.868632 \nL 154.66923 159.567919 \nL 155.305308 151.864384 \nL 155.941387 149.726411 \nL 156.577466 152.891985 \nL 157.213544 153.565493 \nL 157.849623 156.389252 \nL 158.485702 154.929634 \nL 159.12178 152.345269 \nL 159.757859 150.630314 \nL 160.393938 160.35303 \nL 161.030016 167.303666 \nL 161.666095 169.274305 \nL 162.302174 173.610399 \nL 162.938252 174.283521 \nL 163.574331 179.707446 \nL 164.21041 175.611194 \nL 165.482567 182.126392 \nL 166.118646 189.490739 \nL 166.754724 187.764747 \nL 167.390803 176.757341 \nL 168.026882 181.841855 \nL 168.66296 176.332268 \nL 169.299039 176.671985 \nL 170.571196 161.112445 \nL 171.207275 164.376082 \nL 171.843354 171.329201 \nL 172.479432 167.353003 \nL 173.115511 161.729674 \nL 173.751589 166.981847 \nL 174.387668 169.465991 \nL 175.023747 173.493665 \nL 175.659825 175.119598 \nL 176.295904 175.39373 \nL 177.568061 170.739034 \nL 178.20414 162.837745 \nL 178.840219 161.806438 \nL 179.476297 162.800075 \nL 180.112376 158.387054 \nL 180.748455 162.2995 \nL 181.384533 163.801735 \nL 182.020612 166.089347 \nL 182.656691 163.460328 \nL 183.292769 163.037678 \nL 183.928848 157.142009 \nL 184.564927 153.387429 \nL 185.837084 144.096119 \nL 186.473163 140.942925 \nL 187.109241 149.829727 \nL 187.74532 148.747597 \nL 188.381399 148.186608 \nL 189.017477 142.073272 \nL 189.653556 143.025412 \nL 190.289635 145.924388 \nL 191.561792 136.821485 \nL 192.19787 135.053467 \nL 192.833949 138.667205 \nL 193.470028 139.026449 \nL 194.106106 143.446922 \nL 194.742185 142.715728 \nL 195.378264 143.145628 \nL 196.014342 141.869389 \nL 196.650421 138.782839 \nL 197.2865 139.543334 \nL 197.922578 142.948118 \nL 198.558657 147.204618 \nL 199.194736 147.409804 \nL 199.830814 145.211459 \nL 200.466893 149.134146 \nL 201.73905 138.147835 \nL 202.375129 130.414511 \nL 203.011208 127.888625 \nL 204.283365 134.077097 \nL 204.919444 130.249295 \nL 205.555522 125.012923 \nL 206.191601 125.98182 \nL 206.82768 125.724589 \nL 207.463758 122.435888 \nL 208.099837 122.777254 \nL 208.735916 118.852062 \nL 209.371994 113.609255 \nL 211.28023 119.290635 \nL 211.916309 125.78655 \nL 212.552387 129.96936 \nL 213.188466 127.68014 \nL 213.824545 129.222122 \nL 214.460623 131.846111 \nL 215.096702 128.233331 \nL 215.732781 126.915838 \nL 216.368859 126.223108 \nL 217.004938 127.943663 \nL 217.641017 125.819903 \nL 218.277095 124.136427 \nL 218.913174 125.737376 \nL 219.549253 126.211644 \nL 220.82141 125.076553 \nL 221.457489 124.265317 \nL 222.093567 120.892929 \nL 222.729646 119.914033 \nL 223.365725 118.518168 \nL 224.001803 118.710832 \nL 224.637882 118.564899 \nL 225.273961 118.55203 \nL 225.910039 117.678894 \nL 226.546118 115.482442 \nL 227.182196 111.658163 \nL 227.818275 110.077596 \nL 228.454354 111.978394 \nL 229.090432 115.40014 \nL 229.726511 117.552671 \nL 230.36259 118.423526 \nL 230.998668 118.145974 \nL 231.634747 119.32128 \nL 232.270826 119.228939 \nL 233.542983 112.508881 \nL 234.179062 113.299612 \nL 234.81514 110.554633 \nL 235.451219 116.288832 \nL 236.087298 124.959595 \nL 236.723376 121.223503 \nL 237.359455 116.328701 \nL 237.995534 113.605997 \nL 238.631612 112.172585 \nL 239.267691 115.157467 \nL 240.539848 115.832544 \nL 241.175927 114.963052 \nL 241.812006 117.356749 \nL 242.448084 111.133093 \nL 243.084163 111.969557 \nL 244.992399 112.449384 \nL 245.628477 114.307035 \nL 246.900635 116.81769 \nL 247.536713 117.372509 \nL 248.172792 120.331064 \nL 248.808871 120.00218 \nL 249.444949 120.935261 \nL 250.081028 121.555218 \nL 250.717107 119.497491 \nL 251.989264 125.189806 \nL 252.625343 123.489898 \nL 253.261421 120.072998 \nL 253.8975 118.726857 \nL 254.533579 116.898486 \nL 255.169657 117.118129 \nL 255.805736 116.746363 \nL 256.441815 114.726387 \nL 257.077893 114.485058 \nL 257.713972 113.133501 \nL 258.350051 112.104759 \nL 258.986129 110.70582 \nL 259.622208 106.853665 \nL 260.258287 106.882009 \nL 260.894365 110.353621 \nL 261.530444 108.94562 \nL 262.166523 110.376162 \nL 262.802601 110.614049 \nL 263.43868 111.311259 \nL 264.074758 110.768453 \nL 264.710837 111.396717 \nL 265.346916 112.46215 \nL 265.982994 112.991945 \nL 267.255152 107.508421 \nL 267.89123 107.184097 \nL 268.527309 103.347642 \nL 269.163388 107.041564 \nL 269.799466 104.240162 \nL 270.435545 109.205702 \nL 271.071624 111.589605 \nL 272.343781 112.278324 \nL 272.97986 111.91008 \nL 273.615938 112.833734 \nL 274.252017 110.047705 \nL 274.888096 109.167361 \nL 275.524174 109.6693 \nL 276.796332 115.312258 \nL 277.43241 108.112984 \nL 278.068489 107.028187 \nL 278.704568 103.886559 \nL 279.340646 104.540744 \nL 279.976725 105.569689 \nL 280.612804 103.193747 \nL 281.248882 102.1894 \nL 281.884961 105.974991 \nL 282.521039 103.642665 \nL 283.157118 105.97886 \nL 285.065354 110.297524 \nL 285.701433 113.881045 \nL 286.337511 113.072232 \nL 286.97359 107.383582 \nL 287.609669 107.827959 \nL 288.245747 107.3148 \nL 288.881826 108.219008 \nL 289.517905 107.736514 \nL 290.153983 106.722698 \nL 291.426141 110.581511 \nL 292.062219 114.620709 \nL 293.970455 119.387945 \nL 294.606534 122.502349 \nL 295.242613 118.792564 \nL 295.878691 117.859727 \nL 296.51477 114.139009 \nL 297.150849 114.176067 \nL 297.786927 116.509554 \nL 298.423006 117.793857 \nL 299.059084 112.825467 \nL 299.695163 112.872991 \nL 300.331242 115.16154 \nL 300.96732 114.314569 \nL 302.239478 105.835614 \nL 302.875556 105.27322 \nL 303.511635 107.290651 \nL 304.147714 111.189495 \nL 304.783792 112.603543 \nL 305.419871 105.601962 \nL 306.05595 103.245772 \nL 306.692028 100.454713 \nL 307.328107 98.804163 \nL 308.600264 96.79337 \nL 309.236343 96.857998 \nL 309.872422 98.042039 \nL 310.5085 98.412238 \nL 311.144579 92.545402 \nL 311.780658 96.633815 \nL 312.416736 96.395866 \nL 313.052815 95.339229 \nL 313.688894 95.301458 \nL 314.324972 96.302568 \nL 314.961051 97.035106 \nL 315.59713 96.713429 \nL 316.233208 96.988131 \nL 316.869287 95.317951 \nL 317.505365 98.856655 \nL 318.141444 98.759 \nL 318.777523 98.838594 \nL 319.413601 95.669193 \nL 320.04968 93.979975 \nL 320.685759 94.768446 \nL 321.321837 93.51827 \nL 321.957916 93.872118 \nL 322.593995 97.062839 \nL 323.230073 96.024222 \nL 323.866152 95.329517 \nL 324.502231 96.152359 \nL 325.774388 94.300267 \nL 326.410467 94.619764 \nL 327.046545 94.536627 \nL 327.682624 95.920641 \nL 328.954781 90.693045 \nL 329.59086 90.453447 \nL 330.226939 92.203038 \nL 330.863017 96.907009 \nL 331.499096 97.476367 \nL 332.135175 98.211694 \nL 332.771253 97.238093 \nL 333.407332 95.770656 \nL 334.043411 96.343272 \nL 334.679489 97.671515 \nL 335.315568 100.070506 \nL 335.951646 99.189714 \nL 336.587725 96.300328 \nL 337.223804 95.99034 \nL 337.859882 97.327766 \nL 338.495961 97.919257 \nL 339.13204 98.864698 \nL 339.768118 102.070609 \nL 340.404197 102.042733 \nL 341.040276 103.736838 \nL 341.676354 103.293724 \nL 342.312433 103.069235 \nL 342.948512 101.354686 \nL 343.58459 101.930601 \nL 344.220669 99.196881 \nL 345.492826 102.957244 \nL 346.128905 102.256716 \nL 346.764984 102.716201 \nL 347.401062 109.15777 \nL 348.67322 113.082698 \nL 349.309298 113.537459 \nL 349.945377 116.713804 \nL 350.581456 113.2764 \nL 351.217534 112.852752 \nL 351.853613 112.04005 \nL 352.489692 112.574833 \nL 353.12577 115.193752 \nL 353.761849 114.943016 \nL 355.034006 117.284037 \nL 355.670085 118.181037 \nL 356.306163 114.931105 \nL 356.942242 110.829579 \nL 357.578321 108.319799 \nL 358.850478 108.07902 \nL 359.486557 107.089028 \nL 360.122635 107.735374 \nL 361.394793 105.793404 \nL 362.030871 103.066017 \nL 362.66695 102.310328 \nL 363.303029 101.779027 \nL 363.939107 105.654597 \nL 364.575186 106.591812 \nL 365.211265 107.991587 \nL 365.847343 111.695344 \nL 366.483422 112.543761 \nL 367.119501 113.591031 \nL 367.755579 111.079541 \nL 368.391658 109.146938 \nL 369.027737 108.602645 \nL 369.663815 111.110145 \nL 370.299894 110.444353 \nL 370.935972 110.052612 \nL 371.572051 112.215039 \nL 372.20813 111.6906 \nL 372.844208 115.498202 \nL 373.480287 110.590511 \nL 374.116366 109.446094 \nL 374.752444 109.600661 \nL 375.388523 108.316073 \nL 376.024602 108.319758 \nL 376.66068 107.618741 \nL 377.296759 106.161668 \nL 378.568916 110.63999 \nL 379.204995 110.008182 \nL 379.841074 108.668862 \nL 380.477152 106.231326 \nL 381.113231 105.576286 \nL 381.74931 106.076535 \nL 382.385388 109.063495 \nL 383.657546 113.439213 \nL 384.293624 114.428615 \nL 384.929703 113.903178 \nL 385.565782 114.88413 \nL 386.20186 114.909949 \nL 386.837939 114.536472 \nL 387.474018 116.371969 \nL 388.110096 116.992476 \nL 388.746175 114.078962 \nL 389.382253 112.190279 \nL 390.018332 112.057846 \nL 390.654411 116.277572 \nL 391.290489 119.369822 \nL 391.926568 117.761074 \nL 392.562647 118.0439 \nL 393.834804 125.665092 \nL 394.470883 124.795112 \nL 395.106961 120.647446 \nL 395.74304 119.863516 \nL 396.379119 120.887187 \nL 397.651276 118.768741 \nL 398.287355 118.241736 \nL 398.923433 116.644614 \nL 400.195591 124.229501 \nL 400.831669 125.157614 \nL 402.103827 123.625671 \nL 402.739905 121.301184 \nL 403.375984 120.305327 \nL 404.012063 118.970323 \nL 404.648141 118.167843 \nL 405.28422 118.685176 \nL 405.920299 117.44797 \nL 406.556377 117.107398 \nL 407.192456 117.753785 \nL 407.828534 119.456197 \nL 408.464613 116.03097 \nL 409.100692 115.142644 \nL 409.73677 114.018772 \nL 410.372849 113.529925 \nL 411.645006 112.072791 \nL 412.281085 113.232459 \nL 412.917164 115.181942 \nL 413.553242 115.78899 \nL 414.189321 117.001374 \nL 415.461478 117.418588 \nL 416.097557 120.615987 \nL 416.733636 120.88118 \nL 417.369714 121.294444 \nL 418.641872 124.889672 \nL 419.27795 127.942258 \nL 419.914029 127.884227 \nL 420.550108 128.202319 \nL 421.186186 126.680761 \nL 421.822265 126.192382 \nL 422.458344 125.135806 \nL 423.094422 124.650828 \nL 423.730501 125.681483 \nL 424.36658 126.304107 \nL 425.002658 126.478425 \nL 425.638737 125.129026 \nL 426.274815 121.679568 \nL 426.910894 120.379057 \nL 427.546973 117.840119 \nL 428.183051 116.947395 \nL 428.81913 119.222118 \nL 429.455209 118.916039 \nL 430.091287 118.073547 \nL 430.727366 114.390702 \nL 431.363445 113.516201 \nL 431.999523 110.793722 \nL 432.635602 111.347401 \nL 433.907759 107.374521 \nL 434.543838 106.847964 \nL 435.179917 105.358638 \nL 435.815995 102.659351 \nL 436.452074 100.523822 \nL 437.088153 99.874116 \nL 437.724231 99.611408 \nL 438.36031 99.552603 \nL 438.996389 100.167856 \nL 439.632467 100.944579 \nL 440.268546 101.083996 \nL 440.904625 100.070934 \nL 441.540703 101.968718 \nL 442.176782 103.025558 \nL 442.812861 102.228657 \nL 444.085018 102.16635 \nL 444.721096 101.076686 \nL 445.357175 99.722563 \nL 445.993254 100.665418 \nL 446.629332 101.005236 \nL 447.265411 102.958018 \nL 447.90149 102.788648 \nL 448.537568 104.310533 \nL 449.809726 106.211738 \nL 450.445804 106.142711 \nL 451.081883 104.791093 \nL 451.717962 102.200171 \nL 452.35404 100.548439 \nL 452.990119 97.220643 \nL 453.626198 98.477701 \nL 454.262276 96.782537 \nL 454.898355 92.442106 \nL 455.534434 91.10696 \nL 456.170512 91.142084 \nL 456.806591 90.677529 \nL 456.806591 90.677529 \n\" style=\"fill:none;stroke:#dd8452;stroke-linecap:round;stroke-width:1.5;\"/>\n   </g>\n   <g id=\"patch_3\">\n    <path d=\"M 30.6975 224.64 \nL 30.6975 7.2 \n\" style=\"fill:none;stroke:#ffffff;stroke-linecap:square;stroke-linejoin:miter;stroke-width:1.25;\"/>\n   </g>\n   <g id=\"patch_4\">\n    <path d=\"M 477.0975 224.64 \nL 477.0975 7.2 \n\" style=\"fill:none;stroke:#ffffff;stroke-linecap:square;stroke-linejoin:miter;stroke-width:1.25;\"/>\n   </g>\n   <g id=\"patch_5\">\n    <path d=\"M 30.6975 224.64 \nL 477.0975 224.64 \n\" style=\"fill:none;stroke:#ffffff;stroke-linecap:square;stroke-linejoin:miter;stroke-width:1.25;\"/>\n   </g>\n   <g id=\"patch_6\">\n    <path d=\"M 30.6975 7.2 \nL 477.0975 7.2 \n\" style=\"fill:none;stroke:#ffffff;stroke-linecap:square;stroke-linejoin:miter;stroke-width:1.25;\"/>\n   </g>\n   <g id=\"legend_1\">\n    <g id=\"patch_7\">\n     <path d=\"M 396.314531 48.291875 \nL 469.3975 48.291875 \nQ 471.5975 48.291875 471.5975 46.091875 \nL 471.5975 14.9 \nQ 471.5975 12.7 469.3975 12.7 \nL 396.314531 12.7 \nQ 394.114531 12.7 394.114531 14.9 \nL 394.114531 46.091875 \nQ 394.114531 48.291875 396.314531 48.291875 \nz\n\" style=\"fill:#eaeaf2;opacity:0.8;stroke:#cccccc;stroke-linejoin:miter;\"/>\n    </g>\n    <g id=\"line2d_15\">\n     <path d=\"M 398.514531 21.608281 \nL 420.514531 21.608281 \n\" style=\"fill:none;stroke:#4c72b0;stroke-linecap:round;stroke-width:1.5;\"/>\n    </g>\n    <g id=\"line2d_16\"/>\n    <g id=\"text_13\">\n     <!-- Actual -->\n     <defs>\n      <path d=\"M 34.1875 63.1875 \nL 20.796875 26.90625 \nL 47.609375 26.90625 \nz\nM 28.609375 72.90625 \nL 39.796875 72.90625 \nL 67.578125 0 \nL 57.328125 0 \nL 50.6875 18.703125 \nL 17.828125 18.703125 \nL 11.1875 0 \nL 0.78125 0 \nz\n\" id=\"DejaVuSans-65\"/>\n      <path d=\"M 48.78125 52.59375 \nL 48.78125 44.1875 \nQ 44.96875 46.296875 41.140625 47.34375 \nQ 37.3125 48.390625 33.40625 48.390625 \nQ 24.65625 48.390625 19.8125 42.84375 \nQ 14.984375 37.3125 14.984375 27.296875 \nQ 14.984375 17.28125 19.8125 11.734375 \nQ 24.65625 6.203125 33.40625 6.203125 \nQ 37.3125 6.203125 41.140625 7.25 \nQ 44.96875 8.296875 48.78125 10.40625 \nL 48.78125 2.09375 \nQ 45.015625 0.34375 40.984375 -0.53125 \nQ 36.96875 -1.421875 32.421875 -1.421875 \nQ 20.0625 -1.421875 12.78125 6.34375 \nQ 5.515625 14.109375 5.515625 27.296875 \nQ 5.515625 40.671875 12.859375 48.328125 \nQ 20.21875 56 33.015625 56 \nQ 37.15625 56 41.109375 55.140625 \nQ 45.0625 54.296875 48.78125 52.59375 \nz\n\" id=\"DejaVuSans-99\"/>\n      <path d=\"M 18.3125 70.21875 \nL 18.3125 54.6875 \nL 36.8125 54.6875 \nL 36.8125 47.703125 \nL 18.3125 47.703125 \nL 18.3125 18.015625 \nQ 18.3125 11.328125 20.140625 9.421875 \nQ 21.96875 7.515625 27.59375 7.515625 \nL 36.8125 7.515625 \nL 36.8125 0 \nL 27.59375 0 \nQ 17.1875 0 13.234375 3.875 \nQ 9.28125 7.765625 9.28125 18.015625 \nL 9.28125 47.703125 \nL 2.6875 47.703125 \nL 2.6875 54.6875 \nL 9.28125 54.6875 \nL 9.28125 70.21875 \nz\n\" id=\"DejaVuSans-116\"/>\n      <path d=\"M 8.5 21.578125 \nL 8.5 54.6875 \nL 17.484375 54.6875 \nL 17.484375 21.921875 \nQ 17.484375 14.15625 20.5 10.265625 \nQ 23.53125 6.390625 29.59375 6.390625 \nQ 36.859375 6.390625 41.078125 11.03125 \nQ 45.3125 15.671875 45.3125 23.6875 \nL 45.3125 54.6875 \nL 54.296875 54.6875 \nL 54.296875 0 \nL 45.3125 0 \nL 45.3125 8.40625 \nQ 42.046875 3.421875 37.71875 1 \nQ 33.40625 -1.421875 27.6875 -1.421875 \nQ 18.265625 -1.421875 13.375 4.4375 \nQ 8.5 10.296875 8.5 21.578125 \nz\nM 31.109375 56 \nz\n\" id=\"DejaVuSans-117\"/>\n      <path d=\"M 34.28125 27.484375 \nQ 23.390625 27.484375 19.1875 25 \nQ 14.984375 22.515625 14.984375 16.5 \nQ 14.984375 11.71875 18.140625 8.90625 \nQ 21.296875 6.109375 26.703125 6.109375 \nQ 34.1875 6.109375 38.703125 11.40625 \nQ 43.21875 16.703125 43.21875 25.484375 \nL 43.21875 27.484375 \nz\nM 52.203125 31.203125 \nL 52.203125 0 \nL 43.21875 0 \nL 43.21875 8.296875 \nQ 40.140625 3.328125 35.546875 0.953125 \nQ 30.953125 -1.421875 24.3125 -1.421875 \nQ 15.921875 -1.421875 10.953125 3.296875 \nQ 6 8.015625 6 15.921875 \nQ 6 25.140625 12.171875 29.828125 \nQ 18.359375 34.515625 30.609375 34.515625 \nL 43.21875 34.515625 \nL 43.21875 35.40625 \nQ 43.21875 41.609375 39.140625 45 \nQ 35.0625 48.390625 27.6875 48.390625 \nQ 23 48.390625 18.546875 47.265625 \nQ 14.109375 46.140625 10.015625 43.890625 \nL 10.015625 52.203125 \nQ 14.9375 54.109375 19.578125 55.046875 \nQ 24.21875 56 28.609375 56 \nQ 40.484375 56 46.34375 49.84375 \nQ 52.203125 43.703125 52.203125 31.203125 \nz\n\" id=\"DejaVuSans-97\"/>\n      <path d=\"M 9.421875 75.984375 \nL 18.40625 75.984375 \nL 18.40625 0 \nL 9.421875 0 \nz\n\" id=\"DejaVuSans-108\"/>\n     </defs>\n     <g style=\"fill:#262626;\" transform=\"translate(429.314531 25.458281)scale(0.11 -0.11)\">\n      <use xlink:href=\"#DejaVuSans-65\"/>\n      <use x=\"66.658203\" xlink:href=\"#DejaVuSans-99\"/>\n      <use x=\"121.638672\" xlink:href=\"#DejaVuSans-116\"/>\n      <use x=\"160.847656\" xlink:href=\"#DejaVuSans-117\"/>\n      <use x=\"224.226562\" xlink:href=\"#DejaVuSans-97\"/>\n      <use x=\"285.505859\" xlink:href=\"#DejaVuSans-108\"/>\n     </g>\n    </g>\n    <g id=\"line2d_17\">\n     <path d=\"M 398.514531 37.754219 \nL 420.514531 37.754219 \n\" style=\"fill:none;stroke:#dd8452;stroke-linecap:round;stroke-width:1.5;\"/>\n    </g>\n    <g id=\"line2d_18\"/>\n    <g id=\"text_14\">\n     <!-- Predict -->\n     <defs>\n      <path d=\"M 19.671875 64.796875 \nL 19.671875 37.40625 \nL 32.078125 37.40625 \nQ 38.96875 37.40625 42.71875 40.96875 \nQ 46.484375 44.53125 46.484375 51.125 \nQ 46.484375 57.671875 42.71875 61.234375 \nQ 38.96875 64.796875 32.078125 64.796875 \nz\nM 9.8125 72.90625 \nL 32.078125 72.90625 \nQ 44.34375 72.90625 50.609375 67.359375 \nQ 56.890625 61.8125 56.890625 51.125 \nQ 56.890625 40.328125 50.609375 34.8125 \nQ 44.34375 29.296875 32.078125 29.296875 \nL 19.671875 29.296875 \nL 19.671875 0 \nL 9.8125 0 \nz\n\" id=\"DejaVuSans-80\"/>\n      <path d=\"M 41.109375 46.296875 \nQ 39.59375 47.171875 37.8125 47.578125 \nQ 36.03125 48 33.890625 48 \nQ 26.265625 48 22.1875 43.046875 \nQ 18.109375 38.09375 18.109375 28.8125 \nL 18.109375 0 \nL 9.078125 0 \nL 9.078125 54.6875 \nL 18.109375 54.6875 \nL 18.109375 46.1875 \nQ 20.953125 51.171875 25.484375 53.578125 \nQ 30.03125 56 36.53125 56 \nQ 37.453125 56 38.578125 55.875 \nQ 39.703125 55.765625 41.0625 55.515625 \nz\n\" id=\"DejaVuSans-114\"/>\n      <path d=\"M 56.203125 29.59375 \nL 56.203125 25.203125 \nL 14.890625 25.203125 \nQ 15.484375 15.921875 20.484375 11.0625 \nQ 25.484375 6.203125 34.421875 6.203125 \nQ 39.59375 6.203125 44.453125 7.46875 \nQ 49.3125 8.734375 54.109375 11.28125 \nL 54.109375 2.78125 \nQ 49.265625 0.734375 44.1875 -0.34375 \nQ 39.109375 -1.421875 33.890625 -1.421875 \nQ 20.796875 -1.421875 13.15625 6.1875 \nQ 5.515625 13.8125 5.515625 26.8125 \nQ 5.515625 40.234375 12.765625 48.109375 \nQ 20.015625 56 32.328125 56 \nQ 43.359375 56 49.78125 48.890625 \nQ 56.203125 41.796875 56.203125 29.59375 \nz\nM 47.21875 32.234375 \nQ 47.125 39.59375 43.09375 43.984375 \nQ 39.0625 48.390625 32.421875 48.390625 \nQ 24.90625 48.390625 20.390625 44.140625 \nQ 15.875 39.890625 15.1875 32.171875 \nz\n\" id=\"DejaVuSans-101\"/>\n      <path d=\"M 45.40625 46.390625 \nL 45.40625 75.984375 \nL 54.390625 75.984375 \nL 54.390625 0 \nL 45.40625 0 \nL 45.40625 8.203125 \nQ 42.578125 3.328125 38.25 0.953125 \nQ 33.9375 -1.421875 27.875 -1.421875 \nQ 17.96875 -1.421875 11.734375 6.484375 \nQ 5.515625 14.40625 5.515625 27.296875 \nQ 5.515625 40.1875 11.734375 48.09375 \nQ 17.96875 56 27.875 56 \nQ 33.9375 56 38.25 53.625 \nQ 42.578125 51.265625 45.40625 46.390625 \nz\nM 14.796875 27.296875 \nQ 14.796875 17.390625 18.875 11.75 \nQ 22.953125 6.109375 30.078125 6.109375 \nQ 37.203125 6.109375 41.296875 11.75 \nQ 45.40625 17.390625 45.40625 27.296875 \nQ 45.40625 37.203125 41.296875 42.84375 \nQ 37.203125 48.484375 30.078125 48.484375 \nQ 22.953125 48.484375 18.875 42.84375 \nQ 14.796875 37.203125 14.796875 27.296875 \nz\n\" id=\"DejaVuSans-100\"/>\n      <path d=\"M 9.421875 54.6875 \nL 18.40625 54.6875 \nL 18.40625 0 \nL 9.421875 0 \nz\nM 9.421875 75.984375 \nL 18.40625 75.984375 \nL 18.40625 64.59375 \nL 9.421875 64.59375 \nz\n\" id=\"DejaVuSans-105\"/>\n     </defs>\n     <g style=\"fill:#262626;\" transform=\"translate(429.314531 41.604219)scale(0.11 -0.11)\">\n      <use xlink:href=\"#DejaVuSans-80\"/>\n      <use x=\"58.552734\" xlink:href=\"#DejaVuSans-114\"/>\n      <use x=\"97.416016\" xlink:href=\"#DejaVuSans-101\"/>\n      <use x=\"158.939453\" xlink:href=\"#DejaVuSans-100\"/>\n      <use x=\"222.416016\" xlink:href=\"#DejaVuSans-105\"/>\n      <use x=\"250.199219\" xlink:href=\"#DejaVuSans-99\"/>\n      <use x=\"305.179688\" xlink:href=\"#DejaVuSans-116\"/>\n     </g>\n    </g>\n   </g>\n  </g>\n </g>\n <defs>\n  <clipPath id=\"p7db6de9384\">\n   <rect height=\"217.44\" width=\"446.4\" x=\"30.6975\" y=\"7.2\"/>\n  </clipPath>\n </defs>\n</svg>\n"
          },
          "metadata": {
            "tags": []
          }
        },
        {
          "output_type": "stream",
          "text": [
            "time: 207 ms\n"
          ],
          "name": "stdout"
        }
      ]
    }
  ]
}